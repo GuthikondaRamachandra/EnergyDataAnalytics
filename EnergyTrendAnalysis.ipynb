{
 "cells": [
  {
   "cell_type": "markdown",
   "metadata": {
    "application/vnd.databricks.v1+cell": {
     "cellMetadata": {
      "byteLimit": 2048000,
      "rowLimit": 10000
     },
     "inputWidgets": {},
     "nuid": "06300f78-72f0-4e91-976b-1f3e7540f14f",
     "showTitle": false,
     "title": ""
    }
   },
   "source": [
    "Ingestion"
   ]
  },
  {
   "cell_type": "code",
   "execution_count": 0,
   "metadata": {
    "application/vnd.databricks.v1+cell": {
     "cellMetadata": {
      "byteLimit": 2048000,
      "rowLimit": 10000
     },
     "inputWidgets": {},
     "nuid": "609c5177-d1d7-4b05-894e-43ca4430bbda",
     "showTitle": false,
     "title": ""
    }
   },
   "outputs": [
    {
     "output_type": "stream",
     "name": "stdout",
     "output_type": "stream",
     "text": [
      "Python interpreter will be restarted.\nRequirement already satisfied: openpyxl in /local_disk0/.ephemeral_nfs/envs/pythonEnv-954ce5f2-f4a4-49db-a935-6b6ceb8812d3/lib/python3.9/site-packages (3.1.5)\nRequirement already satisfied: et-xmlfile in /local_disk0/.ephemeral_nfs/envs/pythonEnv-954ce5f2-f4a4-49db-a935-6b6ceb8812d3/lib/python3.9/site-packages (from openpyxl) (1.1.0)\nPython interpreter will be restarted.\n"
     ]
    }
   ],
   "source": [
    "pip install openpyxl"
   ]
  },
  {
   "cell_type": "code",
   "execution_count": 0,
   "metadata": {
    "application/vnd.databricks.v1+cell": {
     "cellMetadata": {
      "byteLimit": 2048000,
      "rowLimit": 10000
     },
     "inputWidgets": {},
     "nuid": "071760c6-6776-435b-a740-d75d635feb6b",
     "showTitle": false,
     "title": ""
    }
   },
   "outputs": [
    {
     "output_type": "display_data",
     "data": {
      "application/vnd.databricks.v1+bamboolib_hint": "{\"pd.DataFrames\": [], \"version\": \"0.0.1\"}",
      "text/plain": []
     },
     "metadata": {},
     "output_type": "display_data"
    }
   ],
   "source": [
    "import requests\n",
    "from bs4 import BeautifulSoup\n",
    "import pandas as pd\n",
    "import os\n",
    "import re\n",
    "import time\n",
    "from requests.exceptions import RequestException\n",
    "import shutil\n",
    "import logging"
   ]
  },
  {
   "cell_type": "code",
   "execution_count": 0,
   "metadata": {
    "application/vnd.databricks.v1+cell": {
     "cellMetadata": {
      "byteLimit": 2048000,
      "rowLimit": 10000
     },
     "inputWidgets": {},
     "nuid": "488acc1e-f0cc-4b55-9d68-6576c75cff77",
     "showTitle": false,
     "title": ""
    }
   },
   "outputs": [],
   "source": [
    "# Configure logging\n",
    "logging.basicConfig(level=logging.INFO, format='%(asctime)s - %(levelname)s - %(message)s')\n",
    "\n",
    "# Define a retry decorator for handling retries\n",
    "def retry_request(max_retries=3, delay=5, backoff=2):\n",
    "    \"\"\"\n",
    "    A decorator to retry a function on failure with exponential backoff.\n",
    "    \"\"\"\n",
    "    def decorator(func):\n",
    "        def wrapper(*args, **kwargs):\n",
    "            retries = 0\n",
    "            current_delay = delay\n",
    "            while retries < max_retries:\n",
    "                try:\n",
    "                    return func(*args, **kwargs)\n",
    "                except requests.exceptions.RequestException as e:\n",
    "                    retries += 1\n",
    "                    logging.error(f\"Error: {e}. Retrying {retries}/{max_retries} after {current_delay} seconds...\")\n",
    "                    time.sleep(current_delay)\n",
    "                    current_delay *= backoff  # Increase delay exponentially\n",
    "            logging.error(f\"Failed to complete after {max_retries} retries.\")\n",
    "            raise Exception(f\"Failed to complete after {max_retries} retries.\")\n",
    "        return wrapper\n",
    "    return decorator"
   ]
  },
  {
   "cell_type": "code",
   "execution_count": 0,
   "metadata": {
    "application/vnd.databricks.v1+cell": {
     "cellMetadata": {
      "byteLimit": 2048000,
      "rowLimit": 10000
     },
     "inputWidgets": {},
     "nuid": "c1a060cd-69f6-43cc-bdea-e016ddf8d7a1",
     "showTitle": false,
     "title": ""
    }
   },
   "outputs": [],
   "source": [
    "@retry_request(max_retries=3, delay=5, backoff=2)\n",
    "def download_excel_file(url, dbfs_save_path, file_name):\n",
    "    \"\"\"\n",
    "    Downloads an Excel file from the provided URL and saves it to a temporary path.\n",
    "    Then moves the file to the final DBFS path.\n",
    "    \"\"\"\n",
    "    try:\n",
    "        logging.info(f\"Downloading file from {url}...\")\n",
    "\n",
    "        # Temporary local path in /tmp directory\n",
    "        temp_save_path = f'/tmp/{file_name}'  \n",
    "\n",
    "        # Making the request to download the file\n",
    "        response = requests.get(url, stream=True, timeout=10)\n",
    "        response.raise_for_status()  # Raises HTTPError for bad responses (4xx or 5xx)\n",
    "\n",
    "        # Write the file to local /tmp directory\n",
    "        with open(temp_save_path, 'wb') as file:\n",
    "            for chunk in response.iter_content(chunk_size=1024):\n",
    "                if chunk:\n",
    "                    file.write(chunk)\n",
    "        \n",
    "        logging.info(f\"File downloaded successfully to temporary path: {temp_save_path}\")\n",
    "\n",
    "        # Now move the file to DBFS using Databricks utilities\n",
    "        final_dbfs_path = f'{dbfs_save_path}/{file_name}'  # Keep as dbfs:/ path\n",
    "\n",
    "        # Copy from local /tmp to DBFS path using dbutils.fs.cp\n",
    "        dbutils.fs.cp(f\"file:{temp_save_path}\", final_dbfs_path)\n",
    "        logging.info(f\"File moved successfully to DBFS path: {final_dbfs_path}\")\n",
    "\n",
    "    except requests.exceptions.RequestException as e:\n",
    "        logging.error(f\"Error during file download: {str(e)}\")\n",
    "        raise  # Rethrow the exception to trigger a retry\n",
    "    except Exception as e:\n",
    "        logging.error(f\"An error occurred: {e}\")\n",
    "        raise\n"
   ]
  },
  {
   "cell_type": "code",
   "execution_count": 0,
   "metadata": {
    "application/vnd.databricks.v1+cell": {
     "cellMetadata": {
      "byteLimit": 2048000,
      "rowLimit": 10000
     },
     "inputWidgets": {},
     "nuid": "db4f7b1d-aeb0-4e6f-8abc-fbb8740dd5ca",
     "showTitle": false,
     "title": ""
    }
   },
   "outputs": [],
   "source": [
    "def quarter_to_tuple(quarter_str):\n",
    "    \"\"\"\n",
    "    Convert a quarter string like '2024 1st quarter' into a tuple (2024, 1).\n",
    "    \"\"\"\n",
    "    match = re.match(r'(\\d{4}) (\\d{1,2})(st|nd|rd|th) quarter', quarter_str)\n",
    "    if match:\n",
    "        year = int(match.group(1))\n",
    "        quarter_number = int(match.group(2))\n",
    "        # logging.info(f\"Converted '{quarter_str}' to tuple ({year}, {quarter_number})\")\n",
    "        return (year, quarter_number)\n",
    "    else:\n",
    "        logging.error(f\"Invalid quarter format: {quarter_str}\")\n",
    "        raise ValueError(f\"Invalid quarter format: {quarter_str}\")"
   ]
  },
  {
   "cell_type": "code",
   "execution_count": 0,
   "metadata": {
    "application/vnd.databricks.v1+cell": {
     "cellMetadata": {
      "byteLimit": 2048000,
      "rowLimit": 10000
     },
     "inputWidgets": {},
     "nuid": "da817125-77dc-4c7a-b898-ae9bbda92652",
     "showTitle": false,
     "title": ""
    }
   },
   "outputs": [],
   "source": [
    "\n",
    "def check_excel_for_latest_quarter(excel_url, latest_quarter, save_path, file_name):\n",
    "    \"\"\"\n",
    "    Check the Excel file for columns representing quarter information (e.g., '2024 1st quarter').\n",
    "    If the file contains a newer quarter than the latest_quarter, return True and the latest quarter value.\n",
    "    \"\"\"\n",
    "    try:\n",
    "        # Download the Excel file temporarily for inspection\n",
    "        temp_excel_path = f'/tmp/{file_name}' \n",
    "        logging.info(f\"Downloading Excel file from {excel_url} to {temp_excel_path} for inspection.\")\n",
    "        download_excel_file(excel_url, temp_excel_path, file_name)\n",
    "\n",
    "        # Read the Excel file using Pandas (reading the 'Quarter' tab)\n",
    "        df = pd.read_excel(temp_excel_path, sheet_name='Quarter', header=4)\n",
    "        df.columns = df.columns.str.strip().str.replace('\\n', ' ', regex=False)\n",
    "\n",
    "        # logging.info(f\"Excel file read successfully. Columns: {list(df.columns)}\")\n",
    "\n",
    "        # Extract all column names related to quarters\n",
    "        quarter_columns = [col for col in df.columns if re.match(r'^\\d{4} \\d{1,2}(st|nd|rd|th) quarter', col)]\n",
    "        # logging.info(f\"Quarter columns found: {quarter_columns}\")\n",
    "\n",
    "        # Normalize the latest quarter for comparison by stripping any additional text\n",
    "        normalized_latest_quarter = latest_quarter.strip()\n",
    "\n",
    "        # Compare the latest quarter\n",
    "        latest_quarter_in_file = max(quarter_columns, key=lambda x: quarter_to_tuple(re.sub(r'\\s*\\[.*\\]', '', x)))\n",
    "\n",
    "        logging.info(f\"Latest quarter in the file: {latest_quarter_in_file}\")\n",
    "\n",
    "        # Convert quarters to a comparable format (tuple of year, quarter number)\n",
    "        if quarter_to_tuple(latest_quarter_in_file) > quarter_to_tuple(normalized_latest_quarter):\n",
    "            # New quarter is available\n",
    "            logging.info(f\"Newer quarter found: {latest_quarter_in_file}. Removing temporary file.\")\n",
    "            os.remove(temp_excel_path)  # Clean up temp file\n",
    "            return True, latest_quarter_in_file\n",
    "\n",
    "        # No newer data found, clean up\n",
    "        logging.info(\"No newer data found. Cleaning up temporary file.\")\n",
    "        os.remove(temp_excel_path)\n",
    "        return False, latest_quarter\n",
    "\n",
    "    except Exception as e:\n",
    "        logging.error(f\"Error occurred during Excel inspection: {e}\")\n",
    "        return False, latest_quarter\n"
   ]
  },
  {
   "cell_type": "code",
   "execution_count": 0,
   "metadata": {
    "application/vnd.databricks.v1+cell": {
     "cellMetadata": {
      "byteLimit": 2048000,
      "rowLimit": 10000
     },
     "inputWidgets": {},
     "nuid": "9b62f2bf-07b0-42b2-ae33-4e944b0a4048",
     "showTitle": false,
     "title": ""
    }
   },
   "outputs": [],
   "source": [
    "def search_for_energy_trend(url, search_term, latest_quarter, excel_save_path):\n",
    "    try:\n",
    "        # Fetch the content of the webpage\n",
    "        logging.info(f\"Fetching content from URL: {url}\")\n",
    "        response = requests.get(url)\n",
    "        \n",
    "        if response.status_code == 200:\n",
    "            # Parse the HTML content using BeautifulSoup\n",
    "            logging.info(f\"Successfully retrieved content from {url}\")\n",
    "            soup = BeautifulSoup(response.content, 'html.parser')\n",
    "\n",
    "            # Search for all the text containing the search term\n",
    "            matches = soup.find_all(string=lambda text: search_term.lower() in text.lower())\n",
    "\n",
    "            if matches:\n",
    "                logging.info(f\"Found relevant section for: {search_term}\")\n",
    "\n",
    "                # Find the link to the Excel file (look for 'href' attribute containing '.xls' or '.xlsx')\n",
    "                excel_link = None\n",
    "                for link in soup.find_all('a', href=True):\n",
    "                    if '.xls' in link['href'] or '.xlsx' in link['href']:\n",
    "                        excel_link = link['href']\n",
    "                        break\n",
    "\n",
    "                if excel_link:\n",
    "                    logging.info(f\"Excel file found: {excel_link}\")\n",
    "                    file_name = excel_link.split('/')[-1]\n",
    "                    logging.info(f\"File name extracted: {file_name}\")\n",
    "\n",
    "                    # If the link is relative, make it an absolute URL\n",
    "                    if not excel_link.startswith('http'):\n",
    "                        excel_link = 'https://www.gov.uk' + excel_link\n",
    "\n",
    "                    # Download and check the Excel file for the latest quarter\n",
    "                    should_download, latest_quarter = check_excel_for_latest_quarter(excel_link, latest_quarter, excel_save_path, file_name)\n",
    "\n",
    "                    if should_download:\n",
    "                        logging.info(f\"Newer data available. Downloading the file and updating latest quarter to {latest_quarter}.\")\n",
    "                        download_excel_file(excel_link, excel_save_path, file_name)\n",
    "                    else:\n",
    "                        logging.info(\"The Excel file does not contain data for newer quarters. No download will be performed.\")\n",
    "                else:\n",
    "                    logging.warning(\"No Excel file link found.\")\n",
    "            else:\n",
    "                logging.warning(f\"No results found for the search term: {search_term}\")\n",
    "        else:\n",
    "            logging.error(f\"Failed to retrieve the webpage. Status code: {response.status_code}\")\n",
    "    \n",
    "    except Exception as e:\n",
    "        logging.error(f\"An error occurred: {e}\")"
   ]
  },
  {
   "cell_type": "code",
   "execution_count": 0,
   "metadata": {
    "application/vnd.databricks.v1+cell": {
     "cellMetadata": {
      "byteLimit": 2048000,
      "rowLimit": 10000
     },
     "inputWidgets": {},
     "nuid": "061b59de-531d-4889-b528-3ea96348d091",
     "showTitle": false,
     "title": ""
    }
   },
   "outputs": [
    {
     "output_type": "stream",
     "name": "stderr",
     "output_type": "stream",
     "text": [
      "2024-10-08 20:04:03,151 - INFO - Fetching content from URL: https://www.gov.uk/government/statistics/oil-and-oil-products-section-3-energy-trends\n2024-10-08 20:04:03,238 - INFO - Successfully retrieved content from https://www.gov.uk/government/statistics/oil-and-oil-products-section-3-energy-trends\n2024-10-08 20:04:03,373 - INFO - Found relevant section for: Supply and use of crude oil\n2024-10-08 20:04:03,386 - INFO - Excel file found: https://assets.publishing.service.gov.uk/media/66f420ff080bdf716392e8c2/ET_3.1_SEP_24.xlsx\n2024-10-08 20:04:03,388 - INFO - File name extracted: ET_3.1_SEP_24.xlsx\n2024-10-08 20:04:03,394 - INFO - Downloading Excel file from https://assets.publishing.service.gov.uk/media/66f420ff080bdf716392e8c2/ET_3.1_SEP_24.xlsx to /tmp/ET_3.1_SEP_24.xlsx for inspection.\n2024-10-08 20:04:03,396 - INFO - Downloading file from https://assets.publishing.service.gov.uk/media/66f420ff080bdf716392e8c2/ET_3.1_SEP_24.xlsx...\n2024-10-08 20:04:03,458 - INFO - File downloaded successfully to temporary path: /tmp/ET_3.1_SEP_24.xlsx\n2024-10-08 20:04:03,824 - INFO - File moved successfully to DBFS path: /tmp/ET_3.1_SEP_24.xlsx/ET_3.1_SEP_24.xlsx\n2024-10-08 20:04:04,319 - INFO - Latest quarter in the file: 2024 2nd quarter [provisional]\n2024-10-08 20:04:04,320 - INFO - Newer quarter found: 2024 2nd quarter [provisional]. Removing temporary file.\n2024-10-08 20:04:04,323 - INFO - Newer data available. Downloading the file and updating latest quarter to 2024 2nd quarter [provisional].\n2024-10-08 20:04:04,324 - INFO - Downloading file from https://assets.publishing.service.gov.uk/media/66f420ff080bdf716392e8c2/ET_3.1_SEP_24.xlsx...\n2024-10-08 20:04:04,394 - INFO - File downloaded successfully to temporary path: /tmp/ET_3.1_SEP_24.xlsx\n2024-10-08 20:04:04,673 - INFO - File moved successfully to DBFS path: /FileStore/tables/final_data_petroineous/ET_3.1_SEP_24.xlsx\n"
     ]
    }
   ],
   "source": [
    "# put in config.json new file\n",
    "config = {\n",
    "  \"url\": \"https://www.gov.uk/government/statistics/oil-and-oil-products-section-3-energy-trends\",\n",
    "  \"search_term\": \"Supply and use of crude oil\",\n",
    "  \"latest_quarter\": \"1984 1st quarter\",\n",
    "  \"excel_save_path\": \"/FileStore/tables/final_data_petroineous\"\n",
    "}\n",
    "url = config[\"url\"]\n",
    "search_term = config[\"search_term\"]\n",
    "latest_quarter = config[\"latest_quarter\"]\n",
    "excel_save_path = config[\"excel_save_path\"]\n",
    "\n",
    "# Call the function to search for the term and conditionally download the file\n",
    "search_for_energy_trend(url, search_term, latest_quarter, excel_save_path)"
   ]
  },
  {
   "cell_type": "markdown",
   "metadata": {
    "application/vnd.databricks.v1+cell": {
     "cellMetadata": {
      "byteLimit": 2048000,
      "rowLimit": 10000
     },
     "inputWidgets": {},
     "nuid": "35e36884-3710-4ab7-b7fa-7e4af185892d",
     "showTitle": false,
     "title": ""
    }
   },
   "source": [
    "Transformation"
   ]
  },
  {
   "cell_type": "code",
   "execution_count": 0,
   "metadata": {
    "application/vnd.databricks.v1+cell": {
     "cellMetadata": {
      "byteLimit": 2048000,
      "rowLimit": 10000
     },
     "inputWidgets": {},
     "nuid": "32cdd95e-0ee3-4c32-9ee5-ff9f06792706",
     "showTitle": false,
     "title": ""
    }
   },
   "outputs": [],
   "source": [
    "import pandas as pd\n",
    "from pyspark.sql.functions import col, trim, monotonically_increasing_id, when, lit, concat,concat_ws, regexp_replace,split,sum as spark_sum,substring\n",
    "from pyspark.sql.functions import expr\n",
    "from pyspark.sql import functions as F\n",
    "from datetime import datetime"
   ]
  },
  {
   "cell_type": "code",
   "execution_count": 0,
   "metadata": {
    "application/vnd.databricks.v1+cell": {
     "cellMetadata": {
      "byteLimit": 2048000,
      "rowLimit": 10000
     },
     "inputWidgets": {},
     "nuid": "f94905f2-19bb-429d-a4fa-ebba15f0569c",
     "showTitle": false,
     "title": ""
    }
   },
   "outputs": [],
   "source": [
    "def validate_data(df, row_threshold=100, missing_value_threshold=0.1, key_columns=None):\n",
    "    \"\"\"\n",
    "    Validates the integrity of the downloaded file by checking row count, missing values, and key columns.\n",
    "    \n",
    "    :param df: The DataFrame to validate.\n",
    "    :param row_threshold: Minimum number of rows required.\n",
    "    :param missing_value_threshold: Maximum percentage of missing values allowed.\n",
    "    :param key_columns: List of important columns that must be present.\n",
    "    :return: None, raises an exception if validation fails.\n",
    "    \"\"\"\n",
    "    # Check if the DataFrame meets the row count threshold\n",
    "    num_rows = df.shape[0]\n",
    "    if num_rows < row_threshold:\n",
    "        logging.error(f\"Validation Failed: The file contains {num_rows} rows, but {row_threshold} rows are required.\")\n",
    "        raise ValueError(f\"The file contains {num_rows} rows, which is below the minimum threshold of {row_threshold} rows.\")\n",
    "    logging.info(f\"Row count check passed: {num_rows} rows found.\")\n",
    "\n",
    "    # Check for missing values in the DataFrame\n",
    "    missing_values = df.isnull().mean()\n",
    "    columns_with_missing_data = missing_values[missing_values > missing_value_threshold].index.tolist()\n",
    "    if columns_with_missing_data:\n",
    "        logging.error(f\"Validation Failed: Columns with excessive missing values: {columns_with_missing_data}\")\n",
    "        raise ValueError(f\"Columns {columns_with_missing_data} have more than {missing_value_threshold * 100}% missing values.\")\n",
    "    logging.info(f\"Missing values check passed: No columns exceed the missing value threshold of {missing_value_threshold * 100}%.\")\n",
    "\n",
    "    # Check if all required key columns are present\n",
    "    if key_columns:\n",
    "        missing_columns = [col for col in key_columns if col not in df.columns]\n",
    "        if missing_columns:\n",
    "            logging.error(f\"Validation Failed: Missing key columns: {missing_columns}\")\n",
    "            raise ValueError(f\"The following key columns are missing: {missing_columns}\")\n",
    "        logging.info(f\"Key columns check passed: All required columns are present.\")\n",
    "\n",
    "    logging.info(\"All validation checks passed successfully.\")\n",
    "\n",
    "# Example usage after reading the Excel file\n",
    "key_columns = ['Category', 'Sub_Category']  # Adjust according to your requirements\n",
    "# try:\n",
    "#     validate_data(df_quarter, row_threshold=100, missing_value_threshold=0.1, key_columns=key_columns)\n",
    "# except ValueError as e:\n",
    "#     logging.error(f\"Data validation failed: {e}\")\n",
    "#     # Handle the error (e.g., stop the pipeline, notify users, etc.)\n"
   ]
  },
  {
   "cell_type": "code",
   "execution_count": 0,
   "metadata": {
    "application/vnd.databricks.v1+cell": {
     "cellMetadata": {
      "byteLimit": 2048000,
      "rowLimit": 10000
     },
     "inputWidgets": {},
     "nuid": "27d8553c-0721-4c3c-bf20-23bb98c3fe7c",
     "showTitle": false,
     "title": ""
    }
   },
   "outputs": [
    {
     "output_type": "stream",
     "name": "stderr",
     "output_type": "stream",
     "text": [
      "2024-10-08 20:04:05,034 - INFO - Fetching list of files from DBFS directory: /FileStore/tables/final_data_petroineous\n2024-10-08 20:04:05,147 - INFO - Most recently modified file found: ET_3.1_SEP_24.xlsx\n2024-10-08 20:04:05,148 - INFO - DBFS file path constructed: /FileStore/tables/final_data_petroineous/ET_3.1_SEP_24.xlsx\n2024-10-08 20:04:05,150 - INFO - Copying file from DBFS to local path: /tmp/ET_3.1_SEP_24.xlsx\n2024-10-08 20:04:05,776 - INFO - Reading Excel file: /tmp/ET_3.1_SEP_24.xlsx\n2024-10-08 20:04:05,966 - INFO - Row count check passed: 19 rows found.\n2024-10-08 20:04:05,970 - INFO - Missing values check passed: No columns exceed the missing value threshold of 10.0%.\n2024-10-08 20:04:05,971 - ERROR - Validation Failed: Missing key columns: ['Category', 'Sub_Category']\n2024-10-08 20:04:05,972 - ERROR - Data validation failed: The following key columns are missing: ['Category', 'Sub_Category']\n2024-10-08 20:04:05,975 - INFO - Converting pandas DataFrame to Spark DataFrame\n2024-10-08 20:04:06,319 - INFO - Replacing spaces in column names with underscores\n2024-10-08 20:04:07,788 - INFO - Renaming 'Column1' to 'Category'\n"
     ]
    }
   ],
   "source": [
    "# Get the list of files in the directory\n",
    "logging.info(\"Fetching list of files from DBFS directory: /FileStore/tables/final_data_petroineous\")\n",
    "file_list = dbutils.fs.ls(\"/FileStore/tables/final_data_petroineous\")\n",
    "\n",
    "# Find the most recently modified file\n",
    "file_name = max(file_list, key=lambda f: f.modificationTime).name\n",
    "logging.info(f\"Most recently modified file found: {file_name}\")\n",
    "\n",
    "# Construct the path to the file in DBFS\n",
    "dbfs_excel_path = f\"/FileStore/tables/final_data_petroineous/{file_name}\"\n",
    "logging.info(f\"DBFS file path constructed: {dbfs_excel_path}\")\n",
    "\n",
    "# Define a temporary local path to copy the file\n",
    "local_excel_path = f\"/tmp/{file_name}\"\n",
    "\n",
    "# Copy the file from DBFS to the local /tmp/ directory\n",
    "logging.info(f\"Copying file from DBFS to local path: {local_excel_path}\")\n",
    "dbutils.fs.cp(f\"dbfs:{dbfs_excel_path}\", local_excel_path)\n",
    "\n",
    "# Now read the Excel file using pandas from the local path\n",
    "logging.info(f\"Reading Excel file: {local_excel_path}\")\n",
    "df_quarter = pd.read_excel(local_excel_path, sheet_name='Quarter', skiprows=4)\n",
    "try:\n",
    "    validate_data(df_quarter, row_threshold=10, missing_value_threshold=0.1, key_columns=key_columns)\n",
    "except ValueError as e:\n",
    "    logging.error(f\"Data validation failed: {e}\")\n",
    "# Convert pandas DataFrame to Spark DataFrame\n",
    "logging.info(\"Converting pandas DataFrame to Spark DataFrame\")\n",
    "spark_df = spark.createDataFrame(df_quarter).withColumn(\"id\", monotonically_increasing_id())\n",
    "\n",
    "# Replace spaces in column names with underscores\n",
    "logging.info(\"Replacing spaces in column names with underscores\")\n",
    "spark_df = spark_df.select([col(c).alias(c.replace(' ', '_')) for c in spark_df.columns])\n",
    "\n",
    "# Rename 'Column1' to 'Category' if it exists\n",
    "if 'Column1' in spark_df.columns:\n",
    "    logging.info(\"Renaming 'Column1' to 'Category'\")\n",
    "    spark_df = spark_df.withColumnRenamed('Column1', 'Category')\n"
   ]
  },
  {
   "cell_type": "code",
   "execution_count": 0,
   "metadata": {
    "application/vnd.databricks.v1+cell": {
     "cellMetadata": {
      "byteLimit": 2048000,
      "rowLimit": 10000
     },
     "inputWidgets": {},
     "nuid": "56df0752-a903-4bfb-86d4-4735f62a57cc",
     "showTitle": false,
     "title": ""
    }
   },
   "outputs": [
    {
     "output_type": "stream",
     "name": "stderr",
     "output_type": "stream",
     "text": [
      "2024-10-08 20:04:07,933 - INFO - Cleaning 'Category' column: Trimming spaces and removing note patterns.\n2024-10-08 20:04:08,004 - INFO - Creating 'Sub_Category' based on 'id' values.\n2024-10-08 20:04:08,329 - INFO - Updating 'Category' based on 'Sub_Category' differences.\n2024-10-08 20:04:08,425 - INFO - Filtering DataFrame for 'Indigenous production' rows.\n2024-10-08 20:04:08,488 - INFO - Summing columns for 'Indigenous production' group.\n2024-10-08 20:04:11,206 - INFO - Unioning the summed DataFrame with the original DataFrame and applying final filters.\n2024-10-08 20:04:12,808 - INFO - Final DataFrame row count: 18\n"
     ]
    }
   ],
   "source": [
    "# Clean the 'Category' column and remove '[note #]' patterns\n",
    "logging.info(\"Cleaning 'Category' column: Trimming spaces and removing note patterns.\")\n",
    "spark_df = spark_df.withColumn(\"Category\", trim(col(\"Category\")))\\\n",
    "                   .withColumn(\"Category\", regexp_replace(col(\"Category\"), r\"\\s*\\[note\\s*\\d+\\]\", \"\"))\n",
    "\n",
    "# Create 'Sub_Category' based on conditions\n",
    "logging.info(\"Creating 'Sub_Category' based on 'id' values.\")\n",
    "spark_df = spark_df.withColumn(\"Sub_Category\", \n",
    "                               when(col(\"id\").isin([1, 2, 3]), concat_ws('_', lit(\"Indigenous production\"), col(\"Category\")))\n",
    "                               .when(col(\"id\").isin([5, 6]), concat_ws('_', lit(\"Imports\"), col(\"Category\")))\n",
    "                               .when(col(\"id\").isin([8, 9]), concat_ws('_', lit(\"Exports\"), col(\"Category\")))\n",
    "                               .otherwise(col(\"Category\")))\n",
    "\n",
    "# Update 'Category' if 'Sub_Category' differs\n",
    "logging.info(\"Updating 'Category' based on 'Sub_Category' differences.\")\n",
    "spark_df = spark_df.withColumn(\"Category\", when(col('Sub_Category') != col('Category'), split(col('Sub_Category'), '_')[0])\n",
    "                               .otherwise(col('Category')))\n",
    "\n",
    "# Filter for 'Indigenous production'\n",
    "logging.info(\"Filtering DataFrame for 'Indigenous production' rows.\")\n",
    "indigenous_df = spark_df.filter(\n",
    "    (col(\"Category\") == \"Indigenous production\") & \n",
    "    (col(\"Sub_Category\") != \"Indigenous production\") & \n",
    "    (col(\"Sub_Category\") != \"Indigenous production_Feedstocks\")\n",
    ")\n",
    "\n",
    "# Summing relevant columns for 'Indigenous production'\n",
    "logging.info(\"Summing columns for 'Indigenous production' group.\")\n",
    "columns_to_sum = [c for c in indigenous_df.columns if c not in ['Category', 'Sub_Category']]\n",
    "sum_exprs = [spark_sum(col(c)).alias(c) for c in columns_to_sum]\n",
    "summed_df = indigenous_df.groupBy(\"Category\").agg(*sum_exprs).withColumn(\"Sub_Category\", lit(\"Indigenous production_Crude Oil & NGLs\"))\n",
    "\n",
    "# Union the summed DataFrame with the original DataFrame\n",
    "logging.info(\"Unioning the summed DataFrame with the original DataFrame and applying final filters.\")\n",
    "final_df = spark_df.unionByName(summed_df)\\\n",
    "                   .filter((col(\"Sub_Category\") != \"Indigenous production_Crude oil\") & \n",
    "                           (col(\"Sub_Category\") != \"Indigenous production_NGLs\"))\n",
    "\n",
    "# Log the  DataFrame's  count\n",
    "logging.info(f\"Final DataFrame row count: {final_df.count()}\")"
   ]
  },
  {
   "cell_type": "code",
   "execution_count": 0,
   "metadata": {
    "application/vnd.databricks.v1+cell": {
     "cellMetadata": {
      "byteLimit": 2048000,
      "rowLimit": 10000
     },
     "inputWidgets": {},
     "nuid": "8ce6c46d-8c27-4a99-9370-6d52a29e95d7",
     "showTitle": false,
     "title": ""
    }
   },
   "outputs": [],
   "source": [
    "# Define a function to clean and rename columns into YYYYQQ format\n",
    "def rename_columns(df):\n",
    "    logging.info(\"Starting column renaming process.\")\n",
    "    \n",
    "    renamed_cols = []\n",
    "    for col_name in df.columns:\n",
    "        # Step 1: Replace newline characters and underscores with spaces, and remove extra spaces\n",
    "        col_name_cleaned = col_name.replace('_\\n', ' ').replace('\\n', ' ').replace('_', ' ').strip()\n",
    "        logging.debug(f\"Cleaned column name: {col_name_cleaned}\")\n",
    "\n",
    "        # Step 2: Split column by spaces\n",
    "        parts = col_name_cleaned.split(' ')\n",
    "        \n",
    "        # Check if the column name has at least two parts (i.e., year and quarter)\n",
    "        if len(parts) >= 2:\n",
    "            year = parts[0].strip()  # Extract year and remove spaces\n",
    "            quarter = parts[1].strip().lower()  # Extract and clean the quarter part\n",
    "            \n",
    "            # Step 3: Map quarter names to corresponding numbers\n",
    "            if '1st' in quarter:\n",
    "                quarter_num = '01'\n",
    "            elif '2nd' in quarter:\n",
    "                quarter_num = '02'\n",
    "            elif '3rd' in quarter or '3nd' in quarter:\n",
    "                quarter_num = '03'\n",
    "            elif '4th' in quarter:\n",
    "                quarter_num = '04'\n",
    "            else:\n",
    "                quarter_num = None  # If the quarter part does not match any known format\n",
    "\n",
    "            # Step 4: Combine year and quarter into the YYYYQQ format if both are valid\n",
    "            if year.isdigit() and quarter_num:\n",
    "                new_col_name = f\"{year}{quarter_num}\"\n",
    "                renamed_cols.append((col_name, new_col_name))\n",
    "                # logging.info(f\"Renaming column: {col_name} -> {new_col_name}\")\n",
    "            else:\n",
    "                renamed_cols.append((col_name, col_name))  # Keep the original name if format doesn't match\n",
    "                logging.warning(f\"Skipping renaming for column: {col_name} (Invalid format)\")\n",
    "        else:\n",
    "            renamed_cols.append((col_name, col_name))  # For columns not matching the expected format\n",
    "            logging.warning(f\"Skipping renaming for column: {col_name} (Not enough parts)\")\n",
    "    \n",
    "    # Step 5: Rename columns in the DataFrame\n",
    "    for old_name, new_name in renamed_cols:\n",
    "        df = df.withColumnRenamed(old_name, new_name)\n",
    "    \n",
    "    logging.info(\"Finished column renaming process.\")\n",
    "    return df"
   ]
  },
  {
   "cell_type": "code",
   "execution_count": 0,
   "metadata": {
    "application/vnd.databricks.v1+cell": {
     "cellMetadata": {
      "byteLimit": 2048000,
      "rowLimit": 10000
     },
     "inputWidgets": {},
     "nuid": "5b920b02-a8c5-4dce-9327-aa432f6f29c9",
     "showTitle": false,
     "title": ""
    }
   },
   "outputs": [
    {
     "output_type": "stream",
     "name": "stderr",
     "output_type": "stream",
     "text": [
      "2024-10-08 20:04:13,084 - INFO - Applying the rename_columns function.\n2024-10-08 20:04:13,088 - INFO - Starting column renaming process.\n2024-10-08 20:04:13,099 - WARNING - Skipping renaming for column: Category (Not enough parts)\n2024-10-08 20:04:13,101 - WARNING - Skipping renaming for column: id (Not enough parts)\n2024-10-08 20:04:13,104 - WARNING - Skipping renaming for column: Sub_Category (Invalid format)\n2024-10-08 20:04:15,899 - INFO - Finished column renaming process.\n2024-10-08 20:04:15,901 - INFO - Extracting quarterly columns.\n2024-10-08 20:04:15,904 - INFO - Creating expression to stack quarterly columns.\n2024-10-08 20:04:15,905 - INFO - Unpivoting the DataFrame from wide to long format.\n2024-10-08 20:04:16,013 - INFO - Adding FileName and ProcessedDate columns to the final DataFrame.\n2024-10-08 20:04:19,234 - INFO - Final DataFrame row count: 1836\n"
     ]
    },
    {
     "output_type": "display_data",
     "data": {
      "text/html": [
       "<style scoped>\n",
       "  .table-result-container {\n",
       "    max-height: 300px;\n",
       "    overflow: auto;\n",
       "  }\n",
       "  table, th, td {\n",
       "    border: 1px solid black;\n",
       "    border-collapse: collapse;\n",
       "  }\n",
       "  th, td {\n",
       "    padding: 5px;\n",
       "  }\n",
       "  th {\n",
       "    text-align: left;\n",
       "  }\n",
       "</style><div class='table-result-container'><table class='table-result'><thead style='background-color: white'><tr><th>Category</th><th>Sub_Category</th><th>Quarter</th><th>Quantity</th><th>FileName</th><th>ProcessedDate</th></tr></thead><tbody><tr><td>Indigenous production</td><td>Indigenous production</td><td>199901</td><td>34382.56</td><td>ET_3.1_SEP_24.xlsx</td><td>08/10/2024</td></tr><tr><td>Indigenous production</td><td>Indigenous production</td><td>199902</td><td>33060.35</td><td>ET_3.1_SEP_24.xlsx</td><td>08/10/2024</td></tr><tr><td>Indigenous production</td><td>Indigenous production</td><td>199903</td><td>34314.67</td><td>ET_3.1_SEP_24.xlsx</td><td>08/10/2024</td></tr><tr><td>Indigenous production</td><td>Indigenous production</td><td>199904</td><td>35341.42</td><td>ET_3.1_SEP_24.xlsx</td><td>08/10/2024</td></tr><tr><td>Indigenous production</td><td>Indigenous production</td><td>200001</td><td>34217.37</td><td>ET_3.1_SEP_24.xlsx</td><td>08/10/2024</td></tr><tr><td>Indigenous production</td><td>Indigenous production</td><td>200002</td><td>30802.13</td><td>ET_3.1_SEP_24.xlsx</td><td>08/10/2024</td></tr><tr><td>Indigenous production</td><td>Indigenous production</td><td>200003</td><td>30427.07</td><td>ET_3.1_SEP_24.xlsx</td><td>08/10/2024</td></tr><tr><td>Indigenous production</td><td>Indigenous production</td><td>200004</td><td>30798.43</td><td>ET_3.1_SEP_24.xlsx</td><td>08/10/2024</td></tr><tr><td>Indigenous production</td><td>Indigenous production</td><td>200101</td><td>29196.34</td><td>ET_3.1_SEP_24.xlsx</td><td>08/10/2024</td></tr><tr><td>Indigenous production</td><td>Indigenous production</td><td>200102</td><td>28340.07</td><td>ET_3.1_SEP_24.xlsx</td><td>08/10/2024</td></tr><tr><td>Indigenous production</td><td>Indigenous production</td><td>200103</td><td>28328.32</td><td>ET_3.1_SEP_24.xlsx</td><td>08/10/2024</td></tr><tr><td>Indigenous production</td><td>Indigenous production</td><td>200104</td><td>30813.65</td><td>ET_3.1_SEP_24.xlsx</td><td>08/10/2024</td></tr><tr><td>Indigenous production</td><td>Indigenous production</td><td>200201</td><td>29652.43</td><td>ET_3.1_SEP_24.xlsx</td><td>08/10/2024</td></tr><tr><td>Indigenous production</td><td>Indigenous production</td><td>200202</td><td>29527.45</td><td>ET_3.1_SEP_24.xlsx</td><td>08/10/2024</td></tr><tr><td>Indigenous production</td><td>Indigenous production</td><td>200203</td><td>26481.83</td><td>ET_3.1_SEP_24.xlsx</td><td>08/10/2024</td></tr><tr><td>Indigenous production</td><td>Indigenous production</td><td>200204</td><td>30282.55</td><td>ET_3.1_SEP_24.xlsx</td><td>08/10/2024</td></tr><tr><td>Indigenous production</td><td>Indigenous production</td><td>200301</td><td>28679.69</td><td>ET_3.1_SEP_24.xlsx</td><td>08/10/2024</td></tr><tr><td>Indigenous production</td><td>Indigenous production</td><td>200302</td><td>26025.5</td><td>ET_3.1_SEP_24.xlsx</td><td>08/10/2024</td></tr><tr><td>Indigenous production</td><td>Indigenous production</td><td>200303</td><td>24957.81</td><td>ET_3.1_SEP_24.xlsx</td><td>08/10/2024</td></tr><tr><td>Indigenous production</td><td>Indigenous production</td><td>200304</td><td>26409.93</td><td>ET_3.1_SEP_24.xlsx</td><td>08/10/2024</td></tr><tr><td>Indigenous production</td><td>Indigenous production</td><td>200401</td><td>25434.13</td><td>ET_3.1_SEP_24.xlsx</td><td>08/10/2024</td></tr><tr><td>Indigenous production</td><td>Indigenous production</td><td>200402</td><td>24345.24</td><td>ET_3.1_SEP_24.xlsx</td><td>08/10/2024</td></tr><tr><td>Indigenous production</td><td>Indigenous production</td><td>200403</td><td>22078.37</td><td>ET_3.1_SEP_24.xlsx</td><td>08/10/2024</td></tr><tr><td>Indigenous production</td><td>Indigenous production</td><td>200404</td><td>23516.04</td><td>ET_3.1_SEP_24.xlsx</td><td>08/10/2024</td></tr><tr><td>Indigenous production</td><td>Indigenous production</td><td>200501</td><td>22714.08</td><td>ET_3.1_SEP_24.xlsx</td><td>08/10/2024</td></tr><tr><td>Indigenous production</td><td>Indigenous production</td><td>200502</td><td>21989.98</td><td>ET_3.1_SEP_24.xlsx</td><td>08/10/2024</td></tr><tr><td>Indigenous production</td><td>Indigenous production</td><td>200503</td><td>19307.51</td><td>ET_3.1_SEP_24.xlsx</td><td>08/10/2024</td></tr><tr><td>Indigenous production</td><td>Indigenous production</td><td>200504</td><td>20709.57</td><td>ET_3.1_SEP_24.xlsx</td><td>08/10/2024</td></tr><tr><td>Indigenous production</td><td>Indigenous production</td><td>200601</td><td>20878.21</td><td>ET_3.1_SEP_24.xlsx</td><td>08/10/2024</td></tr><tr><td>Indigenous production</td><td>Indigenous production</td><td>200602</td><td>19151.3</td><td>ET_3.1_SEP_24.xlsx</td><td>08/10/2024</td></tr><tr><td>Indigenous production</td><td>Indigenous production</td><td>200603</td><td>17266.06</td><td>ET_3.1_SEP_24.xlsx</td><td>08/10/2024</td></tr><tr><td>Indigenous production</td><td>Indigenous production</td><td>200604</td><td>19282.27</td><td>ET_3.1_SEP_24.xlsx</td><td>08/10/2024</td></tr><tr><td>Indigenous production</td><td>Indigenous production</td><td>200701</td><td>19967.65</td><td>ET_3.1_SEP_24.xlsx</td><td>08/10/2024</td></tr><tr><td>Indigenous production</td><td>Indigenous production</td><td>200702</td><td>19744.77</td><td>ET_3.1_SEP_24.xlsx</td><td>08/10/2024</td></tr><tr><td>Indigenous production</td><td>Indigenous production</td><td>200703</td><td>17398.73</td><td>ET_3.1_SEP_24.xlsx</td><td>08/10/2024</td></tr><tr><td>Indigenous production</td><td>Indigenous production</td><td>200704</td><td>19463.94</td><td>ET_3.1_SEP_24.xlsx</td><td>08/10/2024</td></tr><tr><td>Indigenous production</td><td>Indigenous production</td><td>200801</td><td>18794.86</td><td>ET_3.1_SEP_24.xlsx</td><td>08/10/2024</td></tr><tr><td>Indigenous production</td><td>Indigenous production</td><td>200802</td><td>18615.57</td><td>ET_3.1_SEP_24.xlsx</td><td>08/10/2024</td></tr><tr><td>Indigenous production</td><td>Indigenous production</td><td>200803</td><td>16299.55</td><td>ET_3.1_SEP_24.xlsx</td><td>08/10/2024</td></tr><tr><td>Indigenous production</td><td>Indigenous production</td><td>200804</td><td>18078.86</td><td>ET_3.1_SEP_24.xlsx</td><td>08/10/2024</td></tr><tr><td>Indigenous production</td><td>Indigenous production</td><td>200901</td><td>18267.73</td><td>ET_3.1_SEP_24.xlsx</td><td>08/10/2024</td></tr><tr><td>Indigenous production</td><td>Indigenous production</td><td>200902</td><td>17976.12</td><td>ET_3.1_SEP_24.xlsx</td><td>08/10/2024</td></tr><tr><td>Indigenous production</td><td>Indigenous production</td><td>200903</td><td>14936.37</td><td>ET_3.1_SEP_24.xlsx</td><td>08/10/2024</td></tr><tr><td>Indigenous production</td><td>Indigenous production</td><td>200904</td><td>17018.32</td><td>ET_3.1_SEP_24.xlsx</td><td>08/10/2024</td></tr><tr><td>Indigenous production</td><td>Indigenous production</td><td>201001</td><td>17197.33</td><td>ET_3.1_SEP_24.xlsx</td><td>08/10/2024</td></tr><tr><td>Indigenous production</td><td>Indigenous production</td><td>201002</td><td>15984.51</td><td>ET_3.1_SEP_24.xlsx</td><td>08/10/2024</td></tr><tr><td>Indigenous production</td><td>Indigenous production</td><td>201003</td><td>14184.81</td><td>ET_3.1_SEP_24.xlsx</td><td>08/10/2024</td></tr><tr><td>Indigenous production</td><td>Indigenous production</td><td>201004</td><td>15594.96</td><td>ET_3.1_SEP_24.xlsx</td><td>08/10/2024</td></tr><tr><td>Indigenous production</td><td>Indigenous production</td><td>201101</td><td>14484.67</td><td>ET_3.1_SEP_24.xlsx</td><td>08/10/2024</td></tr><tr><td>Indigenous production</td><td>Indigenous production</td><td>201102</td><td>13422.62</td><td>ET_3.1_SEP_24.xlsx</td><td>08/10/2024</td></tr><tr><td>Indigenous production</td><td>Indigenous production</td><td>201103</td><td>11116.55</td><td>ET_3.1_SEP_24.xlsx</td><td>08/10/2024</td></tr><tr><td>Indigenous production</td><td>Indigenous production</td><td>201104</td><td>12948.59</td><td>ET_3.1_SEP_24.xlsx</td><td>08/10/2024</td></tr><tr><td>Indigenous production</td><td>Indigenous production</td><td>201201</td><td>12603.85</td><td>ET_3.1_SEP_24.xlsx</td><td>08/10/2024</td></tr><tr><td>Indigenous production</td><td>Indigenous production</td><td>201202</td><td>11811.68</td><td>ET_3.1_SEP_24.xlsx</td><td>08/10/2024</td></tr><tr><td>Indigenous production</td><td>Indigenous production</td><td>201203</td><td>9751.07</td><td>ET_3.1_SEP_24.xlsx</td><td>08/10/2024</td></tr><tr><td>Indigenous production</td><td>Indigenous production</td><td>201204</td><td>10394.2</td><td>ET_3.1_SEP_24.xlsx</td><td>08/10/2024</td></tr><tr><td>Indigenous production</td><td>Indigenous production</td><td>201301</td><td>10718.11</td><td>ET_3.1_SEP_24.xlsx</td><td>08/10/2024</td></tr><tr><td>Indigenous production</td><td>Indigenous production</td><td>201302</td><td>10496.19</td><td>ET_3.1_SEP_24.xlsx</td><td>08/10/2024</td></tr><tr><td>Indigenous production</td><td>Indigenous production</td><td>201303</td><td>9218.7</td><td>ET_3.1_SEP_24.xlsx</td><td>08/10/2024</td></tr><tr><td>Indigenous production</td><td>Indigenous production</td><td>201304</td><td>10667.8</td><td>ET_3.1_SEP_24.xlsx</td><td>08/10/2024</td></tr><tr><td>Indigenous production</td><td>Indigenous production</td><td>201401</td><td>11163.92</td><td>ET_3.1_SEP_24.xlsx</td><td>08/10/2024</td></tr><tr><td>Indigenous production</td><td>Indigenous production</td><td>201402</td><td>10357.87</td><td>ET_3.1_SEP_24.xlsx</td><td>08/10/2024</td></tr><tr><td>Indigenous production</td><td>Indigenous production</td><td>201403</td><td>8295.7</td><td>ET_3.1_SEP_24.xlsx</td><td>08/10/2024</td></tr><tr><td>Indigenous production</td><td>Indigenous production</td><td>201404</td><td>10510.27</td><td>ET_3.1_SEP_24.xlsx</td><td>08/10/2024</td></tr><tr><td>Indigenous production</td><td>Indigenous production</td><td>201501</td><td>10835.63</td><td>ET_3.1_SEP_24.xlsx</td><td>08/10/2024</td></tr><tr><td>Indigenous production</td><td>Indigenous production</td><td>201502</td><td>12141.02</td><td>ET_3.1_SEP_24.xlsx</td><td>08/10/2024</td></tr><tr><td>Indigenous production</td><td>Indigenous production</td><td>201503</td><td>10515.01</td><td>ET_3.1_SEP_24.xlsx</td><td>08/10/2024</td></tr><tr><td>Indigenous production</td><td>Indigenous production</td><td>201504</td><td>12206.46</td><td>ET_3.1_SEP_24.xlsx</td><td>08/10/2024</td></tr><tr><td>Indigenous production</td><td>Indigenous production</td><td>201601</td><td>12715.78</td><td>ET_3.1_SEP_24.xlsx</td><td>08/10/2024</td></tr><tr><td>Indigenous production</td><td>Indigenous production</td><td>201602</td><td>12209.88</td><td>ET_3.1_SEP_24.xlsx</td><td>08/10/2024</td></tr><tr><td>Indigenous production</td><td>Indigenous production</td><td>201603</td><td>11376.66</td><td>ET_3.1_SEP_24.xlsx</td><td>08/10/2024</td></tr><tr><td>Indigenous production</td><td>Indigenous production</td><td>201604</td><td>11569.76</td><td>ET_3.1_SEP_24.xlsx</td><td>08/10/2024</td></tr><tr><td>Indigenous production</td><td>Indigenous production</td><td>201701</td><td>12126.83</td><td>ET_3.1_SEP_24.xlsx</td><td>08/10/2024</td></tr><tr><td>Indigenous production</td><td>Indigenous production</td><td>201702</td><td>11961.45</td><td>ET_3.1_SEP_24.xlsx</td><td>08/10/2024</td></tr><tr><td>Indigenous production</td><td>Indigenous production</td><td>201703</td><td>11324.38</td><td>ET_3.1_SEP_24.xlsx</td><td>08/10/2024</td></tr><tr><td>Indigenous production</td><td>Indigenous production</td><td>201704</td><td>11636.63</td><td>ET_3.1_SEP_24.xlsx</td><td>08/10/2024</td></tr><tr><td>Indigenous production</td><td>Indigenous production</td><td>201801</td><td>12851.32</td><td>ET_3.1_SEP_24.xlsx</td><td>08/10/2024</td></tr><tr><td>Indigenous production</td><td>Indigenous production</td><td>201802</td><td>13498.96</td><td>ET_3.1_SEP_24.xlsx</td><td>08/10/2024</td></tr><tr><td>Indigenous production</td><td>Indigenous production</td><td>201803</td><td>11650.46</td><td>ET_3.1_SEP_24.xlsx</td><td>08/10/2024</td></tr><tr><td>Indigenous production</td><td>Indigenous production</td><td>201804</td><td>13549.99</td><td>ET_3.1_SEP_24.xlsx</td><td>08/10/2024</td></tr><tr><td>Indigenous production</td><td>Indigenous production</td><td>201901</td><td>13880.29</td><td>ET_3.1_SEP_24.xlsx</td><td>08/10/2024</td></tr><tr><td>Indigenous production</td><td>Indigenous production</td><td>201902</td><td>13159.31</td><td>ET_3.1_SEP_24.xlsx</td><td>08/10/2024</td></tr><tr><td>Indigenous production</td><td>Indigenous production</td><td>201903</td><td>12561.96</td><td>ET_3.1_SEP_24.xlsx</td><td>08/10/2024</td></tr><tr><td>Indigenous production</td><td>Indigenous production</td><td>201904</td><td>13254.64</td><td>ET_3.1_SEP_24.xlsx</td><td>08/10/2024</td></tr><tr><td>Indigenous production</td><td>Indigenous production</td><td>202001</td><td>13241.32</td><td>ET_3.1_SEP_24.xlsx</td><td>08/10/2024</td></tr><tr><td>Indigenous production</td><td>Indigenous production</td><td>202002</td><td>13024.81</td><td>ET_3.1_SEP_24.xlsx</td><td>08/10/2024</td></tr><tr><td>Indigenous production</td><td>Indigenous production</td><td>202003</td><td>11092.15</td><td>ET_3.1_SEP_24.xlsx</td><td>08/10/2024</td></tr><tr><td>Indigenous production</td><td>Indigenous production</td><td>202004</td><td>12003.22</td><td>ET_3.1_SEP_24.xlsx</td><td>08/10/2024</td></tr><tr><td>Indigenous production</td><td>Indigenous production</td><td>202101</td><td>11698.39</td><td>ET_3.1_SEP_24.xlsx</td><td>08/10/2024</td></tr><tr><td>Indigenous production</td><td>Indigenous production</td><td>202102</td><td>8883.41</td><td>ET_3.1_SEP_24.xlsx</td><td>08/10/2024</td></tr><tr><td>Indigenous production</td><td>Indigenous production</td><td>202103</td><td>10269.05</td><td>ET_3.1_SEP_24.xlsx</td><td>08/10/2024</td></tr><tr><td>Indigenous production</td><td>Indigenous production</td><td>202104</td><td>10311.62</td><td>ET_3.1_SEP_24.xlsx</td><td>08/10/2024</td></tr><tr><td>Indigenous production</td><td>Indigenous production</td><td>202201</td><td>10435.31</td><td>ET_3.1_SEP_24.xlsx</td><td>08/10/2024</td></tr><tr><td>Indigenous production</td><td>Indigenous production</td><td>202202</td><td>9677.52</td><td>ET_3.1_SEP_24.xlsx</td><td>08/10/2024</td></tr><tr><td>Indigenous production</td><td>Indigenous production</td><td>202203</td><td>8622.86</td><td>ET_3.1_SEP_24.xlsx</td><td>08/10/2024</td></tr><tr><td>Indigenous production</td><td>Indigenous production</td><td>202204</td><td>9301.1</td><td>ET_3.1_SEP_24.xlsx</td><td>08/10/2024</td></tr><tr><td>Indigenous production</td><td>Indigenous production</td><td>202301</td><td>9215.96</td><td>ET_3.1_SEP_24.xlsx</td><td>08/10/2024</td></tr><tr><td>Indigenous production</td><td>Indigenous production</td><td>202302</td><td>8467.26</td><td>ET_3.1_SEP_24.xlsx</td><td>08/10/2024</td></tr><tr><td>Indigenous production</td><td>Indigenous production</td><td>202303</td><td>7791.2</td><td>ET_3.1_SEP_24.xlsx</td><td>08/10/2024</td></tr><tr><td>Indigenous production</td><td>Indigenous production</td><td>202304</td><td>8280.18</td><td>ET_3.1_SEP_24.xlsx</td><td>08/10/2024</td></tr><tr><td>Indigenous production</td><td>Indigenous production</td><td>202401</td><td>8026.91</td><td>ET_3.1_SEP_24.xlsx</td><td>08/10/2024</td></tr><tr><td>Indigenous production</td><td>Indigenous production</td><td>202402</td><td>7714.23</td><td>ET_3.1_SEP_24.xlsx</td><td>08/10/2024</td></tr><tr><td>Indigenous production</td><td>Indigenous production_Feedstocks</td><td>199901</td><td>0.0</td><td>ET_3.1_SEP_24.xlsx</td><td>08/10/2024</td></tr><tr><td>Indigenous production</td><td>Indigenous production_Feedstocks</td><td>199902</td><td>0.0</td><td>ET_3.1_SEP_24.xlsx</td><td>08/10/2024</td></tr><tr><td>Indigenous production</td><td>Indigenous production_Feedstocks</td><td>199903</td><td>0.0</td><td>ET_3.1_SEP_24.xlsx</td><td>08/10/2024</td></tr><tr><td>Indigenous production</td><td>Indigenous production_Feedstocks</td><td>199904</td><td>0.0</td><td>ET_3.1_SEP_24.xlsx</td><td>08/10/2024</td></tr><tr><td>Indigenous production</td><td>Indigenous production_Feedstocks</td><td>200001</td><td>0.0</td><td>ET_3.1_SEP_24.xlsx</td><td>08/10/2024</td></tr><tr><td>Indigenous production</td><td>Indigenous production_Feedstocks</td><td>200002</td><td>0.0</td><td>ET_3.1_SEP_24.xlsx</td><td>08/10/2024</td></tr><tr><td>Indigenous production</td><td>Indigenous production_Feedstocks</td><td>200003</td><td>0.0</td><td>ET_3.1_SEP_24.xlsx</td><td>08/10/2024</td></tr><tr><td>Indigenous production</td><td>Indigenous production_Feedstocks</td><td>200004</td><td>0.0</td><td>ET_3.1_SEP_24.xlsx</td><td>08/10/2024</td></tr><tr><td>Indigenous production</td><td>Indigenous production_Feedstocks</td><td>200101</td><td>0.0</td><td>ET_3.1_SEP_24.xlsx</td><td>08/10/2024</td></tr><tr><td>Indigenous production</td><td>Indigenous production_Feedstocks</td><td>200102</td><td>0.0</td><td>ET_3.1_SEP_24.xlsx</td><td>08/10/2024</td></tr><tr><td>Indigenous production</td><td>Indigenous production_Feedstocks</td><td>200103</td><td>0.0</td><td>ET_3.1_SEP_24.xlsx</td><td>08/10/2024</td></tr><tr><td>Indigenous production</td><td>Indigenous production_Feedstocks</td><td>200104</td><td>0.0</td><td>ET_3.1_SEP_24.xlsx</td><td>08/10/2024</td></tr><tr><td>Indigenous production</td><td>Indigenous production_Feedstocks</td><td>200201</td><td>0.0</td><td>ET_3.1_SEP_24.xlsx</td><td>08/10/2024</td></tr><tr><td>Indigenous production</td><td>Indigenous production_Feedstocks</td><td>200202</td><td>0.0</td><td>ET_3.1_SEP_24.xlsx</td><td>08/10/2024</td></tr><tr><td>Indigenous production</td><td>Indigenous production_Feedstocks</td><td>200203</td><td>0.0</td><td>ET_3.1_SEP_24.xlsx</td><td>08/10/2024</td></tr><tr><td>Indigenous production</td><td>Indigenous production_Feedstocks</td><td>200204</td><td>0.0</td><td>ET_3.1_SEP_24.xlsx</td><td>08/10/2024</td></tr><tr><td>Indigenous production</td><td>Indigenous production_Feedstocks</td><td>200301</td><td>0.0</td><td>ET_3.1_SEP_24.xlsx</td><td>08/10/2024</td></tr><tr><td>Indigenous production</td><td>Indigenous production_Feedstocks</td><td>200302</td><td>0.0</td><td>ET_3.1_SEP_24.xlsx</td><td>08/10/2024</td></tr><tr><td>Indigenous production</td><td>Indigenous production_Feedstocks</td><td>200303</td><td>0.0</td><td>ET_3.1_SEP_24.xlsx</td><td>08/10/2024</td></tr><tr><td>Indigenous production</td><td>Indigenous production_Feedstocks</td><td>200304</td><td>0.0</td><td>ET_3.1_SEP_24.xlsx</td><td>08/10/2024</td></tr><tr><td>Indigenous production</td><td>Indigenous production_Feedstocks</td><td>200401</td><td>0.0</td><td>ET_3.1_SEP_24.xlsx</td><td>08/10/2024</td></tr><tr><td>Indigenous production</td><td>Indigenous production_Feedstocks</td><td>200402</td><td>0.0</td><td>ET_3.1_SEP_24.xlsx</td><td>08/10/2024</td></tr><tr><td>Indigenous production</td><td>Indigenous production_Feedstocks</td><td>200403</td><td>0.0</td><td>ET_3.1_SEP_24.xlsx</td><td>08/10/2024</td></tr><tr><td>Indigenous production</td><td>Indigenous production_Feedstocks</td><td>200404</td><td>0.0</td><td>ET_3.1_SEP_24.xlsx</td><td>08/10/2024</td></tr><tr><td>Indigenous production</td><td>Indigenous production_Feedstocks</td><td>200501</td><td>0.0</td><td>ET_3.1_SEP_24.xlsx</td><td>08/10/2024</td></tr><tr><td>Indigenous production</td><td>Indigenous production_Feedstocks</td><td>200502</td><td>0.0</td><td>ET_3.1_SEP_24.xlsx</td><td>08/10/2024</td></tr><tr><td>Indigenous production</td><td>Indigenous production_Feedstocks</td><td>200503</td><td>0.0</td><td>ET_3.1_SEP_24.xlsx</td><td>08/10/2024</td></tr><tr><td>Indigenous production</td><td>Indigenous production_Feedstocks</td><td>200504</td><td>0.0</td><td>ET_3.1_SEP_24.xlsx</td><td>08/10/2024</td></tr><tr><td>Indigenous production</td><td>Indigenous production_Feedstocks</td><td>200601</td><td>0.0</td><td>ET_3.1_SEP_24.xlsx</td><td>08/10/2024</td></tr><tr><td>Indigenous production</td><td>Indigenous production_Feedstocks</td><td>200602</td><td>0.0</td><td>ET_3.1_SEP_24.xlsx</td><td>08/10/2024</td></tr><tr><td>Indigenous production</td><td>Indigenous production_Feedstocks</td><td>200603</td><td>0.0</td><td>ET_3.1_SEP_24.xlsx</td><td>08/10/2024</td></tr><tr><td>Indigenous production</td><td>Indigenous production_Feedstocks</td><td>200604</td><td>0.0</td><td>ET_3.1_SEP_24.xlsx</td><td>08/10/2024</td></tr><tr><td>Indigenous production</td><td>Indigenous production_Feedstocks</td><td>200701</td><td>0.0</td><td>ET_3.1_SEP_24.xlsx</td><td>08/10/2024</td></tr><tr><td>Indigenous production</td><td>Indigenous production_Feedstocks</td><td>200702</td><td>0.0</td><td>ET_3.1_SEP_24.xlsx</td><td>08/10/2024</td></tr><tr><td>Indigenous production</td><td>Indigenous production_Feedstocks</td><td>200703</td><td>0.0</td><td>ET_3.1_SEP_24.xlsx</td><td>08/10/2024</td></tr><tr><td>Indigenous production</td><td>Indigenous production_Feedstocks</td><td>200704</td><td>0.0</td><td>ET_3.1_SEP_24.xlsx</td><td>08/10/2024</td></tr><tr><td>Indigenous production</td><td>Indigenous production_Feedstocks</td><td>200801</td><td>0.0</td><td>ET_3.1_SEP_24.xlsx</td><td>08/10/2024</td></tr><tr><td>Indigenous production</td><td>Indigenous production_Feedstocks</td><td>200802</td><td>0.0</td><td>ET_3.1_SEP_24.xlsx</td><td>08/10/2024</td></tr><tr><td>Indigenous production</td><td>Indigenous production_Feedstocks</td><td>200803</td><td>0.0</td><td>ET_3.1_SEP_24.xlsx</td><td>08/10/2024</td></tr><tr><td>Indigenous production</td><td>Indigenous production_Feedstocks</td><td>200804</td><td>0.0</td><td>ET_3.1_SEP_24.xlsx</td><td>08/10/2024</td></tr><tr><td>Indigenous production</td><td>Indigenous production_Feedstocks</td><td>200901</td><td>0.0</td><td>ET_3.1_SEP_24.xlsx</td><td>08/10/2024</td></tr><tr><td>Indigenous production</td><td>Indigenous production_Feedstocks</td><td>200902</td><td>0.0</td><td>ET_3.1_SEP_24.xlsx</td><td>08/10/2024</td></tr><tr><td>Indigenous production</td><td>Indigenous production_Feedstocks</td><td>200903</td><td>0.0</td><td>ET_3.1_SEP_24.xlsx</td><td>08/10/2024</td></tr><tr><td>Indigenous production</td><td>Indigenous production_Feedstocks</td><td>200904</td><td>0.0</td><td>ET_3.1_SEP_24.xlsx</td><td>08/10/2024</td></tr><tr><td>Indigenous production</td><td>Indigenous production_Feedstocks</td><td>201001</td><td>0.0</td><td>ET_3.1_SEP_24.xlsx</td><td>08/10/2024</td></tr><tr><td>Indigenous production</td><td>Indigenous production_Feedstocks</td><td>201002</td><td>0.0</td><td>ET_3.1_SEP_24.xlsx</td><td>08/10/2024</td></tr><tr><td>Indigenous production</td><td>Indigenous production_Feedstocks</td><td>201003</td><td>0.0</td><td>ET_3.1_SEP_24.xlsx</td><td>08/10/2024</td></tr><tr><td>Indigenous production</td><td>Indigenous production_Feedstocks</td><td>201004</td><td>0.0</td><td>ET_3.1_SEP_24.xlsx</td><td>08/10/2024</td></tr><tr><td>Indigenous production</td><td>Indigenous production_Feedstocks</td><td>201101</td><td>0.0</td><td>ET_3.1_SEP_24.xlsx</td><td>08/10/2024</td></tr><tr><td>Indigenous production</td><td>Indigenous production_Feedstocks</td><td>201102</td><td>0.0</td><td>ET_3.1_SEP_24.xlsx</td><td>08/10/2024</td></tr><tr><td>Indigenous production</td><td>Indigenous production_Feedstocks</td><td>201103</td><td>0.0</td><td>ET_3.1_SEP_24.xlsx</td><td>08/10/2024</td></tr><tr><td>Indigenous production</td><td>Indigenous production_Feedstocks</td><td>201104</td><td>0.0</td><td>ET_3.1_SEP_24.xlsx</td><td>08/10/2024</td></tr><tr><td>Indigenous production</td><td>Indigenous production_Feedstocks</td><td>201201</td><td>0.0</td><td>ET_3.1_SEP_24.xlsx</td><td>08/10/2024</td></tr><tr><td>Indigenous production</td><td>Indigenous production_Feedstocks</td><td>201202</td><td>0.0</td><td>ET_3.1_SEP_24.xlsx</td><td>08/10/2024</td></tr><tr><td>Indigenous production</td><td>Indigenous production_Feedstocks</td><td>201203</td><td>0.0</td><td>ET_3.1_SEP_24.xlsx</td><td>08/10/2024</td></tr><tr><td>Indigenous production</td><td>Indigenous production_Feedstocks</td><td>201204</td><td>0.0</td><td>ET_3.1_SEP_24.xlsx</td><td>08/10/2024</td></tr><tr><td>Indigenous production</td><td>Indigenous production_Feedstocks</td><td>201301</td><td>117.65</td><td>ET_3.1_SEP_24.xlsx</td><td>08/10/2024</td></tr><tr><td>Indigenous production</td><td>Indigenous production_Feedstocks</td><td>201302</td><td>99.25</td><td>ET_3.1_SEP_24.xlsx</td><td>08/10/2024</td></tr><tr><td>Indigenous production</td><td>Indigenous production_Feedstocks</td><td>201303</td><td>110.59</td><td>ET_3.1_SEP_24.xlsx</td><td>08/10/2024</td></tr><tr><td>Indigenous production</td><td>Indigenous production_Feedstocks</td><td>201304</td><td>126.92</td><td>ET_3.1_SEP_24.xlsx</td><td>08/10/2024</td></tr><tr><td>Indigenous production</td><td>Indigenous production_Feedstocks</td><td>201401</td><td>111.71</td><td>ET_3.1_SEP_24.xlsx</td><td>08/10/2024</td></tr><tr><td>Indigenous production</td><td>Indigenous production_Feedstocks</td><td>201402</td><td>79.44</td><td>ET_3.1_SEP_24.xlsx</td><td>08/10/2024</td></tr><tr><td>Indigenous production</td><td>Indigenous production_Feedstocks</td><td>201403</td><td>101.14</td><td>ET_3.1_SEP_24.xlsx</td><td>08/10/2024</td></tr><tr><td>Indigenous production</td><td>Indigenous production_Feedstocks</td><td>201404</td><td>107.54</td><td>ET_3.1_SEP_24.xlsx</td><td>08/10/2024</td></tr><tr><td>Indigenous production</td><td>Indigenous production_Feedstocks</td><td>201501</td><td>95.92</td><td>ET_3.1_SEP_24.xlsx</td><td>08/10/2024</td></tr><tr><td>Indigenous production</td><td>Indigenous production_Feedstocks</td><td>201502</td><td>88.35</td><td>ET_3.1_SEP_24.xlsx</td><td>08/10/2024</td></tr><tr><td>Indigenous production</td><td>Indigenous production_Feedstocks</td><td>201503</td><td>112.14</td><td>ET_3.1_SEP_24.xlsx</td><td>08/10/2024</td></tr><tr><td>Indigenous production</td><td>Indigenous production_Feedstocks</td><td>201504</td><td>113.97</td><td>ET_3.1_SEP_24.xlsx</td><td>08/10/2024</td></tr><tr><td>Indigenous production</td><td>Indigenous production_Feedstocks</td><td>201601</td><td>116.17</td><td>ET_3.1_SEP_24.xlsx</td><td>08/10/2024</td></tr><tr><td>Indigenous production</td><td>Indigenous production_Feedstocks</td><td>201602</td><td>105.07</td><td>ET_3.1_SEP_24.xlsx</td><td>08/10/2024</td></tr><tr><td>Indigenous production</td><td>Indigenous production_Feedstocks</td><td>201603</td><td>99.99</td><td>ET_3.1_SEP_24.xlsx</td><td>08/10/2024</td></tr><tr><td>Indigenous production</td><td>Indigenous production_Feedstocks</td><td>201604</td><td>106.25</td><td>ET_3.1_SEP_24.xlsx</td><td>08/10/2024</td></tr><tr><td>Indigenous production</td><td>Indigenous production_Feedstocks</td><td>201701</td><td>115.72</td><td>ET_3.1_SEP_24.xlsx</td><td>08/10/2024</td></tr><tr><td>Indigenous production</td><td>Indigenous production_Feedstocks</td><td>201702</td><td>103.29</td><td>ET_3.1_SEP_24.xlsx</td><td>08/10/2024</td></tr><tr><td>Indigenous production</td><td>Indigenous production_Feedstocks</td><td>201703</td><td>100.38</td><td>ET_3.1_SEP_24.xlsx</td><td>08/10/2024</td></tr><tr><td>Indigenous production</td><td>Indigenous production_Feedstocks</td><td>201704</td><td>99.58</td><td>ET_3.1_SEP_24.xlsx</td><td>08/10/2024</td></tr><tr><td>Indigenous production</td><td>Indigenous production_Feedstocks</td><td>201801</td><td>100.1</td><td>ET_3.1_SEP_24.xlsx</td><td>08/10/2024</td></tr><tr><td>Indigenous production</td><td>Indigenous production_Feedstocks</td><td>201802</td><td>98.77</td><td>ET_3.1_SEP_24.xlsx</td><td>08/10/2024</td></tr><tr><td>Indigenous production</td><td>Indigenous production_Feedstocks</td><td>201803</td><td>98.75</td><td>ET_3.1_SEP_24.xlsx</td><td>08/10/2024</td></tr><tr><td>Indigenous production</td><td>Indigenous production_Feedstocks</td><td>201804</td><td>65.57</td><td>ET_3.1_SEP_24.xlsx</td><td>08/10/2024</td></tr><tr><td>Indigenous production</td><td>Indigenous production_Feedstocks</td><td>201901</td><td>103.25</td><td>ET_3.1_SEP_24.xlsx</td><td>08/10/2024</td></tr><tr><td>Indigenous production</td><td>Indigenous production_Feedstocks</td><td>201902</td><td>70.85</td><td>ET_3.1_SEP_24.xlsx</td><td>08/10/2024</td></tr><tr><td>Indigenous production</td><td>Indigenous production_Feedstocks</td><td>201903</td><td>100.22</td><td>ET_3.1_SEP_24.xlsx</td><td>08/10/2024</td></tr><tr><td>Indigenous production</td><td>Indigenous production_Feedstocks</td><td>201904</td><td>93.49</td><td>ET_3.1_SEP_24.xlsx</td><td>08/10/2024</td></tr><tr><td>Indigenous production</td><td>Indigenous production_Feedstocks</td><td>202001</td><td>118.39</td><td>ET_3.1_SEP_24.xlsx</td><td>08/10/2024</td></tr><tr><td>Indigenous production</td><td>Indigenous production_Feedstocks</td><td>202002</td><td>76.27</td><td>ET_3.1_SEP_24.xlsx</td><td>08/10/2024</td></tr><tr><td>Indigenous production</td><td>Indigenous production_Feedstocks</td><td>202003</td><td>68.46</td><td>ET_3.1_SEP_24.xlsx</td><td>08/10/2024</td></tr><tr><td>Indigenous production</td><td>Indigenous production_Feedstocks</td><td>202004</td><td>113.12</td><td>ET_3.1_SEP_24.xlsx</td><td>08/10/2024</td></tr><tr><td>Indigenous production</td><td>Indigenous production_Feedstocks</td><td>202101</td><td>85.53</td><td>ET_3.1_SEP_24.xlsx</td><td>08/10/2024</td></tr><tr><td>Indigenous production</td><td>Indigenous production_Feedstocks</td><td>202102</td><td>75.08</td><td>ET_3.1_SEP_24.xlsx</td><td>08/10/2024</td></tr><tr><td>Indigenous production</td><td>Indigenous production_Feedstocks</td><td>202103</td><td>68.45</td><td>ET_3.1_SEP_24.xlsx</td><td>08/10/2024</td></tr><tr><td>Indigenous production</td><td>Indigenous production_Feedstocks</td><td>202104</td><td>69.69</td><td>ET_3.1_SEP_24.xlsx</td><td>08/10/2024</td></tr><tr><td>Indigenous production</td><td>Indigenous production_Feedstocks</td><td>202201</td><td>73.69</td><td>ET_3.1_SEP_24.xlsx</td><td>08/10/2024</td></tr><tr><td>Indigenous production</td><td>Indigenous production_Feedstocks</td><td>202202</td><td>67.41</td><td>ET_3.1_SEP_24.xlsx</td><td>08/10/2024</td></tr><tr><td>Indigenous production</td><td>Indigenous production_Feedstocks</td><td>202203</td><td>73.56</td><td>ET_3.1_SEP_24.xlsx</td><td>08/10/2024</td></tr><tr><td>Indigenous production</td><td>Indigenous production_Feedstocks</td><td>202204</td><td>69.94</td><td>ET_3.1_SEP_24.xlsx</td><td>08/10/2024</td></tr><tr><td>Indigenous production</td><td>Indigenous production_Feedstocks</td><td>202301</td><td>98.17</td><td>ET_3.1_SEP_24.xlsx</td><td>08/10/2024</td></tr><tr><td>Indigenous production</td><td>Indigenous production_Feedstocks</td><td>202302</td><td>59.8</td><td>ET_3.1_SEP_24.xlsx</td><td>08/10/2024</td></tr><tr><td>Indigenous production</td><td>Indigenous production_Feedstocks</td><td>202303</td><td>69.87</td><td>ET_3.1_SEP_24.xlsx</td><td>08/10/2024</td></tr><tr><td>Indigenous production</td><td>Indigenous production_Feedstocks</td><td>202304</td><td>80.91</td><td>ET_3.1_SEP_24.xlsx</td><td>08/10/2024</td></tr><tr><td>Indigenous production</td><td>Indigenous production_Feedstocks</td><td>202401</td><td>82.32</td><td>ET_3.1_SEP_24.xlsx</td><td>08/10/2024</td></tr><tr><td>Indigenous production</td><td>Indigenous production_Feedstocks</td><td>202402</td><td>82.31</td><td>ET_3.1_SEP_24.xlsx</td><td>08/10/2024</td></tr><tr><td>Imports</td><td>Imports</td><td>199901</td><td>10086.68</td><td>ET_3.1_SEP_24.xlsx</td><td>08/10/2024</td></tr><tr><td>Imports</td><td>Imports</td><td>199902</td><td>10889.88</td><td>ET_3.1_SEP_24.xlsx</td><td>08/10/2024</td></tr><tr><td>Imports</td><td>Imports</td><td>199903</td><td>11828.64</td><td>ET_3.1_SEP_24.xlsx</td><td>08/10/2024</td></tr><tr><td>Imports</td><td>Imports</td><td>199904</td><td>12063.8</td><td>ET_3.1_SEP_24.xlsx</td><td>08/10/2024</td></tr><tr><td>Imports</td><td>Imports</td><td>200001</td><td>13161.13</td><td>ET_3.1_SEP_24.xlsx</td><td>08/10/2024</td></tr><tr><td>Imports</td><td>Imports</td><td>200002</td><td>13623.23</td><td>ET_3.1_SEP_24.xlsx</td><td>08/10/2024</td></tr><tr><td>Imports</td><td>Imports</td><td>200003</td><td>14267.78</td><td>ET_3.1_SEP_24.xlsx</td><td>08/10/2024</td></tr><tr><td>Imports</td><td>Imports</td><td>200004</td><td>13334.15</td><td>ET_3.1_SEP_24.xlsx</td><td>08/10/2024</td></tr><tr><td>Imports</td><td>Imports</td><td>200101</td><td>12485.16</td><td>ET_3.1_SEP_24.xlsx</td><td>08/10/2024</td></tr><tr><td>Imports</td><td>Imports</td><td>200102</td><td>11532.77</td><td>ET_3.1_SEP_24.xlsx</td><td>08/10/2024</td></tr><tr><td>Imports</td><td>Imports</td><td>200103</td><td>14419.66</td><td>ET_3.1_SEP_24.xlsx</td><td>08/10/2024</td></tr><tr><td>Imports</td><td>Imports</td><td>200104</td><td>15113.84</td><td>ET_3.1_SEP_24.xlsx</td><td>08/10/2024</td></tr><tr><td>Imports</td><td>Imports</td><td>200201</td><td>13947.62</td><td>ET_3.1_SEP_24.xlsx</td><td>08/10/2024</td></tr><tr><td>Imports</td><td>Imports</td><td>200202</td><td>17235.98</td><td>ET_3.1_SEP_24.xlsx</td><td>08/10/2024</td></tr><tr><td>Imports</td><td>Imports</td><td>200203</td><td>13317.76</td><td>ET_3.1_SEP_24.xlsx</td><td>08/10/2024</td></tr><tr><td>Imports</td><td>Imports</td><td>200204</td><td>12466.56</td><td>ET_3.1_SEP_24.xlsx</td><td>08/10/2024</td></tr><tr><td>Imports</td><td>Imports</td><td>200301</td><td>13604.71</td><td>ET_3.1_SEP_24.xlsx</td><td>08/10/2024</td></tr><tr><td>Imports</td><td>Imports</td><td>200302</td><td>12997.09</td><td>ET_3.1_SEP_24.xlsx</td><td>08/10/2024</td></tr><tr><td>Imports</td><td>Imports</td><td>200303</td><td>14235.32</td><td>ET_3.1_SEP_24.xlsx</td><td>08/10/2024</td></tr><tr><td>Imports</td><td>Imports</td><td>200304</td><td>13340.21</td><td>ET_3.1_SEP_24.xlsx</td><td>08/10/2024</td></tr><tr><td>Imports</td><td>Imports</td><td>200401</td><td>14963.47</td><td>ET_3.1_SEP_24.xlsx</td><td>08/10/2024</td></tr><tr><td>Imports</td><td>Imports</td><td>200402</td><td>15665.53</td><td>ET_3.1_SEP_24.xlsx</td><td>08/10/2024</td></tr><tr><td>Imports</td><td>Imports</td><td>200403</td><td>16439.68</td><td>ET_3.1_SEP_24.xlsx</td><td>08/10/2024</td></tr><tr><td>Imports</td><td>Imports</td><td>200404</td><td>15447.55</td><td>ET_3.1_SEP_24.xlsx</td><td>08/10/2024</td></tr><tr><td>Imports</td><td>Imports</td><td>200501</td><td>13693.84</td><td>ET_3.1_SEP_24.xlsx</td><td>08/10/2024</td></tr><tr><td>Imports</td><td>Imports</td><td>200502</td><td>15796.26</td><td>ET_3.1_SEP_24.xlsx</td><td>08/10/2024</td></tr><tr><td>Imports</td><td>Imports</td><td>200503</td><td>15551.58</td><td>ET_3.1_SEP_24.xlsx</td><td>08/10/2024</td></tr><tr><td>Imports</td><td>Imports</td><td>200504</td><td>13843.46</td><td>ET_3.1_SEP_24.xlsx</td><td>08/10/2024</td></tr><tr><td>Imports</td><td>Imports</td><td>200601</td><td>14157.74</td><td>ET_3.1_SEP_24.xlsx</td><td>08/10/2024</td></tr><tr><td>Imports</td><td>Imports</td><td>200602</td><td>15490.02</td><td>ET_3.1_SEP_24.xlsx</td><td>08/10/2024</td></tr><tr><td>Imports</td><td>Imports</td><td>200603</td><td>15413.99</td><td>ET_3.1_SEP_24.xlsx</td><td>08/10/2024</td></tr><tr><td>Imports</td><td>Imports</td><td>200604</td><td>14381.4</td><td>ET_3.1_SEP_24.xlsx</td><td>08/10/2024</td></tr><tr><td>Imports</td><td>Imports</td><td>200701</td><td>12861.29</td><td>ET_3.1_SEP_24.xlsx</td><td>08/10/2024</td></tr><tr><td>Imports</td><td>Imports</td><td>200702</td><td>13635.38</td><td>ET_3.1_SEP_24.xlsx</td><td>08/10/2024</td></tr><tr><td>Imports</td><td>Imports</td><td>200703</td><td>16288.33</td><td>ET_3.1_SEP_24.xlsx</td><td>08/10/2024</td></tr><tr><td>Imports</td><td>Imports</td><td>200704</td><td>14571.74</td><td>ET_3.1_SEP_24.xlsx</td><td>08/10/2024</td></tr><tr><td>Imports</td><td>Imports</td><td>200801</td><td>14074.2</td><td>ET_3.1_SEP_24.xlsx</td><td>08/10/2024</td></tr><tr><td>Imports</td><td>Imports</td><td>200802</td><td>15615.04</td><td>ET_3.1_SEP_24.xlsx</td><td>08/10/2024</td></tr><tr><td>Imports</td><td>Imports</td><td>200803</td><td>16002.17</td><td>ET_3.1_SEP_24.xlsx</td><td>08/10/2024</td></tr><tr><td>Imports</td><td>Imports</td><td>200804</td><td>14643.46</td><td>ET_3.1_SEP_24.xlsx</td><td>08/10/2024</td></tr><tr><td>Imports</td><td>Imports</td><td>200901</td><td>13303.79</td><td>ET_3.1_SEP_24.xlsx</td><td>08/10/2024</td></tr><tr><td>Imports</td><td>Imports</td><td>200902</td><td>13486.32</td><td>ET_3.1_SEP_24.xlsx</td><td>08/10/2024</td></tr><tr><td>Imports</td><td>Imports</td><td>200903</td><td>14630.91</td><td>ET_3.1_SEP_24.xlsx</td><td>08/10/2024</td></tr><tr><td>Imports</td><td>Imports</td><td>200904</td><td>13581.25</td><td>ET_3.1_SEP_24.xlsx</td><td>08/10/2024</td></tr><tr><td>Imports</td><td>Imports</td><td>201001</td><td>12555.09</td><td>ET_3.1_SEP_24.xlsx</td><td>08/10/2024</td></tr><tr><td>Imports</td><td>Imports</td><td>201002</td><td>14734.4</td><td>ET_3.1_SEP_24.xlsx</td><td>08/10/2024</td></tr><tr><td>Imports</td><td>Imports</td><td>201003</td><td>13659.78</td><td>ET_3.1_SEP_24.xlsx</td><td>08/10/2024</td></tr><tr><td>Imports</td><td>Imports</td><td>201004</td><td>14114.73</td><td>ET_3.1_SEP_24.xlsx</td><td>08/10/2024</td></tr><tr><td>Imports</td><td>Imports</td><td>201101</td><td>14088.54</td><td>ET_3.1_SEP_24.xlsx</td><td>08/10/2024</td></tr><tr><td>Imports</td><td>Imports</td><td>201102</td><td>13887.91</td><td>ET_3.1_SEP_24.xlsx</td><td>08/10/2024</td></tr><tr><td>Imports</td><td>Imports</td><td>201103</td><td>15296.26</td><td>ET_3.1_SEP_24.xlsx</td><td>08/10/2024</td></tr><tr><td>Imports</td><td>Imports</td><td>201104</td><td>14819.59</td><td>ET_3.1_SEP_24.xlsx</td><td>08/10/2024</td></tr><tr><td>Imports</td><td>Imports</td><td>201201</td><td>15574.9</td><td>ET_3.1_SEP_24.xlsx</td><td>08/10/2024</td></tr><tr><td>Imports</td><td>Imports</td><td>201202</td><td>16203.91</td><td>ET_3.1_SEP_24.xlsx</td><td>08/10/2024</td></tr><tr><td>Imports</td><td>Imports</td><td>201203</td><td>15078.08</td><td>ET_3.1_SEP_24.xlsx</td><td>08/10/2024</td></tr><tr><td>Imports</td><td>Imports</td><td>201204</td><td>13618.82</td><td>ET_3.1_SEP_24.xlsx</td><td>08/10/2024</td></tr><tr><td>Imports</td><td>Imports</td><td>201301</td><td>14510.54</td><td>ET_3.1_SEP_24.xlsx</td><td>08/10/2024</td></tr><tr><td>Imports</td><td>Imports</td><td>201302</td><td>16344.48</td><td>ET_3.1_SEP_24.xlsx</td><td>08/10/2024</td></tr><tr><td>Imports</td><td>Imports</td><td>201303</td><td>15145.4</td><td>ET_3.1_SEP_24.xlsx</td><td>08/10/2024</td></tr><tr><td>Imports</td><td>Imports</td><td>201304</td><td>12966.32</td><td>ET_3.1_SEP_24.xlsx</td><td>08/10/2024</td></tr><tr><td>Imports</td><td>Imports</td><td>201401</td><td>13017.95</td><td>ET_3.1_SEP_24.xlsx</td><td>08/10/2024</td></tr><tr><td>Imports</td><td>Imports</td><td>201402</td><td>12481.25</td><td>ET_3.1_SEP_24.xlsx</td><td>08/10/2024</td></tr><tr><td>Imports</td><td>Imports</td><td>201403</td><td>13963.97</td><td>ET_3.1_SEP_24.xlsx</td><td>08/10/2024</td></tr><tr><td>Imports</td><td>Imports</td><td>201404</td><td>14174.37</td><td>ET_3.1_SEP_24.xlsx</td><td>08/10/2024</td></tr><tr><td>Imports</td><td>Imports</td><td>201501</td><td>12037.06</td><td>ET_3.1_SEP_24.xlsx</td><td>08/10/2024</td></tr><tr><td>Imports</td><td>Imports</td><td>201502</td><td>12034.81</td><td>ET_3.1_SEP_24.xlsx</td><td>08/10/2024</td></tr><tr><td>Imports</td><td>Imports</td><td>201503</td><td>12979.05</td><td>ET_3.1_SEP_24.xlsx</td><td>08/10/2024</td></tr><tr><td>Imports</td><td>Imports</td><td>201504</td><td>13548.09</td><td>ET_3.1_SEP_24.xlsx</td><td>08/10/2024</td></tr><tr><td>Imports</td><td>Imports</td><td>201601</td><td>11478.57</td><td>ET_3.1_SEP_24.xlsx</td><td>08/10/2024</td></tr><tr><td>Imports</td><td>Imports</td><td>201602</td><td>11846.32</td><td>ET_3.1_SEP_24.xlsx</td><td>08/10/2024</td></tr><tr><td>Imports</td><td>Imports</td><td>201603</td><td>12328.09</td><td>ET_3.1_SEP_24.xlsx</td><td>08/10/2024</td></tr><tr><td>Imports</td><td>Imports</td><td>201604</td><td>13136.07</td><td>ET_3.1_SEP_24.xlsx</td><td>08/10/2024</td></tr><tr><td>Imports</td><td>Imports</td><td>201701</td><td>12476.31</td><td>ET_3.1_SEP_24.xlsx</td><td>08/10/2024</td></tr><tr><td>Imports</td><td>Imports</td><td>201702</td><td>13703.33</td><td>ET_3.1_SEP_24.xlsx</td><td>08/10/2024</td></tr><tr><td>Imports</td><td>Imports</td><td>201703</td><td>13990.96</td><td>ET_3.1_SEP_24.xlsx</td><td>08/10/2024</td></tr><tr><td>Imports</td><td>Imports</td><td>201704</td><td>13120.2</td><td>ET_3.1_SEP_24.xlsx</td><td>08/10/2024</td></tr><tr><td>Imports</td><td>Imports</td><td>201801</td><td>11265.55</td><td>ET_3.1_SEP_24.xlsx</td><td>08/10/2024</td></tr><tr><td>Imports</td><td>Imports</td><td>201802</td><td>13303.83</td><td>ET_3.1_SEP_24.xlsx</td><td>08/10/2024</td></tr><tr><td>Imports</td><td>Imports</td><td>201803</td><td>13696.2</td><td>ET_3.1_SEP_24.xlsx</td><td>08/10/2024</td></tr><tr><td>Imports</td><td>Imports</td><td>201804</td><td>14002.36</td><td>ET_3.1_SEP_24.xlsx</td><td>08/10/2024</td></tr><tr><td>Imports</td><td>Imports</td><td>201901</td><td>12977.07</td><td>ET_3.1_SEP_24.xlsx</td><td>08/10/2024</td></tr><tr><td>Imports</td><td>Imports</td><td>201902</td><td>13055.67</td><td>ET_3.1_SEP_24.xlsx</td><td>08/10/2024</td></tr><tr><td>Imports</td><td>Imports</td><td>201903</td><td>12455.19</td><td>ET_3.1_SEP_24.xlsx</td><td>08/10/2024</td></tr><tr><td>Imports</td><td>Imports</td><td>201904</td><td>13060.99</td><td>ET_3.1_SEP_24.xlsx</td><td>08/10/2024</td></tr><tr><td>Imports</td><td>Imports</td><td>202001</td><td>11675.15</td><td>ET_3.1_SEP_24.xlsx</td><td>08/10/2024</td></tr><tr><td>Imports</td><td>Imports</td><td>202002</td><td>7850.43</td><td>ET_3.1_SEP_24.xlsx</td><td>08/10/2024</td></tr><tr><td>Imports</td><td>Imports</td><td>202003</td><td>9821.8</td><td>ET_3.1_SEP_24.xlsx</td><td>08/10/2024</td></tr><tr><td>Imports</td><td>Imports</td><td>202004</td><td>10226.07</td><td>ET_3.1_SEP_24.xlsx</td><td>08/10/2024</td></tr><tr><td>Imports</td><td>Imports</td><td>202101</td><td>7322.32</td><td>ET_3.1_SEP_24.xlsx</td><td>08/10/2024</td></tr><tr><td>Imports</td><td>Imports</td><td>202102</td><td>10822.61</td><td>ET_3.1_SEP_24.xlsx</td><td>08/10/2024</td></tr><tr><td>Imports</td><td>Imports</td><td>202103</td><td>11289.28</td><td>ET_3.1_SEP_24.xlsx</td><td>08/10/2024</td></tr><tr><td>Imports</td><td>Imports</td><td>202104</td><td>12297.17</td><td>ET_3.1_SEP_24.xlsx</td><td>08/10/2024</td></tr><tr><td>Imports</td><td>Imports</td><td>202201</td><td>11891.97</td><td>ET_3.1_SEP_24.xlsx</td><td>08/10/2024</td></tr><tr><td>Imports</td><td>Imports</td><td>202202</td><td>11209.06</td><td>ET_3.1_SEP_24.xlsx</td><td>08/10/2024</td></tr><tr><td>Imports</td><td>Imports</td><td>202203</td><td>11961.95</td><td>ET_3.1_SEP_24.xlsx</td><td>08/10/2024</td></tr><tr><td>Imports</td><td>Imports</td><td>202204</td><td>11535.01</td><td>ET_3.1_SEP_24.xlsx</td><td>08/10/2024</td></tr><tr><td>Imports</td><td>Imports</td><td>202301</td><td>11858.07</td><td>ET_3.1_SEP_24.xlsx</td><td>08/10/2024</td></tr><tr><td>Imports</td><td>Imports</td><td>202302</td><td>11014.69</td><td>ET_3.1_SEP_24.xlsx</td><td>08/10/2024</td></tr><tr><td>Imports</td><td>Imports</td><td>202303</td><td>11991.17</td><td>ET_3.1_SEP_24.xlsx</td><td>08/10/2024</td></tr><tr><td>Imports</td><td>Imports</td><td>202304</td><td>10772.25</td><td>ET_3.1_SEP_24.xlsx</td><td>08/10/2024</td></tr><tr><td>Imports</td><td>Imports</td><td>202401</td><td>10993.1</td><td>ET_3.1_SEP_24.xlsx</td><td>08/10/2024</td></tr><tr><td>Imports</td><td>Imports</td><td>202402</td><td>11967.7</td><td>ET_3.1_SEP_24.xlsx</td><td>08/10/2024</td></tr><tr><td>Imports</td><td>Imports_Crude oil & NGLs</td><td>199901</td><td>8937.42</td><td>ET_3.1_SEP_24.xlsx</td><td>08/10/2024</td></tr><tr><td>Imports</td><td>Imports_Crude oil & NGLs</td><td>199902</td><td>9397.88</td><td>ET_3.1_SEP_24.xlsx</td><td>08/10/2024</td></tr><tr><td>Imports</td><td>Imports_Crude oil & NGLs</td><td>199903</td><td>10350.26</td><td>ET_3.1_SEP_24.xlsx</td><td>08/10/2024</td></tr><tr><td>Imports</td><td>Imports_Crude oil & NGLs</td><td>199904</td><td>10635.45</td><td>ET_3.1_SEP_24.xlsx</td><td>08/10/2024</td></tr><tr><td>Imports</td><td>Imports_Crude oil & NGLs</td><td>200001</td><td>11813.79</td><td>ET_3.1_SEP_24.xlsx</td><td>08/10/2024</td></tr><tr><td>Imports</td><td>Imports_Crude oil & NGLs</td><td>200002</td><td>11981.42</td><td>ET_3.1_SEP_24.xlsx</td><td>08/10/2024</td></tr><tr><td>Imports</td><td>Imports_Crude oil & NGLs</td><td>200003</td><td>12900.9</td><td>ET_3.1_SEP_24.xlsx</td><td>08/10/2024</td></tr><tr><td>Imports</td><td>Imports_Crude oil & NGLs</td><td>200004</td><td>12171.58</td><td>ET_3.1_SEP_24.xlsx</td><td>08/10/2024</td></tr><tr><td>Imports</td><td>Imports_Crude oil & NGLs</td><td>200101</td><td>11638.03</td><td>ET_3.1_SEP_24.xlsx</td><td>08/10/2024</td></tr><tr><td>Imports</td><td>Imports_Crude oil & NGLs</td><td>200102</td><td>10597.78</td><td>ET_3.1_SEP_24.xlsx</td><td>08/10/2024</td></tr><tr><td>Imports</td><td>Imports_Crude oil & NGLs</td><td>200103</td><td>12922.38</td><td>ET_3.1_SEP_24.xlsx</td><td>08/10/2024</td></tr><tr><td>Imports</td><td>Imports_Crude oil & NGLs</td><td>200104</td><td>13834.09</td><td>ET_3.1_SEP_24.xlsx</td><td>08/10/2024</td></tr><tr><td>Imports</td><td>Imports_Crude oil & NGLs</td><td>200201</td><td>13091.31</td><td>ET_3.1_SEP_24.xlsx</td><td>08/10/2024</td></tr><tr><td>Imports</td><td>Imports_Crude oil & NGLs</td><td>200202</td><td>15936.11</td><td>ET_3.1_SEP_24.xlsx</td><td>08/10/2024</td></tr><tr><td>Imports</td><td>Imports_Crude oil & NGLs</td><td>200203</td><td>11743.78</td><td>ET_3.1_SEP_24.xlsx</td><td>08/10/2024</td></tr><tr><td>Imports</td><td>Imports_Crude oil & NGLs</td><td>200204</td><td>11270.34</td><td>ET_3.1_SEP_24.xlsx</td><td>08/10/2024</td></tr><tr><td>Imports</td><td>Imports_Crude oil & NGLs</td><td>200301</td><td>12247.22</td><td>ET_3.1_SEP_24.xlsx</td><td>08/10/2024</td></tr><tr><td>Imports</td><td>Imports_Crude oil & NGLs</td><td>200302</td><td>11393.84</td><td>ET_3.1_SEP_24.xlsx</td><td>08/10/2024</td></tr><tr><td>Imports</td><td>Imports_Crude oil & NGLs</td><td>200303</td><td>12883.1</td><td>ET_3.1_SEP_24.xlsx</td><td>08/10/2024</td></tr><tr><td>Imports</td><td>Imports_Crude oil & NGLs</td><td>200304</td><td>12064.76</td><td>ET_3.1_SEP_24.xlsx</td><td>08/10/2024</td></tr><tr><td>Imports</td><td>Imports_Crude oil & NGLs</td><td>200401</td><td>13357.12</td><td>ET_3.1_SEP_24.xlsx</td><td>08/10/2024</td></tr><tr><td>Imports</td><td>Imports_Crude oil & NGLs</td><td>200402</td><td>14064.01</td><td>ET_3.1_SEP_24.xlsx</td><td>08/10/2024</td></tr><tr><td>Imports</td><td>Imports_Crude oil & NGLs</td><td>200403</td><td>14445.68</td><td>ET_3.1_SEP_24.xlsx</td><td>08/10/2024</td></tr><tr><td>Imports</td><td>Imports_Crude oil & NGLs</td><td>200404</td><td>13990.72</td><td>ET_3.1_SEP_24.xlsx</td><td>08/10/2024</td></tr><tr><td>Imports</td><td>Imports_Crude oil & NGLs</td><td>200501</td><td>12468.67</td><td>ET_3.1_SEP_24.xlsx</td><td>08/10/2024</td></tr><tr><td>Imports</td><td>Imports_Crude oil & NGLs</td><td>200502</td><td>13896.03</td><td>ET_3.1_SEP_24.xlsx</td><td>08/10/2024</td></tr><tr><td>Imports</td><td>Imports_Crude oil & NGLs</td><td>200503</td><td>13655.79</td><td>ET_3.1_SEP_24.xlsx</td><td>08/10/2024</td></tr><tr><td>Imports</td><td>Imports_Crude oil & NGLs</td><td>200504</td><td>12190.0</td><td>ET_3.1_SEP_24.xlsx</td><td>08/10/2024</td></tr><tr><td>Imports</td><td>Imports_Crude oil & NGLs</td><td>200601</td><td>12385.74</td><td>ET_3.1_SEP_24.xlsx</td><td>08/10/2024</td></tr><tr><td>Imports</td><td>Imports_Crude oil & NGLs</td><td>200602</td><td>13336.78</td><td>ET_3.1_SEP_24.xlsx</td><td>08/10/2024</td></tr><tr><td>Imports</td><td>Imports_Crude oil & NGLs</td><td>200603</td><td>13656.53</td><td>ET_3.1_SEP_24.xlsx</td><td>08/10/2024</td></tr><tr><td>Imports</td><td>Imports_Crude oil & NGLs</td><td>200604</td><td>12067.33</td><td>ET_3.1_SEP_24.xlsx</td><td>08/10/2024</td></tr><tr><td>Imports</td><td>Imports_Crude oil & NGLs</td><td>200701</td><td>11315.07</td><td>ET_3.1_SEP_24.xlsx</td><td>08/10/2024</td></tr><tr><td>Imports</td><td>Imports_Crude oil & NGLs</td><td>200702</td><td>11465.43</td><td>ET_3.1_SEP_24.xlsx</td><td>08/10/2024</td></tr><tr><td>Imports</td><td>Imports_Crude oil & NGLs</td><td>200703</td><td>14161.54</td><td>ET_3.1_SEP_24.xlsx</td><td>08/10/2024</td></tr><tr><td>Imports</td><td>Imports_Crude oil & NGLs</td><td>200704</td><td>13208.55</td><td>ET_3.1_SEP_24.xlsx</td><td>08/10/2024</td></tr><tr><td>Imports</td><td>Imports_Crude oil & NGLs</td><td>200801</td><td>11868.76</td><td>ET_3.1_SEP_24.xlsx</td><td>08/10/2024</td></tr><tr><td>Imports</td><td>Imports_Crude oil & NGLs</td><td>200802</td><td>13539.34</td><td>ET_3.1_SEP_24.xlsx</td><td>08/10/2024</td></tr><tr><td>Imports</td><td>Imports_Crude oil & NGLs</td><td>200803</td><td>14033.99</td><td>ET_3.1_SEP_24.xlsx</td><td>08/10/2024</td></tr><tr><td>Imports</td><td>Imports_Crude oil & NGLs</td><td>200804</td><td>12966.83</td><td>ET_3.1_SEP_24.xlsx</td><td>08/10/2024</td></tr><tr><td>Imports</td><td>Imports_Crude oil & NGLs</td><td>200901</td><td>11557.27</td><td>ET_3.1_SEP_24.xlsx</td><td>08/10/2024</td></tr><tr><td>Imports</td><td>Imports_Crude oil & NGLs</td><td>200902</td><td>11811.48</td><td>ET_3.1_SEP_24.xlsx</td><td>08/10/2024</td></tr><tr><td>Imports</td><td>Imports_Crude oil & NGLs</td><td>200903</td><td>12674.32</td><td>ET_3.1_SEP_24.xlsx</td><td>08/10/2024</td></tr><tr><td>Imports</td><td>Imports_Crude oil & NGLs</td><td>200904</td><td>12188.33</td><td>ET_3.1_SEP_24.xlsx</td><td>08/10/2024</td></tr><tr><td>Imports</td><td>Imports_Crude oil & NGLs</td><td>201001</td><td>11192.18</td><td>ET_3.1_SEP_24.xlsx</td><td>08/10/2024</td></tr><tr><td>Imports</td><td>Imports_Crude oil & NGLs</td><td>201002</td><td>13086.98</td><td>ET_3.1_SEP_24.xlsx</td><td>08/10/2024</td></tr><tr><td>Imports</td><td>Imports_Crude oil & NGLs</td><td>201003</td><td>12047.38</td><td>ET_3.1_SEP_24.xlsx</td><td>08/10/2024</td></tr><tr><td>Imports</td><td>Imports_Crude oil & NGLs</td><td>201004</td><td>12104.31</td><td>ET_3.1_SEP_24.xlsx</td><td>08/10/2024</td></tr><tr><td>Imports</td><td>Imports_Crude oil & NGLs</td><td>201101</td><td>12110.47</td><td>ET_3.1_SEP_24.xlsx</td><td>08/10/2024</td></tr><tr><td>Imports</td><td>Imports_Crude oil & NGLs</td><td>201102</td><td>12195.84</td><td>ET_3.1_SEP_24.xlsx</td><td>08/10/2024</td></tr><tr><td>Imports</td><td>Imports_Crude oil & NGLs</td><td>201103</td><td>13298.01</td><td>ET_3.1_SEP_24.xlsx</td><td>08/10/2024</td></tr><tr><td>Imports</td><td>Imports_Crude oil & NGLs</td><td>201104</td><td>13349.36</td><td>ET_3.1_SEP_24.xlsx</td><td>08/10/2024</td></tr><tr><td>Imports</td><td>Imports_Crude oil & NGLs</td><td>201201</td><td>14089.86</td><td>ET_3.1_SEP_24.xlsx</td><td>08/10/2024</td></tr><tr><td>Imports</td><td>Imports_Crude oil & NGLs</td><td>201202</td><td>14629.47</td><td>ET_3.1_SEP_24.xlsx</td><td>08/10/2024</td></tr><tr><td>Imports</td><td>Imports_Crude oil & NGLs</td><td>201203</td><td>13822.64</td><td>ET_3.1_SEP_24.xlsx</td><td>08/10/2024</td></tr><tr><td>Imports</td><td>Imports_Crude oil & NGLs</td><td>201204</td><td>12798.3</td><td>ET_3.1_SEP_24.xlsx</td><td>08/10/2024</td></tr><tr><td>Imports</td><td>Imports_Crude oil & NGLs</td><td>201301</td><td>12880.13</td><td>ET_3.1_SEP_24.xlsx</td><td>08/10/2024</td></tr><tr><td>Imports</td><td>Imports_Crude oil & NGLs</td><td>201302</td><td>14773.1</td><td>ET_3.1_SEP_24.xlsx</td><td>08/10/2024</td></tr><tr><td>Imports</td><td>Imports_Crude oil & NGLs</td><td>201303</td><td>13532.9</td><td>ET_3.1_SEP_24.xlsx</td><td>08/10/2024</td></tr><tr><td>Imports</td><td>Imports_Crude oil & NGLs</td><td>201304</td><td>11283.77</td><td>ET_3.1_SEP_24.xlsx</td><td>08/10/2024</td></tr><tr><td>Imports</td><td>Imports_Crude oil & NGLs</td><td>201401</td><td>11618.87</td><td>ET_3.1_SEP_24.xlsx</td><td>08/10/2024</td></tr><tr><td>Imports</td><td>Imports_Crude oil & NGLs</td><td>201402</td><td>11339.56</td><td>ET_3.1_SEP_24.xlsx</td><td>08/10/2024</td></tr><tr><td>Imports</td><td>Imports_Crude oil & NGLs</td><td>201403</td><td>12830.99</td><td>ET_3.1_SEP_24.xlsx</td><td>08/10/2024</td></tr><tr><td>Imports</td><td>Imports_Crude oil & NGLs</td><td>201404</td><td>13100.73</td><td>ET_3.1_SEP_24.xlsx</td><td>08/10/2024</td></tr><tr><td>Imports</td><td>Imports_Crude oil & NGLs</td><td>201501</td><td>10952.44</td><td>ET_3.1_SEP_24.xlsx</td><td>08/10/2024</td></tr><tr><td>Imports</td><td>Imports_Crude oil & NGLs</td><td>201502</td><td>10931.07</td><td>ET_3.1_SEP_24.xlsx</td><td>08/10/2024</td></tr><tr><td>Imports</td><td>Imports_Crude oil & NGLs</td><td>201503</td><td>11395.85</td><td>ET_3.1_SEP_24.xlsx</td><td>08/10/2024</td></tr><tr><td>Imports</td><td>Imports_Crude oil & NGLs</td><td>201504</td><td>12001.45</td><td>ET_3.1_SEP_24.xlsx</td><td>08/10/2024</td></tr><tr><td>Imports</td><td>Imports_Crude oil & NGLs</td><td>201601</td><td>9840.92</td><td>ET_3.1_SEP_24.xlsx</td><td>08/10/2024</td></tr><tr><td>Imports</td><td>Imports_Crude oil & NGLs</td><td>201602</td><td>10172.4</td><td>ET_3.1_SEP_24.xlsx</td><td>08/10/2024</td></tr><tr><td>Imports</td><td>Imports_Crude oil & NGLs</td><td>201603</td><td>10673.66</td><td>ET_3.1_SEP_24.xlsx</td><td>08/10/2024</td></tr><tr><td>Imports</td><td>Imports_Crude oil & NGLs</td><td>201604</td><td>11718.82</td><td>ET_3.1_SEP_24.xlsx</td><td>08/10/2024</td></tr><tr><td>Imports</td><td>Imports_Crude oil & NGLs</td><td>201701</td><td>10989.57</td><td>ET_3.1_SEP_24.xlsx</td><td>08/10/2024</td></tr><tr><td>Imports</td><td>Imports_Crude oil & NGLs</td><td>201702</td><td>11720.03</td><td>ET_3.1_SEP_24.xlsx</td><td>08/10/2024</td></tr><tr><td>Imports</td><td>Imports_Crude oil & NGLs</td><td>201703</td><td>12385.59</td><td>ET_3.1_SEP_24.xlsx</td><td>08/10/2024</td></tr><tr><td>Imports</td><td>Imports_Crude oil & NGLs</td><td>201704</td><td>11528.41</td><td>ET_3.1_SEP_24.xlsx</td><td>08/10/2024</td></tr><tr><td>Imports</td><td>Imports_Crude oil & NGLs</td><td>201801</td><td>9651.92</td><td>ET_3.1_SEP_24.xlsx</td><td>08/10/2024</td></tr><tr><td>Imports</td><td>Imports_Crude oil & NGLs</td><td>201802</td><td>11747.7</td><td>ET_3.1_SEP_24.xlsx</td><td>08/10/2024</td></tr><tr><td>Imports</td><td>Imports_Crude oil & NGLs</td><td>201803</td><td>11865.68</td><td>ET_3.1_SEP_24.xlsx</td><td>08/10/2024</td></tr><tr><td>Imports</td><td>Imports_Crude oil & NGLs</td><td>201804</td><td>12384.95</td><td>ET_3.1_SEP_24.xlsx</td><td>08/10/2024</td></tr><tr><td>Imports</td><td>Imports_Crude oil & NGLs</td><td>201901</td><td>11349.54</td><td>ET_3.1_SEP_24.xlsx</td><td>08/10/2024</td></tr><tr><td>Imports</td><td>Imports_Crude oil & NGLs</td><td>201902</td><td>11533.44</td><td>ET_3.1_SEP_24.xlsx</td><td>08/10/2024</td></tr><tr><td>Imports</td><td>Imports_Crude oil & NGLs</td><td>201903</td><td>10888.67</td><td>ET_3.1_SEP_24.xlsx</td><td>08/10/2024</td></tr><tr><td>Imports</td><td>Imports_Crude oil & NGLs</td><td>201904</td><td>11841.71</td><td>ET_3.1_SEP_24.xlsx</td><td>08/10/2024</td></tr><tr><td>Imports</td><td>Imports_Crude oil & NGLs</td><td>202001</td><td>11180.48</td><td>ET_3.1_SEP_24.xlsx</td><td>08/10/2024</td></tr><tr><td>Imports</td><td>Imports_Crude oil & NGLs</td><td>202002</td><td>7345.38</td><td>ET_3.1_SEP_24.xlsx</td><td>08/10/2024</td></tr><tr><td>Imports</td><td>Imports_Crude oil & NGLs</td><td>202003</td><td>9072.45</td><td>ET_3.1_SEP_24.xlsx</td><td>08/10/2024</td></tr><tr><td>Imports</td><td>Imports_Crude oil & NGLs</td><td>202004</td><td>9366.94</td><td>ET_3.1_SEP_24.xlsx</td><td>08/10/2024</td></tr><tr><td>Imports</td><td>Imports_Crude oil & NGLs</td><td>202101</td><td>6589.99</td><td>ET_3.1_SEP_24.xlsx</td><td>08/10/2024</td></tr><tr><td>Imports</td><td>Imports_Crude oil & NGLs</td><td>202102</td><td>9804.33</td><td>ET_3.1_SEP_24.xlsx</td><td>08/10/2024</td></tr><tr><td>Imports</td><td>Imports_Crude oil & NGLs</td><td>202103</td><td>10364.03</td><td>ET_3.1_SEP_24.xlsx</td><td>08/10/2024</td></tr><tr><td>Imports</td><td>Imports_Crude oil & NGLs</td><td>202104</td><td>11302.46</td><td>ET_3.1_SEP_24.xlsx</td><td>08/10/2024</td></tr><tr><td>Imports</td><td>Imports_Crude oil & NGLs</td><td>202201</td><td>10852.16</td><td>ET_3.1_SEP_24.xlsx</td><td>08/10/2024</td></tr><tr><td>Imports</td><td>Imports_Crude oil & NGLs</td><td>202202</td><td>10344.7</td><td>ET_3.1_SEP_24.xlsx</td><td>08/10/2024</td></tr><tr><td>Imports</td><td>Imports_Crude oil & NGLs</td><td>202203</td><td>11296.25</td><td>ET_3.1_SEP_24.xlsx</td><td>08/10/2024</td></tr><tr><td>Imports</td><td>Imports_Crude oil & NGLs</td><td>202204</td><td>10607.82</td><td>ET_3.1_SEP_24.xlsx</td><td>08/10/2024</td></tr><tr><td>Imports</td><td>Imports_Crude oil & NGLs</td><td>202301</td><td>10930.03</td><td>ET_3.1_SEP_24.xlsx</td><td>08/10/2024</td></tr><tr><td>Imports</td><td>Imports_Crude oil & NGLs</td><td>202302</td><td>10388.76</td><td>ET_3.1_SEP_24.xlsx</td><td>08/10/2024</td></tr><tr><td>Imports</td><td>Imports_Crude oil & NGLs</td><td>202303</td><td>10765.37</td><td>ET_3.1_SEP_24.xlsx</td><td>08/10/2024</td></tr><tr><td>Imports</td><td>Imports_Crude oil & NGLs</td><td>202304</td><td>9854.34</td><td>ET_3.1_SEP_24.xlsx</td><td>08/10/2024</td></tr><tr><td>Imports</td><td>Imports_Crude oil & NGLs</td><td>202401</td><td>10048.38</td><td>ET_3.1_SEP_24.xlsx</td><td>08/10/2024</td></tr><tr><td>Imports</td><td>Imports_Crude oil & NGLs</td><td>202402</td><td>11020.35</td><td>ET_3.1_SEP_24.xlsx</td><td>08/10/2024</td></tr><tr><td>Imports</td><td>Imports_Feedstocks</td><td>199901</td><td>1149.26</td><td>ET_3.1_SEP_24.xlsx</td><td>08/10/2024</td></tr><tr><td>Imports</td><td>Imports_Feedstocks</td><td>199902</td><td>1492.01</td><td>ET_3.1_SEP_24.xlsx</td><td>08/10/2024</td></tr><tr><td>Imports</td><td>Imports_Feedstocks</td><td>199903</td><td>1478.38</td><td>ET_3.1_SEP_24.xlsx</td><td>08/10/2024</td></tr><tr><td>Imports</td><td>Imports_Feedstocks</td><td>199904</td><td>1428.35</td><td>ET_3.1_SEP_24.xlsx</td><td>08/10/2024</td></tr><tr><td>Imports</td><td>Imports_Feedstocks</td><td>200001</td><td>1347.34</td><td>ET_3.1_SEP_24.xlsx</td><td>08/10/2024</td></tr><tr><td>Imports</td><td>Imports_Feedstocks</td><td>200002</td><td>1641.81</td><td>ET_3.1_SEP_24.xlsx</td><td>08/10/2024</td></tr><tr><td>Imports</td><td>Imports_Feedstocks</td><td>200003</td><td>1366.89</td><td>ET_3.1_SEP_24.xlsx</td><td>08/10/2024</td></tr><tr><td>Imports</td><td>Imports_Feedstocks</td><td>200004</td><td>1162.57</td><td>ET_3.1_SEP_24.xlsx</td><td>08/10/2024</td></tr><tr><td>Imports</td><td>Imports_Feedstocks</td><td>200101</td><td>847.14</td><td>ET_3.1_SEP_24.xlsx</td><td>08/10/2024</td></tr><tr><td>Imports</td><td>Imports_Feedstocks</td><td>200102</td><td>934.99</td><td>ET_3.1_SEP_24.xlsx</td><td>08/10/2024</td></tr><tr><td>Imports</td><td>Imports_Feedstocks</td><td>200103</td><td>1497.28</td><td>ET_3.1_SEP_24.xlsx</td><td>08/10/2024</td></tr><tr><td>Imports</td><td>Imports_Feedstocks</td><td>200104</td><td>1279.76</td><td>ET_3.1_SEP_24.xlsx</td><td>08/10/2024</td></tr><tr><td>Imports</td><td>Imports_Feedstocks</td><td>200201</td><td>856.31</td><td>ET_3.1_SEP_24.xlsx</td><td>08/10/2024</td></tr><tr><td>Imports</td><td>Imports_Feedstocks</td><td>200202</td><td>1299.87</td><td>ET_3.1_SEP_24.xlsx</td><td>08/10/2024</td></tr><tr><td>Imports</td><td>Imports_Feedstocks</td><td>200203</td><td>1573.99</td><td>ET_3.1_SEP_24.xlsx</td><td>08/10/2024</td></tr><tr><td>Imports</td><td>Imports_Feedstocks</td><td>200204</td><td>1196.22</td><td>ET_3.1_SEP_24.xlsx</td><td>08/10/2024</td></tr><tr><td>Imports</td><td>Imports_Feedstocks</td><td>200301</td><td>1357.49</td><td>ET_3.1_SEP_24.xlsx</td><td>08/10/2024</td></tr><tr><td>Imports</td><td>Imports_Feedstocks</td><td>200302</td><td>1603.25</td><td>ET_3.1_SEP_24.xlsx</td><td>08/10/2024</td></tr><tr><td>Imports</td><td>Imports_Feedstocks</td><td>200303</td><td>1352.22</td><td>ET_3.1_SEP_24.xlsx</td><td>08/10/2024</td></tr><tr><td>Imports</td><td>Imports_Feedstocks</td><td>200304</td><td>1275.45</td><td>ET_3.1_SEP_24.xlsx</td><td>08/10/2024</td></tr><tr><td>Imports</td><td>Imports_Feedstocks</td><td>200401</td><td>1606.35</td><td>ET_3.1_SEP_24.xlsx</td><td>08/10/2024</td></tr><tr><td>Imports</td><td>Imports_Feedstocks</td><td>200402</td><td>1601.52</td><td>ET_3.1_SEP_24.xlsx</td><td>08/10/2024</td></tr><tr><td>Imports</td><td>Imports_Feedstocks</td><td>200403</td><td>1994.0</td><td>ET_3.1_SEP_24.xlsx</td><td>08/10/2024</td></tr><tr><td>Imports</td><td>Imports_Feedstocks</td><td>200404</td><td>1456.84</td><td>ET_3.1_SEP_24.xlsx</td><td>08/10/2024</td></tr><tr><td>Imports</td><td>Imports_Feedstocks</td><td>200501</td><td>1225.16</td><td>ET_3.1_SEP_24.xlsx</td><td>08/10/2024</td></tr><tr><td>Imports</td><td>Imports_Feedstocks</td><td>200502</td><td>1900.23</td><td>ET_3.1_SEP_24.xlsx</td><td>08/10/2024</td></tr><tr><td>Imports</td><td>Imports_Feedstocks</td><td>200503</td><td>1895.79</td><td>ET_3.1_SEP_24.xlsx</td><td>08/10/2024</td></tr><tr><td>Imports</td><td>Imports_Feedstocks</td><td>200504</td><td>1653.46</td><td>ET_3.1_SEP_24.xlsx</td><td>08/10/2024</td></tr><tr><td>Imports</td><td>Imports_Feedstocks</td><td>200601</td><td>1772.0</td><td>ET_3.1_SEP_24.xlsx</td><td>08/10/2024</td></tr><tr><td>Imports</td><td>Imports_Feedstocks</td><td>200602</td><td>2153.24</td><td>ET_3.1_SEP_24.xlsx</td><td>08/10/2024</td></tr><tr><td>Imports</td><td>Imports_Feedstocks</td><td>200603</td><td>1757.46</td><td>ET_3.1_SEP_24.xlsx</td><td>08/10/2024</td></tr><tr><td>Imports</td><td>Imports_Feedstocks</td><td>200604</td><td>2314.08</td><td>ET_3.1_SEP_24.xlsx</td><td>08/10/2024</td></tr><tr><td>Imports</td><td>Imports_Feedstocks</td><td>200701</td><td>1546.22</td><td>ET_3.1_SEP_24.xlsx</td><td>08/10/2024</td></tr><tr><td>Imports</td><td>Imports_Feedstocks</td><td>200702</td><td>2169.94</td><td>ET_3.1_SEP_24.xlsx</td><td>08/10/2024</td></tr><tr><td>Imports</td><td>Imports_Feedstocks</td><td>200703</td><td>2126.78</td><td>ET_3.1_SEP_24.xlsx</td><td>08/10/2024</td></tr><tr><td>Imports</td><td>Imports_Feedstocks</td><td>200704</td><td>1363.19</td><td>ET_3.1_SEP_24.xlsx</td><td>08/10/2024</td></tr><tr><td>Imports</td><td>Imports_Feedstocks</td><td>200801</td><td>2205.44</td><td>ET_3.1_SEP_24.xlsx</td><td>08/10/2024</td></tr><tr><td>Imports</td><td>Imports_Feedstocks</td><td>200802</td><td>2075.7</td><td>ET_3.1_SEP_24.xlsx</td><td>08/10/2024</td></tr><tr><td>Imports</td><td>Imports_Feedstocks</td><td>200803</td><td>1968.18</td><td>ET_3.1_SEP_24.xlsx</td><td>08/10/2024</td></tr><tr><td>Imports</td><td>Imports_Feedstocks</td><td>200804</td><td>1676.62</td><td>ET_3.1_SEP_24.xlsx</td><td>08/10/2024</td></tr><tr><td>Imports</td><td>Imports_Feedstocks</td><td>200901</td><td>1746.52</td><td>ET_3.1_SEP_24.xlsx</td><td>08/10/2024</td></tr><tr><td>Imports</td><td>Imports_Feedstocks</td><td>200902</td><td>1674.84</td><td>ET_3.1_SEP_24.xlsx</td><td>08/10/2024</td></tr><tr><td>Imports</td><td>Imports_Feedstocks</td><td>200903</td><td>1956.59</td><td>ET_3.1_SEP_24.xlsx</td><td>08/10/2024</td></tr><tr><td>Imports</td><td>Imports_Feedstocks</td><td>200904</td><td>1392.92</td><td>ET_3.1_SEP_24.xlsx</td><td>08/10/2024</td></tr><tr><td>Imports</td><td>Imports_Feedstocks</td><td>201001</td><td>1362.91</td><td>ET_3.1_SEP_24.xlsx</td><td>08/10/2024</td></tr><tr><td>Imports</td><td>Imports_Feedstocks</td><td>201002</td><td>1647.42</td><td>ET_3.1_SEP_24.xlsx</td><td>08/10/2024</td></tr><tr><td>Imports</td><td>Imports_Feedstocks</td><td>201003</td><td>1612.41</td><td>ET_3.1_SEP_24.xlsx</td><td>08/10/2024</td></tr><tr><td>Imports</td><td>Imports_Feedstocks</td><td>201004</td><td>2010.43</td><td>ET_3.1_SEP_24.xlsx</td><td>08/10/2024</td></tr><tr><td>Imports</td><td>Imports_Feedstocks</td><td>201101</td><td>1978.07</td><td>ET_3.1_SEP_24.xlsx</td><td>08/10/2024</td></tr><tr><td>Imports</td><td>Imports_Feedstocks</td><td>201102</td><td>1692.07</td><td>ET_3.1_SEP_24.xlsx</td><td>08/10/2024</td></tr><tr><td>Imports</td><td>Imports_Feedstocks</td><td>201103</td><td>1998.26</td><td>ET_3.1_SEP_24.xlsx</td><td>08/10/2024</td></tr><tr><td>Imports</td><td>Imports_Feedstocks</td><td>201104</td><td>1470.23</td><td>ET_3.1_SEP_24.xlsx</td><td>08/10/2024</td></tr><tr><td>Imports</td><td>Imports_Feedstocks</td><td>201201</td><td>1485.04</td><td>ET_3.1_SEP_24.xlsx</td><td>08/10/2024</td></tr><tr><td>Imports</td><td>Imports_Feedstocks</td><td>201202</td><td>1574.44</td><td>ET_3.1_SEP_24.xlsx</td><td>08/10/2024</td></tr><tr><td>Imports</td><td>Imports_Feedstocks</td><td>201203</td><td>1255.43</td><td>ET_3.1_SEP_24.xlsx</td><td>08/10/2024</td></tr><tr><td>Imports</td><td>Imports_Feedstocks</td><td>201204</td><td>820.52</td><td>ET_3.1_SEP_24.xlsx</td><td>08/10/2024</td></tr><tr><td>Imports</td><td>Imports_Feedstocks</td><td>201301</td><td>1630.41</td><td>ET_3.1_SEP_24.xlsx</td><td>08/10/2024</td></tr><tr><td>Imports</td><td>Imports_Feedstocks</td><td>201302</td><td>1571.38</td><td>ET_3.1_SEP_24.xlsx</td><td>08/10/2024</td></tr><tr><td>Imports</td><td>Imports_Feedstocks</td><td>201303</td><td>1612.5</td><td>ET_3.1_SEP_24.xlsx</td><td>08/10/2024</td></tr><tr><td>Imports</td><td>Imports_Feedstocks</td><td>201304</td><td>1682.56</td><td>ET_3.1_SEP_24.xlsx</td><td>08/10/2024</td></tr><tr><td>Imports</td><td>Imports_Feedstocks</td><td>201401</td><td>1399.08</td><td>ET_3.1_SEP_24.xlsx</td><td>08/10/2024</td></tr><tr><td>Imports</td><td>Imports_Feedstocks</td><td>201402</td><td>1141.69</td><td>ET_3.1_SEP_24.xlsx</td><td>08/10/2024</td></tr><tr><td>Imports</td><td>Imports_Feedstocks</td><td>201403</td><td>1132.99</td><td>ET_3.1_SEP_24.xlsx</td><td>08/10/2024</td></tr><tr><td>Imports</td><td>Imports_Feedstocks</td><td>201404</td><td>1073.64</td><td>ET_3.1_SEP_24.xlsx</td><td>08/10/2024</td></tr><tr><td>Imports</td><td>Imports_Feedstocks</td><td>201501</td><td>1084.61</td><td>ET_3.1_SEP_24.xlsx</td><td>08/10/2024</td></tr><tr><td>Imports</td><td>Imports_Feedstocks</td><td>201502</td><td>1103.74</td><td>ET_3.1_SEP_24.xlsx</td><td>08/10/2024</td></tr><tr><td>Imports</td><td>Imports_Feedstocks</td><td>201503</td><td>1583.2</td><td>ET_3.1_SEP_24.xlsx</td><td>08/10/2024</td></tr><tr><td>Imports</td><td>Imports_Feedstocks</td><td>201504</td><td>1546.64</td><td>ET_3.1_SEP_24.xlsx</td><td>08/10/2024</td></tr><tr><td>Imports</td><td>Imports_Feedstocks</td><td>201601</td><td>1637.65</td><td>ET_3.1_SEP_24.xlsx</td><td>08/10/2024</td></tr><tr><td>Imports</td><td>Imports_Feedstocks</td><td>201602</td><td>1673.92</td><td>ET_3.1_SEP_24.xlsx</td><td>08/10/2024</td></tr><tr><td>Imports</td><td>Imports_Feedstocks</td><td>201603</td><td>1654.44</td><td>ET_3.1_SEP_24.xlsx</td><td>08/10/2024</td></tr><tr><td>Imports</td><td>Imports_Feedstocks</td><td>201604</td><td>1417.25</td><td>ET_3.1_SEP_24.xlsx</td><td>08/10/2024</td></tr><tr><td>Imports</td><td>Imports_Feedstocks</td><td>201701</td><td>1486.74</td><td>ET_3.1_SEP_24.xlsx</td><td>08/10/2024</td></tr><tr><td>Imports</td><td>Imports_Feedstocks</td><td>201702</td><td>1983.31</td><td>ET_3.1_SEP_24.xlsx</td><td>08/10/2024</td></tr><tr><td>Imports</td><td>Imports_Feedstocks</td><td>201703</td><td>1605.37</td><td>ET_3.1_SEP_24.xlsx</td><td>08/10/2024</td></tr><tr><td>Imports</td><td>Imports_Feedstocks</td><td>201704</td><td>1591.8</td><td>ET_3.1_SEP_24.xlsx</td><td>08/10/2024</td></tr><tr><td>Imports</td><td>Imports_Feedstocks</td><td>201801</td><td>1613.62</td><td>ET_3.1_SEP_24.xlsx</td><td>08/10/2024</td></tr><tr><td>Imports</td><td>Imports_Feedstocks</td><td>201802</td><td>1556.13</td><td>ET_3.1_SEP_24.xlsx</td><td>08/10/2024</td></tr><tr><td>Imports</td><td>Imports_Feedstocks</td><td>201803</td><td>1830.51</td><td>ET_3.1_SEP_24.xlsx</td><td>08/10/2024</td></tr><tr><td>Imports</td><td>Imports_Feedstocks</td><td>201804</td><td>1617.41</td><td>ET_3.1_SEP_24.xlsx</td><td>08/10/2024</td></tr><tr><td>Imports</td><td>Imports_Feedstocks</td><td>201901</td><td>1627.54</td><td>ET_3.1_SEP_24.xlsx</td><td>08/10/2024</td></tr><tr><td>Imports</td><td>Imports_Feedstocks</td><td>201902</td><td>1522.23</td><td>ET_3.1_SEP_24.xlsx</td><td>08/10/2024</td></tr><tr><td>Imports</td><td>Imports_Feedstocks</td><td>201903</td><td>1566.51</td><td>ET_3.1_SEP_24.xlsx</td><td>08/10/2024</td></tr><tr><td>Imports</td><td>Imports_Feedstocks</td><td>201904</td><td>1219.27</td><td>ET_3.1_SEP_24.xlsx</td><td>08/10/2024</td></tr><tr><td>Imports</td><td>Imports_Feedstocks</td><td>202001</td><td>494.67</td><td>ET_3.1_SEP_24.xlsx</td><td>08/10/2024</td></tr><tr><td>Imports</td><td>Imports_Feedstocks</td><td>202002</td><td>505.05</td><td>ET_3.1_SEP_24.xlsx</td><td>08/10/2024</td></tr><tr><td>Imports</td><td>Imports_Feedstocks</td><td>202003</td><td>749.35</td><td>ET_3.1_SEP_24.xlsx</td><td>08/10/2024</td></tr><tr><td>Imports</td><td>Imports_Feedstocks</td><td>202004</td><td>859.13</td><td>ET_3.1_SEP_24.xlsx</td><td>08/10/2024</td></tr><tr><td>Imports</td><td>Imports_Feedstocks</td><td>202101</td><td>732.34</td><td>ET_3.1_SEP_24.xlsx</td><td>08/10/2024</td></tr><tr><td>Imports</td><td>Imports_Feedstocks</td><td>202102</td><td>1018.29</td><td>ET_3.1_SEP_24.xlsx</td><td>08/10/2024</td></tr><tr><td>Imports</td><td>Imports_Feedstocks</td><td>202103</td><td>925.24</td><td>ET_3.1_SEP_24.xlsx</td><td>08/10/2024</td></tr><tr><td>Imports</td><td>Imports_Feedstocks</td><td>202104</td><td>994.71</td><td>ET_3.1_SEP_24.xlsx</td><td>08/10/2024</td></tr><tr><td>Imports</td><td>Imports_Feedstocks</td><td>202201</td><td>1039.81</td><td>ET_3.1_SEP_24.xlsx</td><td>08/10/2024</td></tr><tr><td>Imports</td><td>Imports_Feedstocks</td><td>202202</td><td>864.37</td><td>ET_3.1_SEP_24.xlsx</td><td>08/10/2024</td></tr><tr><td>Imports</td><td>Imports_Feedstocks</td><td>202203</td><td>665.7</td><td>ET_3.1_SEP_24.xlsx</td><td>08/10/2024</td></tr><tr><td>Imports</td><td>Imports_Feedstocks</td><td>202204</td><td>927.19</td><td>ET_3.1_SEP_24.xlsx</td><td>08/10/2024</td></tr><tr><td>Imports</td><td>Imports_Feedstocks</td><td>202301</td><td>928.04</td><td>ET_3.1_SEP_24.xlsx</td><td>08/10/2024</td></tr><tr><td>Imports</td><td>Imports_Feedstocks</td><td>202302</td><td>625.93</td><td>ET_3.1_SEP_24.xlsx</td><td>08/10/2024</td></tr><tr><td>Imports</td><td>Imports_Feedstocks</td><td>202303</td><td>1225.8</td><td>ET_3.1_SEP_24.xlsx</td><td>08/10/2024</td></tr><tr><td>Imports</td><td>Imports_Feedstocks</td><td>202304</td><td>917.91</td><td>ET_3.1_SEP_24.xlsx</td><td>08/10/2024</td></tr><tr><td>Imports</td><td>Imports_Feedstocks</td><td>202401</td><td>944.72</td><td>ET_3.1_SEP_24.xlsx</td><td>08/10/2024</td></tr><tr><td>Imports</td><td>Imports_Feedstocks</td><td>202402</td><td>947.34</td><td>ET_3.1_SEP_24.xlsx</td><td>08/10/2024</td></tr><tr><td>Exports</td><td>Exports</td><td>199901</td><td>20743.41</td><td>ET_3.1_SEP_24.xlsx</td><td>08/10/2024</td></tr><tr><td>Exports</td><td>Exports</td><td>199902</td><td>21341.24</td><td>ET_3.1_SEP_24.xlsx</td><td>08/10/2024</td></tr><tr><td>Exports</td><td>Exports</td><td>199903</td><td>24225.48</td><td>ET_3.1_SEP_24.xlsx</td><td>08/10/2024</td></tr><tr><td>Exports</td><td>Exports</td><td>199904</td><td>25486.88</td><td>ET_3.1_SEP_24.xlsx</td><td>08/10/2024</td></tr><tr><td>Exports</td><td>Exports</td><td>200001</td><td>24609.94</td><td>ET_3.1_SEP_24.xlsx</td><td>08/10/2024</td></tr><tr><td>Exports</td><td>Exports</td><td>200002</td><td>23894.54</td><td>ET_3.1_SEP_24.xlsx</td><td>08/10/2024</td></tr><tr><td>Exports</td><td>Exports</td><td>200003</td><td>22303.95</td><td>ET_3.1_SEP_24.xlsx</td><td>08/10/2024</td></tr><tr><td>Exports</td><td>Exports</td><td>200004</td><td>22108.75</td><td>ET_3.1_SEP_24.xlsx</td><td>08/10/2024</td></tr><tr><td>Exports</td><td>Exports</td><td>200101</td><td>20832.07</td><td>ET_3.1_SEP_24.xlsx</td><td>08/10/2024</td></tr><tr><td>Exports</td><td>Exports</td><td>200102</td><td>22302.89</td><td>ET_3.1_SEP_24.xlsx</td><td>08/10/2024</td></tr><tr><td>Exports</td><td>Exports</td><td>200103</td><td>20889.8</td><td>ET_3.1_SEP_24.xlsx</td><td>08/10/2024</td></tr><tr><td>Exports</td><td>Exports</td><td>200104</td><td>22904.98</td><td>ET_3.1_SEP_24.xlsx</td><td>08/10/2024</td></tr><tr><td>Exports</td><td>Exports</td><td>200201</td><td>22465.06</td><td>ET_3.1_SEP_24.xlsx</td><td>08/10/2024</td></tr><tr><td>Exports</td><td>Exports</td><td>200202</td><td>24548.13</td><td>ET_3.1_SEP_24.xlsx</td><td>08/10/2024</td></tr><tr><td>Exports</td><td>Exports</td><td>200203</td><td>18303.46</td><td>ET_3.1_SEP_24.xlsx</td><td>08/10/2024</td></tr><tr><td>Exports</td><td>Exports</td><td>200204</td><td>21827.07</td><td>ET_3.1_SEP_24.xlsx</td><td>08/10/2024</td></tr><tr><td>Exports</td><td>Exports</td><td>200301</td><td>20280.84</td><td>ET_3.1_SEP_24.xlsx</td><td>08/10/2024</td></tr><tr><td>Exports</td><td>Exports</td><td>200302</td><td>17415.24</td><td>ET_3.1_SEP_24.xlsx</td><td>08/10/2024</td></tr><tr><td>Exports</td><td>Exports</td><td>200303</td><td>18839.42</td><td>ET_3.1_SEP_24.xlsx</td><td>08/10/2024</td></tr><tr><td>Exports</td><td>Exports</td><td>200304</td><td>18362.26</td><td>ET_3.1_SEP_24.xlsx</td><td>08/10/2024</td></tr><tr><td>Exports</td><td>Exports</td><td>200401</td><td>17758.24</td><td>ET_3.1_SEP_24.xlsx</td><td>08/10/2024</td></tr><tr><td>Exports</td><td>Exports</td><td>200402</td><td>16618.97</td><td>ET_3.1_SEP_24.xlsx</td><td>08/10/2024</td></tr><tr><td>Exports</td><td>Exports</td><td>200403</td><td>15075.18</td><td>ET_3.1_SEP_24.xlsx</td><td>08/10/2024</td></tr><tr><td>Exports</td><td>Exports</td><td>200404</td><td>15051.62</td><td>ET_3.1_SEP_24.xlsx</td><td>08/10/2024</td></tr><tr><td>Exports</td><td>Exports</td><td>200501</td><td>14553.09</td><td>ET_3.1_SEP_24.xlsx</td><td>08/10/2024</td></tr><tr><td>Exports</td><td>Exports</td><td>200502</td><td>15342.83</td><td>ET_3.1_SEP_24.xlsx</td><td>08/10/2024</td></tr><tr><td>Exports</td><td>Exports</td><td>200503</td><td>11405.72</td><td>ET_3.1_SEP_24.xlsx</td><td>08/10/2024</td></tr><tr><td>Exports</td><td>Exports</td><td>200504</td><td>12797.08</td><td>ET_3.1_SEP_24.xlsx</td><td>08/10/2024</td></tr><tr><td>Exports</td><td>Exports</td><td>200601</td><td>13835.97</td><td>ET_3.1_SEP_24.xlsx</td><td>08/10/2024</td></tr><tr><td>Exports</td><td>Exports</td><td>200602</td><td>13094.5</td><td>ET_3.1_SEP_24.xlsx</td><td>08/10/2024</td></tr><tr><td>Exports</td><td>Exports</td><td>200603</td><td>11350.59</td><td>ET_3.1_SEP_24.xlsx</td><td>08/10/2024</td></tr><tr><td>Exports</td><td>Exports</td><td>200604</td><td>11913.57</td><td>ET_3.1_SEP_24.xlsx</td><td>08/10/2024</td></tr><tr><td>Exports</td><td>Exports</td><td>200701</td><td>12254.08</td><td>ET_3.1_SEP_24.xlsx</td><td>08/10/2024</td></tr><tr><td>Exports</td><td>Exports</td><td>200702</td><td>12580.49</td><td>ET_3.1_SEP_24.xlsx</td><td>08/10/2024</td></tr><tr><td>Exports</td><td>Exports</td><td>200703</td><td>12698.73</td><td>ET_3.1_SEP_24.xlsx</td><td>08/10/2024</td></tr><tr><td>Exports</td><td>Exports</td><td>200704</td><td>13466.06</td><td>ET_3.1_SEP_24.xlsx</td><td>08/10/2024</td></tr><tr><td>Exports</td><td>Exports</td><td>200801</td><td>12258.07</td><td>ET_3.1_SEP_24.xlsx</td><td>08/10/2024</td></tr><tr><td>Exports</td><td>Exports</td><td>200802</td><td>12343.31</td><td>ET_3.1_SEP_24.xlsx</td><td>08/10/2024</td></tr><tr><td>Exports</td><td>Exports</td><td>200803</td><td>11181.22</td><td>ET_3.1_SEP_24.xlsx</td><td>08/10/2024</td></tr><tr><td>Exports</td><td>Exports</td><td>200804</td><td>12452.76</td><td>ET_3.1_SEP_24.xlsx</td><td>08/10/2024</td></tr><tr><td>Exports</td><td>Exports</td><td>200901</td><td>11173.68</td><td>ET_3.1_SEP_24.xlsx</td><td>08/10/2024</td></tr><tr><td>Exports</td><td>Exports</td><td>200902</td><td>12611.71</td><td>ET_3.1_SEP_24.xlsx</td><td>08/10/2024</td></tr><tr><td>Exports</td><td>Exports</td><td>200903</td><td>9824.91</td><td>ET_3.1_SEP_24.xlsx</td><td>08/10/2024</td></tr><tr><td>Exports</td><td>Exports</td><td>200904</td><td>11740.44</td><td>ET_3.1_SEP_24.xlsx</td><td>08/10/2024</td></tr><tr><td>Exports</td><td>Exports</td><td>201001</td><td>11448.98</td><td>ET_3.1_SEP_24.xlsx</td><td>08/10/2024</td></tr><tr><td>Exports</td><td>Exports</td><td>201002</td><td>11133.12</td><td>ET_3.1_SEP_24.xlsx</td><td>08/10/2024</td></tr><tr><td>Exports</td><td>Exports</td><td>201003</td><td>8708.25</td><td>ET_3.1_SEP_24.xlsx</td><td>08/10/2024</td></tr><tr><td>Exports</td><td>Exports</td><td>201004</td><td>10773.8</td><td>ET_3.1_SEP_24.xlsx</td><td>08/10/2024</td></tr><tr><td>Exports</td><td>Exports</td><td>201101</td><td>9239.46</td><td>ET_3.1_SEP_24.xlsx</td><td>08/10/2024</td></tr><tr><td>Exports</td><td>Exports</td><td>201102</td><td>8279.08</td><td>ET_3.1_SEP_24.xlsx</td><td>08/10/2024</td></tr><tr><td>Exports</td><td>Exports</td><td>201103</td><td>7039.58</td><td>ET_3.1_SEP_24.xlsx</td><td>08/10/2024</td></tr><tr><td>Exports</td><td>Exports</td><td>201104</td><td>9066.56</td><td>ET_3.1_SEP_24.xlsx</td><td>08/10/2024</td></tr><tr><td>Exports</td><td>Exports</td><td>201201</td><td>7926.96</td><td>ET_3.1_SEP_24.xlsx</td><td>08/10/2024</td></tr><tr><td>Exports</td><td>Exports</td><td>201202</td><td>7976.63</td><td>ET_3.1_SEP_24.xlsx</td><td>08/10/2024</td></tr><tr><td>Exports</td><td>Exports</td><td>201203</td><td>7135.95</td><td>ET_3.1_SEP_24.xlsx</td><td>08/10/2024</td></tr><tr><td>Exports</td><td>Exports</td><td>201204</td><td>7906.69</td><td>ET_3.1_SEP_24.xlsx</td><td>08/10/2024</td></tr><tr><td>Exports</td><td>Exports</td><td>201301</td><td>8685.58</td><td>ET_3.1_SEP_24.xlsx</td><td>08/10/2024</td></tr><tr><td>Exports</td><td>Exports</td><td>201302</td><td>8649.4</td><td>ET_3.1_SEP_24.xlsx</td><td>08/10/2024</td></tr><tr><td>Exports</td><td>Exports</td><td>201303</td><td>7452.04</td><td>ET_3.1_SEP_24.xlsx</td><td>08/10/2024</td></tr><tr><td>Exports</td><td>Exports</td><td>201304</td><td>8318.14</td><td>ET_3.1_SEP_24.xlsx</td><td>08/10/2024</td></tr><tr><td>Exports</td><td>Exports</td><td>201401</td><td>8001.18</td><td>ET_3.1_SEP_24.xlsx</td><td>08/10/2024</td></tr><tr><td>Exports</td><td>Exports</td><td>201402</td><td>7446.45</td><td>ET_3.1_SEP_24.xlsx</td><td>08/10/2024</td></tr><tr><td>Exports</td><td>Exports</td><td>201403</td><td>6906.21</td><td>ET_3.1_SEP_24.xlsx</td><td>08/10/2024</td></tr><tr><td>Exports</td><td>Exports</td><td>201404</td><td>8515.06</td><td>ET_3.1_SEP_24.xlsx</td><td>08/10/2024</td></tr><tr><td>Exports</td><td>Exports</td><td>201501</td><td>8095.88</td><td>ET_3.1_SEP_24.xlsx</td><td>08/10/2024</td></tr><tr><td>Exports</td><td>Exports</td><td>201502</td><td>9309.1</td><td>ET_3.1_SEP_24.xlsx</td><td>08/10/2024</td></tr><tr><td>Exports</td><td>Exports</td><td>201503</td><td>7908.26</td><td>ET_3.1_SEP_24.xlsx</td><td>08/10/2024</td></tr><tr><td>Exports</td><td>Exports</td><td>201504</td><td>8396.19</td><td>ET_3.1_SEP_24.xlsx</td><td>08/10/2024</td></tr><tr><td>Exports</td><td>Exports</td><td>201601</td><td>10089.94</td><td>ET_3.1_SEP_24.xlsx</td><td>08/10/2024</td></tr><tr><td>Exports</td><td>Exports</td><td>201602</td><td>7976.12</td><td>ET_3.1_SEP_24.xlsx</td><td>08/10/2024</td></tr><tr><td>Exports</td><td>Exports</td><td>201603</td><td>8224.57</td><td>ET_3.1_SEP_24.xlsx</td><td>08/10/2024</td></tr><tr><td>Exports</td><td>Exports</td><td>201604</td><td>8565.15</td><td>ET_3.1_SEP_24.xlsx</td><td>08/10/2024</td></tr><tr><td>Exports</td><td>Exports</td><td>201701</td><td>9823.55</td><td>ET_3.1_SEP_24.xlsx</td><td>08/10/2024</td></tr><tr><td>Exports</td><td>Exports</td><td>201702</td><td>9692.3</td><td>ET_3.1_SEP_24.xlsx</td><td>08/10/2024</td></tr><tr><td>Exports</td><td>Exports</td><td>201703</td><td>9635.82</td><td>ET_3.1_SEP_24.xlsx</td><td>08/10/2024</td></tr><tr><td>Exports</td><td>Exports</td><td>201704</td><td>9167.17</td><td>ET_3.1_SEP_24.xlsx</td><td>08/10/2024</td></tr><tr><td>Exports</td><td>Exports</td><td>201801</td><td>10868.01</td><td>ET_3.1_SEP_24.xlsx</td><td>08/10/2024</td></tr><tr><td>Exports</td><td>Exports</td><td>201802</td><td>11376.53</td><td>ET_3.1_SEP_24.xlsx</td><td>08/10/2024</td></tr><tr><td>Exports</td><td>Exports</td><td>201803</td><td>10113.04</td><td>ET_3.1_SEP_24.xlsx</td><td>08/10/2024</td></tr><tr><td>Exports</td><td>Exports</td><td>201804</td><td>12150.33</td><td>ET_3.1_SEP_24.xlsx</td><td>08/10/2024</td></tr><tr><td>Exports</td><td>Exports</td><td>201901</td><td>11186.95</td><td>ET_3.1_SEP_24.xlsx</td><td>08/10/2024</td></tr><tr><td>Exports</td><td>Exports</td><td>201902</td><td>12007.39</td><td>ET_3.1_SEP_24.xlsx</td><td>08/10/2024</td></tr><tr><td>Exports</td><td>Exports</td><td>201903</td><td>11047.16</td><td>ET_3.1_SEP_24.xlsx</td><td>08/10/2024</td></tr><tr><td>Exports</td><td>Exports</td><td>201904</td><td>10697.88</td><td>ET_3.1_SEP_24.xlsx</td><td>08/10/2024</td></tr><tr><td>Exports</td><td>Exports</td><td>202001</td><td>10680.12</td><td>ET_3.1_SEP_24.xlsx</td><td>08/10/2024</td></tr><tr><td>Exports</td><td>Exports</td><td>202002</td><td>9949.32</td><td>ET_3.1_SEP_24.xlsx</td><td>08/10/2024</td></tr><tr><td>Exports</td><td>Exports</td><td>202003</td><td>9645.11</td><td>ET_3.1_SEP_24.xlsx</td><td>08/10/2024</td></tr><tr><td>Exports</td><td>Exports</td><td>202004</td><td>9582.03</td><td>ET_3.1_SEP_24.xlsx</td><td>08/10/2024</td></tr><tr><td>Exports</td><td>Exports</td><td>202101</td><td>9244.6</td><td>ET_3.1_SEP_24.xlsx</td><td>08/10/2024</td></tr><tr><td>Exports</td><td>Exports</td><td>202102</td><td>7549.21</td><td>ET_3.1_SEP_24.xlsx</td><td>08/10/2024</td></tr><tr><td>Exports</td><td>Exports</td><td>202103</td><td>8458.86</td><td>ET_3.1_SEP_24.xlsx</td><td>08/10/2024</td></tr><tr><td>Exports</td><td>Exports</td><td>202104</td><td>9228.82</td><td>ET_3.1_SEP_24.xlsx</td><td>08/10/2024</td></tr><tr><td>Exports</td><td>Exports</td><td>202201</td><td>8627.96</td><td>ET_3.1_SEP_24.xlsx</td><td>08/10/2024</td></tr><tr><td>Exports</td><td>Exports</td><td>202202</td><td>7354.98</td><td>ET_3.1_SEP_24.xlsx</td><td>08/10/2024</td></tr><tr><td>Exports</td><td>Exports</td><td>202203</td><td>6643.99</td><td>ET_3.1_SEP_24.xlsx</td><td>08/10/2024</td></tr><tr><td>Exports</td><td>Exports</td><td>202204</td><td>8301.84</td><td>ET_3.1_SEP_24.xlsx</td><td>08/10/2024</td></tr><tr><td>Exports</td><td>Exports</td><td>202301</td><td>7317.81</td><td>ET_3.1_SEP_24.xlsx</td><td>08/10/2024</td></tr><tr><td>Exports</td><td>Exports</td><td>202302</td><td>6663.13</td><td>ET_3.1_SEP_24.xlsx</td><td>08/10/2024</td></tr><tr><td>Exports</td><td>Exports</td><td>202303</td><td>6803.34</td><td>ET_3.1_SEP_24.xlsx</td><td>08/10/2024</td></tr><tr><td>Exports</td><td>Exports</td><td>202304</td><td>6869.7</td><td>ET_3.1_SEP_24.xlsx</td><td>08/10/2024</td></tr><tr><td>Exports</td><td>Exports</td><td>202401</td><td>6350.04</td><td>ET_3.1_SEP_24.xlsx</td><td>08/10/2024</td></tr><tr><td>Exports</td><td>Exports</td><td>202402</td><td>6941.35</td><td>ET_3.1_SEP_24.xlsx</td><td>08/10/2024</td></tr><tr><td>Exports</td><td>Exports_Crude Oil & NGLs</td><td>199901</td><td>19890.75</td><td>ET_3.1_SEP_24.xlsx</td><td>08/10/2024</td></tr><tr><td>Exports</td><td>Exports_Crude Oil & NGLs</td><td>199902</td><td>20758.26</td><td>ET_3.1_SEP_24.xlsx</td><td>08/10/2024</td></tr><tr><td>Exports</td><td>Exports_Crude Oil & NGLs</td><td>199903</td><td>23590.02</td><td>ET_3.1_SEP_24.xlsx</td><td>08/10/2024</td></tr><tr><td>Exports</td><td>Exports_Crude Oil & NGLs</td><td>199904</td><td>24682.97</td><td>ET_3.1_SEP_24.xlsx</td><td>08/10/2024</td></tr><tr><td>Exports</td><td>Exports_Crude Oil & NGLs</td><td>200001</td><td>23952.26</td><td>ET_3.1_SEP_24.xlsx</td><td>08/10/2024</td></tr><tr><td>Exports</td><td>Exports_Crude Oil & NGLs</td><td>200002</td><td>23224.01</td><td>ET_3.1_SEP_24.xlsx</td><td>08/10/2024</td></tr><tr><td>Exports</td><td>Exports_Crude Oil & NGLs</td><td>200003</td><td>21607.51</td><td>ET_3.1_SEP_24.xlsx</td><td>08/10/2024</td></tr><tr><td>Exports</td><td>Exports_Crude Oil & NGLs</td><td>200004</td><td>21297.59</td><td>ET_3.1_SEP_24.xlsx</td><td>08/10/2024</td></tr><tr><td>Exports</td><td>Exports_Crude Oil & NGLs</td><td>200101</td><td>20110.32</td><td>ET_3.1_SEP_24.xlsx</td><td>08/10/2024</td></tr><tr><td>Exports</td><td>Exports_Crude Oil & NGLs</td><td>200102</td><td>21644.5</td><td>ET_3.1_SEP_24.xlsx</td><td>08/10/2024</td></tr><tr><td>Exports</td><td>Exports_Crude Oil & NGLs</td><td>200103</td><td>20386.36</td><td>ET_3.1_SEP_24.xlsx</td><td>08/10/2024</td></tr><tr><td>Exports</td><td>Exports_Crude Oil & NGLs</td><td>200104</td><td>22299.56</td><td>ET_3.1_SEP_24.xlsx</td><td>08/10/2024</td></tr><tr><td>Exports</td><td>Exports_Crude Oil & NGLs</td><td>200201</td><td>22074.49</td><td>ET_3.1_SEP_24.xlsx</td><td>08/10/2024</td></tr><tr><td>Exports</td><td>Exports_Crude Oil & NGLs</td><td>200202</td><td>23968.83</td><td>ET_3.1_SEP_24.xlsx</td><td>08/10/2024</td></tr><tr><td>Exports</td><td>Exports_Crude Oil & NGLs</td><td>200203</td><td>17690.09</td><td>ET_3.1_SEP_24.xlsx</td><td>08/10/2024</td></tr><tr><td>Exports</td><td>Exports_Crude Oil & NGLs</td><td>200204</td><td>21294.69</td><td>ET_3.1_SEP_24.xlsx</td><td>08/10/2024</td></tr><tr><td>Exports</td><td>Exports_Crude Oil & NGLs</td><td>200301</td><td>19719.96</td><td>ET_3.1_SEP_24.xlsx</td><td>08/10/2024</td></tr><tr><td>Exports</td><td>Exports_Crude Oil & NGLs</td><td>200302</td><td>16785.91</td><td>ET_3.1_SEP_24.xlsx</td><td>08/10/2024</td></tr><tr><td>Exports</td><td>Exports_Crude Oil & NGLs</td><td>200303</td><td>18151.69</td><td>ET_3.1_SEP_24.xlsx</td><td>08/10/2024</td></tr><tr><td>Exports</td><td>Exports_Crude Oil & NGLs</td><td>200304</td><td>17868.63</td><td>ET_3.1_SEP_24.xlsx</td><td>08/10/2024</td></tr><tr><td>Exports</td><td>Exports_Crude Oil & NGLs</td><td>200401</td><td>17373.73</td><td>ET_3.1_SEP_24.xlsx</td><td>08/10/2024</td></tr><tr><td>Exports</td><td>Exports_Crude Oil & NGLs</td><td>200402</td><td>16387.45</td><td>ET_3.1_SEP_24.xlsx</td><td>08/10/2024</td></tr><tr><td>Exports</td><td>Exports_Crude Oil & NGLs</td><td>200403</td><td>14793.61</td><td>ET_3.1_SEP_24.xlsx</td><td>08/10/2024</td></tr><tr><td>Exports</td><td>Exports_Crude Oil & NGLs</td><td>200404</td><td>14858.07</td><td>ET_3.1_SEP_24.xlsx</td><td>08/10/2024</td></tr><tr><td>Exports</td><td>Exports_Crude Oil & NGLs</td><td>200501</td><td>14045.36</td><td>ET_3.1_SEP_24.xlsx</td><td>08/10/2024</td></tr><tr><td>Exports</td><td>Exports_Crude Oil & NGLs</td><td>200502</td><td>15036.48</td><td>ET_3.1_SEP_24.xlsx</td><td>08/10/2024</td></tr><tr><td>Exports</td><td>Exports_Crude Oil & NGLs</td><td>200503</td><td>10901.45</td><td>ET_3.1_SEP_24.xlsx</td><td>08/10/2024</td></tr><tr><td>Exports</td><td>Exports_Crude Oil & NGLs</td><td>200504</td><td>12123.62</td><td>ET_3.1_SEP_24.xlsx</td><td>08/10/2024</td></tr><tr><td>Exports</td><td>Exports_Crude Oil & NGLs</td><td>200601</td><td>13259.96</td><td>ET_3.1_SEP_24.xlsx</td><td>08/10/2024</td></tr><tr><td>Exports</td><td>Exports_Crude Oil & NGLs</td><td>200602</td><td>12270.84</td><td>ET_3.1_SEP_24.xlsx</td><td>08/10/2024</td></tr><tr><td>Exports</td><td>Exports_Crude Oil & NGLs</td><td>200603</td><td>10770.99</td><td>ET_3.1_SEP_24.xlsx</td><td>08/10/2024</td></tr><tr><td>Exports</td><td>Exports_Crude Oil & NGLs</td><td>200604</td><td>11249.65</td><td>ET_3.1_SEP_24.xlsx</td><td>08/10/2024</td></tr><tr><td>Exports</td><td>Exports_Crude Oil & NGLs</td><td>200701</td><td>11469.77</td><td>ET_3.1_SEP_24.xlsx</td><td>08/10/2024</td></tr><tr><td>Exports</td><td>Exports_Crude Oil & NGLs</td><td>200702</td><td>11876.46</td><td>ET_3.1_SEP_24.xlsx</td><td>08/10/2024</td></tr><tr><td>Exports</td><td>Exports_Crude Oil & NGLs</td><td>200703</td><td>11919.8</td><td>ET_3.1_SEP_24.xlsx</td><td>08/10/2024</td></tr><tr><td>Exports</td><td>Exports_Crude Oil & NGLs</td><td>200704</td><td>12446.62</td><td>ET_3.1_SEP_24.xlsx</td><td>08/10/2024</td></tr><tr><td>Exports</td><td>Exports_Crude Oil & NGLs</td><td>200801</td><td>11402.23</td><td>ET_3.1_SEP_24.xlsx</td><td>08/10/2024</td></tr><tr><td>Exports</td><td>Exports_Crude Oil & NGLs</td><td>200802</td><td>11502.0</td><td>ET_3.1_SEP_24.xlsx</td><td>08/10/2024</td></tr><tr><td>Exports</td><td>Exports_Crude Oil & NGLs</td><td>200803</td><td>10058.33</td><td>ET_3.1_SEP_24.xlsx</td><td>08/10/2024</td></tr><tr><td>Exports</td><td>Exports_Crude Oil & NGLs</td><td>200804</td><td>11414.86</td><td>ET_3.1_SEP_24.xlsx</td><td>08/10/2024</td></tr><tr><td>Exports</td><td>Exports_Crude Oil & NGLs</td><td>200901</td><td>10437.23</td><td>ET_3.1_SEP_24.xlsx</td><td>08/10/2024</td></tr><tr><td>Exports</td><td>Exports_Crude Oil & NGLs</td><td>200902</td><td>12014.53</td><td>ET_3.1_SEP_24.xlsx</td><td>08/10/2024</td></tr><tr><td>Exports</td><td>Exports_Crude Oil & NGLs</td><td>200903</td><td>8723.09</td><td>ET_3.1_SEP_24.xlsx</td><td>08/10/2024</td></tr><tr><td>Exports</td><td>Exports_Crude Oil & NGLs</td><td>200904</td><td>10534.81</td><td>ET_3.1_SEP_24.xlsx</td><td>08/10/2024</td></tr><tr><td>Exports</td><td>Exports_Crude Oil & NGLs</td><td>201001</td><td>10749.41</td><td>ET_3.1_SEP_24.xlsx</td><td>08/10/2024</td></tr><tr><td>Exports</td><td>Exports_Crude Oil & NGLs</td><td>201002</td><td>10310.06</td><td>ET_3.1_SEP_24.xlsx</td><td>08/10/2024</td></tr><tr><td>Exports</td><td>Exports_Crude Oil & NGLs</td><td>201003</td><td>8005.57</td><td>ET_3.1_SEP_24.xlsx</td><td>08/10/2024</td></tr><tr><td>Exports</td><td>Exports_Crude Oil & NGLs</td><td>201004</td><td>10042.11</td><td>ET_3.1_SEP_24.xlsx</td><td>08/10/2024</td></tr><tr><td>Exports</td><td>Exports_Crude Oil & NGLs</td><td>201101</td><td>8276.96</td><td>ET_3.1_SEP_24.xlsx</td><td>08/10/2024</td></tr><tr><td>Exports</td><td>Exports_Crude Oil & NGLs</td><td>201102</td><td>7335.91</td><td>ET_3.1_SEP_24.xlsx</td><td>08/10/2024</td></tr><tr><td>Exports</td><td>Exports_Crude Oil & NGLs</td><td>201103</td><td>5968.44</td><td>ET_3.1_SEP_24.xlsx</td><td>08/10/2024</td></tr><tr><td>Exports</td><td>Exports_Crude Oil & NGLs</td><td>201104</td><td>8135.08</td><td>ET_3.1_SEP_24.xlsx</td><td>08/10/2024</td></tr><tr><td>Exports</td><td>Exports_Crude Oil & NGLs</td><td>201201</td><td>7595.11</td><td>ET_3.1_SEP_24.xlsx</td><td>08/10/2024</td></tr><tr><td>Exports</td><td>Exports_Crude Oil & NGLs</td><td>201202</td><td>7739.52</td><td>ET_3.1_SEP_24.xlsx</td><td>08/10/2024</td></tr><tr><td>Exports</td><td>Exports_Crude Oil & NGLs</td><td>201203</td><td>6792.28</td><td>ET_3.1_SEP_24.xlsx</td><td>08/10/2024</td></tr><tr><td>Exports</td><td>Exports_Crude Oil & NGLs</td><td>201204</td><td>7699.4</td><td>ET_3.1_SEP_24.xlsx</td><td>08/10/2024</td></tr><tr><td>Exports</td><td>Exports_Crude Oil & NGLs</td><td>201301</td><td>8289.61</td><td>ET_3.1_SEP_24.xlsx</td><td>08/10/2024</td></tr><tr><td>Exports</td><td>Exports_Crude Oil & NGLs</td><td>201302</td><td>8287.02</td><td>ET_3.1_SEP_24.xlsx</td><td>08/10/2024</td></tr><tr><td>Exports</td><td>Exports_Crude Oil & NGLs</td><td>201303</td><td>7028.12</td><td>ET_3.1_SEP_24.xlsx</td><td>08/10/2024</td></tr><tr><td>Exports</td><td>Exports_Crude Oil & NGLs</td><td>201304</td><td>8064.92</td><td>ET_3.1_SEP_24.xlsx</td><td>08/10/2024</td></tr><tr><td>Exports</td><td>Exports_Crude Oil & NGLs</td><td>201401</td><td>7780.47</td><td>ET_3.1_SEP_24.xlsx</td><td>08/10/2024</td></tr><tr><td>Exports</td><td>Exports_Crude Oil & NGLs</td><td>201402</td><td>7164.18</td><td>ET_3.1_SEP_24.xlsx</td><td>08/10/2024</td></tr><tr><td>Exports</td><td>Exports_Crude Oil & NGLs</td><td>201403</td><td>6633.57</td><td>ET_3.1_SEP_24.xlsx</td><td>08/10/2024</td></tr><tr><td>Exports</td><td>Exports_Crude Oil & NGLs</td><td>201404</td><td>8231.12</td><td>ET_3.1_SEP_24.xlsx</td><td>08/10/2024</td></tr><tr><td>Exports</td><td>Exports_Crude Oil & NGLs</td><td>201501</td><td>7611.76</td><td>ET_3.1_SEP_24.xlsx</td><td>08/10/2024</td></tr><tr><td>Exports</td><td>Exports_Crude Oil & NGLs</td><td>201502</td><td>8846.27</td><td>ET_3.1_SEP_24.xlsx</td><td>08/10/2024</td></tr><tr><td>Exports</td><td>Exports_Crude Oil & NGLs</td><td>201503</td><td>7278.66</td><td>ET_3.1_SEP_24.xlsx</td><td>08/10/2024</td></tr><tr><td>Exports</td><td>Exports_Crude Oil & NGLs</td><td>201504</td><td>8083.13</td><td>ET_3.1_SEP_24.xlsx</td><td>08/10/2024</td></tr><tr><td>Exports</td><td>Exports_Crude Oil & NGLs</td><td>201601</td><td>9459.82</td><td>ET_3.1_SEP_24.xlsx</td><td>08/10/2024</td></tr><tr><td>Exports</td><td>Exports_Crude Oil & NGLs</td><td>201602</td><td>7543.5</td><td>ET_3.1_SEP_24.xlsx</td><td>08/10/2024</td></tr><tr><td>Exports</td><td>Exports_Crude Oil & NGLs</td><td>201603</td><td>7930.83</td><td>ET_3.1_SEP_24.xlsx</td><td>08/10/2024</td></tr><tr><td>Exports</td><td>Exports_Crude Oil & NGLs</td><td>201604</td><td>8312.42</td><td>ET_3.1_SEP_24.xlsx</td><td>08/10/2024</td></tr><tr><td>Exports</td><td>Exports_Crude Oil & NGLs</td><td>201701</td><td>9470.19</td><td>ET_3.1_SEP_24.xlsx</td><td>08/10/2024</td></tr><tr><td>Exports</td><td>Exports_Crude Oil & NGLs</td><td>201702</td><td>9366.91</td><td>ET_3.1_SEP_24.xlsx</td><td>08/10/2024</td></tr><tr><td>Exports</td><td>Exports_Crude Oil & NGLs</td><td>201703</td><td>9194.89</td><td>ET_3.1_SEP_24.xlsx</td><td>08/10/2024</td></tr><tr><td>Exports</td><td>Exports_Crude Oil & NGLs</td><td>201704</td><td>8830.75</td><td>ET_3.1_SEP_24.xlsx</td><td>08/10/2024</td></tr><tr><td>Exports</td><td>Exports_Crude Oil & NGLs</td><td>201801</td><td>10625.92</td><td>ET_3.1_SEP_24.xlsx</td><td>08/10/2024</td></tr><tr><td>Exports</td><td>Exports_Crude Oil & NGLs</td><td>201802</td><td>10900.93</td><td>ET_3.1_SEP_24.xlsx</td><td>08/10/2024</td></tr><tr><td>Exports</td><td>Exports_Crude Oil & NGLs</td><td>201803</td><td>9666.29</td><td>ET_3.1_SEP_24.xlsx</td><td>08/10/2024</td></tr><tr><td>Exports</td><td>Exports_Crude Oil & NGLs</td><td>201804</td><td>11388.98</td><td>ET_3.1_SEP_24.xlsx</td><td>08/10/2024</td></tr><tr><td>Exports</td><td>Exports_Crude Oil & NGLs</td><td>201901</td><td>10860.25</td><td>ET_3.1_SEP_24.xlsx</td><td>08/10/2024</td></tr><tr><td>Exports</td><td>Exports_Crude Oil & NGLs</td><td>201902</td><td>11462.9</td><td>ET_3.1_SEP_24.xlsx</td><td>08/10/2024</td></tr><tr><td>Exports</td><td>Exports_Crude Oil & NGLs</td><td>201903</td><td>10368.97</td><td>ET_3.1_SEP_24.xlsx</td><td>08/10/2024</td></tr><tr><td>Exports</td><td>Exports_Crude Oil & NGLs</td><td>201904</td><td>10150.53</td><td>ET_3.1_SEP_24.xlsx</td><td>08/10/2024</td></tr><tr><td>Exports</td><td>Exports_Crude Oil & NGLs</td><td>202001</td><td>10030.98</td><td>ET_3.1_SEP_24.xlsx</td><td>08/10/2024</td></tr><tr><td>Exports</td><td>Exports_Crude Oil & NGLs</td><td>202002</td><td>9462.24</td><td>ET_3.1_SEP_24.xlsx</td><td>08/10/2024</td></tr><tr><td>Exports</td><td>Exports_Crude Oil & NGLs</td><td>202003</td><td>9408.09</td><td>ET_3.1_SEP_24.xlsx</td><td>08/10/2024</td></tr><tr><td>Exports</td><td>Exports_Crude Oil & NGLs</td><td>202004</td><td>9386.53</td><td>ET_3.1_SEP_24.xlsx</td><td>08/10/2024</td></tr><tr><td>Exports</td><td>Exports_Crude Oil & NGLs</td><td>202101</td><td>8938.88</td><td>ET_3.1_SEP_24.xlsx</td><td>08/10/2024</td></tr><tr><td>Exports</td><td>Exports_Crude Oil & NGLs</td><td>202102</td><td>7007.27</td><td>ET_3.1_SEP_24.xlsx</td><td>08/10/2024</td></tr><tr><td>Exports</td><td>Exports_Crude Oil & NGLs</td><td>202103</td><td>8095.42</td><td>ET_3.1_SEP_24.xlsx</td><td>08/10/2024</td></tr><tr><td>Exports</td><td>Exports_Crude Oil & NGLs</td><td>202104</td><td>8643.65</td><td>ET_3.1_SEP_24.xlsx</td><td>08/10/2024</td></tr><tr><td>Exports</td><td>Exports_Crude Oil & NGLs</td><td>202201</td><td>8147.79</td><td>ET_3.1_SEP_24.xlsx</td><td>08/10/2024</td></tr><tr><td>Exports</td><td>Exports_Crude Oil & NGLs</td><td>202202</td><td>6945.2</td><td>ET_3.1_SEP_24.xlsx</td><td>08/10/2024</td></tr><tr><td>Exports</td><td>Exports_Crude Oil & NGLs</td><td>202203</td><td>6205.05</td><td>ET_3.1_SEP_24.xlsx</td><td>08/10/2024</td></tr><tr><td>Exports</td><td>Exports_Crude Oil & NGLs</td><td>202204</td><td>7305.85</td><td>ET_3.1_SEP_24.xlsx</td><td>08/10/2024</td></tr><tr><td>Exports</td><td>Exports_Crude Oil & NGLs</td><td>202301</td><td>6973.89</td><td>ET_3.1_SEP_24.xlsx</td><td>08/10/2024</td></tr><tr><td>Exports</td><td>Exports_Crude Oil & NGLs</td><td>202302</td><td>5990.45</td><td>ET_3.1_SEP_24.xlsx</td><td>08/10/2024</td></tr><tr><td>Exports</td><td>Exports_Crude Oil & NGLs</td><td>202303</td><td>6127.05</td><td>ET_3.1_SEP_24.xlsx</td><td>08/10/2024</td></tr><tr><td>Exports</td><td>Exports_Crude Oil & NGLs</td><td>202304</td><td>6348.71</td><td>ET_3.1_SEP_24.xlsx</td><td>08/10/2024</td></tr><tr><td>Exports</td><td>Exports_Crude Oil & NGLs</td><td>202401</td><td>5965.67</td><td>ET_3.1_SEP_24.xlsx</td><td>08/10/2024</td></tr><tr><td>Exports</td><td>Exports_Crude Oil & NGLs</td><td>202402</td><td>6243.02</td><td>ET_3.1_SEP_24.xlsx</td><td>08/10/2024</td></tr><tr><td>Exports</td><td>Exports_Feedstocks</td><td>199901</td><td>852.66</td><td>ET_3.1_SEP_24.xlsx</td><td>08/10/2024</td></tr><tr><td>Exports</td><td>Exports_Feedstocks</td><td>199902</td><td>582.97</td><td>ET_3.1_SEP_24.xlsx</td><td>08/10/2024</td></tr><tr><td>Exports</td><td>Exports_Feedstocks</td><td>199903</td><td>635.45</td><td>ET_3.1_SEP_24.xlsx</td><td>08/10/2024</td></tr><tr><td>Exports</td><td>Exports_Feedstocks</td><td>199904</td><td>803.92</td><td>ET_3.1_SEP_24.xlsx</td><td>08/10/2024</td></tr><tr><td>Exports</td><td>Exports_Feedstocks</td><td>200001</td><td>657.68</td><td>ET_3.1_SEP_24.xlsx</td><td>08/10/2024</td></tr><tr><td>Exports</td><td>Exports_Feedstocks</td><td>200002</td><td>670.53</td><td>ET_3.1_SEP_24.xlsx</td><td>08/10/2024</td></tr><tr><td>Exports</td><td>Exports_Feedstocks</td><td>200003</td><td>696.45</td><td>ET_3.1_SEP_24.xlsx</td><td>08/10/2024</td></tr><tr><td>Exports</td><td>Exports_Feedstocks</td><td>200004</td><td>811.16</td><td>ET_3.1_SEP_24.xlsx</td><td>08/10/2024</td></tr><tr><td>Exports</td><td>Exports_Feedstocks</td><td>200101</td><td>721.75</td><td>ET_3.1_SEP_24.xlsx</td><td>08/10/2024</td></tr><tr><td>Exports</td><td>Exports_Feedstocks</td><td>200102</td><td>658.39</td><td>ET_3.1_SEP_24.xlsx</td><td>08/10/2024</td></tr><tr><td>Exports</td><td>Exports_Feedstocks</td><td>200103</td><td>503.44</td><td>ET_3.1_SEP_24.xlsx</td><td>08/10/2024</td></tr><tr><td>Exports</td><td>Exports_Feedstocks</td><td>200104</td><td>605.42</td><td>ET_3.1_SEP_24.xlsx</td><td>08/10/2024</td></tr><tr><td>Exports</td><td>Exports_Feedstocks</td><td>200201</td><td>390.56</td><td>ET_3.1_SEP_24.xlsx</td><td>08/10/2024</td></tr><tr><td>Exports</td><td>Exports_Feedstocks</td><td>200202</td><td>579.3</td><td>ET_3.1_SEP_24.xlsx</td><td>08/10/2024</td></tr><tr><td>Exports</td><td>Exports_Feedstocks</td><td>200203</td><td>613.37</td><td>ET_3.1_SEP_24.xlsx</td><td>08/10/2024</td></tr><tr><td>Exports</td><td>Exports_Feedstocks</td><td>200204</td><td>532.38</td><td>ET_3.1_SEP_24.xlsx</td><td>08/10/2024</td></tr><tr><td>Exports</td><td>Exports_Feedstocks</td><td>200301</td><td>560.88</td><td>ET_3.1_SEP_24.xlsx</td><td>08/10/2024</td></tr><tr><td>Exports</td><td>Exports_Feedstocks</td><td>200302</td><td>629.33</td><td>ET_3.1_SEP_24.xlsx</td><td>08/10/2024</td></tr><tr><td>Exports</td><td>Exports_Feedstocks</td><td>200303</td><td>687.73</td><td>ET_3.1_SEP_24.xlsx</td><td>08/10/2024</td></tr><tr><td>Exports</td><td>Exports_Feedstocks</td><td>200304</td><td>493.63</td><td>ET_3.1_SEP_24.xlsx</td><td>08/10/2024</td></tr><tr><td>Exports</td><td>Exports_Feedstocks</td><td>200401</td><td>384.51</td><td>ET_3.1_SEP_24.xlsx</td><td>08/10/2024</td></tr><tr><td>Exports</td><td>Exports_Feedstocks</td><td>200402</td><td>231.53</td><td>ET_3.1_SEP_24.xlsx</td><td>08/10/2024</td></tr><tr><td>Exports</td><td>Exports_Feedstocks</td><td>200403</td><td>281.57</td><td>ET_3.1_SEP_24.xlsx</td><td>08/10/2024</td></tr><tr><td>Exports</td><td>Exports_Feedstocks</td><td>200404</td><td>193.56</td><td>ET_3.1_SEP_24.xlsx</td><td>08/10/2024</td></tr><tr><td>Exports</td><td>Exports_Feedstocks</td><td>200501</td><td>507.73</td><td>ET_3.1_SEP_24.xlsx</td><td>08/10/2024</td></tr><tr><td>Exports</td><td>Exports_Feedstocks</td><td>200502</td><td>306.35</td><td>ET_3.1_SEP_24.xlsx</td><td>08/10/2024</td></tr><tr><td>Exports</td><td>Exports_Feedstocks</td><td>200503</td><td>504.27</td><td>ET_3.1_SEP_24.xlsx</td><td>08/10/2024</td></tr><tr><td>Exports</td><td>Exports_Feedstocks</td><td>200504</td><td>673.46</td><td>ET_3.1_SEP_24.xlsx</td><td>08/10/2024</td></tr><tr><td>Exports</td><td>Exports_Feedstocks</td><td>200601</td><td>576.01</td><td>ET_3.1_SEP_24.xlsx</td><td>08/10/2024</td></tr><tr><td>Exports</td><td>Exports_Feedstocks</td><td>200602</td><td>823.66</td><td>ET_3.1_SEP_24.xlsx</td><td>08/10/2024</td></tr><tr><td>Exports</td><td>Exports_Feedstocks</td><td>200603</td><td>579.6</td><td>ET_3.1_SEP_24.xlsx</td><td>08/10/2024</td></tr><tr><td>Exports</td><td>Exports_Feedstocks</td><td>200604</td><td>663.92</td><td>ET_3.1_SEP_24.xlsx</td><td>08/10/2024</td></tr><tr><td>Exports</td><td>Exports_Feedstocks</td><td>200701</td><td>784.31</td><td>ET_3.1_SEP_24.xlsx</td><td>08/10/2024</td></tr><tr><td>Exports</td><td>Exports_Feedstocks</td><td>200702</td><td>704.04</td><td>ET_3.1_SEP_24.xlsx</td><td>08/10/2024</td></tr><tr><td>Exports</td><td>Exports_Feedstocks</td><td>200703</td><td>778.94</td><td>ET_3.1_SEP_24.xlsx</td><td>08/10/2024</td></tr><tr><td>Exports</td><td>Exports_Feedstocks</td><td>200704</td><td>1019.44</td><td>ET_3.1_SEP_24.xlsx</td><td>08/10/2024</td></tr><tr><td>Exports</td><td>Exports_Feedstocks</td><td>200801</td><td>855.83</td><td>ET_3.1_SEP_24.xlsx</td><td>08/10/2024</td></tr><tr><td>Exports</td><td>Exports_Feedstocks</td><td>200802</td><td>841.31</td><td>ET_3.1_SEP_24.xlsx</td><td>08/10/2024</td></tr><tr><td>Exports</td><td>Exports_Feedstocks</td><td>200803</td><td>1122.9</td><td>ET_3.1_SEP_24.xlsx</td><td>08/10/2024</td></tr><tr><td>Exports</td><td>Exports_Feedstocks</td><td>200804</td><td>1037.91</td><td>ET_3.1_SEP_24.xlsx</td><td>08/10/2024</td></tr><tr><td>Exports</td><td>Exports_Feedstocks</td><td>200901</td><td>736.45</td><td>ET_3.1_SEP_24.xlsx</td><td>08/10/2024</td></tr><tr><td>Exports</td><td>Exports_Feedstocks</td><td>200902</td><td>597.18</td><td>ET_3.1_SEP_24.xlsx</td><td>08/10/2024</td></tr><tr><td>Exports</td><td>Exports_Feedstocks</td><td>200903</td><td>1101.82</td><td>ET_3.1_SEP_24.xlsx</td><td>08/10/2024</td></tr><tr><td>Exports</td><td>Exports_Feedstocks</td><td>200904</td><td>1205.63</td><td>ET_3.1_SEP_24.xlsx</td><td>08/10/2024</td></tr><tr><td>Exports</td><td>Exports_Feedstocks</td><td>201001</td><td>699.58</td><td>ET_3.1_SEP_24.xlsx</td><td>08/10/2024</td></tr><tr><td>Exports</td><td>Exports_Feedstocks</td><td>201002</td><td>823.06</td><td>ET_3.1_SEP_24.xlsx</td><td>08/10/2024</td></tr><tr><td>Exports</td><td>Exports_Feedstocks</td><td>201003</td><td>702.68</td><td>ET_3.1_SEP_24.xlsx</td><td>08/10/2024</td></tr><tr><td>Exports</td><td>Exports_Feedstocks</td><td>201004</td><td>731.69</td><td>ET_3.1_SEP_24.xlsx</td><td>08/10/2024</td></tr><tr><td>Exports</td><td>Exports_Feedstocks</td><td>201101</td><td>962.51</td><td>ET_3.1_SEP_24.xlsx</td><td>08/10/2024</td></tr><tr><td>Exports</td><td>Exports_Feedstocks</td><td>201102</td><td>943.17</td><td>ET_3.1_SEP_24.xlsx</td><td>08/10/2024</td></tr><tr><td>Exports</td><td>Exports_Feedstocks</td><td>201103</td><td>1071.13</td><td>ET_3.1_SEP_24.xlsx</td><td>08/10/2024</td></tr><tr><td>Exports</td><td>Exports_Feedstocks</td><td>201104</td><td>931.48</td><td>ET_3.1_SEP_24.xlsx</td><td>08/10/2024</td></tr><tr><td>Exports</td><td>Exports_Feedstocks</td><td>201201</td><td>331.85</td><td>ET_3.1_SEP_24.xlsx</td><td>08/10/2024</td></tr><tr><td>Exports</td><td>Exports_Feedstocks</td><td>201202</td><td>237.11</td><td>ET_3.1_SEP_24.xlsx</td><td>08/10/2024</td></tr><tr><td>Exports</td><td>Exports_Feedstocks</td><td>201203</td><td>343.67</td><td>ET_3.1_SEP_24.xlsx</td><td>08/10/2024</td></tr><tr><td>Exports</td><td>Exports_Feedstocks</td><td>201204</td><td>207.29</td><td>ET_3.1_SEP_24.xlsx</td><td>08/10/2024</td></tr><tr><td>Exports</td><td>Exports_Feedstocks</td><td>201301</td><td>395.98</td><td>ET_3.1_SEP_24.xlsx</td><td>08/10/2024</td></tr><tr><td>Exports</td><td>Exports_Feedstocks</td><td>201302</td><td>362.38</td><td>ET_3.1_SEP_24.xlsx</td><td>08/10/2024</td></tr><tr><td>Exports</td><td>Exports_Feedstocks</td><td>201303</td><td>423.93</td><td>ET_3.1_SEP_24.xlsx</td><td>08/10/2024</td></tr><tr><td>Exports</td><td>Exports_Feedstocks</td><td>201304</td><td>253.22</td><td>ET_3.1_SEP_24.xlsx</td><td>08/10/2024</td></tr><tr><td>Exports</td><td>Exports_Feedstocks</td><td>201401</td><td>220.71</td><td>ET_3.1_SEP_24.xlsx</td><td>08/10/2024</td></tr><tr><td>Exports</td><td>Exports_Feedstocks</td><td>201402</td><td>282.27</td><td>ET_3.1_SEP_24.xlsx</td><td>08/10/2024</td></tr><tr><td>Exports</td><td>Exports_Feedstocks</td><td>201403</td><td>272.63</td><td>ET_3.1_SEP_24.xlsx</td><td>08/10/2024</td></tr><tr><td>Exports</td><td>Exports_Feedstocks</td><td>201404</td><td>283.95</td><td>ET_3.1_SEP_24.xlsx</td><td>08/10/2024</td></tr><tr><td>Exports</td><td>Exports_Feedstocks</td><td>201501</td><td>484.11</td><td>ET_3.1_SEP_24.xlsx</td><td>08/10/2024</td></tr><tr><td>Exports</td><td>Exports_Feedstocks</td><td>201502</td><td>462.84</td><td>ET_3.1_SEP_24.xlsx</td><td>08/10/2024</td></tr><tr><td>Exports</td><td>Exports_Feedstocks</td><td>201503</td><td>629.6</td><td>ET_3.1_SEP_24.xlsx</td><td>08/10/2024</td></tr><tr><td>Exports</td><td>Exports_Feedstocks</td><td>201504</td><td>313.06</td><td>ET_3.1_SEP_24.xlsx</td><td>08/10/2024</td></tr><tr><td>Exports</td><td>Exports_Feedstocks</td><td>201601</td><td>630.12</td><td>ET_3.1_SEP_24.xlsx</td><td>08/10/2024</td></tr><tr><td>Exports</td><td>Exports_Feedstocks</td><td>201602</td><td>432.62</td><td>ET_3.1_SEP_24.xlsx</td><td>08/10/2024</td></tr><tr><td>Exports</td><td>Exports_Feedstocks</td><td>201603</td><td>293.74</td><td>ET_3.1_SEP_24.xlsx</td><td>08/10/2024</td></tr><tr><td>Exports</td><td>Exports_Feedstocks</td><td>201604</td><td>252.73</td><td>ET_3.1_SEP_24.xlsx</td><td>08/10/2024</td></tr><tr><td>Exports</td><td>Exports_Feedstocks</td><td>201701</td><td>353.36</td><td>ET_3.1_SEP_24.xlsx</td><td>08/10/2024</td></tr><tr><td>Exports</td><td>Exports_Feedstocks</td><td>201702</td><td>325.39</td><td>ET_3.1_SEP_24.xlsx</td><td>08/10/2024</td></tr><tr><td>Exports</td><td>Exports_Feedstocks</td><td>201703</td><td>440.93</td><td>ET_3.1_SEP_24.xlsx</td><td>08/10/2024</td></tr><tr><td>Exports</td><td>Exports_Feedstocks</td><td>201704</td><td>336.42</td><td>ET_3.1_SEP_24.xlsx</td><td>08/10/2024</td></tr><tr><td>Exports</td><td>Exports_Feedstocks</td><td>201801</td><td>242.09</td><td>ET_3.1_SEP_24.xlsx</td><td>08/10/2024</td></tr><tr><td>Exports</td><td>Exports_Feedstocks</td><td>201802</td><td>475.6</td><td>ET_3.1_SEP_24.xlsx</td><td>08/10/2024</td></tr><tr><td>Exports</td><td>Exports_Feedstocks</td><td>201803</td><td>446.75</td><td>ET_3.1_SEP_24.xlsx</td><td>08/10/2024</td></tr><tr><td>Exports</td><td>Exports_Feedstocks</td><td>201804</td><td>761.35</td><td>ET_3.1_SEP_24.xlsx</td><td>08/10/2024</td></tr><tr><td>Exports</td><td>Exports_Feedstocks</td><td>201901</td><td>326.7</td><td>ET_3.1_SEP_24.xlsx</td><td>08/10/2024</td></tr><tr><td>Exports</td><td>Exports_Feedstocks</td><td>201902</td><td>544.49</td><td>ET_3.1_SEP_24.xlsx</td><td>08/10/2024</td></tr><tr><td>Exports</td><td>Exports_Feedstocks</td><td>201903</td><td>678.19</td><td>ET_3.1_SEP_24.xlsx</td><td>08/10/2024</td></tr><tr><td>Exports</td><td>Exports_Feedstocks</td><td>201904</td><td>547.36</td><td>ET_3.1_SEP_24.xlsx</td><td>08/10/2024</td></tr><tr><td>Exports</td><td>Exports_Feedstocks</td><td>202001</td><td>649.14</td><td>ET_3.1_SEP_24.xlsx</td><td>08/10/2024</td></tr><tr><td>Exports</td><td>Exports_Feedstocks</td><td>202002</td><td>487.08</td><td>ET_3.1_SEP_24.xlsx</td><td>08/10/2024</td></tr><tr><td>Exports</td><td>Exports_Feedstocks</td><td>202003</td><td>237.02</td><td>ET_3.1_SEP_24.xlsx</td><td>08/10/2024</td></tr><tr><td>Exports</td><td>Exports_Feedstocks</td><td>202004</td><td>195.5</td><td>ET_3.1_SEP_24.xlsx</td><td>08/10/2024</td></tr><tr><td>Exports</td><td>Exports_Feedstocks</td><td>202101</td><td>305.72</td><td>ET_3.1_SEP_24.xlsx</td><td>08/10/2024</td></tr><tr><td>Exports</td><td>Exports_Feedstocks</td><td>202102</td><td>541.94</td><td>ET_3.1_SEP_24.xlsx</td><td>08/10/2024</td></tr><tr><td>Exports</td><td>Exports_Feedstocks</td><td>202103</td><td>363.44</td><td>ET_3.1_SEP_24.xlsx</td><td>08/10/2024</td></tr><tr><td>Exports</td><td>Exports_Feedstocks</td><td>202104</td><td>585.18</td><td>ET_3.1_SEP_24.xlsx</td><td>08/10/2024</td></tr><tr><td>Exports</td><td>Exports_Feedstocks</td><td>202201</td><td>480.17</td><td>ET_3.1_SEP_24.xlsx</td><td>08/10/2024</td></tr><tr><td>Exports</td><td>Exports_Feedstocks</td><td>202202</td><td>409.78</td><td>ET_3.1_SEP_24.xlsx</td><td>08/10/2024</td></tr><tr><td>Exports</td><td>Exports_Feedstocks</td><td>202203</td><td>438.93</td><td>ET_3.1_SEP_24.xlsx</td><td>08/10/2024</td></tr><tr><td>Exports</td><td>Exports_Feedstocks</td><td>202204</td><td>995.99</td><td>ET_3.1_SEP_24.xlsx</td><td>08/10/2024</td></tr><tr><td>Exports</td><td>Exports_Feedstocks</td><td>202301</td><td>343.92</td><td>ET_3.1_SEP_24.xlsx</td><td>08/10/2024</td></tr><tr><td>Exports</td><td>Exports_Feedstocks</td><td>202302</td><td>672.67</td><td>ET_3.1_SEP_24.xlsx</td><td>08/10/2024</td></tr><tr><td>Exports</td><td>Exports_Feedstocks</td><td>202303</td><td>676.29</td><td>ET_3.1_SEP_24.xlsx</td><td>08/10/2024</td></tr><tr><td>Exports</td><td>Exports_Feedstocks</td><td>202304</td><td>520.99</td><td>ET_3.1_SEP_24.xlsx</td><td>08/10/2024</td></tr><tr><td>Exports</td><td>Exports_Feedstocks</td><td>202401</td><td>384.36</td><td>ET_3.1_SEP_24.xlsx</td><td>08/10/2024</td></tr><tr><td>Exports</td><td>Exports_Feedstocks</td><td>202402</td><td>698.33</td><td>ET_3.1_SEP_24.xlsx</td><td>08/10/2024</td></tr><tr><td>Stock change</td><td>Stock change</td><td>199901</td><td>238.41</td><td>ET_3.1_SEP_24.xlsx</td><td>08/10/2024</td></tr><tr><td>Stock change</td><td>Stock change</td><td>199902</td><td>460.68</td><td>ET_3.1_SEP_24.xlsx</td><td>08/10/2024</td></tr><tr><td>Stock change</td><td>Stock change</td><td>199903</td><td>-427.93</td><td>ET_3.1_SEP_24.xlsx</td><td>08/10/2024</td></tr><tr><td>Stock change</td><td>Stock change</td><td>199904</td><td>-468.72</td><td>ET_3.1_SEP_24.xlsx</td><td>08/10/2024</td></tr><tr><td>Stock change</td><td>Stock change</td><td>200001</td><td>5.83</td><td>ET_3.1_SEP_24.xlsx</td><td>08/10/2024</td></tr><tr><td>Stock change</td><td>Stock change</td><td>200002</td><td>850.66</td><td>ET_3.1_SEP_24.xlsx</td><td>08/10/2024</td></tr><tr><td>Stock change</td><td>Stock change</td><td>200003</td><td>-264.86</td><td>ET_3.1_SEP_24.xlsx</td><td>08/10/2024</td></tr><tr><td>Stock change</td><td>Stock change</td><td>200004</td><td>506.39</td><td>ET_3.1_SEP_24.xlsx</td><td>08/10/2024</td></tr><tr><td>Stock change</td><td>Stock change</td><td>200101</td><td>-628.05</td><td>ET_3.1_SEP_24.xlsx</td><td>08/10/2024</td></tr><tr><td>Stock change</td><td>Stock change</td><td>200102</td><td>674.24</td><td>ET_3.1_SEP_24.xlsx</td><td>08/10/2024</td></tr><tr><td>Stock change</td><td>Stock change</td><td>200103</td><td>139.78</td><td>ET_3.1_SEP_24.xlsx</td><td>08/10/2024</td></tr><tr><td>Stock change</td><td>Stock change</td><td>200104</td><td>-800.3</td><td>ET_3.1_SEP_24.xlsx</td><td>08/10/2024</td></tr><tr><td>Stock change</td><td>Stock change</td><td>200201</td><td>389.16</td><td>ET_3.1_SEP_24.xlsx</td><td>08/10/2024</td></tr><tr><td>Stock change</td><td>Stock change</td><td>200202</td><td>-744.24</td><td>ET_3.1_SEP_24.xlsx</td><td>08/10/2024</td></tr><tr><td>Stock change</td><td>Stock change</td><td>200203</td><td>708.02</td><td>ET_3.1_SEP_24.xlsx</td><td>08/10/2024</td></tr><tr><td>Stock change</td><td>Stock change</td><td>200204</td><td>-210.33</td><td>ET_3.1_SEP_24.xlsx</td><td>08/10/2024</td></tr><tr><td>Stock change</td><td>Stock change</td><td>200301</td><td>-370.67</td><td>ET_3.1_SEP_24.xlsx</td><td>08/10/2024</td></tr><tr><td>Stock change</td><td>Stock change</td><td>200302</td><td>771.85</td><td>ET_3.1_SEP_24.xlsx</td><td>08/10/2024</td></tr><tr><td>Stock change</td><td>Stock change</td><td>200303</td><td>358.14</td><td>ET_3.1_SEP_24.xlsx</td><td>08/10/2024</td></tr><tr><td>Stock change</td><td>Stock change</td><td>200304</td><td>-290.11</td><td>ET_3.1_SEP_24.xlsx</td><td>08/10/2024</td></tr><tr><td>Stock change</td><td>Stock change</td><td>200401</td><td>-381.21</td><td>ET_3.1_SEP_24.xlsx</td><td>08/10/2024</td></tr><tr><td>Stock change</td><td>Stock change</td><td>200402</td><td>-335.41</td><td>ET_3.1_SEP_24.xlsx</td><td>08/10/2024</td></tr><tr><td>Stock change</td><td>Stock change</td><td>200403</td><td>254.59</td><td>ET_3.1_SEP_24.xlsx</td><td>08/10/2024</td></tr><tr><td>Stock change</td><td>Stock change</td><td>200404</td><td>328.76</td><td>ET_3.1_SEP_24.xlsx</td><td>08/10/2024</td></tr><tr><td>Stock change</td><td>Stock change</td><td>200501</td><td>-329.36</td><td>ET_3.1_SEP_24.xlsx</td><td>08/10/2024</td></tr><tr><td>Stock change</td><td>Stock change</td><td>200502</td><td>-376.13</td><td>ET_3.1_SEP_24.xlsx</td><td>08/10/2024</td></tr><tr><td>Stock change</td><td>Stock change</td><td>200503</td><td>-245.75</td><td>ET_3.1_SEP_24.xlsx</td><td>08/10/2024</td></tr><tr><td>Stock change</td><td>Stock change</td><td>200504</td><td>566.66</td><td>ET_3.1_SEP_24.xlsx</td><td>08/10/2024</td></tr><tr><td>Stock change</td><td>Stock change</td><td>200601</td><td>-593.46</td><td>ET_3.1_SEP_24.xlsx</td><td>08/10/2024</td></tr><tr><td>Stock change</td><td>Stock change</td><td>200602</td><td>9.54</td><td>ET_3.1_SEP_24.xlsx</td><td>08/10/2024</td></tr><tr><td>Stock change</td><td>Stock change</td><td>200603</td><td>897.72</td><td>ET_3.1_SEP_24.xlsx</td><td>08/10/2024</td></tr><tr><td>Stock change</td><td>Stock change</td><td>200604</td><td>-669.1</td><td>ET_3.1_SEP_24.xlsx</td><td>08/10/2024</td></tr><tr><td>Stock change</td><td>Stock change</td><td>200701</td><td>-850.3</td><td>ET_3.1_SEP_24.xlsx</td><td>08/10/2024</td></tr><tr><td>Stock change</td><td>Stock change</td><td>200702</td><td>896.77</td><td>ET_3.1_SEP_24.xlsx</td><td>08/10/2024</td></tr><tr><td>Stock change</td><td>Stock change</td><td>200703</td><td>777.42</td><td>ET_3.1_SEP_24.xlsx</td><td>08/10/2024</td></tr><tr><td>Stock change</td><td>Stock change</td><td>200704</td><td>-39.97</td><td>ET_3.1_SEP_24.xlsx</td><td>08/10/2024</td></tr><tr><td>Stock change</td><td>Stock change</td><td>200801</td><td>-599.37</td><td>ET_3.1_SEP_24.xlsx</td><td>08/10/2024</td></tr><tr><td>Stock change</td><td>Stock change</td><td>200802</td><td>-106.68</td><td>ET_3.1_SEP_24.xlsx</td><td>08/10/2024</td></tr><tr><td>Stock change</td><td>Stock change</td><td>200803</td><td>612.77</td><td>ET_3.1_SEP_24.xlsx</td><td>08/10/2024</td></tr><tr><td>Stock change</td><td>Stock change</td><td>200804</td><td>156.34</td><td>ET_3.1_SEP_24.xlsx</td><td>08/10/2024</td></tr><tr><td>Stock change</td><td>Stock change</td><td>200901</td><td>-165.62</td><td>ET_3.1_SEP_24.xlsx</td><td>08/10/2024</td></tr><tr><td>Stock change</td><td>Stock change</td><td>200902</td><td>478.44</td><td>ET_3.1_SEP_24.xlsx</td><td>08/10/2024</td></tr><tr><td>Stock change</td><td>Stock change</td><td>200903</td><td>31.21</td><td>ET_3.1_SEP_24.xlsx</td><td>08/10/2024</td></tr><tr><td>Stock change</td><td>Stock change</td><td>200904</td><td>201.31</td><td>ET_3.1_SEP_24.xlsx</td><td>08/10/2024</td></tr><tr><td>Stock change</td><td>Stock change</td><td>201001</td><td>-95.45</td><td>ET_3.1_SEP_24.xlsx</td><td>08/10/2024</td></tr><tr><td>Stock change</td><td>Stock change</td><td>201002</td><td>-553.42</td><td>ET_3.1_SEP_24.xlsx</td><td>08/10/2024</td></tr><tr><td>Stock change</td><td>Stock change</td><td>201003</td><td>184.01</td><td>ET_3.1_SEP_24.xlsx</td><td>08/10/2024</td></tr><tr><td>Stock change</td><td>Stock change</td><td>201004</td><td>425.85</td><td>ET_3.1_SEP_24.xlsx</td><td>08/10/2024</td></tr><tr><td>Stock change</td><td>Stock change</td><td>201101</td><td>-653.75</td><td>ET_3.1_SEP_24.xlsx</td><td>08/10/2024</td></tr><tr><td>Stock change</td><td>Stock change</td><td>201102</td><td>814.59</td><td>ET_3.1_SEP_24.xlsx</td><td>08/10/2024</td></tr><tr><td>Stock change</td><td>Stock change</td><td>201103</td><td>364.7</td><td>ET_3.1_SEP_24.xlsx</td><td>08/10/2024</td></tr><tr><td>Stock change</td><td>Stock change</td><td>201104</td><td>85.13</td><td>ET_3.1_SEP_24.xlsx</td><td>08/10/2024</td></tr><tr><td>Stock change</td><td>Stock change</td><td>201201</td><td>-196.83</td><td>ET_3.1_SEP_24.xlsx</td><td>08/10/2024</td></tr><tr><td>Stock change</td><td>Stock change</td><td>201202</td><td>-223.07</td><td>ET_3.1_SEP_24.xlsx</td><td>08/10/2024</td></tr><tr><td>Stock change</td><td>Stock change</td><td>201203</td><td>673.06</td><td>ET_3.1_SEP_24.xlsx</td><td>08/10/2024</td></tr><tr><td>Stock change</td><td>Stock change</td><td>201204</td><td>-739.55</td><td>ET_3.1_SEP_24.xlsx</td><td>08/10/2024</td></tr><tr><td>Stock change</td><td>Stock change</td><td>201301</td><td>555.45</td><td>ET_3.1_SEP_24.xlsx</td><td>08/10/2024</td></tr><tr><td>Stock change</td><td>Stock change</td><td>201302</td><td>-222.44</td><td>ET_3.1_SEP_24.xlsx</td><td>08/10/2024</td></tr><tr><td>Stock change</td><td>Stock change</td><td>201303</td><td>615.45</td><td>ET_3.1_SEP_24.xlsx</td><td>08/10/2024</td></tr><tr><td>Stock change</td><td>Stock change</td><td>201304</td><td>-224.48</td><td>ET_3.1_SEP_24.xlsx</td><td>08/10/2024</td></tr><tr><td>Stock change</td><td>Stock change</td><td>201401</td><td>-288.03</td><td>ET_3.1_SEP_24.xlsx</td><td>08/10/2024</td></tr><tr><td>Stock change</td><td>Stock change</td><td>201402</td><td>63.03</td><td>ET_3.1_SEP_24.xlsx</td><td>08/10/2024</td></tr><tr><td>Stock change</td><td>Stock change</td><td>201403</td><td>198.87</td><td>ET_3.1_SEP_24.xlsx</td><td>08/10/2024</td></tr><tr><td>Stock change</td><td>Stock change</td><td>201404</td><td>-565.7</td><td>ET_3.1_SEP_24.xlsx</td><td>08/10/2024</td></tr><tr><td>Stock change</td><td>Stock change</td><td>201501</td><td>-58.85</td><td>ET_3.1_SEP_24.xlsx</td><td>08/10/2024</td></tr><tr><td>Stock change</td><td>Stock change</td><td>201502</td><td>-384.1</td><td>ET_3.1_SEP_24.xlsx</td><td>08/10/2024</td></tr><tr><td>Stock change</td><td>Stock change</td><td>201503</td><td>970.49</td><td>ET_3.1_SEP_24.xlsx</td><td>08/10/2024</td></tr><tr><td>Stock change</td><td>Stock change</td><td>201504</td><td>-625.66</td><td>ET_3.1_SEP_24.xlsx</td><td>08/10/2024</td></tr><tr><td>Stock change</td><td>Stock change</td><td>201601</td><td>355.08</td><td>ET_3.1_SEP_24.xlsx</td><td>08/10/2024</td></tr><tr><td>Stock change</td><td>Stock change</td><td>201602</td><td>-492.45</td><td>ET_3.1_SEP_24.xlsx</td><td>08/10/2024</td></tr><tr><td>Stock change</td><td>Stock change</td><td>201603</td><td>95.31</td><td>ET_3.1_SEP_24.xlsx</td><td>08/10/2024</td></tr><tr><td>Stock change</td><td>Stock change</td><td>201604</td><td>-82.7</td><td>ET_3.1_SEP_24.xlsx</td><td>08/10/2024</td></tr><tr><td>Stock change</td><td>Stock change</td><td>201701</td><td>413.66</td><td>ET_3.1_SEP_24.xlsx</td><td>08/10/2024</td></tr><tr><td>Stock change</td><td>Stock change</td><td>201702</td><td>-93.66</td><td>ET_3.1_SEP_24.xlsx</td><td>08/10/2024</td></tr><tr><td>Stock change</td><td>Stock change</td><td>201703</td><td>191.42</td><td>ET_3.1_SEP_24.xlsx</td><td>08/10/2024</td></tr><tr><td>Stock change</td><td>Stock change</td><td>201704</td><td>-181.46</td><td>ET_3.1_SEP_24.xlsx</td><td>08/10/2024</td></tr><tr><td>Stock change</td><td>Stock change</td><td>201801</td><td>174.62</td><td>ET_3.1_SEP_24.xlsx</td><td>08/10/2024</td></tr><tr><td>Stock change</td><td>Stock change</td><td>201802</td><td>-930.78</td><td>ET_3.1_SEP_24.xlsx</td><td>08/10/2024</td></tr><tr><td>Stock change</td><td>Stock change</td><td>201803</td><td>800.59</td><td>ET_3.1_SEP_24.xlsx</td><td>08/10/2024</td></tr><tr><td>Stock change</td><td>Stock change</td><td>201804</td><td>94.35</td><td>ET_3.1_SEP_24.xlsx</td><td>08/10/2024</td></tr><tr><td>Stock change</td><td>Stock change</td><td>201901</td><td>-564.6</td><td>ET_3.1_SEP_24.xlsx</td><td>08/10/2024</td></tr><tr><td>Stock change</td><td>Stock change</td><td>201902</td><td>4.79</td><td>ET_3.1_SEP_24.xlsx</td><td>08/10/2024</td></tr><tr><td>Stock change</td><td>Stock change</td><td>201903</td><td>635.76</td><td>ET_3.1_SEP_24.xlsx</td><td>08/10/2024</td></tr><tr><td>Stock change</td><td>Stock change</td><td>201904</td><td>-166.82</td><td>ET_3.1_SEP_24.xlsx</td><td>08/10/2024</td></tr><tr><td>Stock change</td><td>Stock change</td><td>202001</td><td>-49.61</td><td>ET_3.1_SEP_24.xlsx</td><td>08/10/2024</td></tr><tr><td>Stock change</td><td>Stock change</td><td>202002</td><td>-422.12</td><td>ET_3.1_SEP_24.xlsx</td><td>08/10/2024</td></tr><tr><td>Stock change</td><td>Stock change</td><td>202003</td><td>608.22</td><td>ET_3.1_SEP_24.xlsx</td><td>08/10/2024</td></tr><tr><td>Stock change</td><td>Stock change</td><td>202004</td><td>25.76</td><td>ET_3.1_SEP_24.xlsx</td><td>08/10/2024</td></tr><tr><td>Stock change</td><td>Stock change</td><td>202101</td><td>136.73</td><td>ET_3.1_SEP_24.xlsx</td><td>08/10/2024</td></tr><tr><td>Stock change</td><td>Stock change</td><td>202102</td><td>-142.91</td><td>ET_3.1_SEP_24.xlsx</td><td>08/10/2024</td></tr><tr><td>Stock change</td><td>Stock change</td><td>202103</td><td>312.58</td><td>ET_3.1_SEP_24.xlsx</td><td>08/10/2024</td></tr><tr><td>Stock change</td><td>Stock change</td><td>202104</td><td>-158.78</td><td>ET_3.1_SEP_24.xlsx</td><td>08/10/2024</td></tr><tr><td>Stock change</td><td>Stock change</td><td>202201</td><td>2.41</td><td>ET_3.1_SEP_24.xlsx</td><td>08/10/2024</td></tr><tr><td>Stock change</td><td>Stock change</td><td>202202</td><td>423.56</td><td>ET_3.1_SEP_24.xlsx</td><td>08/10/2024</td></tr><tr><td>Stock change</td><td>Stock change</td><td>202203</td><td>-627.44</td><td>ET_3.1_SEP_24.xlsx</td><td>08/10/2024</td></tr><tr><td>Stock change</td><td>Stock change</td><td>202204</td><td>615.25</td><td>ET_3.1_SEP_24.xlsx</td><td>08/10/2024</td></tr><tr><td>Stock change</td><td>Stock change</td><td>202301</td><td>-311.04</td><td>ET_3.1_SEP_24.xlsx</td><td>08/10/2024</td></tr><tr><td>Stock change</td><td>Stock change</td><td>202302</td><td>17.03</td><td>ET_3.1_SEP_24.xlsx</td><td>08/10/2024</td></tr><tr><td>Stock change</td><td>Stock change</td><td>202303</td><td>-165.9</td><td>ET_3.1_SEP_24.xlsx</td><td>08/10/2024</td></tr><tr><td>Stock change</td><td>Stock change</td><td>202304</td><td>-248.39</td><td>ET_3.1_SEP_24.xlsx</td><td>08/10/2024</td></tr><tr><td>Stock change</td><td>Stock change</td><td>202401</td><td>126.91</td><td>ET_3.1_SEP_24.xlsx</td><td>08/10/2024</td></tr><tr><td>Stock change</td><td>Stock change</td><td>202402</td><td>-47.53</td><td>ET_3.1_SEP_24.xlsx</td><td>08/10/2024</td></tr><tr><td>Transfers</td><td>Transfers</td><td>199901</td><td>-369.87</td><td>ET_3.1_SEP_24.xlsx</td><td>08/10/2024</td></tr><tr><td>Transfers</td><td>Transfers</td><td>199902</td><td>-472.96</td><td>ET_3.1_SEP_24.xlsx</td><td>08/10/2024</td></tr><tr><td>Transfers</td><td>Transfers</td><td>199903</td><td>-207.64</td><td>ET_3.1_SEP_24.xlsx</td><td>08/10/2024</td></tr><tr><td>Transfers</td><td>Transfers</td><td>199904</td><td>-167.53</td><td>ET_3.1_SEP_24.xlsx</td><td>08/10/2024</td></tr><tr><td>Transfers</td><td>Transfers</td><td>200001</td><td>-76.22</td><td>ET_3.1_SEP_24.xlsx</td><td>08/10/2024</td></tr><tr><td>Transfers</td><td>Transfers</td><td>200002</td><td>48.68</td><td>ET_3.1_SEP_24.xlsx</td><td>08/10/2024</td></tr><tr><td>Transfers</td><td>Transfers</td><td>200003</td><td>-26.36</td><td>ET_3.1_SEP_24.xlsx</td><td>08/10/2024</td></tr><tr><td>Transfers</td><td>Transfers</td><td>200004</td><td>163.49</td><td>ET_3.1_SEP_24.xlsx</td><td>08/10/2024</td></tr><tr><td>Transfers</td><td>Transfers</td><td>200101</td><td>655.33</td><td>ET_3.1_SEP_24.xlsx</td><td>08/10/2024</td></tr><tr><td>Transfers</td><td>Transfers</td><td>200102</td><td>78.98</td><td>ET_3.1_SEP_24.xlsx</td><td>08/10/2024</td></tr><tr><td>Transfers</td><td>Transfers</td><td>200103</td><td>8.72</td><td>ET_3.1_SEP_24.xlsx</td><td>08/10/2024</td></tr><tr><td>Transfers</td><td>Transfers</td><td>200104</td><td>9.65</td><td>ET_3.1_SEP_24.xlsx</td><td>08/10/2024</td></tr><tr><td>Transfers</td><td>Transfers</td><td>200201</td><td>-427.3</td><td>ET_3.1_SEP_24.xlsx</td><td>08/10/2024</td></tr><tr><td>Transfers</td><td>Transfers</td><td>200202</td><td>-305.05</td><td>ET_3.1_SEP_24.xlsx</td><td>08/10/2024</td></tr><tr><td>Transfers</td><td>Transfers</td><td>200203</td><td>-453.17</td><td>ET_3.1_SEP_24.xlsx</td><td>08/10/2024</td></tr><tr><td>Transfers</td><td>Transfers</td><td>200204</td><td>-369.78</td><td>ET_3.1_SEP_24.xlsx</td><td>08/10/2024</td></tr><tr><td>Transfers</td><td>Transfers</td><td>200301</td><td>-307.76</td><td>ET_3.1_SEP_24.xlsx</td><td>08/10/2024</td></tr><tr><td>Transfers</td><td>Transfers</td><td>200302</td><td>-322.44</td><td>ET_3.1_SEP_24.xlsx</td><td>08/10/2024</td></tr><tr><td>Transfers</td><td>Transfers</td><td>200303</td><td>-51.82</td><td>ET_3.1_SEP_24.xlsx</td><td>08/10/2024</td></tr><tr><td>Transfers</td><td>Transfers</td><td>200304</td><td>-325.61</td><td>ET_3.1_SEP_24.xlsx</td><td>08/10/2024</td></tr><tr><td>Transfers</td><td>Transfers</td><td>200401</td><td>-984.33</td><td>ET_3.1_SEP_24.xlsx</td><td>08/10/2024</td></tr><tr><td>Transfers</td><td>Transfers</td><td>200402</td><td>-870.85</td><td>ET_3.1_SEP_24.xlsx</td><td>08/10/2024</td></tr><tr><td>Transfers</td><td>Transfers</td><td>200403</td><td>-759.17</td><td>ET_3.1_SEP_24.xlsx</td><td>08/10/2024</td></tr><tr><td>Transfers</td><td>Transfers</td><td>200404</td><td>-928.76</td><td>ET_3.1_SEP_24.xlsx</td><td>08/10/2024</td></tr><tr><td>Transfers</td><td>Transfers</td><td>200501</td><td>-637.18</td><td>ET_3.1_SEP_24.xlsx</td><td>08/10/2024</td></tr><tr><td>Transfers</td><td>Transfers</td><td>200502</td><td>-866.16</td><td>ET_3.1_SEP_24.xlsx</td><td>08/10/2024</td></tr><tr><td>Transfers</td><td>Transfers</td><td>200503</td><td>-584.26</td><td>ET_3.1_SEP_24.xlsx</td><td>08/10/2024</td></tr><tr><td>Transfers</td><td>Transfers</td><td>200504</td><td>-966.51</td><td>ET_3.1_SEP_24.xlsx</td><td>08/10/2024</td></tr><tr><td>Transfers</td><td>Transfers</td><td>200601</td><td>-577.08</td><td>ET_3.1_SEP_24.xlsx</td><td>08/10/2024</td></tr><tr><td>Transfers</td><td>Transfers</td><td>200602</td><td>-649.4</td><td>ET_3.1_SEP_24.xlsx</td><td>08/10/2024</td></tr><tr><td>Transfers</td><td>Transfers</td><td>200603</td><td>-571.66</td><td>ET_3.1_SEP_24.xlsx</td><td>08/10/2024</td></tr><tr><td>Transfers</td><td>Transfers</td><td>200604</td><td>-542.76</td><td>ET_3.1_SEP_24.xlsx</td><td>08/10/2024</td></tr><tr><td>Transfers</td><td>Transfers</td><td>200701</td><td>-645.43</td><td>ET_3.1_SEP_24.xlsx</td><td>08/10/2024</td></tr><tr><td>Transfers</td><td>Transfers</td><td>200702</td><td>-548.48</td><td>ET_3.1_SEP_24.xlsx</td><td>08/10/2024</td></tr><tr><td>Transfers</td><td>Transfers</td><td>200703</td><td>-543.48</td><td>ET_3.1_SEP_24.xlsx</td><td>08/10/2024</td></tr><tr><td>Transfers</td><td>Transfers</td><td>200704</td><td>-469.8</td><td>ET_3.1_SEP_24.xlsx</td><td>08/10/2024</td></tr><tr><td>Transfers</td><td>Transfers</td><td>200801</td><td>-821.8</td><td>ET_3.1_SEP_24.xlsx</td><td>08/10/2024</td></tr><tr><td>Transfers</td><td>Transfers</td><td>200802</td><td>-824.53</td><td>ET_3.1_SEP_24.xlsx</td><td>08/10/2024</td></tr><tr><td>Transfers</td><td>Transfers</td><td>200803</td><td>-573.26</td><td>ET_3.1_SEP_24.xlsx</td><td>08/10/2024</td></tr><tr><td>Transfers</td><td>Transfers</td><td>200804</td><td>-537.94</td><td>ET_3.1_SEP_24.xlsx</td><td>08/10/2024</td></tr><tr><td>Transfers</td><td>Transfers</td><td>200901</td><td>-623.64</td><td>ET_3.1_SEP_24.xlsx</td><td>08/10/2024</td></tr><tr><td>Transfers</td><td>Transfers</td><td>200902</td><td>-818.26</td><td>ET_3.1_SEP_24.xlsx</td><td>08/10/2024</td></tr><tr><td>Transfers</td><td>Transfers</td><td>200903</td><td>-636.46</td><td>ET_3.1_SEP_24.xlsx</td><td>08/10/2024</td></tr><tr><td>Transfers</td><td>Transfers</td><td>200904</td><td>-631.62</td><td>ET_3.1_SEP_24.xlsx</td><td>08/10/2024</td></tr><tr><td>Transfers</td><td>Transfers</td><td>201001</td><td>-568.83</td><td>ET_3.1_SEP_24.xlsx</td><td>08/10/2024</td></tr><tr><td>Transfers</td><td>Transfers</td><td>201002</td><td>-713.37</td><td>ET_3.1_SEP_24.xlsx</td><td>08/10/2024</td></tr><tr><td>Transfers</td><td>Transfers</td><td>201003</td><td>-531.05</td><td>ET_3.1_SEP_24.xlsx</td><td>08/10/2024</td></tr><tr><td>Transfers</td><td>Transfers</td><td>201004</td><td>-556.41</td><td>ET_3.1_SEP_24.xlsx</td><td>08/10/2024</td></tr><tr><td>Transfers</td><td>Transfers</td><td>201101</td><td>-567.47</td><td>ET_3.1_SEP_24.xlsx</td><td>08/10/2024</td></tr><tr><td>Transfers</td><td>Transfers</td><td>201102</td><td>-615.98</td><td>ET_3.1_SEP_24.xlsx</td><td>08/10/2024</td></tr><tr><td>Transfers</td><td>Transfers</td><td>201103</td><td>-566.4</td><td>ET_3.1_SEP_24.xlsx</td><td>08/10/2024</td></tr><tr><td>Transfers</td><td>Transfers</td><td>201104</td><td>-485.46</td><td>ET_3.1_SEP_24.xlsx</td><td>08/10/2024</td></tr><tr><td>Transfers</td><td>Transfers</td><td>201201</td><td>-637.78</td><td>ET_3.1_SEP_24.xlsx</td><td>08/10/2024</td></tr><tr><td>Transfers</td><td>Transfers</td><td>201202</td><td>-580.42</td><td>ET_3.1_SEP_24.xlsx</td><td>08/10/2024</td></tr><tr><td>Transfers</td><td>Transfers</td><td>201203</td><td>-277.65</td><td>ET_3.1_SEP_24.xlsx</td><td>08/10/2024</td></tr><tr><td>Transfers</td><td>Transfers</td><td>201204</td><td>-366.63</td><td>ET_3.1_SEP_24.xlsx</td><td>08/10/2024</td></tr><tr><td>Transfers</td><td>Transfers</td><td>201301</td><td>-520.73</td><td>ET_3.1_SEP_24.xlsx</td><td>08/10/2024</td></tr><tr><td>Transfers</td><td>Transfers</td><td>201302</td><td>-598.4</td><td>ET_3.1_SEP_24.xlsx</td><td>08/10/2024</td></tr><tr><td>Transfers</td><td>Transfers</td><td>201303</td><td>-506.87</td><td>ET_3.1_SEP_24.xlsx</td><td>08/10/2024</td></tr><tr><td>Transfers</td><td>Transfers</td><td>201304</td><td>-132.28</td><td>ET_3.1_SEP_24.xlsx</td><td>08/10/2024</td></tr><tr><td>Transfers</td><td>Transfers</td><td>201401</td><td>-353.96</td><td>ET_3.1_SEP_24.xlsx</td><td>08/10/2024</td></tr><tr><td>Transfers</td><td>Transfers</td><td>201402</td><td>-323.63</td><td>ET_3.1_SEP_24.xlsx</td><td>08/10/2024</td></tr><tr><td>Transfers</td><td>Transfers</td><td>201403</td><td>-306.11</td><td>ET_3.1_SEP_24.xlsx</td><td>08/10/2024</td></tr><tr><td>Transfers</td><td>Transfers</td><td>201404</td><td>-454.8</td><td>ET_3.1_SEP_24.xlsx</td><td>08/10/2024</td></tr><tr><td>Transfers</td><td>Transfers</td><td>201501</td><td>-99.6</td><td>ET_3.1_SEP_24.xlsx</td><td>08/10/2024</td></tr><tr><td>Transfers</td><td>Transfers</td><td>201502</td><td>-381.67</td><td>ET_3.1_SEP_24.xlsx</td><td>08/10/2024</td></tr><tr><td>Transfers</td><td>Transfers</td><td>201503</td><td>-225.07</td><td>ET_3.1_SEP_24.xlsx</td><td>08/10/2024</td></tr><tr><td>Transfers</td><td>Transfers</td><td>201504</td><td>-445.39</td><td>ET_3.1_SEP_24.xlsx</td><td>08/10/2024</td></tr><tr><td>Transfers</td><td>Transfers</td><td>201601</td><td>-234.84</td><td>ET_3.1_SEP_24.xlsx</td><td>08/10/2024</td></tr><tr><td>Transfers</td><td>Transfers</td><td>201602</td><td>-313.79</td><td>ET_3.1_SEP_24.xlsx</td><td>08/10/2024</td></tr><tr><td>Transfers</td><td>Transfers</td><td>201603</td><td>-208.4</td><td>ET_3.1_SEP_24.xlsx</td><td>08/10/2024</td></tr><tr><td>Transfers</td><td>Transfers</td><td>201604</td><td>-480.21</td><td>ET_3.1_SEP_24.xlsx</td><td>08/10/2024</td></tr><tr><td>Transfers</td><td>Transfers</td><td>201701</td><td>-609.32</td><td>ET_3.1_SEP_24.xlsx</td><td>08/10/2024</td></tr><tr><td>Transfers</td><td>Transfers</td><td>201702</td><td>-582.09</td><td>ET_3.1_SEP_24.xlsx</td><td>08/10/2024</td></tr><tr><td>Transfers</td><td>Transfers</td><td>201703</td><td>-435.83</td><td>ET_3.1_SEP_24.xlsx</td><td>08/10/2024</td></tr><tr><td>Transfers</td><td>Transfers</td><td>201704</td><td>-460.87</td><td>ET_3.1_SEP_24.xlsx</td><td>08/10/2024</td></tr><tr><td>Transfers</td><td>Transfers</td><td>201801</td><td>-252.94</td><td>ET_3.1_SEP_24.xlsx</td><td>08/10/2024</td></tr><tr><td>Transfers</td><td>Transfers</td><td>201802</td><td>-326.97</td><td>ET_3.1_SEP_24.xlsx</td><td>08/10/2024</td></tr><tr><td>Transfers</td><td>Transfers</td><td>201803</td><td>-339.68</td><td>ET_3.1_SEP_24.xlsx</td><td>08/10/2024</td></tr><tr><td>Transfers</td><td>Transfers</td><td>201804</td><td>154.71</td><td>ET_3.1_SEP_24.xlsx</td><td>08/10/2024</td></tr><tr><td>Transfers</td><td>Transfers</td><td>201901</td><td>-395.7</td><td>ET_3.1_SEP_24.xlsx</td><td>08/10/2024</td></tr><tr><td>Transfers</td><td>Transfers</td><td>201902</td><td>-281.65</td><td>ET_3.1_SEP_24.xlsx</td><td>08/10/2024</td></tr><tr><td>Transfers</td><td>Transfers</td><td>201903</td><td>287.18</td><td>ET_3.1_SEP_24.xlsx</td><td>08/10/2024</td></tr><tr><td>Transfers</td><td>Transfers</td><td>201904</td><td>226.32</td><td>ET_3.1_SEP_24.xlsx</td><td>08/10/2024</td></tr><tr><td>Transfers</td><td>Transfers</td><td>202001</td><td>-129.68</td><td>ET_3.1_SEP_24.xlsx</td><td>08/10/2024</td></tr><tr><td>Transfers</td><td>Transfers</td><td>202002</td><td>-273.47</td><td>ET_3.1_SEP_24.xlsx</td><td>08/10/2024</td></tr><tr><td>Transfers</td><td>Transfers</td><td>202003</td><td>-233.35</td><td>ET_3.1_SEP_24.xlsx</td><td>08/10/2024</td></tr><tr><td>Transfers</td><td>Transfers</td><td>202004</td><td>-363.04</td><td>ET_3.1_SEP_24.xlsx</td><td>08/10/2024</td></tr><tr><td>Transfers</td><td>Transfers</td><td>202101</td><td>-106.97</td><td>ET_3.1_SEP_24.xlsx</td><td>08/10/2024</td></tr><tr><td>Transfers</td><td>Transfers</td><td>202102</td><td>288.73</td><td>ET_3.1_SEP_24.xlsx</td><td>08/10/2024</td></tr><tr><td>Transfers</td><td>Transfers</td><td>202103</td><td>-129.43</td><td>ET_3.1_SEP_24.xlsx</td><td>08/10/2024</td></tr><tr><td>Transfers</td><td>Transfers</td><td>202104</td><td>194.62</td><td>ET_3.1_SEP_24.xlsx</td><td>08/10/2024</td></tr><tr><td>Transfers</td><td>Transfers</td><td>202201</td><td>107.86</td><td>ET_3.1_SEP_24.xlsx</td><td>08/10/2024</td></tr><tr><td>Transfers</td><td>Transfers</td><td>202202</td><td>24.38</td><td>ET_3.1_SEP_24.xlsx</td><td>08/10/2024</td></tr><tr><td>Transfers</td><td>Transfers</td><td>202203</td><td>106.32</td><td>ET_3.1_SEP_24.xlsx</td><td>08/10/2024</td></tr><tr><td>Transfers</td><td>Transfers</td><td>202204</td><td>470.08</td><td>ET_3.1_SEP_24.xlsx</td><td>08/10/2024</td></tr><tr><td>Transfers</td><td>Transfers</td><td>202301</td><td>6.12</td><td>ET_3.1_SEP_24.xlsx</td><td>08/10/2024</td></tr><tr><td>Transfers</td><td>Transfers</td><td>202302</td><td>13.11</td><td>ET_3.1_SEP_24.xlsx</td><td>08/10/2024</td></tr><tr><td>Transfers</td><td>Transfers</td><td>202303</td><td>-43.52</td><td>ET_3.1_SEP_24.xlsx</td><td>08/10/2024</td></tr><tr><td>Transfers</td><td>Transfers</td><td>202304</td><td>-10.87</td><td>ET_3.1_SEP_24.xlsx</td><td>08/10/2024</td></tr><tr><td>Transfers</td><td>Transfers</td><td>202401</td><td>33.02</td><td>ET_3.1_SEP_24.xlsx</td><td>08/10/2024</td></tr><tr><td>Transfers</td><td>Transfers</td><td>202402</td><td>35.18</td><td>ET_3.1_SEP_24.xlsx</td><td>08/10/2024</td></tr><tr><td>Total supply</td><td>Total supply</td><td>199901</td><td>23594.36</td><td>ET_3.1_SEP_24.xlsx</td><td>08/10/2024</td></tr><tr><td>Total supply</td><td>Total supply</td><td>199902</td><td>22596.71</td><td>ET_3.1_SEP_24.xlsx</td><td>08/10/2024</td></tr><tr><td>Total supply</td><td>Total supply</td><td>199903</td><td>21282.27</td><td>ET_3.1_SEP_24.xlsx</td><td>08/10/2024</td></tr><tr><td>Total supply</td><td>Total supply</td><td>199904</td><td>21282.08</td><td>ET_3.1_SEP_24.xlsx</td><td>08/10/2024</td></tr><tr><td>Total supply</td><td>Total supply</td><td>200001</td><td>22698.17</td><td>ET_3.1_SEP_24.xlsx</td><td>08/10/2024</td></tr><tr><td>Total supply</td><td>Total supply</td><td>200002</td><td>21430.16</td><td>ET_3.1_SEP_24.xlsx</td><td>08/10/2024</td></tr><tr><td>Total supply</td><td>Total supply</td><td>200003</td><td>22099.67</td><td>ET_3.1_SEP_24.xlsx</td><td>08/10/2024</td></tr><tr><td>Total supply</td><td>Total supply</td><td>200004</td><td>22693.7</td><td>ET_3.1_SEP_24.xlsx</td><td>08/10/2024</td></tr><tr><td>Total supply</td><td>Total supply</td><td>200101</td><td>20876.72</td><td>ET_3.1_SEP_24.xlsx</td><td>08/10/2024</td></tr><tr><td>Total supply</td><td>Total supply</td><td>200102</td><td>18323.17</td><td>ET_3.1_SEP_24.xlsx</td><td>08/10/2024</td></tr><tr><td>Total supply</td><td>Total supply</td><td>200103</td><td>22006.67</td><td>ET_3.1_SEP_24.xlsx</td><td>08/10/2024</td></tr><tr><td>Total supply</td><td>Total supply</td><td>200104</td><td>22231.87</td><td>ET_3.1_SEP_24.xlsx</td><td>08/10/2024</td></tr><tr><td>Total supply</td><td>Total supply</td><td>200201</td><td>21096.85</td><td>ET_3.1_SEP_24.xlsx</td><td>08/10/2024</td></tr><tr><td>Total supply</td><td>Total supply</td><td>200202</td><td>21166.01</td><td>ET_3.1_SEP_24.xlsx</td><td>08/10/2024</td></tr><tr><td>Total supply</td><td>Total supply</td><td>200203</td><td>21750.98</td><td>ET_3.1_SEP_24.xlsx</td><td>08/10/2024</td></tr><tr><td>Total supply</td><td>Total supply</td><td>200204</td><td>20341.92</td><td>ET_3.1_SEP_24.xlsx</td><td>08/10/2024</td></tr><tr><td>Total supply</td><td>Total supply</td><td>200301</td><td>21325.13</td><td>ET_3.1_SEP_24.xlsx</td><td>08/10/2024</td></tr><tr><td>Total supply</td><td>Total supply</td><td>200302</td><td>22056.77</td><td>ET_3.1_SEP_24.xlsx</td><td>08/10/2024</td></tr><tr><td>Total supply</td><td>Total supply</td><td>200303</td><td>20660.02</td><td>ET_3.1_SEP_24.xlsx</td><td>08/10/2024</td></tr><tr><td>Total supply</td><td>Total supply</td><td>200304</td><td>20772.16</td><td>ET_3.1_SEP_24.xlsx</td><td>08/10/2024</td></tr><tr><td>Total supply</td><td>Total supply</td><td>200401</td><td>21273.83</td><td>ET_3.1_SEP_24.xlsx</td><td>08/10/2024</td></tr><tr><td>Total supply</td><td>Total supply</td><td>200402</td><td>22185.54</td><td>ET_3.1_SEP_24.xlsx</td><td>08/10/2024</td></tr><tr><td>Total supply</td><td>Total supply</td><td>200403</td><td>22938.29</td><td>ET_3.1_SEP_24.xlsx</td><td>08/10/2024</td></tr><tr><td>Total supply</td><td>Total supply</td><td>200404</td><td>23311.98</td><td>ET_3.1_SEP_24.xlsx</td><td>08/10/2024</td></tr><tr><td>Total supply</td><td>Total supply</td><td>200501</td><td>20888.28</td><td>ET_3.1_SEP_24.xlsx</td><td>08/10/2024</td></tr><tr><td>Total supply</td><td>Total supply</td><td>200502</td><td>21201.12</td><td>ET_3.1_SEP_24.xlsx</td><td>08/10/2024</td></tr><tr><td>Total supply</td><td>Total supply</td><td>200503</td><td>22623.36</td><td>ET_3.1_SEP_24.xlsx</td><td>08/10/2024</td></tr><tr><td>Total supply</td><td>Total supply</td><td>200504</td><td>21356.1</td><td>ET_3.1_SEP_24.xlsx</td><td>08/10/2024</td></tr><tr><td>Total supply</td><td>Total supply</td><td>200601</td><td>20029.44</td><td>ET_3.1_SEP_24.xlsx</td><td>08/10/2024</td></tr><tr><td>Total supply</td><td>Total supply</td><td>200602</td><td>20906.96</td><td>ET_3.1_SEP_24.xlsx</td><td>08/10/2024</td></tr><tr><td>Total supply</td><td>Total supply</td><td>200603</td><td>21655.53</td><td>ET_3.1_SEP_24.xlsx</td><td>08/10/2024</td></tr><tr><td>Total supply</td><td>Total supply</td><td>200604</td><td>20538.24</td><td>ET_3.1_SEP_24.xlsx</td><td>08/10/2024</td></tr><tr><td>Total supply</td><td>Total supply</td><td>200701</td><td>19079.13</td><td>ET_3.1_SEP_24.xlsx</td><td>08/10/2024</td></tr><tr><td>Total supply</td><td>Total supply</td><td>200702</td><td>21147.94</td><td>ET_3.1_SEP_24.xlsx</td><td>08/10/2024</td></tr><tr><td>Total supply</td><td>Total supply</td><td>200703</td><td>21222.27</td><td>ET_3.1_SEP_24.xlsx</td><td>08/10/2024</td></tr><tr><td>Total supply</td><td>Total supply</td><td>200704</td><td>20059.85</td><td>ET_3.1_SEP_24.xlsx</td><td>08/10/2024</td></tr><tr><td>Total supply</td><td>Total supply</td><td>200801</td><td>19189.82</td><td>ET_3.1_SEP_24.xlsx</td><td>08/10/2024</td></tr><tr><td>Total supply</td><td>Total supply</td><td>200802</td><td>20956.1</td><td>ET_3.1_SEP_24.xlsx</td><td>08/10/2024</td></tr><tr><td>Total supply</td><td>Total supply</td><td>200803</td><td>21160.0</td><td>ET_3.1_SEP_24.xlsx</td><td>08/10/2024</td></tr><tr><td>Total supply</td><td>Total supply</td><td>200804</td><td>19887.95</td><td>ET_3.1_SEP_24.xlsx</td><td>08/10/2024</td></tr><tr><td>Total supply</td><td>Total supply</td><td>200901</td><td>19608.58</td><td>ET_3.1_SEP_24.xlsx</td><td>08/10/2024</td></tr><tr><td>Total supply</td><td>Total supply</td><td>200902</td><td>18510.91</td><td>ET_3.1_SEP_24.xlsx</td><td>08/10/2024</td></tr><tr><td>Total supply</td><td>Total supply</td><td>200903</td><td>19137.12</td><td>ET_3.1_SEP_24.xlsx</td><td>08/10/2024</td></tr><tr><td>Total supply</td><td>Total supply</td><td>200904</td><td>18428.82</td><td>ET_3.1_SEP_24.xlsx</td><td>08/10/2024</td></tr><tr><td>Total supply</td><td>Total supply</td><td>201001</td><td>17639.15</td><td>ET_3.1_SEP_24.xlsx</td><td>08/10/2024</td></tr><tr><td>Total supply</td><td>Total supply</td><td>201002</td><td>18319.0</td><td>ET_3.1_SEP_24.xlsx</td><td>08/10/2024</td></tr><tr><td>Total supply</td><td>Total supply</td><td>201003</td><td>18789.3</td><td>ET_3.1_SEP_24.xlsx</td><td>08/10/2024</td></tr><tr><td>Total supply</td><td>Total supply</td><td>201004</td><td>18805.34</td><td>ET_3.1_SEP_24.xlsx</td><td>08/10/2024</td></tr><tr><td>Total supply</td><td>Total supply</td><td>201101</td><td>18112.53</td><td>ET_3.1_SEP_24.xlsx</td><td>08/10/2024</td></tr><tr><td>Total supply</td><td>Total supply</td><td>201102</td><td>19230.05</td><td>ET_3.1_SEP_24.xlsx</td><td>08/10/2024</td></tr><tr><td>Total supply</td><td>Total supply</td><td>201103</td><td>19171.54</td><td>ET_3.1_SEP_24.xlsx</td><td>08/10/2024</td></tr><tr><td>Total supply</td><td>Total supply</td><td>201104</td><td>18301.28</td><td>ET_3.1_SEP_24.xlsx</td><td>08/10/2024</td></tr><tr><td>Total supply</td><td>Total supply</td><td>201201</td><td>19417.18</td><td>ET_3.1_SEP_24.xlsx</td><td>08/10/2024</td></tr><tr><td>Total supply</td><td>Total supply</td><td>201202</td><td>19235.47</td><td>ET_3.1_SEP_24.xlsx</td><td>08/10/2024</td></tr><tr><td>Total supply</td><td>Total supply</td><td>201203</td><td>18088.61</td><td>ET_3.1_SEP_24.xlsx</td><td>08/10/2024</td></tr><tr><td>Total supply</td><td>Total supply</td><td>201204</td><td>15000.16</td><td>ET_3.1_SEP_24.xlsx</td><td>08/10/2024</td></tr><tr><td>Total supply</td><td>Total supply</td><td>201301</td><td>16577.79</td><td>ET_3.1_SEP_24.xlsx</td><td>08/10/2024</td></tr><tr><td>Total supply</td><td>Total supply</td><td>201302</td><td>17370.44</td><td>ET_3.1_SEP_24.xlsx</td><td>08/10/2024</td></tr><tr><td>Total supply</td><td>Total supply</td><td>201303</td><td>17020.63</td><td>ET_3.1_SEP_24.xlsx</td><td>08/10/2024</td></tr><tr><td>Total supply</td><td>Total supply</td><td>201304</td><td>14959.22</td><td>ET_3.1_SEP_24.xlsx</td><td>08/10/2024</td></tr><tr><td>Total supply</td><td>Total supply</td><td>201401</td><td>15538.69</td><td>ET_3.1_SEP_24.xlsx</td><td>08/10/2024</td></tr><tr><td>Total supply</td><td>Total supply</td><td>201402</td><td>15132.07</td><td>ET_3.1_SEP_24.xlsx</td><td>08/10/2024</td></tr><tr><td>Total supply</td><td>Total supply</td><td>201403</td><td>15246.23</td><td>ET_3.1_SEP_24.xlsx</td><td>08/10/2024</td></tr><tr><td>Total supply</td><td>Total supply</td><td>201404</td><td>15149.07</td><td>ET_3.1_SEP_24.xlsx</td><td>08/10/2024</td></tr><tr><td>Total supply</td><td>Total supply</td><td>201501</td><td>14618.36</td><td>ET_3.1_SEP_24.xlsx</td><td>08/10/2024</td></tr><tr><td>Total supply</td><td>Total supply</td><td>201502</td><td>14100.96</td><td>ET_3.1_SEP_24.xlsx</td><td>08/10/2024</td></tr><tr><td>Total supply</td><td>Total supply</td><td>201503</td><td>16331.22</td><td>ET_3.1_SEP_24.xlsx</td><td>08/10/2024</td></tr><tr><td>Total supply</td><td>Total supply</td><td>201504</td><td>16287.31</td><td>ET_3.1_SEP_24.xlsx</td><td>08/10/2024</td></tr><tr><td>Total supply</td><td>Total supply</td><td>201601</td><td>14224.64</td><td>ET_3.1_SEP_24.xlsx</td><td>08/10/2024</td></tr><tr><td>Total supply</td><td>Total supply</td><td>201602</td><td>15273.85</td><td>ET_3.1_SEP_24.xlsx</td><td>08/10/2024</td></tr><tr><td>Total supply</td><td>Total supply</td><td>201603</td><td>15367.08</td><td>ET_3.1_SEP_24.xlsx</td><td>08/10/2024</td></tr><tr><td>Total supply</td><td>Total supply</td><td>201604</td><td>15577.77</td><td>ET_3.1_SEP_24.xlsx</td><td>08/10/2024</td></tr><tr><td>Total supply</td><td>Total supply</td><td>201701</td><td>14583.93</td><td>ET_3.1_SEP_24.xlsx</td><td>08/10/2024</td></tr><tr><td>Total supply</td><td>Total supply</td><td>201702</td><td>15296.72</td><td>ET_3.1_SEP_24.xlsx</td><td>08/10/2024</td></tr><tr><td>Total supply</td><td>Total supply</td><td>201703</td><td>15435.11</td><td>ET_3.1_SEP_24.xlsx</td><td>08/10/2024</td></tr><tr><td>Total supply</td><td>Total supply</td><td>201704</td><td>14947.34</td><td>ET_3.1_SEP_24.xlsx</td><td>08/10/2024</td></tr><tr><td>Total supply</td><td>Total supply</td><td>201801</td><td>13170.53</td><td>ET_3.1_SEP_24.xlsx</td><td>08/10/2024</td></tr><tr><td>Total supply</td><td>Total supply</td><td>201802</td><td>14168.51</td><td>ET_3.1_SEP_24.xlsx</td><td>08/10/2024</td></tr><tr><td>Total supply</td><td>Total supply</td><td>201803</td><td>15694.53</td><td>ET_3.1_SEP_24.xlsx</td><td>08/10/2024</td></tr><tr><td>Total supply</td><td>Total supply</td><td>201804</td><td>15651.07</td><td>ET_3.1_SEP_24.xlsx</td><td>08/10/2024</td></tr><tr><td>Total supply</td><td>Total supply</td><td>201901</td><td>14710.11</td><td>ET_3.1_SEP_24.xlsx</td><td>08/10/2024</td></tr><tr><td>Total supply</td><td>Total supply</td><td>201902</td><td>13930.73</td><td>ET_3.1_SEP_24.xlsx</td><td>08/10/2024</td></tr><tr><td>Total supply</td><td>Total supply</td><td>201903</td><td>14892.93</td><td>ET_3.1_SEP_24.xlsx</td><td>08/10/2024</td></tr><tr><td>Total supply</td><td>Total supply</td><td>201904</td><td>15677.24</td><td>ET_3.1_SEP_24.xlsx</td><td>08/10/2024</td></tr><tr><td>Total supply</td><td>Total supply</td><td>202001</td><td>14057.06</td><td>ET_3.1_SEP_24.xlsx</td><td>08/10/2024</td></tr><tr><td>Total supply</td><td>Total supply</td><td>202002</td><td>10230.34</td><td>ET_3.1_SEP_24.xlsx</td><td>08/10/2024</td></tr><tr><td>Total supply</td><td>Total supply</td><td>202003</td><td>11643.71</td><td>ET_3.1_SEP_24.xlsx</td><td>08/10/2024</td></tr><tr><td>Total supply</td><td>Total supply</td><td>202004</td><td>12309.97</td><td>ET_3.1_SEP_24.xlsx</td><td>08/10/2024</td></tr><tr><td>Total supply</td><td>Total supply</td><td>202101</td><td>9805.87</td><td>ET_3.1_SEP_24.xlsx</td><td>08/10/2024</td></tr><tr><td>Total supply</td><td>Total supply</td><td>202102</td><td>12302.62</td><td>ET_3.1_SEP_24.xlsx</td><td>08/10/2024</td></tr><tr><td>Total supply</td><td>Total supply</td><td>202103</td><td>13282.62</td><td>ET_3.1_SEP_24.xlsx</td><td>08/10/2024</td></tr><tr><td>Total supply</td><td>Total supply</td><td>202104</td><td>13415.8</td><td>ET_3.1_SEP_24.xlsx</td><td>08/10/2024</td></tr><tr><td>Total supply</td><td>Total supply</td><td>202201</td><td>13809.59</td><td>ET_3.1_SEP_24.xlsx</td><td>08/10/2024</td></tr><tr><td>Total supply</td><td>Total supply</td><td>202202</td><td>13979.55</td><td>ET_3.1_SEP_24.xlsx</td><td>08/10/2024</td></tr><tr><td>Total supply</td><td>Total supply</td><td>202203</td><td>13419.71</td><td>ET_3.1_SEP_24.xlsx</td><td>08/10/2024</td></tr><tr><td>Total supply</td><td>Total supply</td><td>202204</td><td>13619.59</td><td>ET_3.1_SEP_24.xlsx</td><td>08/10/2024</td></tr><tr><td>Total supply</td><td>Total supply</td><td>202301</td><td>13451.3</td><td>ET_3.1_SEP_24.xlsx</td><td>08/10/2024</td></tr><tr><td>Total supply</td><td>Total supply</td><td>202302</td><td>12848.97</td><td>ET_3.1_SEP_24.xlsx</td><td>08/10/2024</td></tr><tr><td>Total supply</td><td>Total supply</td><td>202303</td><td>12769.61</td><td>ET_3.1_SEP_24.xlsx</td><td>08/10/2024</td></tr><tr><td>Total supply</td><td>Total supply</td><td>202304</td><td>11923.47</td><td>ET_3.1_SEP_24.xlsx</td><td>08/10/2024</td></tr><tr><td>Total supply</td><td>Total supply</td><td>202401</td><td>12829.9</td><td>ET_3.1_SEP_24.xlsx</td><td>08/10/2024</td></tr><tr><td>Total supply</td><td>Total supply</td><td>202402</td><td>12728.22</td><td>ET_3.1_SEP_24.xlsx</td><td>08/10/2024</td></tr><tr><td>Statistical difference</td><td>Statistical difference</td><td>199901</td><td>843.9</td><td>ET_3.1_SEP_24.xlsx</td><td>08/10/2024</td></tr><tr><td>Statistical difference</td><td>Statistical difference</td><td>199902</td><td>495.41</td><td>ET_3.1_SEP_24.xlsx</td><td>08/10/2024</td></tr><tr><td>Statistical difference</td><td>Statistical difference</td><td>199903</td><td>-269.16</td><td>ET_3.1_SEP_24.xlsx</td><td>08/10/2024</td></tr><tr><td>Statistical difference</td><td>Statistical difference</td><td>199904</td><td>-923.72</td><td>ET_3.1_SEP_24.xlsx</td><td>08/10/2024</td></tr><tr><td>Statistical difference</td><td>Statistical difference</td><td>200001</td><td>391.0</td><td>ET_3.1_SEP_24.xlsx</td><td>08/10/2024</td></tr><tr><td>Statistical difference</td><td>Statistical difference</td><td>200002</td><td>-167.68</td><td>ET_3.1_SEP_24.xlsx</td><td>08/10/2024</td></tr><tr><td>Statistical difference</td><td>Statistical difference</td><td>200003</td><td>186.46</td><td>ET_3.1_SEP_24.xlsx</td><td>08/10/2024</td></tr><tr><td>Statistical difference</td><td>Statistical difference</td><td>200004</td><td>204.67</td><td>ET_3.1_SEP_24.xlsx</td><td>08/10/2024</td></tr><tr><td>Statistical difference</td><td>Statistical difference</td><td>200101</td><td>199.8</td><td>ET_3.1_SEP_24.xlsx</td><td>08/10/2024</td></tr><tr><td>Statistical difference</td><td>Statistical difference</td><td>200102</td><td>260.94</td><td>ET_3.1_SEP_24.xlsx</td><td>08/10/2024</td></tr><tr><td>Statistical difference</td><td>Statistical difference</td><td>200103</td><td>-66.95</td><td>ET_3.1_SEP_24.xlsx</td><td>08/10/2024</td></tr><tr><td>Statistical difference</td><td>Statistical difference</td><td>200104</td><td>-298.2</td><td>ET_3.1_SEP_24.xlsx</td><td>08/10/2024</td></tr><tr><td>Statistical difference</td><td>Statistical difference</td><td>200201</td><td>-38.76</td><td>ET_3.1_SEP_24.xlsx</td><td>08/10/2024</td></tr><tr><td>Statistical difference</td><td>Statistical difference</td><td>200202</td><td>256.14</td><td>ET_3.1_SEP_24.xlsx</td><td>08/10/2024</td></tr><tr><td>Statistical difference</td><td>Statistical difference</td><td>200203</td><td>-61.22</td><td>ET_3.1_SEP_24.xlsx</td><td>08/10/2024</td></tr><tr><td>Statistical difference</td><td>Statistical difference</td><td>200204</td><td>-584.31</td><td>ET_3.1_SEP_24.xlsx</td><td>08/10/2024</td></tr><tr><td>Statistical difference</td><td>Statistical difference</td><td>200301</td><td>-136.12</td><td>ET_3.1_SEP_24.xlsx</td><td>08/10/2024</td></tr><tr><td>Statistical difference</td><td>Statistical difference</td><td>200302</td><td>324.75</td><td>ET_3.1_SEP_24.xlsx</td><td>08/10/2024</td></tr><tr><td>Statistical difference</td><td>Statistical difference</td><td>200303</td><td>99.6</td><td>ET_3.1_SEP_24.xlsx</td><td>08/10/2024</td></tr><tr><td>Statistical difference</td><td>Statistical difference</td><td>200304</td><td>-59.17</td><td>ET_3.1_SEP_24.xlsx</td><td>08/10/2024</td></tr><tr><td>Statistical difference</td><td>Statistical difference</td><td>200401</td><td>-140.4</td><td>ET_3.1_SEP_24.xlsx</td><td>08/10/2024</td></tr><tr><td>Statistical difference</td><td>Statistical difference</td><td>200402</td><td>-31.04</td><td>ET_3.1_SEP_24.xlsx</td><td>08/10/2024</td></tr><tr><td>Statistical difference</td><td>Statistical difference</td><td>200403</td><td>-67.43</td><td>ET_3.1_SEP_24.xlsx</td><td>08/10/2024</td></tr><tr><td>Statistical difference</td><td>Statistical difference</td><td>200404</td><td>127.91</td><td>ET_3.1_SEP_24.xlsx</td><td>08/10/2024</td></tr><tr><td>Statistical difference</td><td>Statistical difference</td><td>200501</td><td>-90.0</td><td>ET_3.1_SEP_24.xlsx</td><td>08/10/2024</td></tr><tr><td>Statistical difference</td><td>Statistical difference</td><td>200502</td><td>202.92</td><td>ET_3.1_SEP_24.xlsx</td><td>08/10/2024</td></tr><tr><td>Statistical difference</td><td>Statistical difference</td><td>200503</td><td>12.45</td><td>ET_3.1_SEP_24.xlsx</td><td>08/10/2024</td></tr><tr><td>Statistical difference</td><td>Statistical difference</td><td>200504</td><td>-190.76</td><td>ET_3.1_SEP_24.xlsx</td><td>08/10/2024</td></tr><tr><td>Statistical difference</td><td>Statistical difference</td><td>200601</td><td>-83.22</td><td>ET_3.1_SEP_24.xlsx</td><td>08/10/2024</td></tr><tr><td>Statistical difference</td><td>Statistical difference</td><td>200602</td><td>-75.3</td><td>ET_3.1_SEP_24.xlsx</td><td>08/10/2024</td></tr><tr><td>Statistical difference</td><td>Statistical difference</td><td>200603</td><td>41.14</td><td>ET_3.1_SEP_24.xlsx</td><td>08/10/2024</td></tr><tr><td>Statistical difference</td><td>Statistical difference</td><td>200604</td><td>34.44</td><td>ET_3.1_SEP_24.xlsx</td><td>08/10/2024</td></tr><tr><td>Statistical difference</td><td>Statistical difference</td><td>200701</td><td>-192.92</td><td>ET_3.1_SEP_24.xlsx</td><td>08/10/2024</td></tr><tr><td>Statistical difference</td><td>Statistical difference</td><td>200702</td><td>41.61</td><td>ET_3.1_SEP_24.xlsx</td><td>08/10/2024</td></tr><tr><td>Statistical difference</td><td>Statistical difference</td><td>200703</td><td>180.32</td><td>ET_3.1_SEP_24.xlsx</td><td>08/10/2024</td></tr><tr><td>Statistical difference</td><td>Statistical difference</td><td>200704</td><td>2.96</td><td>ET_3.1_SEP_24.xlsx</td><td>08/10/2024</td></tr><tr><td>Statistical difference</td><td>Statistical difference</td><td>200801</td><td>-321.65</td><td>ET_3.1_SEP_24.xlsx</td><td>08/10/2024</td></tr><tr><td>Statistical difference</td><td>Statistical difference</td><td>200802</td><td>223.78</td><td>ET_3.1_SEP_24.xlsx</td><td>08/10/2024</td></tr><tr><td>Statistical difference</td><td>Statistical difference</td><td>200803</td><td>260.62</td><td>ET_3.1_SEP_24.xlsx</td><td>08/10/2024</td></tr><tr><td>Statistical difference</td><td>Statistical difference</td><td>200804</td><td>-2.49</td><td>ET_3.1_SEP_24.xlsx</td><td>08/10/2024</td></tr><tr><td>Statistical difference</td><td>Statistical difference</td><td>200901</td><td>-112.85</td><td>ET_3.1_SEP_24.xlsx</td><td>08/10/2024</td></tr><tr><td>Statistical difference</td><td>Statistical difference</td><td>200902</td><td>184.82</td><td>ET_3.1_SEP_24.xlsx</td><td>08/10/2024</td></tr><tr><td>Statistical difference</td><td>Statistical difference</td><td>200903</td><td>-95.25</td><td>ET_3.1_SEP_24.xlsx</td><td>08/10/2024</td></tr><tr><td>Statistical difference</td><td>Statistical difference</td><td>200904</td><td>158.15</td><td>ET_3.1_SEP_24.xlsx</td><td>08/10/2024</td></tr><tr><td>Statistical difference</td><td>Statistical difference</td><td>201001</td><td>68.57</td><td>ET_3.1_SEP_24.xlsx</td><td>08/10/2024</td></tr><tr><td>Statistical difference</td><td>Statistical difference</td><td>201002</td><td>-37.96</td><td>ET_3.1_SEP_24.xlsx</td><td>08/10/2024</td></tr><tr><td>Statistical difference</td><td>Statistical difference</td><td>201003</td><td>-101.65</td><td>ET_3.1_SEP_24.xlsx</td><td>08/10/2024</td></tr><tr><td>Statistical difference</td><td>Statistical difference</td><td>201004</td><td>80.98</td><td>ET_3.1_SEP_24.xlsx</td><td>08/10/2024</td></tr><tr><td>Statistical difference</td><td>Statistical difference</td><td>201101</td><td>-93.5</td><td>ET_3.1_SEP_24.xlsx</td><td>08/10/2024</td></tr><tr><td>Statistical difference</td><td>Statistical difference</td><td>201102</td><td>-71.53</td><td>ET_3.1_SEP_24.xlsx</td><td>08/10/2024</td></tr><tr><td>Statistical difference</td><td>Statistical difference</td><td>201103</td><td>-225.38</td><td>ET_3.1_SEP_24.xlsx</td><td>08/10/2024</td></tr><tr><td>Statistical difference</td><td>Statistical difference</td><td>201104</td><td>125.54</td><td>ET_3.1_SEP_24.xlsx</td><td>08/10/2024</td></tr><tr><td>Statistical difference</td><td>Statistical difference</td><td>201201</td><td>-35.12</td><td>ET_3.1_SEP_24.xlsx</td><td>08/10/2024</td></tr><tr><td>Statistical difference</td><td>Statistical difference</td><td>201202</td><td>96.72</td><td>ET_3.1_SEP_24.xlsx</td><td>08/10/2024</td></tr><tr><td>Statistical difference</td><td>Statistical difference</td><td>201203</td><td>-104.87</td><td>ET_3.1_SEP_24.xlsx</td><td>08/10/2024</td></tr><tr><td>Statistical difference</td><td>Statistical difference</td><td>201204</td><td>-54.42</td><td>ET_3.1_SEP_24.xlsx</td><td>08/10/2024</td></tr><tr><td>Statistical difference</td><td>Statistical difference</td><td>201301</td><td>-93.22</td><td>ET_3.1_SEP_24.xlsx</td><td>08/10/2024</td></tr><tr><td>Statistical difference</td><td>Statistical difference</td><td>201302</td><td>-21.47</td><td>ET_3.1_SEP_24.xlsx</td><td>08/10/2024</td></tr><tr><td>Statistical difference</td><td>Statistical difference</td><td>201303</td><td>51.14</td><td>ET_3.1_SEP_24.xlsx</td><td>08/10/2024</td></tr><tr><td>Statistical difference</td><td>Statistical difference</td><td>201304</td><td>19.73</td><td>ET_3.1_SEP_24.xlsx</td><td>08/10/2024</td></tr><tr><td>Statistical difference</td><td>Statistical difference</td><td>201401</td><td>21.49</td><td>ET_3.1_SEP_24.xlsx</td><td>08/10/2024</td></tr><tr><td>Statistical difference</td><td>Statistical difference</td><td>201402</td><td>-2.42</td><td>ET_3.1_SEP_24.xlsx</td><td>08/10/2024</td></tr><tr><td>Statistical difference</td><td>Statistical difference</td><td>201403</td><td>-24.01</td><td>ET_3.1_SEP_24.xlsx</td><td>08/10/2024</td></tr><tr><td>Statistical difference</td><td>Statistical difference</td><td>201404</td><td>8.45</td><td>ET_3.1_SEP_24.xlsx</td><td>08/10/2024</td></tr><tr><td>Statistical difference</td><td>Statistical difference</td><td>201501</td><td>-14.68</td><td>ET_3.1_SEP_24.xlsx</td><td>08/10/2024</td></tr><tr><td>Statistical difference</td><td>Statistical difference</td><td>201502</td><td>-1.59</td><td>ET_3.1_SEP_24.xlsx</td><td>08/10/2024</td></tr><tr><td>Statistical difference</td><td>Statistical difference</td><td>201503</td><td>-16.03</td><td>ET_3.1_SEP_24.xlsx</td><td>08/10/2024</td></tr><tr><td>Statistical difference</td><td>Statistical difference</td><td>201504</td><td>-20.67</td><td>ET_3.1_SEP_24.xlsx</td><td>08/10/2024</td></tr><tr><td>Statistical difference</td><td>Statistical difference</td><td>201601</td><td>3.25</td><td>ET_3.1_SEP_24.xlsx</td><td>08/10/2024</td></tr><tr><td>Statistical difference</td><td>Statistical difference</td><td>201602</td><td>33.65</td><td>ET_3.1_SEP_24.xlsx</td><td>08/10/2024</td></tr><tr><td>Statistical difference</td><td>Statistical difference</td><td>201603</td><td>-4.65</td><td>ET_3.1_SEP_24.xlsx</td><td>08/10/2024</td></tr><tr><td>Statistical difference</td><td>Statistical difference</td><td>201604</td><td>15.64</td><td>ET_3.1_SEP_24.xlsx</td><td>08/10/2024</td></tr><tr><td>Statistical difference</td><td>Statistical difference</td><td>201701</td><td>-7.17</td><td>ET_3.1_SEP_24.xlsx</td><td>08/10/2024</td></tr><tr><td>Statistical difference</td><td>Statistical difference</td><td>201702</td><td>15.0</td><td>ET_3.1_SEP_24.xlsx</td><td>08/10/2024</td></tr><tr><td>Statistical difference</td><td>Statistical difference</td><td>201703</td><td>27.25</td><td>ET_3.1_SEP_24.xlsx</td><td>08/10/2024</td></tr><tr><td>Statistical difference</td><td>Statistical difference</td><td>201704</td><td>-28.57</td><td>ET_3.1_SEP_24.xlsx</td><td>08/10/2024</td></tr><tr><td>Statistical difference</td><td>Statistical difference</td><td>201801</td><td>-7.9</td><td>ET_3.1_SEP_24.xlsx</td><td>08/10/2024</td></tr><tr><td>Statistical difference</td><td>Statistical difference</td><td>201802</td><td>-2.27</td><td>ET_3.1_SEP_24.xlsx</td><td>08/10/2024</td></tr><tr><td>Statistical difference</td><td>Statistical difference</td><td>201803</td><td>4.22</td><td>ET_3.1_SEP_24.xlsx</td><td>08/10/2024</td></tr><tr><td>Statistical difference</td><td>Statistical difference</td><td>201804</td><td>-6.65</td><td>ET_3.1_SEP_24.xlsx</td><td>08/10/2024</td></tr><tr><td>Statistical difference</td><td>Statistical difference</td><td>201901</td><td>-0.11</td><td>ET_3.1_SEP_24.xlsx</td><td>08/10/2024</td></tr><tr><td>Statistical difference</td><td>Statistical difference</td><td>201902</td><td>3.8</td><td>ET_3.1_SEP_24.xlsx</td><td>08/10/2024</td></tr><tr><td>Statistical difference</td><td>Statistical difference</td><td>201903</td><td>-3.37</td><td>ET_3.1_SEP_24.xlsx</td><td>08/10/2024</td></tr><tr><td>Statistical difference</td><td>Statistical difference</td><td>201904</td><td>-8.09</td><td>ET_3.1_SEP_24.xlsx</td><td>08/10/2024</td></tr><tr><td>Statistical difference</td><td>Statistical difference</td><td>202001</td><td>-11.76</td><td>ET_3.1_SEP_24.xlsx</td><td>08/10/2024</td></tr><tr><td>Statistical difference</td><td>Statistical difference</td><td>202002</td><td>15.12</td><td>ET_3.1_SEP_24.xlsx</td><td>08/10/2024</td></tr><tr><td>Statistical difference</td><td>Statistical difference</td><td>202003</td><td>1.87</td><td>ET_3.1_SEP_24.xlsx</td><td>08/10/2024</td></tr><tr><td>Statistical difference</td><td>Statistical difference</td><td>202004</td><td>-6.75</td><td>ET_3.1_SEP_24.xlsx</td><td>08/10/2024</td></tr><tr><td>Statistical difference</td><td>Statistical difference</td><td>202101</td><td>-3.07</td><td>ET_3.1_SEP_24.xlsx</td><td>08/10/2024</td></tr><tr><td>Statistical difference</td><td>Statistical difference</td><td>202102</td><td>-0.65</td><td>ET_3.1_SEP_24.xlsx</td><td>08/10/2024</td></tr><tr><td>Statistical difference</td><td>Statistical difference</td><td>202103</td><td>7.4</td><td>ET_3.1_SEP_24.xlsx</td><td>08/10/2024</td></tr><tr><td>Statistical difference</td><td>Statistical difference</td><td>202104</td><td>6.63</td><td>ET_3.1_SEP_24.xlsx</td><td>08/10/2024</td></tr><tr><td>Statistical difference</td><td>Statistical difference</td><td>202201</td><td>-14.67</td><td>ET_3.1_SEP_24.xlsx</td><td>08/10/2024</td></tr><tr><td>Statistical difference</td><td>Statistical difference</td><td>202202</td><td>-0.82</td><td>ET_3.1_SEP_24.xlsx</td><td>08/10/2024</td></tr><tr><td>Statistical difference</td><td>Statistical difference</td><td>202203</td><td>-1.54</td><td>ET_3.1_SEP_24.xlsx</td><td>08/10/2024</td></tr><tr><td>Statistical difference</td><td>Statistical difference</td><td>202204</td><td>18.6</td><td>ET_3.1_SEP_24.xlsx</td><td>08/10/2024</td></tr><tr><td>Statistical difference</td><td>Statistical difference</td><td>202301</td><td>-12.84</td><td>ET_3.1_SEP_24.xlsx</td><td>08/10/2024</td></tr><tr><td>Statistical difference</td><td>Statistical difference</td><td>202302</td><td>9.2</td><td>ET_3.1_SEP_24.xlsx</td><td>08/10/2024</td></tr><tr><td>Statistical difference</td><td>Statistical difference</td><td>202303</td><td>-1.17</td><td>ET_3.1_SEP_24.xlsx</td><td>08/10/2024</td></tr><tr><td>Statistical difference</td><td>Statistical difference</td><td>202304</td><td>21.07</td><td>ET_3.1_SEP_24.xlsx</td><td>08/10/2024</td></tr><tr><td>Statistical difference</td><td>Statistical difference</td><td>202401</td><td>40.22</td><td>ET_3.1_SEP_24.xlsx</td><td>08/10/2024</td></tr><tr><td>Statistical difference</td><td>Statistical difference</td><td>202402</td><td>8.25</td><td>ET_3.1_SEP_24.xlsx</td><td>08/10/2024</td></tr><tr><td>Total demand</td><td>Total demand</td><td>199901</td><td>22750.47</td><td>ET_3.1_SEP_24.xlsx</td><td>08/10/2024</td></tr><tr><td>Total demand</td><td>Total demand</td><td>199902</td><td>22101.3</td><td>ET_3.1_SEP_24.xlsx</td><td>08/10/2024</td></tr><tr><td>Total demand</td><td>Total demand</td><td>199903</td><td>21551.43</td><td>ET_3.1_SEP_24.xlsx</td><td>08/10/2024</td></tr><tr><td>Total demand</td><td>Total demand</td><td>199904</td><td>22205.8</td><td>ET_3.1_SEP_24.xlsx</td><td>08/10/2024</td></tr><tr><td>Total demand</td><td>Total demand</td><td>200001</td><td>22307.17</td><td>ET_3.1_SEP_24.xlsx</td><td>08/10/2024</td></tr><tr><td>Total demand</td><td>Total demand</td><td>200002</td><td>21597.85</td><td>ET_3.1_SEP_24.xlsx</td><td>08/10/2024</td></tr><tr><td>Total demand</td><td>Total demand</td><td>200003</td><td>21913.21</td><td>ET_3.1_SEP_24.xlsx</td><td>08/10/2024</td></tr><tr><td>Total demand</td><td>Total demand</td><td>200004</td><td>22489.03</td><td>ET_3.1_SEP_24.xlsx</td><td>08/10/2024</td></tr><tr><td>Total demand</td><td>Total demand</td><td>200101</td><td>20676.92</td><td>ET_3.1_SEP_24.xlsx</td><td>08/10/2024</td></tr><tr><td>Total demand</td><td>Total demand</td><td>200102</td><td>18062.23</td><td>ET_3.1_SEP_24.xlsx</td><td>08/10/2024</td></tr><tr><td>Total demand</td><td>Total demand</td><td>200103</td><td>22073.61</td><td>ET_3.1_SEP_24.xlsx</td><td>08/10/2024</td></tr><tr><td>Total demand</td><td>Total demand</td><td>200104</td><td>22530.07</td><td>ET_3.1_SEP_24.xlsx</td><td>08/10/2024</td></tr><tr><td>Total demand</td><td>Total demand</td><td>200201</td><td>21135.61</td><td>ET_3.1_SEP_24.xlsx</td><td>08/10/2024</td></tr><tr><td>Total demand</td><td>Total demand</td><td>200202</td><td>20909.86</td><td>ET_3.1_SEP_24.xlsx</td><td>08/10/2024</td></tr><tr><td>Total demand</td><td>Total demand</td><td>200203</td><td>21812.2</td><td>ET_3.1_SEP_24.xlsx</td><td>08/10/2024</td></tr><tr><td>Total demand</td><td>Total demand</td><td>200204</td><td>20926.24</td><td>ET_3.1_SEP_24.xlsx</td><td>08/10/2024</td></tr><tr><td>Total demand</td><td>Total demand</td><td>200301</td><td>21461.25</td><td>ET_3.1_SEP_24.xlsx</td><td>08/10/2024</td></tr><tr><td>Total demand</td><td>Total demand</td><td>200302</td><td>21732.01</td><td>ET_3.1_SEP_24.xlsx</td><td>08/10/2024</td></tr><tr><td>Total demand</td><td>Total demand</td><td>200303</td><td>20560.42</td><td>ET_3.1_SEP_24.xlsx</td><td>08/10/2024</td></tr><tr><td>Total demand</td><td>Total demand</td><td>200304</td><td>20831.33</td><td>ET_3.1_SEP_24.xlsx</td><td>08/10/2024</td></tr><tr><td>Total demand</td><td>Total demand</td><td>200401</td><td>21414.23</td><td>ET_3.1_SEP_24.xlsx</td><td>08/10/2024</td></tr><tr><td>Total demand</td><td>Total demand</td><td>200402</td><td>22216.58</td><td>ET_3.1_SEP_24.xlsx</td><td>08/10/2024</td></tr><tr><td>Total demand</td><td>Total demand</td><td>200403</td><td>23005.72</td><td>ET_3.1_SEP_24.xlsx</td><td>08/10/2024</td></tr><tr><td>Total demand</td><td>Total demand</td><td>200404</td><td>23184.06</td><td>ET_3.1_SEP_24.xlsx</td><td>08/10/2024</td></tr><tr><td>Total demand</td><td>Total demand</td><td>200501</td><td>20978.29</td><td>ET_3.1_SEP_24.xlsx</td><td>08/10/2024</td></tr><tr><td>Total demand</td><td>Total demand</td><td>200502</td><td>20998.2</td><td>ET_3.1_SEP_24.xlsx</td><td>08/10/2024</td></tr><tr><td>Total demand</td><td>Total demand</td><td>200503</td><td>22610.92</td><td>ET_3.1_SEP_24.xlsx</td><td>08/10/2024</td></tr><tr><td>Total demand</td><td>Total demand</td><td>200504</td><td>21546.85</td><td>ET_3.1_SEP_24.xlsx</td><td>08/10/2024</td></tr><tr><td>Total demand</td><td>Total demand</td><td>200601</td><td>20112.67</td><td>ET_3.1_SEP_24.xlsx</td><td>08/10/2024</td></tr><tr><td>Total demand</td><td>Total demand</td><td>200602</td><td>20982.26</td><td>ET_3.1_SEP_24.xlsx</td><td>08/10/2024</td></tr><tr><td>Total demand</td><td>Total demand</td><td>200603</td><td>21614.39</td><td>ET_3.1_SEP_24.xlsx</td><td>08/10/2024</td></tr><tr><td>Total demand</td><td>Total demand</td><td>200604</td><td>20503.8</td><td>ET_3.1_SEP_24.xlsx</td><td>08/10/2024</td></tr><tr><td>Total demand</td><td>Total demand</td><td>200701</td><td>19272.05</td><td>ET_3.1_SEP_24.xlsx</td><td>08/10/2024</td></tr><tr><td>Total demand</td><td>Total demand</td><td>200702</td><td>21106.33</td><td>ET_3.1_SEP_24.xlsx</td><td>08/10/2024</td></tr><tr><td>Total demand</td><td>Total demand</td><td>200703</td><td>21041.95</td><td>ET_3.1_SEP_24.xlsx</td><td>08/10/2024</td></tr><tr><td>Total demand</td><td>Total demand</td><td>200704</td><td>20056.89</td><td>ET_3.1_SEP_24.xlsx</td><td>08/10/2024</td></tr><tr><td>Total demand</td><td>Total demand</td><td>200801</td><td>19511.47</td><td>ET_3.1_SEP_24.xlsx</td><td>08/10/2024</td></tr><tr><td>Total demand</td><td>Total demand</td><td>200802</td><td>20732.31</td><td>ET_3.1_SEP_24.xlsx</td><td>08/10/2024</td></tr><tr><td>Total demand</td><td>Total demand</td><td>200803</td><td>20899.38</td><td>ET_3.1_SEP_24.xlsx</td><td>08/10/2024</td></tr><tr><td>Total demand</td><td>Total demand</td><td>200804</td><td>19890.43</td><td>ET_3.1_SEP_24.xlsx</td><td>08/10/2024</td></tr><tr><td>Total demand</td><td>Total demand</td><td>200901</td><td>19721.43</td><td>ET_3.1_SEP_24.xlsx</td><td>08/10/2024</td></tr><tr><td>Total demand</td><td>Total demand</td><td>200902</td><td>18326.09</td><td>ET_3.1_SEP_24.xlsx</td><td>08/10/2024</td></tr><tr><td>Total demand</td><td>Total demand</td><td>200903</td><td>19232.37</td><td>ET_3.1_SEP_24.xlsx</td><td>08/10/2024</td></tr><tr><td>Total demand</td><td>Total demand</td><td>200904</td><td>18270.67</td><td>ET_3.1_SEP_24.xlsx</td><td>08/10/2024</td></tr><tr><td>Total demand</td><td>Total demand</td><td>201001</td><td>17570.58</td><td>ET_3.1_SEP_24.xlsx</td><td>08/10/2024</td></tr><tr><td>Total demand</td><td>Total demand</td><td>201002</td><td>18356.95</td><td>ET_3.1_SEP_24.xlsx</td><td>08/10/2024</td></tr><tr><td>Total demand</td><td>Total demand</td><td>201003</td><td>18890.95</td><td>ET_3.1_SEP_24.xlsx</td><td>08/10/2024</td></tr><tr><td>Total demand</td><td>Total demand</td><td>201004</td><td>18724.36</td><td>ET_3.1_SEP_24.xlsx</td><td>08/10/2024</td></tr><tr><td>Total demand</td><td>Total demand</td><td>201101</td><td>18206.03</td><td>ET_3.1_SEP_24.xlsx</td><td>08/10/2024</td></tr><tr><td>Total demand</td><td>Total demand</td><td>201102</td><td>19301.58</td><td>ET_3.1_SEP_24.xlsx</td><td>08/10/2024</td></tr><tr><td>Total demand</td><td>Total demand</td><td>201103</td><td>19396.92</td><td>ET_3.1_SEP_24.xlsx</td><td>08/10/2024</td></tr><tr><td>Total demand</td><td>Total demand</td><td>201104</td><td>18175.74</td><td>ET_3.1_SEP_24.xlsx</td><td>08/10/2024</td></tr><tr><td>Total demand</td><td>Total demand</td><td>201201</td><td>19452.3</td><td>ET_3.1_SEP_24.xlsx</td><td>08/10/2024</td></tr><tr><td>Total demand</td><td>Total demand</td><td>201202</td><td>19138.75</td><td>ET_3.1_SEP_24.xlsx</td><td>08/10/2024</td></tr><tr><td>Total demand</td><td>Total demand</td><td>201203</td><td>18193.48</td><td>ET_3.1_SEP_24.xlsx</td><td>08/10/2024</td></tr><tr><td>Total demand</td><td>Total demand</td><td>201204</td><td>15054.59</td><td>ET_3.1_SEP_24.xlsx</td><td>08/10/2024</td></tr><tr><td>Total demand</td><td>Total demand</td><td>201301</td><td>16671.01</td><td>ET_3.1_SEP_24.xlsx</td><td>08/10/2024</td></tr><tr><td>Total demand</td><td>Total demand</td><td>201302</td><td>17391.91</td><td>ET_3.1_SEP_24.xlsx</td><td>08/10/2024</td></tr><tr><td>Total demand</td><td>Total demand</td><td>201303</td><td>16969.49</td><td>ET_3.1_SEP_24.xlsx</td><td>08/10/2024</td></tr><tr><td>Total demand</td><td>Total demand</td><td>201304</td><td>14939.49</td><td>ET_3.1_SEP_24.xlsx</td><td>08/10/2024</td></tr><tr><td>Total demand</td><td>Total demand</td><td>201401</td><td>15517.21</td><td>ET_3.1_SEP_24.xlsx</td><td>08/10/2024</td></tr><tr><td>Total demand</td><td>Total demand</td><td>201402</td><td>15134.49</td><td>ET_3.1_SEP_24.xlsx</td><td>08/10/2024</td></tr><tr><td>Total demand</td><td>Total demand</td><td>201403</td><td>15270.23</td><td>ET_3.1_SEP_24.xlsx</td><td>08/10/2024</td></tr><tr><td>Total demand</td><td>Total demand</td><td>201404</td><td>15140.62</td><td>ET_3.1_SEP_24.xlsx</td><td>08/10/2024</td></tr><tr><td>Total demand</td><td>Total demand</td><td>201501</td><td>14633.03</td><td>ET_3.1_SEP_24.xlsx</td><td>08/10/2024</td></tr><tr><td>Total demand</td><td>Total demand</td><td>201502</td><td>14102.55</td><td>ET_3.1_SEP_24.xlsx</td><td>08/10/2024</td></tr><tr><td>Total demand</td><td>Total demand</td><td>201503</td><td>16347.25</td><td>ET_3.1_SEP_24.xlsx</td><td>08/10/2024</td></tr><tr><td>Total demand</td><td>Total demand</td><td>201504</td><td>16307.98</td><td>ET_3.1_SEP_24.xlsx</td><td>08/10/2024</td></tr><tr><td>Total demand</td><td>Total demand</td><td>201601</td><td>14221.39</td><td>ET_3.1_SEP_24.xlsx</td><td>08/10/2024</td></tr><tr><td>Total demand</td><td>Total demand</td><td>201602</td><td>15240.19</td><td>ET_3.1_SEP_24.xlsx</td><td>08/10/2024</td></tr><tr><td>Total demand</td><td>Total demand</td><td>201603</td><td>15371.73</td><td>ET_3.1_SEP_24.xlsx</td><td>08/10/2024</td></tr><tr><td>Total demand</td><td>Total demand</td><td>201604</td><td>15562.13</td><td>ET_3.1_SEP_24.xlsx</td><td>08/10/2024</td></tr><tr><td>Total demand</td><td>Total demand</td><td>201701</td><td>14591.1</td><td>ET_3.1_SEP_24.xlsx</td><td>08/10/2024</td></tr><tr><td>Total demand</td><td>Total demand</td><td>201702</td><td>15281.72</td><td>ET_3.1_SEP_24.xlsx</td><td>08/10/2024</td></tr><tr><td>Total demand</td><td>Total demand</td><td>201703</td><td>15407.86</td><td>ET_3.1_SEP_24.xlsx</td><td>08/10/2024</td></tr><tr><td>Total demand</td><td>Total demand</td><td>201704</td><td>14975.92</td><td>ET_3.1_SEP_24.xlsx</td><td>08/10/2024</td></tr><tr><td>Total demand</td><td>Total demand</td><td>201801</td><td>13178.44</td><td>ET_3.1_SEP_24.xlsx</td><td>08/10/2024</td></tr><tr><td>Total demand</td><td>Total demand</td><td>201802</td><td>14170.78</td><td>ET_3.1_SEP_24.xlsx</td><td>08/10/2024</td></tr><tr><td>Total demand</td><td>Total demand</td><td>201803</td><td>15690.31</td><td>ET_3.1_SEP_24.xlsx</td><td>08/10/2024</td></tr><tr><td>Total demand</td><td>Total demand</td><td>201804</td><td>15657.73</td><td>ET_3.1_SEP_24.xlsx</td><td>08/10/2024</td></tr><tr><td>Total demand</td><td>Total demand</td><td>201901</td><td>14710.22</td><td>ET_3.1_SEP_24.xlsx</td><td>08/10/2024</td></tr><tr><td>Total demand</td><td>Total demand</td><td>201902</td><td>13926.94</td><td>ET_3.1_SEP_24.xlsx</td><td>08/10/2024</td></tr><tr><td>Total demand</td><td>Total demand</td><td>201903</td><td>14896.3</td><td>ET_3.1_SEP_24.xlsx</td><td>08/10/2024</td></tr><tr><td>Total demand</td><td>Total demand</td><td>201904</td><td>15685.33</td><td>ET_3.1_SEP_24.xlsx</td><td>08/10/2024</td></tr><tr><td>Total demand</td><td>Total demand</td><td>202001</td><td>14068.82</td><td>ET_3.1_SEP_24.xlsx</td><td>08/10/2024</td></tr><tr><td>Total demand</td><td>Total demand</td><td>202002</td><td>10215.22</td><td>ET_3.1_SEP_24.xlsx</td><td>08/10/2024</td></tr><tr><td>Total demand</td><td>Total demand</td><td>202003</td><td>11641.84</td><td>ET_3.1_SEP_24.xlsx</td><td>08/10/2024</td></tr><tr><td>Total demand</td><td>Total demand</td><td>202004</td><td>12316.73</td><td>ET_3.1_SEP_24.xlsx</td><td>08/10/2024</td></tr><tr><td>Total demand</td><td>Total demand</td><td>202101</td><td>9808.94</td><td>ET_3.1_SEP_24.xlsx</td><td>08/10/2024</td></tr><tr><td>Total demand</td><td>Total demand</td><td>202102</td><td>12303.27</td><td>ET_3.1_SEP_24.xlsx</td><td>08/10/2024</td></tr><tr><td>Total demand</td><td>Total demand</td><td>202103</td><td>13275.23</td><td>ET_3.1_SEP_24.xlsx</td><td>08/10/2024</td></tr><tr><td>Total demand</td><td>Total demand</td><td>202104</td><td>13409.17</td><td>ET_3.1_SEP_24.xlsx</td><td>08/10/2024</td></tr><tr><td>Total demand</td><td>Total demand</td><td>202201</td><td>13824.26</td><td>ET_3.1_SEP_24.xlsx</td><td>08/10/2024</td></tr><tr><td>Total demand</td><td>Total demand</td><td>202202</td><td>13980.37</td><td>ET_3.1_SEP_24.xlsx</td><td>08/10/2024</td></tr><tr><td>Total demand</td><td>Total demand</td><td>202203</td><td>13421.25</td><td>ET_3.1_SEP_24.xlsx</td><td>08/10/2024</td></tr><tr><td>Total demand</td><td>Total demand</td><td>202204</td><td>13601.0</td><td>ET_3.1_SEP_24.xlsx</td><td>08/10/2024</td></tr><tr><td>Total demand</td><td>Total demand</td><td>202301</td><td>13464.15</td><td>ET_3.1_SEP_24.xlsx</td><td>08/10/2024</td></tr><tr><td>Total demand</td><td>Total demand</td><td>202302</td><td>12839.76</td><td>ET_3.1_SEP_24.xlsx</td><td>08/10/2024</td></tr><tr><td>Total demand</td><td>Total demand</td><td>202303</td><td>12770.78</td><td>ET_3.1_SEP_24.xlsx</td><td>08/10/2024</td></tr><tr><td>Total demand</td><td>Total demand</td><td>202304</td><td>11902.4</td><td>ET_3.1_SEP_24.xlsx</td><td>08/10/2024</td></tr><tr><td>Total demand</td><td>Total demand</td><td>202401</td><td>12789.68</td><td>ET_3.1_SEP_24.xlsx</td><td>08/10/2024</td></tr><tr><td>Total demand</td><td>Total demand</td><td>202402</td><td>12719.97</td><td>ET_3.1_SEP_24.xlsx</td><td>08/10/2024</td></tr><tr><td>Transformation</td><td>Transformation</td><td>199901</td><td>22666.66</td><td>ET_3.1_SEP_24.xlsx</td><td>08/10/2024</td></tr><tr><td>Transformation</td><td>Transformation</td><td>199902</td><td>22020.28</td><td>ET_3.1_SEP_24.xlsx</td><td>08/10/2024</td></tr><tr><td>Transformation</td><td>Transformation</td><td>199903</td><td>21474.62</td><td>ET_3.1_SEP_24.xlsx</td><td>08/10/2024</td></tr><tr><td>Transformation</td><td>Transformation</td><td>199904</td><td>22124.44</td><td>ET_3.1_SEP_24.xlsx</td><td>08/10/2024</td></tr><tr><td>Transformation</td><td>Transformation</td><td>200001</td><td>22225.17</td><td>ET_3.1_SEP_24.xlsx</td><td>08/10/2024</td></tr><tr><td>Transformation</td><td>Transformation</td><td>200002</td><td>21522.85</td><td>ET_3.1_SEP_24.xlsx</td><td>08/10/2024</td></tr><tr><td>Transformation</td><td>Transformation</td><td>200003</td><td>21845.21</td><td>ET_3.1_SEP_24.xlsx</td><td>08/10/2024</td></tr><tr><td>Transformation</td><td>Transformation</td><td>200004</td><td>22420.03</td><td>ET_3.1_SEP_24.xlsx</td><td>08/10/2024</td></tr><tr><td>Transformation</td><td>Transformation</td><td>200101</td><td>20676.92</td><td>ET_3.1_SEP_24.xlsx</td><td>08/10/2024</td></tr><tr><td>Transformation</td><td>Transformation</td><td>200102</td><td>18062.23</td><td>ET_3.1_SEP_24.xlsx</td><td>08/10/2024</td></tr><tr><td>Transformation</td><td>Transformation</td><td>200103</td><td>22073.61</td><td>ET_3.1_SEP_24.xlsx</td><td>08/10/2024</td></tr><tr><td>Transformation</td><td>Transformation</td><td>200104</td><td>22530.07</td><td>ET_3.1_SEP_24.xlsx</td><td>08/10/2024</td></tr><tr><td>Transformation</td><td>Transformation</td><td>200201</td><td>21135.61</td><td>ET_3.1_SEP_24.xlsx</td><td>08/10/2024</td></tr><tr><td>Transformation</td><td>Transformation</td><td>200202</td><td>20909.86</td><td>ET_3.1_SEP_24.xlsx</td><td>08/10/2024</td></tr><tr><td>Transformation</td><td>Transformation</td><td>200203</td><td>21812.2</td><td>ET_3.1_SEP_24.xlsx</td><td>08/10/2024</td></tr><tr><td>Transformation</td><td>Transformation</td><td>200204</td><td>20926.24</td><td>ET_3.1_SEP_24.xlsx</td><td>08/10/2024</td></tr><tr><td>Transformation</td><td>Transformation</td><td>200301</td><td>21461.25</td><td>ET_3.1_SEP_24.xlsx</td><td>08/10/2024</td></tr><tr><td>Transformation</td><td>Transformation</td><td>200302</td><td>21732.01</td><td>ET_3.1_SEP_24.xlsx</td><td>08/10/2024</td></tr><tr><td>Transformation</td><td>Transformation</td><td>200303</td><td>20560.42</td><td>ET_3.1_SEP_24.xlsx</td><td>08/10/2024</td></tr><tr><td>Transformation</td><td>Transformation</td><td>200304</td><td>20831.33</td><td>ET_3.1_SEP_24.xlsx</td><td>08/10/2024</td></tr><tr><td>Transformation</td><td>Transformation</td><td>200401</td><td>21414.23</td><td>ET_3.1_SEP_24.xlsx</td><td>08/10/2024</td></tr><tr><td>Transformation</td><td>Transformation</td><td>200402</td><td>22216.58</td><td>ET_3.1_SEP_24.xlsx</td><td>08/10/2024</td></tr><tr><td>Transformation</td><td>Transformation</td><td>200403</td><td>23005.72</td><td>ET_3.1_SEP_24.xlsx</td><td>08/10/2024</td></tr><tr><td>Transformation</td><td>Transformation</td><td>200404</td><td>23184.06</td><td>ET_3.1_SEP_24.xlsx</td><td>08/10/2024</td></tr><tr><td>Transformation</td><td>Transformation</td><td>200501</td><td>20978.29</td><td>ET_3.1_SEP_24.xlsx</td><td>08/10/2024</td></tr><tr><td>Transformation</td><td>Transformation</td><td>200502</td><td>20998.2</td><td>ET_3.1_SEP_24.xlsx</td><td>08/10/2024</td></tr><tr><td>Transformation</td><td>Transformation</td><td>200503</td><td>22610.92</td><td>ET_3.1_SEP_24.xlsx</td><td>08/10/2024</td></tr><tr><td>Transformation</td><td>Transformation</td><td>200504</td><td>21546.85</td><td>ET_3.1_SEP_24.xlsx</td><td>08/10/2024</td></tr><tr><td>Transformation</td><td>Transformation</td><td>200601</td><td>20112.67</td><td>ET_3.1_SEP_24.xlsx</td><td>08/10/2024</td></tr><tr><td>Transformation</td><td>Transformation</td><td>200602</td><td>20982.26</td><td>ET_3.1_SEP_24.xlsx</td><td>08/10/2024</td></tr><tr><td>Transformation</td><td>Transformation</td><td>200603</td><td>21614.39</td><td>ET_3.1_SEP_24.xlsx</td><td>08/10/2024</td></tr><tr><td>Transformation</td><td>Transformation</td><td>200604</td><td>20503.8</td><td>ET_3.1_SEP_24.xlsx</td><td>08/10/2024</td></tr><tr><td>Transformation</td><td>Transformation</td><td>200701</td><td>19272.05</td><td>ET_3.1_SEP_24.xlsx</td><td>08/10/2024</td></tr><tr><td>Transformation</td><td>Transformation</td><td>200702</td><td>21106.33</td><td>ET_3.1_SEP_24.xlsx</td><td>08/10/2024</td></tr><tr><td>Transformation</td><td>Transformation</td><td>200703</td><td>21041.95</td><td>ET_3.1_SEP_24.xlsx</td><td>08/10/2024</td></tr><tr><td>Transformation</td><td>Transformation</td><td>200704</td><td>20056.89</td><td>ET_3.1_SEP_24.xlsx</td><td>08/10/2024</td></tr><tr><td>Transformation</td><td>Transformation</td><td>200801</td><td>19511.47</td><td>ET_3.1_SEP_24.xlsx</td><td>08/10/2024</td></tr><tr><td>Transformation</td><td>Transformation</td><td>200802</td><td>20732.31</td><td>ET_3.1_SEP_24.xlsx</td><td>08/10/2024</td></tr><tr><td>Transformation</td><td>Transformation</td><td>200803</td><td>20899.38</td><td>ET_3.1_SEP_24.xlsx</td><td>08/10/2024</td></tr><tr><td>Transformation</td><td>Transformation</td><td>200804</td><td>19890.43</td><td>ET_3.1_SEP_24.xlsx</td><td>08/10/2024</td></tr><tr><td>Transformation</td><td>Transformation</td><td>200901</td><td>19721.43</td><td>ET_3.1_SEP_24.xlsx</td><td>08/10/2024</td></tr><tr><td>Transformation</td><td>Transformation</td><td>200902</td><td>18326.09</td><td>ET_3.1_SEP_24.xlsx</td><td>08/10/2024</td></tr><tr><td>Transformation</td><td>Transformation</td><td>200903</td><td>19232.37</td><td>ET_3.1_SEP_24.xlsx</td><td>08/10/2024</td></tr><tr><td>Transformation</td><td>Transformation</td><td>200904</td><td>18270.67</td><td>ET_3.1_SEP_24.xlsx</td><td>08/10/2024</td></tr><tr><td>Transformation</td><td>Transformation</td><td>201001</td><td>17570.58</td><td>ET_3.1_SEP_24.xlsx</td><td>08/10/2024</td></tr><tr><td>Transformation</td><td>Transformation</td><td>201002</td><td>18356.95</td><td>ET_3.1_SEP_24.xlsx</td><td>08/10/2024</td></tr><tr><td>Transformation</td><td>Transformation</td><td>201003</td><td>18890.95</td><td>ET_3.1_SEP_24.xlsx</td><td>08/10/2024</td></tr><tr><td>Transformation</td><td>Transformation</td><td>201004</td><td>18724.36</td><td>ET_3.1_SEP_24.xlsx</td><td>08/10/2024</td></tr><tr><td>Transformation</td><td>Transformation</td><td>201101</td><td>18206.03</td><td>ET_3.1_SEP_24.xlsx</td><td>08/10/2024</td></tr><tr><td>Transformation</td><td>Transformation</td><td>201102</td><td>19301.58</td><td>ET_3.1_SEP_24.xlsx</td><td>08/10/2024</td></tr><tr><td>Transformation</td><td>Transformation</td><td>201103</td><td>19396.92</td><td>ET_3.1_SEP_24.xlsx</td><td>08/10/2024</td></tr><tr><td>Transformation</td><td>Transformation</td><td>201104</td><td>18175.74</td><td>ET_3.1_SEP_24.xlsx</td><td>08/10/2024</td></tr><tr><td>Transformation</td><td>Transformation</td><td>201201</td><td>19452.3</td><td>ET_3.1_SEP_24.xlsx</td><td>08/10/2024</td></tr><tr><td>Transformation</td><td>Transformation</td><td>201202</td><td>19138.75</td><td>ET_3.1_SEP_24.xlsx</td><td>08/10/2024</td></tr><tr><td>Transformation</td><td>Transformation</td><td>201203</td><td>18193.48</td><td>ET_3.1_SEP_24.xlsx</td><td>08/10/2024</td></tr><tr><td>Transformation</td><td>Transformation</td><td>201204</td><td>15054.59</td><td>ET_3.1_SEP_24.xlsx</td><td>08/10/2024</td></tr><tr><td>Transformation</td><td>Transformation</td><td>201301</td><td>16671.01</td><td>ET_3.1_SEP_24.xlsx</td><td>08/10/2024</td></tr><tr><td>Transformation</td><td>Transformation</td><td>201302</td><td>17391.91</td><td>ET_3.1_SEP_24.xlsx</td><td>08/10/2024</td></tr><tr><td>Transformation</td><td>Transformation</td><td>201303</td><td>16969.49</td><td>ET_3.1_SEP_24.xlsx</td><td>08/10/2024</td></tr><tr><td>Transformation</td><td>Transformation</td><td>201304</td><td>14939.49</td><td>ET_3.1_SEP_24.xlsx</td><td>08/10/2024</td></tr><tr><td>Transformation</td><td>Transformation</td><td>201401</td><td>15517.21</td><td>ET_3.1_SEP_24.xlsx</td><td>08/10/2024</td></tr><tr><td>Transformation</td><td>Transformation</td><td>201402</td><td>15134.49</td><td>ET_3.1_SEP_24.xlsx</td><td>08/10/2024</td></tr><tr><td>Transformation</td><td>Transformation</td><td>201403</td><td>15270.23</td><td>ET_3.1_SEP_24.xlsx</td><td>08/10/2024</td></tr><tr><td>Transformation</td><td>Transformation</td><td>201404</td><td>15140.62</td><td>ET_3.1_SEP_24.xlsx</td><td>08/10/2024</td></tr><tr><td>Transformation</td><td>Transformation</td><td>201501</td><td>14633.03</td><td>ET_3.1_SEP_24.xlsx</td><td>08/10/2024</td></tr><tr><td>Transformation</td><td>Transformation</td><td>201502</td><td>14102.55</td><td>ET_3.1_SEP_24.xlsx</td><td>08/10/2024</td></tr><tr><td>Transformation</td><td>Transformation</td><td>201503</td><td>16347.25</td><td>ET_3.1_SEP_24.xlsx</td><td>08/10/2024</td></tr><tr><td>Transformation</td><td>Transformation</td><td>201504</td><td>16307.98</td><td>ET_3.1_SEP_24.xlsx</td><td>08/10/2024</td></tr><tr><td>Transformation</td><td>Transformation</td><td>201601</td><td>14221.39</td><td>ET_3.1_SEP_24.xlsx</td><td>08/10/2024</td></tr><tr><td>Transformation</td><td>Transformation</td><td>201602</td><td>15240.19</td><td>ET_3.1_SEP_24.xlsx</td><td>08/10/2024</td></tr><tr><td>Transformation</td><td>Transformation</td><td>201603</td><td>15371.73</td><td>ET_3.1_SEP_24.xlsx</td><td>08/10/2024</td></tr><tr><td>Transformation</td><td>Transformation</td><td>201604</td><td>15562.13</td><td>ET_3.1_SEP_24.xlsx</td><td>08/10/2024</td></tr><tr><td>Transformation</td><td>Transformation</td><td>201701</td><td>14591.1</td><td>ET_3.1_SEP_24.xlsx</td><td>08/10/2024</td></tr><tr><td>Transformation</td><td>Transformation</td><td>201702</td><td>15281.72</td><td>ET_3.1_SEP_24.xlsx</td><td>08/10/2024</td></tr><tr><td>Transformation</td><td>Transformation</td><td>201703</td><td>15407.86</td><td>ET_3.1_SEP_24.xlsx</td><td>08/10/2024</td></tr><tr><td>Transformation</td><td>Transformation</td><td>201704</td><td>14975.92</td><td>ET_3.1_SEP_24.xlsx</td><td>08/10/2024</td></tr><tr><td>Transformation</td><td>Transformation</td><td>201801</td><td>13178.44</td><td>ET_3.1_SEP_24.xlsx</td><td>08/10/2024</td></tr><tr><td>Transformation</td><td>Transformation</td><td>201802</td><td>14170.78</td><td>ET_3.1_SEP_24.xlsx</td><td>08/10/2024</td></tr><tr><td>Transformation</td><td>Transformation</td><td>201803</td><td>15690.31</td><td>ET_3.1_SEP_24.xlsx</td><td>08/10/2024</td></tr><tr><td>Transformation</td><td>Transformation</td><td>201804</td><td>15657.73</td><td>ET_3.1_SEP_24.xlsx</td><td>08/10/2024</td></tr><tr><td>Transformation</td><td>Transformation</td><td>201901</td><td>14710.22</td><td>ET_3.1_SEP_24.xlsx</td><td>08/10/2024</td></tr><tr><td>Transformation</td><td>Transformation</td><td>201902</td><td>13926.94</td><td>ET_3.1_SEP_24.xlsx</td><td>08/10/2024</td></tr><tr><td>Transformation</td><td>Transformation</td><td>201903</td><td>14896.3</td><td>ET_3.1_SEP_24.xlsx</td><td>08/10/2024</td></tr><tr><td>Transformation</td><td>Transformation</td><td>201904</td><td>15685.33</td><td>ET_3.1_SEP_24.xlsx</td><td>08/10/2024</td></tr><tr><td>Transformation</td><td>Transformation</td><td>202001</td><td>14068.82</td><td>ET_3.1_SEP_24.xlsx</td><td>08/10/2024</td></tr><tr><td>Transformation</td><td>Transformation</td><td>202002</td><td>10215.22</td><td>ET_3.1_SEP_24.xlsx</td><td>08/10/2024</td></tr><tr><td>Transformation</td><td>Transformation</td><td>202003</td><td>11641.84</td><td>ET_3.1_SEP_24.xlsx</td><td>08/10/2024</td></tr><tr><td>Transformation</td><td>Transformation</td><td>202004</td><td>12316.73</td><td>ET_3.1_SEP_24.xlsx</td><td>08/10/2024</td></tr><tr><td>Transformation</td><td>Transformation</td><td>202101</td><td>9808.94</td><td>ET_3.1_SEP_24.xlsx</td><td>08/10/2024</td></tr><tr><td>Transformation</td><td>Transformation</td><td>202102</td><td>12303.27</td><td>ET_3.1_SEP_24.xlsx</td><td>08/10/2024</td></tr><tr><td>Transformation</td><td>Transformation</td><td>202103</td><td>13275.23</td><td>ET_3.1_SEP_24.xlsx</td><td>08/10/2024</td></tr><tr><td>Transformation</td><td>Transformation</td><td>202104</td><td>13409.17</td><td>ET_3.1_SEP_24.xlsx</td><td>08/10/2024</td></tr><tr><td>Transformation</td><td>Transformation</td><td>202201</td><td>13824.26</td><td>ET_3.1_SEP_24.xlsx</td><td>08/10/2024</td></tr><tr><td>Transformation</td><td>Transformation</td><td>202202</td><td>13980.37</td><td>ET_3.1_SEP_24.xlsx</td><td>08/10/2024</td></tr><tr><td>Transformation</td><td>Transformation</td><td>202203</td><td>13421.25</td><td>ET_3.1_SEP_24.xlsx</td><td>08/10/2024</td></tr><tr><td>Transformation</td><td>Transformation</td><td>202204</td><td>13601.0</td><td>ET_3.1_SEP_24.xlsx</td><td>08/10/2024</td></tr><tr><td>Transformation</td><td>Transformation</td><td>202301</td><td>13464.15</td><td>ET_3.1_SEP_24.xlsx</td><td>08/10/2024</td></tr><tr><td>Transformation</td><td>Transformation</td><td>202302</td><td>12839.76</td><td>ET_3.1_SEP_24.xlsx</td><td>08/10/2024</td></tr><tr><td>Transformation</td><td>Transformation</td><td>202303</td><td>12770.78</td><td>ET_3.1_SEP_24.xlsx</td><td>08/10/2024</td></tr><tr><td>Transformation</td><td>Transformation</td><td>202304</td><td>11902.4</td><td>ET_3.1_SEP_24.xlsx</td><td>08/10/2024</td></tr><tr><td>Transformation</td><td>Transformation</td><td>202401</td><td>12789.68</td><td>ET_3.1_SEP_24.xlsx</td><td>08/10/2024</td></tr><tr><td>Transformation</td><td>Transformation</td><td>202402</td><td>12719.97</td><td>ET_3.1_SEP_24.xlsx</td><td>08/10/2024</td></tr><tr><td>Petroleum refineries</td><td>Petroleum refineries</td><td>199901</td><td>22666.66</td><td>ET_3.1_SEP_24.xlsx</td><td>08/10/2024</td></tr><tr><td>Petroleum refineries</td><td>Petroleum refineries</td><td>199902</td><td>22020.28</td><td>ET_3.1_SEP_24.xlsx</td><td>08/10/2024</td></tr><tr><td>Petroleum refineries</td><td>Petroleum refineries</td><td>199903</td><td>21474.62</td><td>ET_3.1_SEP_24.xlsx</td><td>08/10/2024</td></tr><tr><td>Petroleum refineries</td><td>Petroleum refineries</td><td>199904</td><td>22124.44</td><td>ET_3.1_SEP_24.xlsx</td><td>08/10/2024</td></tr><tr><td>Petroleum refineries</td><td>Petroleum refineries</td><td>200001</td><td>22225.17</td><td>ET_3.1_SEP_24.xlsx</td><td>08/10/2024</td></tr><tr><td>Petroleum refineries</td><td>Petroleum refineries</td><td>200002</td><td>21522.85</td><td>ET_3.1_SEP_24.xlsx</td><td>08/10/2024</td></tr><tr><td>Petroleum refineries</td><td>Petroleum refineries</td><td>200003</td><td>21845.21</td><td>ET_3.1_SEP_24.xlsx</td><td>08/10/2024</td></tr><tr><td>Petroleum refineries</td><td>Petroleum refineries</td><td>200004</td><td>22420.03</td><td>ET_3.1_SEP_24.xlsx</td><td>08/10/2024</td></tr><tr><td>Petroleum refineries</td><td>Petroleum refineries</td><td>200101</td><td>20676.92</td><td>ET_3.1_SEP_24.xlsx</td><td>08/10/2024</td></tr><tr><td>Petroleum refineries</td><td>Petroleum refineries</td><td>200102</td><td>18062.23</td><td>ET_3.1_SEP_24.xlsx</td><td>08/10/2024</td></tr><tr><td>Petroleum refineries</td><td>Petroleum refineries</td><td>200103</td><td>22073.61</td><td>ET_3.1_SEP_24.xlsx</td><td>08/10/2024</td></tr><tr><td>Petroleum refineries</td><td>Petroleum refineries</td><td>200104</td><td>22530.07</td><td>ET_3.1_SEP_24.xlsx</td><td>08/10/2024</td></tr><tr><td>Petroleum refineries</td><td>Petroleum refineries</td><td>200201</td><td>21135.61</td><td>ET_3.1_SEP_24.xlsx</td><td>08/10/2024</td></tr><tr><td>Petroleum refineries</td><td>Petroleum refineries</td><td>200202</td><td>20909.86</td><td>ET_3.1_SEP_24.xlsx</td><td>08/10/2024</td></tr><tr><td>Petroleum refineries</td><td>Petroleum refineries</td><td>200203</td><td>21812.2</td><td>ET_3.1_SEP_24.xlsx</td><td>08/10/2024</td></tr><tr><td>Petroleum refineries</td><td>Petroleum refineries</td><td>200204</td><td>20926.24</td><td>ET_3.1_SEP_24.xlsx</td><td>08/10/2024</td></tr><tr><td>Petroleum refineries</td><td>Petroleum refineries</td><td>200301</td><td>21461.25</td><td>ET_3.1_SEP_24.xlsx</td><td>08/10/2024</td></tr><tr><td>Petroleum refineries</td><td>Petroleum refineries</td><td>200302</td><td>21732.01</td><td>ET_3.1_SEP_24.xlsx</td><td>08/10/2024</td></tr><tr><td>Petroleum refineries</td><td>Petroleum refineries</td><td>200303</td><td>20560.42</td><td>ET_3.1_SEP_24.xlsx</td><td>08/10/2024</td></tr><tr><td>Petroleum refineries</td><td>Petroleum refineries</td><td>200304</td><td>20831.33</td><td>ET_3.1_SEP_24.xlsx</td><td>08/10/2024</td></tr><tr><td>Petroleum refineries</td><td>Petroleum refineries</td><td>200401</td><td>21414.23</td><td>ET_3.1_SEP_24.xlsx</td><td>08/10/2024</td></tr><tr><td>Petroleum refineries</td><td>Petroleum refineries</td><td>200402</td><td>22216.58</td><td>ET_3.1_SEP_24.xlsx</td><td>08/10/2024</td></tr><tr><td>Petroleum refineries</td><td>Petroleum refineries</td><td>200403</td><td>23005.72</td><td>ET_3.1_SEP_24.xlsx</td><td>08/10/2024</td></tr><tr><td>Petroleum refineries</td><td>Petroleum refineries</td><td>200404</td><td>23184.06</td><td>ET_3.1_SEP_24.xlsx</td><td>08/10/2024</td></tr><tr><td>Petroleum refineries</td><td>Petroleum refineries</td><td>200501</td><td>20978.29</td><td>ET_3.1_SEP_24.xlsx</td><td>08/10/2024</td></tr><tr><td>Petroleum refineries</td><td>Petroleum refineries</td><td>200502</td><td>20998.2</td><td>ET_3.1_SEP_24.xlsx</td><td>08/10/2024</td></tr><tr><td>Petroleum refineries</td><td>Petroleum refineries</td><td>200503</td><td>22610.92</td><td>ET_3.1_SEP_24.xlsx</td><td>08/10/2024</td></tr><tr><td>Petroleum refineries</td><td>Petroleum refineries</td><td>200504</td><td>21546.85</td><td>ET_3.1_SEP_24.xlsx</td><td>08/10/2024</td></tr><tr><td>Petroleum refineries</td><td>Petroleum refineries</td><td>200601</td><td>20112.67</td><td>ET_3.1_SEP_24.xlsx</td><td>08/10/2024</td></tr><tr><td>Petroleum refineries</td><td>Petroleum refineries</td><td>200602</td><td>20982.26</td><td>ET_3.1_SEP_24.xlsx</td><td>08/10/2024</td></tr><tr><td>Petroleum refineries</td><td>Petroleum refineries</td><td>200603</td><td>21614.39</td><td>ET_3.1_SEP_24.xlsx</td><td>08/10/2024</td></tr><tr><td>Petroleum refineries</td><td>Petroleum refineries</td><td>200604</td><td>20503.8</td><td>ET_3.1_SEP_24.xlsx</td><td>08/10/2024</td></tr><tr><td>Petroleum refineries</td><td>Petroleum refineries</td><td>200701</td><td>19272.05</td><td>ET_3.1_SEP_24.xlsx</td><td>08/10/2024</td></tr><tr><td>Petroleum refineries</td><td>Petroleum refineries</td><td>200702</td><td>21106.33</td><td>ET_3.1_SEP_24.xlsx</td><td>08/10/2024</td></tr><tr><td>Petroleum refineries</td><td>Petroleum refineries</td><td>200703</td><td>21041.95</td><td>ET_3.1_SEP_24.xlsx</td><td>08/10/2024</td></tr><tr><td>Petroleum refineries</td><td>Petroleum refineries</td><td>200704</td><td>20056.89</td><td>ET_3.1_SEP_24.xlsx</td><td>08/10/2024</td></tr><tr><td>Petroleum refineries</td><td>Petroleum refineries</td><td>200801</td><td>19511.47</td><td>ET_3.1_SEP_24.xlsx</td><td>08/10/2024</td></tr><tr><td>Petroleum refineries</td><td>Petroleum refineries</td><td>200802</td><td>20732.31</td><td>ET_3.1_SEP_24.xlsx</td><td>08/10/2024</td></tr><tr><td>Petroleum refineries</td><td>Petroleum refineries</td><td>200803</td><td>20899.38</td><td>ET_3.1_SEP_24.xlsx</td><td>08/10/2024</td></tr><tr><td>Petroleum refineries</td><td>Petroleum refineries</td><td>200804</td><td>19890.43</td><td>ET_3.1_SEP_24.xlsx</td><td>08/10/2024</td></tr><tr><td>Petroleum refineries</td><td>Petroleum refineries</td><td>200901</td><td>19721.43</td><td>ET_3.1_SEP_24.xlsx</td><td>08/10/2024</td></tr><tr><td>Petroleum refineries</td><td>Petroleum refineries</td><td>200902</td><td>18326.09</td><td>ET_3.1_SEP_24.xlsx</td><td>08/10/2024</td></tr><tr><td>Petroleum refineries</td><td>Petroleum refineries</td><td>200903</td><td>19232.37</td><td>ET_3.1_SEP_24.xlsx</td><td>08/10/2024</td></tr><tr><td>Petroleum refineries</td><td>Petroleum refineries</td><td>200904</td><td>18270.67</td><td>ET_3.1_SEP_24.xlsx</td><td>08/10/2024</td></tr><tr><td>Petroleum refineries</td><td>Petroleum refineries</td><td>201001</td><td>17570.58</td><td>ET_3.1_SEP_24.xlsx</td><td>08/10/2024</td></tr><tr><td>Petroleum refineries</td><td>Petroleum refineries</td><td>201002</td><td>18356.95</td><td>ET_3.1_SEP_24.xlsx</td><td>08/10/2024</td></tr><tr><td>Petroleum refineries</td><td>Petroleum refineries</td><td>201003</td><td>18890.95</td><td>ET_3.1_SEP_24.xlsx</td><td>08/10/2024</td></tr><tr><td>Petroleum refineries</td><td>Petroleum refineries</td><td>201004</td><td>18724.36</td><td>ET_3.1_SEP_24.xlsx</td><td>08/10/2024</td></tr><tr><td>Petroleum refineries</td><td>Petroleum refineries</td><td>201101</td><td>18206.03</td><td>ET_3.1_SEP_24.xlsx</td><td>08/10/2024</td></tr><tr><td>Petroleum refineries</td><td>Petroleum refineries</td><td>201102</td><td>19301.58</td><td>ET_3.1_SEP_24.xlsx</td><td>08/10/2024</td></tr><tr><td>Petroleum refineries</td><td>Petroleum refineries</td><td>201103</td><td>19396.92</td><td>ET_3.1_SEP_24.xlsx</td><td>08/10/2024</td></tr><tr><td>Petroleum refineries</td><td>Petroleum refineries</td><td>201104</td><td>18175.74</td><td>ET_3.1_SEP_24.xlsx</td><td>08/10/2024</td></tr><tr><td>Petroleum refineries</td><td>Petroleum refineries</td><td>201201</td><td>19452.3</td><td>ET_3.1_SEP_24.xlsx</td><td>08/10/2024</td></tr><tr><td>Petroleum refineries</td><td>Petroleum refineries</td><td>201202</td><td>19138.75</td><td>ET_3.1_SEP_24.xlsx</td><td>08/10/2024</td></tr><tr><td>Petroleum refineries</td><td>Petroleum refineries</td><td>201203</td><td>18193.48</td><td>ET_3.1_SEP_24.xlsx</td><td>08/10/2024</td></tr><tr><td>Petroleum refineries</td><td>Petroleum refineries</td><td>201204</td><td>15054.59</td><td>ET_3.1_SEP_24.xlsx</td><td>08/10/2024</td></tr><tr><td>Petroleum refineries</td><td>Petroleum refineries</td><td>201301</td><td>16671.01</td><td>ET_3.1_SEP_24.xlsx</td><td>08/10/2024</td></tr><tr><td>Petroleum refineries</td><td>Petroleum refineries</td><td>201302</td><td>17391.91</td><td>ET_3.1_SEP_24.xlsx</td><td>08/10/2024</td></tr><tr><td>Petroleum refineries</td><td>Petroleum refineries</td><td>201303</td><td>16969.49</td><td>ET_3.1_SEP_24.xlsx</td><td>08/10/2024</td></tr><tr><td>Petroleum refineries</td><td>Petroleum refineries</td><td>201304</td><td>14939.49</td><td>ET_3.1_SEP_24.xlsx</td><td>08/10/2024</td></tr><tr><td>Petroleum refineries</td><td>Petroleum refineries</td><td>201401</td><td>15517.21</td><td>ET_3.1_SEP_24.xlsx</td><td>08/10/2024</td></tr><tr><td>Petroleum refineries</td><td>Petroleum refineries</td><td>201402</td><td>15134.49</td><td>ET_3.1_SEP_24.xlsx</td><td>08/10/2024</td></tr><tr><td>Petroleum refineries</td><td>Petroleum refineries</td><td>201403</td><td>15270.23</td><td>ET_3.1_SEP_24.xlsx</td><td>08/10/2024</td></tr><tr><td>Petroleum refineries</td><td>Petroleum refineries</td><td>201404</td><td>15140.62</td><td>ET_3.1_SEP_24.xlsx</td><td>08/10/2024</td></tr><tr><td>Petroleum refineries</td><td>Petroleum refineries</td><td>201501</td><td>14633.03</td><td>ET_3.1_SEP_24.xlsx</td><td>08/10/2024</td></tr><tr><td>Petroleum refineries</td><td>Petroleum refineries</td><td>201502</td><td>14102.55</td><td>ET_3.1_SEP_24.xlsx</td><td>08/10/2024</td></tr><tr><td>Petroleum refineries</td><td>Petroleum refineries</td><td>201503</td><td>16347.25</td><td>ET_3.1_SEP_24.xlsx</td><td>08/10/2024</td></tr><tr><td>Petroleum refineries</td><td>Petroleum refineries</td><td>201504</td><td>16307.98</td><td>ET_3.1_SEP_24.xlsx</td><td>08/10/2024</td></tr><tr><td>Petroleum refineries</td><td>Petroleum refineries</td><td>201601</td><td>14221.39</td><td>ET_3.1_SEP_24.xlsx</td><td>08/10/2024</td></tr><tr><td>Petroleum refineries</td><td>Petroleum refineries</td><td>201602</td><td>15240.19</td><td>ET_3.1_SEP_24.xlsx</td><td>08/10/2024</td></tr><tr><td>Petroleum refineries</td><td>Petroleum refineries</td><td>201603</td><td>15371.73</td><td>ET_3.1_SEP_24.xlsx</td><td>08/10/2024</td></tr><tr><td>Petroleum refineries</td><td>Petroleum refineries</td><td>201604</td><td>15562.13</td><td>ET_3.1_SEP_24.xlsx</td><td>08/10/2024</td></tr><tr><td>Petroleum refineries</td><td>Petroleum refineries</td><td>201701</td><td>14591.1</td><td>ET_3.1_SEP_24.xlsx</td><td>08/10/2024</td></tr><tr><td>Petroleum refineries</td><td>Petroleum refineries</td><td>201702</td><td>15281.72</td><td>ET_3.1_SEP_24.xlsx</td><td>08/10/2024</td></tr><tr><td>Petroleum refineries</td><td>Petroleum refineries</td><td>201703</td><td>15407.86</td><td>ET_3.1_SEP_24.xlsx</td><td>08/10/2024</td></tr><tr><td>Petroleum refineries</td><td>Petroleum refineries</td><td>201704</td><td>14975.92</td><td>ET_3.1_SEP_24.xlsx</td><td>08/10/2024</td></tr><tr><td>Petroleum refineries</td><td>Petroleum refineries</td><td>201801</td><td>13178.44</td><td>ET_3.1_SEP_24.xlsx</td><td>08/10/2024</td></tr><tr><td>Petroleum refineries</td><td>Petroleum refineries</td><td>201802</td><td>14170.78</td><td>ET_3.1_SEP_24.xlsx</td><td>08/10/2024</td></tr><tr><td>Petroleum refineries</td><td>Petroleum refineries</td><td>201803</td><td>15690.31</td><td>ET_3.1_SEP_24.xlsx</td><td>08/10/2024</td></tr><tr><td>Petroleum refineries</td><td>Petroleum refineries</td><td>201804</td><td>15657.73</td><td>ET_3.1_SEP_24.xlsx</td><td>08/10/2024</td></tr><tr><td>Petroleum refineries</td><td>Petroleum refineries</td><td>201901</td><td>14710.22</td><td>ET_3.1_SEP_24.xlsx</td><td>08/10/2024</td></tr><tr><td>Petroleum refineries</td><td>Petroleum refineries</td><td>201902</td><td>13926.94</td><td>ET_3.1_SEP_24.xlsx</td><td>08/10/2024</td></tr><tr><td>Petroleum refineries</td><td>Petroleum refineries</td><td>201903</td><td>14896.3</td><td>ET_3.1_SEP_24.xlsx</td><td>08/10/2024</td></tr><tr><td>Petroleum refineries</td><td>Petroleum refineries</td><td>201904</td><td>15685.33</td><td>ET_3.1_SEP_24.xlsx</td><td>08/10/2024</td></tr><tr><td>Petroleum refineries</td><td>Petroleum refineries</td><td>202001</td><td>14068.82</td><td>ET_3.1_SEP_24.xlsx</td><td>08/10/2024</td></tr><tr><td>Petroleum refineries</td><td>Petroleum refineries</td><td>202002</td><td>10215.22</td><td>ET_3.1_SEP_24.xlsx</td><td>08/10/2024</td></tr><tr><td>Petroleum refineries</td><td>Petroleum refineries</td><td>202003</td><td>11641.84</td><td>ET_3.1_SEP_24.xlsx</td><td>08/10/2024</td></tr><tr><td>Petroleum refineries</td><td>Petroleum refineries</td><td>202004</td><td>12316.73</td><td>ET_3.1_SEP_24.xlsx</td><td>08/10/2024</td></tr><tr><td>Petroleum refineries</td><td>Petroleum refineries</td><td>202101</td><td>9808.94</td><td>ET_3.1_SEP_24.xlsx</td><td>08/10/2024</td></tr><tr><td>Petroleum refineries</td><td>Petroleum refineries</td><td>202102</td><td>12303.27</td><td>ET_3.1_SEP_24.xlsx</td><td>08/10/2024</td></tr><tr><td>Petroleum refineries</td><td>Petroleum refineries</td><td>202103</td><td>13275.23</td><td>ET_3.1_SEP_24.xlsx</td><td>08/10/2024</td></tr><tr><td>Petroleum refineries</td><td>Petroleum refineries</td><td>202104</td><td>13409.17</td><td>ET_3.1_SEP_24.xlsx</td><td>08/10/2024</td></tr><tr><td>Petroleum refineries</td><td>Petroleum refineries</td><td>202201</td><td>13824.26</td><td>ET_3.1_SEP_24.xlsx</td><td>08/10/2024</td></tr><tr><td>Petroleum refineries</td><td>Petroleum refineries</td><td>202202</td><td>13980.37</td><td>ET_3.1_SEP_24.xlsx</td><td>08/10/2024</td></tr><tr><td>Petroleum refineries</td><td>Petroleum refineries</td><td>202203</td><td>13421.25</td><td>ET_3.1_SEP_24.xlsx</td><td>08/10/2024</td></tr><tr><td>Petroleum refineries</td><td>Petroleum refineries</td><td>202204</td><td>13601.0</td><td>ET_3.1_SEP_24.xlsx</td><td>08/10/2024</td></tr><tr><td>Petroleum refineries</td><td>Petroleum refineries</td><td>202301</td><td>13464.15</td><td>ET_3.1_SEP_24.xlsx</td><td>08/10/2024</td></tr><tr><td>Petroleum refineries</td><td>Petroleum refineries</td><td>202302</td><td>12839.76</td><td>ET_3.1_SEP_24.xlsx</td><td>08/10/2024</td></tr><tr><td>Petroleum refineries</td><td>Petroleum refineries</td><td>202303</td><td>12770.78</td><td>ET_3.1_SEP_24.xlsx</td><td>08/10/2024</td></tr><tr><td>Petroleum refineries</td><td>Petroleum refineries</td><td>202304</td><td>11902.4</td><td>ET_3.1_SEP_24.xlsx</td><td>08/10/2024</td></tr><tr><td>Petroleum refineries</td><td>Petroleum refineries</td><td>202401</td><td>12789.68</td><td>ET_3.1_SEP_24.xlsx</td><td>08/10/2024</td></tr><tr><td>Petroleum refineries</td><td>Petroleum refineries</td><td>202402</td><td>12719.97</td><td>ET_3.1_SEP_24.xlsx</td><td>08/10/2024</td></tr><tr><td>Energy industry use</td><td>Energy industry use</td><td>199901</td><td>83.81</td><td>ET_3.1_SEP_24.xlsx</td><td>08/10/2024</td></tr><tr><td>Energy industry use</td><td>Energy industry use</td><td>199902</td><td>81.02</td><td>ET_3.1_SEP_24.xlsx</td><td>08/10/2024</td></tr><tr><td>Energy industry use</td><td>Energy industry use</td><td>199903</td><td>76.81</td><td>ET_3.1_SEP_24.xlsx</td><td>08/10/2024</td></tr><tr><td>Energy industry use</td><td>Energy industry use</td><td>199904</td><td>81.36</td><td>ET_3.1_SEP_24.xlsx</td><td>08/10/2024</td></tr><tr><td>Energy industry use</td><td>Energy industry use</td><td>200001</td><td>82.0</td><td>ET_3.1_SEP_24.xlsx</td><td>08/10/2024</td></tr><tr><td>Energy industry use</td><td>Energy industry use</td><td>200002</td><td>75.0</td><td>ET_3.1_SEP_24.xlsx</td><td>08/10/2024</td></tr><tr><td>Energy industry use</td><td>Energy industry use</td><td>200003</td><td>68.0</td><td>ET_3.1_SEP_24.xlsx</td><td>08/10/2024</td></tr><tr><td>Energy industry use</td><td>Energy industry use</td><td>200004</td><td>69.0</td><td>ET_3.1_SEP_24.xlsx</td><td>08/10/2024</td></tr><tr><td>Energy industry use</td><td>Energy industry use</td><td>200101</td><td>0.0</td><td>ET_3.1_SEP_24.xlsx</td><td>08/10/2024</td></tr><tr><td>Energy industry use</td><td>Energy industry use</td><td>200102</td><td>0.0</td><td>ET_3.1_SEP_24.xlsx</td><td>08/10/2024</td></tr><tr><td>Energy industry use</td><td>Energy industry use</td><td>200103</td><td>0.0</td><td>ET_3.1_SEP_24.xlsx</td><td>08/10/2024</td></tr><tr><td>Energy industry use</td><td>Energy industry use</td><td>200104</td><td>0.0</td><td>ET_3.1_SEP_24.xlsx</td><td>08/10/2024</td></tr><tr><td>Energy industry use</td><td>Energy industry use</td><td>200201</td><td>0.0</td><td>ET_3.1_SEP_24.xlsx</td><td>08/10/2024</td></tr><tr><td>Energy industry use</td><td>Energy industry use</td><td>200202</td><td>0.0</td><td>ET_3.1_SEP_24.xlsx</td><td>08/10/2024</td></tr><tr><td>Energy industry use</td><td>Energy industry use</td><td>200203</td><td>0.0</td><td>ET_3.1_SEP_24.xlsx</td><td>08/10/2024</td></tr><tr><td>Energy industry use</td><td>Energy industry use</td><td>200204</td><td>0.0</td><td>ET_3.1_SEP_24.xlsx</td><td>08/10/2024</td></tr><tr><td>Energy industry use</td><td>Energy industry use</td><td>200301</td><td>0.0</td><td>ET_3.1_SEP_24.xlsx</td><td>08/10/2024</td></tr><tr><td>Energy industry use</td><td>Energy industry use</td><td>200302</td><td>0.0</td><td>ET_3.1_SEP_24.xlsx</td><td>08/10/2024</td></tr><tr><td>Energy industry use</td><td>Energy industry use</td><td>200303</td><td>0.0</td><td>ET_3.1_SEP_24.xlsx</td><td>08/10/2024</td></tr><tr><td>Energy industry use</td><td>Energy industry use</td><td>200304</td><td>0.0</td><td>ET_3.1_SEP_24.xlsx</td><td>08/10/2024</td></tr><tr><td>Energy industry use</td><td>Energy industry use</td><td>200401</td><td>0.0</td><td>ET_3.1_SEP_24.xlsx</td><td>08/10/2024</td></tr><tr><td>Energy industry use</td><td>Energy industry use</td><td>200402</td><td>0.0</td><td>ET_3.1_SEP_24.xlsx</td><td>08/10/2024</td></tr><tr><td>Energy industry use</td><td>Energy industry use</td><td>200403</td><td>0.0</td><td>ET_3.1_SEP_24.xlsx</td><td>08/10/2024</td></tr><tr><td>Energy industry use</td><td>Energy industry use</td><td>200404</td><td>0.0</td><td>ET_3.1_SEP_24.xlsx</td><td>08/10/2024</td></tr><tr><td>Energy industry use</td><td>Energy industry use</td><td>200501</td><td>0.0</td><td>ET_3.1_SEP_24.xlsx</td><td>08/10/2024</td></tr><tr><td>Energy industry use</td><td>Energy industry use</td><td>200502</td><td>0.0</td><td>ET_3.1_SEP_24.xlsx</td><td>08/10/2024</td></tr><tr><td>Energy industry use</td><td>Energy industry use</td><td>200503</td><td>0.0</td><td>ET_3.1_SEP_24.xlsx</td><td>08/10/2024</td></tr><tr><td>Energy industry use</td><td>Energy industry use</td><td>200504</td><td>0.0</td><td>ET_3.1_SEP_24.xlsx</td><td>08/10/2024</td></tr><tr><td>Energy industry use</td><td>Energy industry use</td><td>200601</td><td>0.0</td><td>ET_3.1_SEP_24.xlsx</td><td>08/10/2024</td></tr><tr><td>Energy industry use</td><td>Energy industry use</td><td>200602</td><td>0.0</td><td>ET_3.1_SEP_24.xlsx</td><td>08/10/2024</td></tr><tr><td>Energy industry use</td><td>Energy industry use</td><td>200603</td><td>0.0</td><td>ET_3.1_SEP_24.xlsx</td><td>08/10/2024</td></tr><tr><td>Energy industry use</td><td>Energy industry use</td><td>200604</td><td>0.0</td><td>ET_3.1_SEP_24.xlsx</td><td>08/10/2024</td></tr><tr><td>Energy industry use</td><td>Energy industry use</td><td>200701</td><td>0.0</td><td>ET_3.1_SEP_24.xlsx</td><td>08/10/2024</td></tr><tr><td>Energy industry use</td><td>Energy industry use</td><td>200702</td><td>0.0</td><td>ET_3.1_SEP_24.xlsx</td><td>08/10/2024</td></tr><tr><td>Energy industry use</td><td>Energy industry use</td><td>200703</td><td>0.0</td><td>ET_3.1_SEP_24.xlsx</td><td>08/10/2024</td></tr><tr><td>Energy industry use</td><td>Energy industry use</td><td>200704</td><td>0.0</td><td>ET_3.1_SEP_24.xlsx</td><td>08/10/2024</td></tr><tr><td>Energy industry use</td><td>Energy industry use</td><td>200801</td><td>0.0</td><td>ET_3.1_SEP_24.xlsx</td><td>08/10/2024</td></tr><tr><td>Energy industry use</td><td>Energy industry use</td><td>200802</td><td>0.0</td><td>ET_3.1_SEP_24.xlsx</td><td>08/10/2024</td></tr><tr><td>Energy industry use</td><td>Energy industry use</td><td>200803</td><td>0.0</td><td>ET_3.1_SEP_24.xlsx</td><td>08/10/2024</td></tr><tr><td>Energy industry use</td><td>Energy industry use</td><td>200804</td><td>0.0</td><td>ET_3.1_SEP_24.xlsx</td><td>08/10/2024</td></tr><tr><td>Energy industry use</td><td>Energy industry use</td><td>200901</td><td>0.0</td><td>ET_3.1_SEP_24.xlsx</td><td>08/10/2024</td></tr><tr><td>Energy industry use</td><td>Energy industry use</td><td>200902</td><td>0.0</td><td>ET_3.1_SEP_24.xlsx</td><td>08/10/2024</td></tr><tr><td>Energy industry use</td><td>Energy industry use</td><td>200903</td><td>0.0</td><td>ET_3.1_SEP_24.xlsx</td><td>08/10/2024</td></tr><tr><td>Energy industry use</td><td>Energy industry use</td><td>200904</td><td>0.0</td><td>ET_3.1_SEP_24.xlsx</td><td>08/10/2024</td></tr><tr><td>Energy industry use</td><td>Energy industry use</td><td>201001</td><td>0.0</td><td>ET_3.1_SEP_24.xlsx</td><td>08/10/2024</td></tr><tr><td>Energy industry use</td><td>Energy industry use</td><td>201002</td><td>0.0</td><td>ET_3.1_SEP_24.xlsx</td><td>08/10/2024</td></tr><tr><td>Energy industry use</td><td>Energy industry use</td><td>201003</td><td>0.0</td><td>ET_3.1_SEP_24.xlsx</td><td>08/10/2024</td></tr><tr><td>Energy industry use</td><td>Energy industry use</td><td>201004</td><td>0.0</td><td>ET_3.1_SEP_24.xlsx</td><td>08/10/2024</td></tr><tr><td>Energy industry use</td><td>Energy industry use</td><td>201101</td><td>0.0</td><td>ET_3.1_SEP_24.xlsx</td><td>08/10/2024</td></tr><tr><td>Energy industry use</td><td>Energy industry use</td><td>201102</td><td>0.0</td><td>ET_3.1_SEP_24.xlsx</td><td>08/10/2024</td></tr><tr><td>Energy industry use</td><td>Energy industry use</td><td>201103</td><td>0.0</td><td>ET_3.1_SEP_24.xlsx</td><td>08/10/2024</td></tr><tr><td>Energy industry use</td><td>Energy industry use</td><td>201104</td><td>0.0</td><td>ET_3.1_SEP_24.xlsx</td><td>08/10/2024</td></tr><tr><td>Energy industry use</td><td>Energy industry use</td><td>201201</td><td>0.0</td><td>ET_3.1_SEP_24.xlsx</td><td>08/10/2024</td></tr><tr><td>Energy industry use</td><td>Energy industry use</td><td>201202</td><td>0.0</td><td>ET_3.1_SEP_24.xlsx</td><td>08/10/2024</td></tr><tr><td>Energy industry use</td><td>Energy industry use</td><td>201203</td><td>0.0</td><td>ET_3.1_SEP_24.xlsx</td><td>08/10/2024</td></tr><tr><td>Energy industry use</td><td>Energy industry use</td><td>201204</td><td>0.0</td><td>ET_3.1_SEP_24.xlsx</td><td>08/10/2024</td></tr><tr><td>Energy industry use</td><td>Energy industry use</td><td>201301</td><td>0.0</td><td>ET_3.1_SEP_24.xlsx</td><td>08/10/2024</td></tr><tr><td>Energy industry use</td><td>Energy industry use</td><td>201302</td><td>0.0</td><td>ET_3.1_SEP_24.xlsx</td><td>08/10/2024</td></tr><tr><td>Energy industry use</td><td>Energy industry use</td><td>201303</td><td>0.0</td><td>ET_3.1_SEP_24.xlsx</td><td>08/10/2024</td></tr><tr><td>Energy industry use</td><td>Energy industry use</td><td>201304</td><td>0.0</td><td>ET_3.1_SEP_24.xlsx</td><td>08/10/2024</td></tr><tr><td>Energy industry use</td><td>Energy industry use</td><td>201401</td><td>0.0</td><td>ET_3.1_SEP_24.xlsx</td><td>08/10/2024</td></tr><tr><td>Energy industry use</td><td>Energy industry use</td><td>201402</td><td>0.0</td><td>ET_3.1_SEP_24.xlsx</td><td>08/10/2024</td></tr><tr><td>Energy industry use</td><td>Energy industry use</td><td>201403</td><td>0.0</td><td>ET_3.1_SEP_24.xlsx</td><td>08/10/2024</td></tr><tr><td>Energy industry use</td><td>Energy industry use</td><td>201404</td><td>0.0</td><td>ET_3.1_SEP_24.xlsx</td><td>08/10/2024</td></tr><tr><td>Energy industry use</td><td>Energy industry use</td><td>201501</td><td>0.0</td><td>ET_3.1_SEP_24.xlsx</td><td>08/10/2024</td></tr><tr><td>Energy industry use</td><td>Energy industry use</td><td>201502</td><td>0.0</td><td>ET_3.1_SEP_24.xlsx</td><td>08/10/2024</td></tr><tr><td>Energy industry use</td><td>Energy industry use</td><td>201503</td><td>0.0</td><td>ET_3.1_SEP_24.xlsx</td><td>08/10/2024</td></tr><tr><td>Energy industry use</td><td>Energy industry use</td><td>201504</td><td>0.0</td><td>ET_3.1_SEP_24.xlsx</td><td>08/10/2024</td></tr><tr><td>Energy industry use</td><td>Energy industry use</td><td>201601</td><td>0.0</td><td>ET_3.1_SEP_24.xlsx</td><td>08/10/2024</td></tr><tr><td>Energy industry use</td><td>Energy industry use</td><td>201602</td><td>0.0</td><td>ET_3.1_SEP_24.xlsx</td><td>08/10/2024</td></tr><tr><td>Energy industry use</td><td>Energy industry use</td><td>201603</td><td>0.0</td><td>ET_3.1_SEP_24.xlsx</td><td>08/10/2024</td></tr><tr><td>Energy industry use</td><td>Energy industry use</td><td>201604</td><td>0.0</td><td>ET_3.1_SEP_24.xlsx</td><td>08/10/2024</td></tr><tr><td>Energy industry use</td><td>Energy industry use</td><td>201701</td><td>0.0</td><td>ET_3.1_SEP_24.xlsx</td><td>08/10/2024</td></tr><tr><td>Energy industry use</td><td>Energy industry use</td><td>201702</td><td>0.0</td><td>ET_3.1_SEP_24.xlsx</td><td>08/10/2024</td></tr><tr><td>Energy industry use</td><td>Energy industry use</td><td>201703</td><td>0.0</td><td>ET_3.1_SEP_24.xlsx</td><td>08/10/2024</td></tr><tr><td>Energy industry use</td><td>Energy industry use</td><td>201704</td><td>0.0</td><td>ET_3.1_SEP_24.xlsx</td><td>08/10/2024</td></tr><tr><td>Energy industry use</td><td>Energy industry use</td><td>201801</td><td>0.0</td><td>ET_3.1_SEP_24.xlsx</td><td>08/10/2024</td></tr><tr><td>Energy industry use</td><td>Energy industry use</td><td>201802</td><td>0.0</td><td>ET_3.1_SEP_24.xlsx</td><td>08/10/2024</td></tr><tr><td>Energy industry use</td><td>Energy industry use</td><td>201803</td><td>0.0</td><td>ET_3.1_SEP_24.xlsx</td><td>08/10/2024</td></tr><tr><td>Energy industry use</td><td>Energy industry use</td><td>201804</td><td>0.0</td><td>ET_3.1_SEP_24.xlsx</td><td>08/10/2024</td></tr><tr><td>Energy industry use</td><td>Energy industry use</td><td>201901</td><td>0.0</td><td>ET_3.1_SEP_24.xlsx</td><td>08/10/2024</td></tr><tr><td>Energy industry use</td><td>Energy industry use</td><td>201902</td><td>0.0</td><td>ET_3.1_SEP_24.xlsx</td><td>08/10/2024</td></tr><tr><td>Energy industry use</td><td>Energy industry use</td><td>201903</td><td>0.0</td><td>ET_3.1_SEP_24.xlsx</td><td>08/10/2024</td></tr><tr><td>Energy industry use</td><td>Energy industry use</td><td>201904</td><td>0.0</td><td>ET_3.1_SEP_24.xlsx</td><td>08/10/2024</td></tr><tr><td>Energy industry use</td><td>Energy industry use</td><td>202001</td><td>0.0</td><td>ET_3.1_SEP_24.xlsx</td><td>08/10/2024</td></tr><tr><td>Energy industry use</td><td>Energy industry use</td><td>202002</td><td>0.0</td><td>ET_3.1_SEP_24.xlsx</td><td>08/10/2024</td></tr><tr><td>Energy industry use</td><td>Energy industry use</td><td>202003</td><td>0.0</td><td>ET_3.1_SEP_24.xlsx</td><td>08/10/2024</td></tr><tr><td>Energy industry use</td><td>Energy industry use</td><td>202004</td><td>0.0</td><td>ET_3.1_SEP_24.xlsx</td><td>08/10/2024</td></tr><tr><td>Energy industry use</td><td>Energy industry use</td><td>202101</td><td>0.0</td><td>ET_3.1_SEP_24.xlsx</td><td>08/10/2024</td></tr><tr><td>Energy industry use</td><td>Energy industry use</td><td>202102</td><td>0.0</td><td>ET_3.1_SEP_24.xlsx</td><td>08/10/2024</td></tr><tr><td>Energy industry use</td><td>Energy industry use</td><td>202103</td><td>0.0</td><td>ET_3.1_SEP_24.xlsx</td><td>08/10/2024</td></tr><tr><td>Energy industry use</td><td>Energy industry use</td><td>202104</td><td>0.0</td><td>ET_3.1_SEP_24.xlsx</td><td>08/10/2024</td></tr><tr><td>Energy industry use</td><td>Energy industry use</td><td>202201</td><td>0.0</td><td>ET_3.1_SEP_24.xlsx</td><td>08/10/2024</td></tr><tr><td>Energy industry use</td><td>Energy industry use</td><td>202202</td><td>0.0</td><td>ET_3.1_SEP_24.xlsx</td><td>08/10/2024</td></tr><tr><td>Energy industry use</td><td>Energy industry use</td><td>202203</td><td>0.0</td><td>ET_3.1_SEP_24.xlsx</td><td>08/10/2024</td></tr><tr><td>Energy industry use</td><td>Energy industry use</td><td>202204</td><td>0.0</td><td>ET_3.1_SEP_24.xlsx</td><td>08/10/2024</td></tr><tr><td>Energy industry use</td><td>Energy industry use</td><td>202301</td><td>0.0</td><td>ET_3.1_SEP_24.xlsx</td><td>08/10/2024</td></tr><tr><td>Energy industry use</td><td>Energy industry use</td><td>202302</td><td>0.0</td><td>ET_3.1_SEP_24.xlsx</td><td>08/10/2024</td></tr><tr><td>Energy industry use</td><td>Energy industry use</td><td>202303</td><td>0.0</td><td>ET_3.1_SEP_24.xlsx</td><td>08/10/2024</td></tr><tr><td>Energy industry use</td><td>Energy industry use</td><td>202304</td><td>0.0</td><td>ET_3.1_SEP_24.xlsx</td><td>08/10/2024</td></tr><tr><td>Energy industry use</td><td>Energy industry use</td><td>202401</td><td>0.0</td><td>ET_3.1_SEP_24.xlsx</td><td>08/10/2024</td></tr><tr><td>Energy industry use</td><td>Energy industry use</td><td>202402</td><td>0.0</td><td>ET_3.1_SEP_24.xlsx</td><td>08/10/2024</td></tr><tr><td>Oil & gas extraction</td><td>Oil & gas extraction</td><td>199901</td><td>83.81</td><td>ET_3.1_SEP_24.xlsx</td><td>08/10/2024</td></tr><tr><td>Oil & gas extraction</td><td>Oil & gas extraction</td><td>199902</td><td>81.02</td><td>ET_3.1_SEP_24.xlsx</td><td>08/10/2024</td></tr><tr><td>Oil & gas extraction</td><td>Oil & gas extraction</td><td>199903</td><td>76.81</td><td>ET_3.1_SEP_24.xlsx</td><td>08/10/2024</td></tr><tr><td>Oil & gas extraction</td><td>Oil & gas extraction</td><td>199904</td><td>81.36</td><td>ET_3.1_SEP_24.xlsx</td><td>08/10/2024</td></tr><tr><td>Oil & gas extraction</td><td>Oil & gas extraction</td><td>200001</td><td>82.0</td><td>ET_3.1_SEP_24.xlsx</td><td>08/10/2024</td></tr><tr><td>Oil & gas extraction</td><td>Oil & gas extraction</td><td>200002</td><td>75.0</td><td>ET_3.1_SEP_24.xlsx</td><td>08/10/2024</td></tr><tr><td>Oil & gas extraction</td><td>Oil & gas extraction</td><td>200003</td><td>68.0</td><td>ET_3.1_SEP_24.xlsx</td><td>08/10/2024</td></tr><tr><td>Oil & gas extraction</td><td>Oil & gas extraction</td><td>200004</td><td>69.0</td><td>ET_3.1_SEP_24.xlsx</td><td>08/10/2024</td></tr><tr><td>Oil & gas extraction</td><td>Oil & gas extraction</td><td>200101</td><td>0.0</td><td>ET_3.1_SEP_24.xlsx</td><td>08/10/2024</td></tr><tr><td>Oil & gas extraction</td><td>Oil & gas extraction</td><td>200102</td><td>0.0</td><td>ET_3.1_SEP_24.xlsx</td><td>08/10/2024</td></tr><tr><td>Oil & gas extraction</td><td>Oil & gas extraction</td><td>200103</td><td>0.0</td><td>ET_3.1_SEP_24.xlsx</td><td>08/10/2024</td></tr><tr><td>Oil & gas extraction</td><td>Oil & gas extraction</td><td>200104</td><td>0.0</td><td>ET_3.1_SEP_24.xlsx</td><td>08/10/2024</td></tr><tr><td>Oil & gas extraction</td><td>Oil & gas extraction</td><td>200201</td><td>0.0</td><td>ET_3.1_SEP_24.xlsx</td><td>08/10/2024</td></tr><tr><td>Oil & gas extraction</td><td>Oil & gas extraction</td><td>200202</td><td>0.0</td><td>ET_3.1_SEP_24.xlsx</td><td>08/10/2024</td></tr><tr><td>Oil & gas extraction</td><td>Oil & gas extraction</td><td>200203</td><td>0.0</td><td>ET_3.1_SEP_24.xlsx</td><td>08/10/2024</td></tr><tr><td>Oil & gas extraction</td><td>Oil & gas extraction</td><td>200204</td><td>0.0</td><td>ET_3.1_SEP_24.xlsx</td><td>08/10/2024</td></tr><tr><td>Oil & gas extraction</td><td>Oil & gas extraction</td><td>200301</td><td>0.0</td><td>ET_3.1_SEP_24.xlsx</td><td>08/10/2024</td></tr><tr><td>Oil & gas extraction</td><td>Oil & gas extraction</td><td>200302</td><td>0.0</td><td>ET_3.1_SEP_24.xlsx</td><td>08/10/2024</td></tr><tr><td>Oil & gas extraction</td><td>Oil & gas extraction</td><td>200303</td><td>0.0</td><td>ET_3.1_SEP_24.xlsx</td><td>08/10/2024</td></tr><tr><td>Oil & gas extraction</td><td>Oil & gas extraction</td><td>200304</td><td>0.0</td><td>ET_3.1_SEP_24.xlsx</td><td>08/10/2024</td></tr><tr><td>Oil & gas extraction</td><td>Oil & gas extraction</td><td>200401</td><td>0.0</td><td>ET_3.1_SEP_24.xlsx</td><td>08/10/2024</td></tr><tr><td>Oil & gas extraction</td><td>Oil & gas extraction</td><td>200402</td><td>0.0</td><td>ET_3.1_SEP_24.xlsx</td><td>08/10/2024</td></tr><tr><td>Oil & gas extraction</td><td>Oil & gas extraction</td><td>200403</td><td>0.0</td><td>ET_3.1_SEP_24.xlsx</td><td>08/10/2024</td></tr><tr><td>Oil & gas extraction</td><td>Oil & gas extraction</td><td>200404</td><td>0.0</td><td>ET_3.1_SEP_24.xlsx</td><td>08/10/2024</td></tr><tr><td>Oil & gas extraction</td><td>Oil & gas extraction</td><td>200501</td><td>0.0</td><td>ET_3.1_SEP_24.xlsx</td><td>08/10/2024</td></tr><tr><td>Oil & gas extraction</td><td>Oil & gas extraction</td><td>200502</td><td>0.0</td><td>ET_3.1_SEP_24.xlsx</td><td>08/10/2024</td></tr><tr><td>Oil & gas extraction</td><td>Oil & gas extraction</td><td>200503</td><td>0.0</td><td>ET_3.1_SEP_24.xlsx</td><td>08/10/2024</td></tr><tr><td>Oil & gas extraction</td><td>Oil & gas extraction</td><td>200504</td><td>0.0</td><td>ET_3.1_SEP_24.xlsx</td><td>08/10/2024</td></tr><tr><td>Oil & gas extraction</td><td>Oil & gas extraction</td><td>200601</td><td>0.0</td><td>ET_3.1_SEP_24.xlsx</td><td>08/10/2024</td></tr><tr><td>Oil & gas extraction</td><td>Oil & gas extraction</td><td>200602</td><td>0.0</td><td>ET_3.1_SEP_24.xlsx</td><td>08/10/2024</td></tr><tr><td>Oil & gas extraction</td><td>Oil & gas extraction</td><td>200603</td><td>0.0</td><td>ET_3.1_SEP_24.xlsx</td><td>08/10/2024</td></tr><tr><td>Oil & gas extraction</td><td>Oil & gas extraction</td><td>200604</td><td>0.0</td><td>ET_3.1_SEP_24.xlsx</td><td>08/10/2024</td></tr><tr><td>Oil & gas extraction</td><td>Oil & gas extraction</td><td>200701</td><td>0.0</td><td>ET_3.1_SEP_24.xlsx</td><td>08/10/2024</td></tr><tr><td>Oil & gas extraction</td><td>Oil & gas extraction</td><td>200702</td><td>0.0</td><td>ET_3.1_SEP_24.xlsx</td><td>08/10/2024</td></tr><tr><td>Oil & gas extraction</td><td>Oil & gas extraction</td><td>200703</td><td>0.0</td><td>ET_3.1_SEP_24.xlsx</td><td>08/10/2024</td></tr><tr><td>Oil & gas extraction</td><td>Oil & gas extraction</td><td>200704</td><td>0.0</td><td>ET_3.1_SEP_24.xlsx</td><td>08/10/2024</td></tr><tr><td>Oil & gas extraction</td><td>Oil & gas extraction</td><td>200801</td><td>0.0</td><td>ET_3.1_SEP_24.xlsx</td><td>08/10/2024</td></tr><tr><td>Oil & gas extraction</td><td>Oil & gas extraction</td><td>200802</td><td>0.0</td><td>ET_3.1_SEP_24.xlsx</td><td>08/10/2024</td></tr><tr><td>Oil & gas extraction</td><td>Oil & gas extraction</td><td>200803</td><td>0.0</td><td>ET_3.1_SEP_24.xlsx</td><td>08/10/2024</td></tr><tr><td>Oil & gas extraction</td><td>Oil & gas extraction</td><td>200804</td><td>0.0</td><td>ET_3.1_SEP_24.xlsx</td><td>08/10/2024</td></tr><tr><td>Oil & gas extraction</td><td>Oil & gas extraction</td><td>200901</td><td>0.0</td><td>ET_3.1_SEP_24.xlsx</td><td>08/10/2024</td></tr><tr><td>Oil & gas extraction</td><td>Oil & gas extraction</td><td>200902</td><td>0.0</td><td>ET_3.1_SEP_24.xlsx</td><td>08/10/2024</td></tr><tr><td>Oil & gas extraction</td><td>Oil & gas extraction</td><td>200903</td><td>0.0</td><td>ET_3.1_SEP_24.xlsx</td><td>08/10/2024</td></tr><tr><td>Oil & gas extraction</td><td>Oil & gas extraction</td><td>200904</td><td>0.0</td><td>ET_3.1_SEP_24.xlsx</td><td>08/10/2024</td></tr><tr><td>Oil & gas extraction</td><td>Oil & gas extraction</td><td>201001</td><td>0.0</td><td>ET_3.1_SEP_24.xlsx</td><td>08/10/2024</td></tr><tr><td>Oil & gas extraction</td><td>Oil & gas extraction</td><td>201002</td><td>0.0</td><td>ET_3.1_SEP_24.xlsx</td><td>08/10/2024</td></tr><tr><td>Oil & gas extraction</td><td>Oil & gas extraction</td><td>201003</td><td>0.0</td><td>ET_3.1_SEP_24.xlsx</td><td>08/10/2024</td></tr><tr><td>Oil & gas extraction</td><td>Oil & gas extraction</td><td>201004</td><td>0.0</td><td>ET_3.1_SEP_24.xlsx</td><td>08/10/2024</td></tr><tr><td>Oil & gas extraction</td><td>Oil & gas extraction</td><td>201101</td><td>0.0</td><td>ET_3.1_SEP_24.xlsx</td><td>08/10/2024</td></tr><tr><td>Oil & gas extraction</td><td>Oil & gas extraction</td><td>201102</td><td>0.0</td><td>ET_3.1_SEP_24.xlsx</td><td>08/10/2024</td></tr><tr><td>Oil & gas extraction</td><td>Oil & gas extraction</td><td>201103</td><td>0.0</td><td>ET_3.1_SEP_24.xlsx</td><td>08/10/2024</td></tr><tr><td>Oil & gas extraction</td><td>Oil & gas extraction</td><td>201104</td><td>0.0</td><td>ET_3.1_SEP_24.xlsx</td><td>08/10/2024</td></tr><tr><td>Oil & gas extraction</td><td>Oil & gas extraction</td><td>201201</td><td>0.0</td><td>ET_3.1_SEP_24.xlsx</td><td>08/10/2024</td></tr><tr><td>Oil & gas extraction</td><td>Oil & gas extraction</td><td>201202</td><td>0.0</td><td>ET_3.1_SEP_24.xlsx</td><td>08/10/2024</td></tr><tr><td>Oil & gas extraction</td><td>Oil & gas extraction</td><td>201203</td><td>0.0</td><td>ET_3.1_SEP_24.xlsx</td><td>08/10/2024</td></tr><tr><td>Oil & gas extraction</td><td>Oil & gas extraction</td><td>201204</td><td>0.0</td><td>ET_3.1_SEP_24.xlsx</td><td>08/10/2024</td></tr><tr><td>Oil & gas extraction</td><td>Oil & gas extraction</td><td>201301</td><td>0.0</td><td>ET_3.1_SEP_24.xlsx</td><td>08/10/2024</td></tr><tr><td>Oil & gas extraction</td><td>Oil & gas extraction</td><td>201302</td><td>0.0</td><td>ET_3.1_SEP_24.xlsx</td><td>08/10/2024</td></tr><tr><td>Oil & gas extraction</td><td>Oil & gas extraction</td><td>201303</td><td>0.0</td><td>ET_3.1_SEP_24.xlsx</td><td>08/10/2024</td></tr><tr><td>Oil & gas extraction</td><td>Oil & gas extraction</td><td>201304</td><td>0.0</td><td>ET_3.1_SEP_24.xlsx</td><td>08/10/2024</td></tr><tr><td>Oil & gas extraction</td><td>Oil & gas extraction</td><td>201401</td><td>0.0</td><td>ET_3.1_SEP_24.xlsx</td><td>08/10/2024</td></tr><tr><td>Oil & gas extraction</td><td>Oil & gas extraction</td><td>201402</td><td>0.0</td><td>ET_3.1_SEP_24.xlsx</td><td>08/10/2024</td></tr><tr><td>Oil & gas extraction</td><td>Oil & gas extraction</td><td>201403</td><td>0.0</td><td>ET_3.1_SEP_24.xlsx</td><td>08/10/2024</td></tr><tr><td>Oil & gas extraction</td><td>Oil & gas extraction</td><td>201404</td><td>0.0</td><td>ET_3.1_SEP_24.xlsx</td><td>08/10/2024</td></tr><tr><td>Oil & gas extraction</td><td>Oil & gas extraction</td><td>201501</td><td>0.0</td><td>ET_3.1_SEP_24.xlsx</td><td>08/10/2024</td></tr><tr><td>Oil & gas extraction</td><td>Oil & gas extraction</td><td>201502</td><td>0.0</td><td>ET_3.1_SEP_24.xlsx</td><td>08/10/2024</td></tr><tr><td>Oil & gas extraction</td><td>Oil & gas extraction</td><td>201503</td><td>0.0</td><td>ET_3.1_SEP_24.xlsx</td><td>08/10/2024</td></tr><tr><td>Oil & gas extraction</td><td>Oil & gas extraction</td><td>201504</td><td>0.0</td><td>ET_3.1_SEP_24.xlsx</td><td>08/10/2024</td></tr><tr><td>Oil & gas extraction</td><td>Oil & gas extraction</td><td>201601</td><td>0.0</td><td>ET_3.1_SEP_24.xlsx</td><td>08/10/2024</td></tr><tr><td>Oil & gas extraction</td><td>Oil & gas extraction</td><td>201602</td><td>0.0</td><td>ET_3.1_SEP_24.xlsx</td><td>08/10/2024</td></tr><tr><td>Oil & gas extraction</td><td>Oil & gas extraction</td><td>201603</td><td>0.0</td><td>ET_3.1_SEP_24.xlsx</td><td>08/10/2024</td></tr><tr><td>Oil & gas extraction</td><td>Oil & gas extraction</td><td>201604</td><td>0.0</td><td>ET_3.1_SEP_24.xlsx</td><td>08/10/2024</td></tr><tr><td>Oil & gas extraction</td><td>Oil & gas extraction</td><td>201701</td><td>0.0</td><td>ET_3.1_SEP_24.xlsx</td><td>08/10/2024</td></tr><tr><td>Oil & gas extraction</td><td>Oil & gas extraction</td><td>201702</td><td>0.0</td><td>ET_3.1_SEP_24.xlsx</td><td>08/10/2024</td></tr><tr><td>Oil & gas extraction</td><td>Oil & gas extraction</td><td>201703</td><td>0.0</td><td>ET_3.1_SEP_24.xlsx</td><td>08/10/2024</td></tr><tr><td>Oil & gas extraction</td><td>Oil & gas extraction</td><td>201704</td><td>0.0</td><td>ET_3.1_SEP_24.xlsx</td><td>08/10/2024</td></tr><tr><td>Oil & gas extraction</td><td>Oil & gas extraction</td><td>201801</td><td>0.0</td><td>ET_3.1_SEP_24.xlsx</td><td>08/10/2024</td></tr><tr><td>Oil & gas extraction</td><td>Oil & gas extraction</td><td>201802</td><td>0.0</td><td>ET_3.1_SEP_24.xlsx</td><td>08/10/2024</td></tr><tr><td>Oil & gas extraction</td><td>Oil & gas extraction</td><td>201803</td><td>0.0</td><td>ET_3.1_SEP_24.xlsx</td><td>08/10/2024</td></tr><tr><td>Oil & gas extraction</td><td>Oil & gas extraction</td><td>201804</td><td>0.0</td><td>ET_3.1_SEP_24.xlsx</td><td>08/10/2024</td></tr><tr><td>Oil & gas extraction</td><td>Oil & gas extraction</td><td>201901</td><td>0.0</td><td>ET_3.1_SEP_24.xlsx</td><td>08/10/2024</td></tr><tr><td>Oil & gas extraction</td><td>Oil & gas extraction</td><td>201902</td><td>0.0</td><td>ET_3.1_SEP_24.xlsx</td><td>08/10/2024</td></tr><tr><td>Oil & gas extraction</td><td>Oil & gas extraction</td><td>201903</td><td>0.0</td><td>ET_3.1_SEP_24.xlsx</td><td>08/10/2024</td></tr><tr><td>Oil & gas extraction</td><td>Oil & gas extraction</td><td>201904</td><td>0.0</td><td>ET_3.1_SEP_24.xlsx</td><td>08/10/2024</td></tr><tr><td>Oil & gas extraction</td><td>Oil & gas extraction</td><td>202001</td><td>0.0</td><td>ET_3.1_SEP_24.xlsx</td><td>08/10/2024</td></tr><tr><td>Oil & gas extraction</td><td>Oil & gas extraction</td><td>202002</td><td>0.0</td><td>ET_3.1_SEP_24.xlsx</td><td>08/10/2024</td></tr><tr><td>Oil & gas extraction</td><td>Oil & gas extraction</td><td>202003</td><td>0.0</td><td>ET_3.1_SEP_24.xlsx</td><td>08/10/2024</td></tr><tr><td>Oil & gas extraction</td><td>Oil & gas extraction</td><td>202004</td><td>0.0</td><td>ET_3.1_SEP_24.xlsx</td><td>08/10/2024</td></tr><tr><td>Oil & gas extraction</td><td>Oil & gas extraction</td><td>202101</td><td>0.0</td><td>ET_3.1_SEP_24.xlsx</td><td>08/10/2024</td></tr><tr><td>Oil & gas extraction</td><td>Oil & gas extraction</td><td>202102</td><td>0.0</td><td>ET_3.1_SEP_24.xlsx</td><td>08/10/2024</td></tr><tr><td>Oil & gas extraction</td><td>Oil & gas extraction</td><td>202103</td><td>0.0</td><td>ET_3.1_SEP_24.xlsx</td><td>08/10/2024</td></tr><tr><td>Oil & gas extraction</td><td>Oil & gas extraction</td><td>202104</td><td>0.0</td><td>ET_3.1_SEP_24.xlsx</td><td>08/10/2024</td></tr><tr><td>Oil & gas extraction</td><td>Oil & gas extraction</td><td>202201</td><td>0.0</td><td>ET_3.1_SEP_24.xlsx</td><td>08/10/2024</td></tr><tr><td>Oil & gas extraction</td><td>Oil & gas extraction</td><td>202202</td><td>0.0</td><td>ET_3.1_SEP_24.xlsx</td><td>08/10/2024</td></tr><tr><td>Oil & gas extraction</td><td>Oil & gas extraction</td><td>202203</td><td>0.0</td><td>ET_3.1_SEP_24.xlsx</td><td>08/10/2024</td></tr><tr><td>Oil & gas extraction</td><td>Oil & gas extraction</td><td>202204</td><td>0.0</td><td>ET_3.1_SEP_24.xlsx</td><td>08/10/2024</td></tr><tr><td>Oil & gas extraction</td><td>Oil & gas extraction</td><td>202301</td><td>0.0</td><td>ET_3.1_SEP_24.xlsx</td><td>08/10/2024</td></tr><tr><td>Oil & gas extraction</td><td>Oil & gas extraction</td><td>202302</td><td>0.0</td><td>ET_3.1_SEP_24.xlsx</td><td>08/10/2024</td></tr><tr><td>Oil & gas extraction</td><td>Oil & gas extraction</td><td>202303</td><td>0.0</td><td>ET_3.1_SEP_24.xlsx</td><td>08/10/2024</td></tr><tr><td>Oil & gas extraction</td><td>Oil & gas extraction</td><td>202304</td><td>0.0</td><td>ET_3.1_SEP_24.xlsx</td><td>08/10/2024</td></tr><tr><td>Oil & gas extraction</td><td>Oil & gas extraction</td><td>202401</td><td>0.0</td><td>ET_3.1_SEP_24.xlsx</td><td>08/10/2024</td></tr><tr><td>Oil & gas extraction</td><td>Oil & gas extraction</td><td>202402</td><td>0.0</td><td>ET_3.1_SEP_24.xlsx</td><td>08/10/2024</td></tr><tr><td>Indigenous production</td><td>Indigenous production_Crude Oil & NGLs</td><td>199901</td><td>34382.56</td><td>ET_3.1_SEP_24.xlsx</td><td>08/10/2024</td></tr><tr><td>Indigenous production</td><td>Indigenous production_Crude Oil & NGLs</td><td>199902</td><td>33060.35</td><td>ET_3.1_SEP_24.xlsx</td><td>08/10/2024</td></tr><tr><td>Indigenous production</td><td>Indigenous production_Crude Oil & NGLs</td><td>199903</td><td>34314.67</td><td>ET_3.1_SEP_24.xlsx</td><td>08/10/2024</td></tr><tr><td>Indigenous production</td><td>Indigenous production_Crude Oil & NGLs</td><td>199904</td><td>35341.42</td><td>ET_3.1_SEP_24.xlsx</td><td>08/10/2024</td></tr><tr><td>Indigenous production</td><td>Indigenous production_Crude Oil & NGLs</td><td>200001</td><td>34217.37</td><td>ET_3.1_SEP_24.xlsx</td><td>08/10/2024</td></tr><tr><td>Indigenous production</td><td>Indigenous production_Crude Oil & NGLs</td><td>200002</td><td>30802.13</td><td>ET_3.1_SEP_24.xlsx</td><td>08/10/2024</td></tr><tr><td>Indigenous production</td><td>Indigenous production_Crude Oil & NGLs</td><td>200003</td><td>30427.07</td><td>ET_3.1_SEP_24.xlsx</td><td>08/10/2024</td></tr><tr><td>Indigenous production</td><td>Indigenous production_Crude Oil & NGLs</td><td>200004</td><td>30798.43</td><td>ET_3.1_SEP_24.xlsx</td><td>08/10/2024</td></tr><tr><td>Indigenous production</td><td>Indigenous production_Crude Oil & NGLs</td><td>200101</td><td>29196.34</td><td>ET_3.1_SEP_24.xlsx</td><td>08/10/2024</td></tr><tr><td>Indigenous production</td><td>Indigenous production_Crude Oil & NGLs</td><td>200102</td><td>28340.079999999998</td><td>ET_3.1_SEP_24.xlsx</td><td>08/10/2024</td></tr><tr><td>Indigenous production</td><td>Indigenous production_Crude Oil & NGLs</td><td>200103</td><td>28328.32</td><td>ET_3.1_SEP_24.xlsx</td><td>08/10/2024</td></tr><tr><td>Indigenous production</td><td>Indigenous production_Crude Oil & NGLs</td><td>200104</td><td>30813.649999999998</td><td>ET_3.1_SEP_24.xlsx</td><td>08/10/2024</td></tr><tr><td>Indigenous production</td><td>Indigenous production_Crude Oil & NGLs</td><td>200201</td><td>29652.43</td><td>ET_3.1_SEP_24.xlsx</td><td>08/10/2024</td></tr><tr><td>Indigenous production</td><td>Indigenous production_Crude Oil & NGLs</td><td>200202</td><td>29527.44</td><td>ET_3.1_SEP_24.xlsx</td><td>08/10/2024</td></tr><tr><td>Indigenous production</td><td>Indigenous production_Crude Oil & NGLs</td><td>200203</td><td>26481.82</td><td>ET_3.1_SEP_24.xlsx</td><td>08/10/2024</td></tr><tr><td>Indigenous production</td><td>Indigenous production_Crude Oil & NGLs</td><td>200204</td><td>30282.55</td><td>ET_3.1_SEP_24.xlsx</td><td>08/10/2024</td></tr><tr><td>Indigenous production</td><td>Indigenous production_Crude Oil & NGLs</td><td>200301</td><td>28679.690000000002</td><td>ET_3.1_SEP_24.xlsx</td><td>08/10/2024</td></tr><tr><td>Indigenous production</td><td>Indigenous production_Crude Oil & NGLs</td><td>200302</td><td>26025.5</td><td>ET_3.1_SEP_24.xlsx</td><td>08/10/2024</td></tr><tr><td>Indigenous production</td><td>Indigenous production_Crude Oil & NGLs</td><td>200303</td><td>24957.81</td><td>ET_3.1_SEP_24.xlsx</td><td>08/10/2024</td></tr><tr><td>Indigenous production</td><td>Indigenous production_Crude Oil & NGLs</td><td>200304</td><td>26409.929999999997</td><td>ET_3.1_SEP_24.xlsx</td><td>08/10/2024</td></tr><tr><td>Indigenous production</td><td>Indigenous production_Crude Oil & NGLs</td><td>200401</td><td>25434.129999999997</td><td>ET_3.1_SEP_24.xlsx</td><td>08/10/2024</td></tr><tr><td>Indigenous production</td><td>Indigenous production_Crude Oil & NGLs</td><td>200402</td><td>24345.24</td><td>ET_3.1_SEP_24.xlsx</td><td>08/10/2024</td></tr><tr><td>Indigenous production</td><td>Indigenous production_Crude Oil & NGLs</td><td>200403</td><td>22078.37</td><td>ET_3.1_SEP_24.xlsx</td><td>08/10/2024</td></tr><tr><td>Indigenous production</td><td>Indigenous production_Crude Oil & NGLs</td><td>200404</td><td>23516.039999999997</td><td>ET_3.1_SEP_24.xlsx</td><td>08/10/2024</td></tr><tr><td>Indigenous production</td><td>Indigenous production_Crude Oil & NGLs</td><td>200501</td><td>22714.08</td><td>ET_3.1_SEP_24.xlsx</td><td>08/10/2024</td></tr><tr><td>Indigenous production</td><td>Indigenous production_Crude Oil & NGLs</td><td>200502</td><td>21989.97</td><td>ET_3.1_SEP_24.xlsx</td><td>08/10/2024</td></tr><tr><td>Indigenous production</td><td>Indigenous production_Crude Oil & NGLs</td><td>200503</td><td>19307.510000000002</td><td>ET_3.1_SEP_24.xlsx</td><td>08/10/2024</td></tr><tr><td>Indigenous production</td><td>Indigenous production_Crude Oil & NGLs</td><td>200504</td><td>20709.57</td><td>ET_3.1_SEP_24.xlsx</td><td>08/10/2024</td></tr><tr><td>Indigenous production</td><td>Indigenous production_Crude Oil & NGLs</td><td>200601</td><td>20878.22</td><td>ET_3.1_SEP_24.xlsx</td><td>08/10/2024</td></tr><tr><td>Indigenous production</td><td>Indigenous production_Crude Oil & NGLs</td><td>200602</td><td>19151.29</td><td>ET_3.1_SEP_24.xlsx</td><td>08/10/2024</td></tr><tr><td>Indigenous production</td><td>Indigenous production_Crude Oil & NGLs</td><td>200603</td><td>17266.059999999998</td><td>ET_3.1_SEP_24.xlsx</td><td>08/10/2024</td></tr><tr><td>Indigenous production</td><td>Indigenous production_Crude Oil & NGLs</td><td>200604</td><td>19282.269999999997</td><td>ET_3.1_SEP_24.xlsx</td><td>08/10/2024</td></tr><tr><td>Indigenous production</td><td>Indigenous production_Crude Oil & NGLs</td><td>200701</td><td>19967.65</td><td>ET_3.1_SEP_24.xlsx</td><td>08/10/2024</td></tr><tr><td>Indigenous production</td><td>Indigenous production_Crude Oil & NGLs</td><td>200702</td><td>19744.77</td><td>ET_3.1_SEP_24.xlsx</td><td>08/10/2024</td></tr><tr><td>Indigenous production</td><td>Indigenous production_Crude Oil & NGLs</td><td>200703</td><td>17398.74</td><td>ET_3.1_SEP_24.xlsx</td><td>08/10/2024</td></tr><tr><td>Indigenous production</td><td>Indigenous production_Crude Oil & NGLs</td><td>200704</td><td>19463.94</td><td>ET_3.1_SEP_24.xlsx</td><td>08/10/2024</td></tr><tr><td>Indigenous production</td><td>Indigenous production_Crude Oil & NGLs</td><td>200801</td><td>18794.859999999997</td><td>ET_3.1_SEP_24.xlsx</td><td>08/10/2024</td></tr><tr><td>Indigenous production</td><td>Indigenous production_Crude Oil & NGLs</td><td>200802</td><td>18615.579999999998</td><td>ET_3.1_SEP_24.xlsx</td><td>08/10/2024</td></tr><tr><td>Indigenous production</td><td>Indigenous production_Crude Oil & NGLs</td><td>200803</td><td>16299.55</td><td>ET_3.1_SEP_24.xlsx</td><td>08/10/2024</td></tr><tr><td>Indigenous production</td><td>Indigenous production_Crude Oil & NGLs</td><td>200804</td><td>18078.85</td><td>ET_3.1_SEP_24.xlsx</td><td>08/10/2024</td></tr><tr><td>Indigenous production</td><td>Indigenous production_Crude Oil & NGLs</td><td>200901</td><td>18267.74</td><td>ET_3.1_SEP_24.xlsx</td><td>08/10/2024</td></tr><tr><td>Indigenous production</td><td>Indigenous production_Crude Oil & NGLs</td><td>200902</td><td>17976.120000000003</td><td>ET_3.1_SEP_24.xlsx</td><td>08/10/2024</td></tr><tr><td>Indigenous production</td><td>Indigenous production_Crude Oil & NGLs</td><td>200903</td><td>14936.369999999999</td><td>ET_3.1_SEP_24.xlsx</td><td>08/10/2024</td></tr><tr><td>Indigenous production</td><td>Indigenous production_Crude Oil & NGLs</td><td>200904</td><td>17018.32</td><td>ET_3.1_SEP_24.xlsx</td><td>08/10/2024</td></tr><tr><td>Indigenous production</td><td>Indigenous production_Crude Oil & NGLs</td><td>201001</td><td>17197.329999999998</td><td>ET_3.1_SEP_24.xlsx</td><td>08/10/2024</td></tr><tr><td>Indigenous production</td><td>Indigenous production_Crude Oil & NGLs</td><td>201002</td><td>15984.509999999998</td><td>ET_3.1_SEP_24.xlsx</td><td>08/10/2024</td></tr><tr><td>Indigenous production</td><td>Indigenous production_Crude Oil & NGLs</td><td>201003</td><td>14184.810000000001</td><td>ET_3.1_SEP_24.xlsx</td><td>08/10/2024</td></tr><tr><td>Indigenous production</td><td>Indigenous production_Crude Oil & NGLs</td><td>201004</td><td>15594.96</td><td>ET_3.1_SEP_24.xlsx</td><td>08/10/2024</td></tr><tr><td>Indigenous production</td><td>Indigenous production_Crude Oil & NGLs</td><td>201101</td><td>14484.67</td><td>ET_3.1_SEP_24.xlsx</td><td>08/10/2024</td></tr><tr><td>Indigenous production</td><td>Indigenous production_Crude Oil & NGLs</td><td>201102</td><td>13422.62</td><td>ET_3.1_SEP_24.xlsx</td><td>08/10/2024</td></tr><tr><td>Indigenous production</td><td>Indigenous production_Crude Oil & NGLs</td><td>201103</td><td>11116.550000000001</td><td>ET_3.1_SEP_24.xlsx</td><td>08/10/2024</td></tr><tr><td>Indigenous production</td><td>Indigenous production_Crude Oil & NGLs</td><td>201104</td><td>12948.59</td><td>ET_3.1_SEP_24.xlsx</td><td>08/10/2024</td></tr><tr><td>Indigenous production</td><td>Indigenous production_Crude Oil & NGLs</td><td>201201</td><td>12603.86</td><td>ET_3.1_SEP_24.xlsx</td><td>08/10/2024</td></tr><tr><td>Indigenous production</td><td>Indigenous production_Crude Oil & NGLs</td><td>201202</td><td>11811.68</td><td>ET_3.1_SEP_24.xlsx</td><td>08/10/2024</td></tr><tr><td>Indigenous production</td><td>Indigenous production_Crude Oil & NGLs</td><td>201203</td><td>9751.07</td><td>ET_3.1_SEP_24.xlsx</td><td>08/10/2024</td></tr><tr><td>Indigenous production</td><td>Indigenous production_Crude Oil & NGLs</td><td>201204</td><td>10394.21</td><td>ET_3.1_SEP_24.xlsx</td><td>08/10/2024</td></tr><tr><td>Indigenous production</td><td>Indigenous production_Crude Oil & NGLs</td><td>201301</td><td>10600.470000000001</td><td>ET_3.1_SEP_24.xlsx</td><td>08/10/2024</td></tr><tr><td>Indigenous production</td><td>Indigenous production_Crude Oil & NGLs</td><td>201302</td><td>10396.95</td><td>ET_3.1_SEP_24.xlsx</td><td>08/10/2024</td></tr><tr><td>Indigenous production</td><td>Indigenous production_Crude Oil & NGLs</td><td>201303</td><td>9108.1</td><td>ET_3.1_SEP_24.xlsx</td><td>08/10/2024</td></tr><tr><td>Indigenous production</td><td>Indigenous production_Crude Oil & NGLs</td><td>201304</td><td>10540.88</td><td>ET_3.1_SEP_24.xlsx</td><td>08/10/2024</td></tr><tr><td>Indigenous production</td><td>Indigenous production_Crude Oil & NGLs</td><td>201401</td><td>11052.21</td><td>ET_3.1_SEP_24.xlsx</td><td>08/10/2024</td></tr><tr><td>Indigenous production</td><td>Indigenous production_Crude Oil & NGLs</td><td>201402</td><td>10278.43</td><td>ET_3.1_SEP_24.xlsx</td><td>08/10/2024</td></tr><tr><td>Indigenous production</td><td>Indigenous production_Crude Oil & NGLs</td><td>201403</td><td>8194.56</td><td>ET_3.1_SEP_24.xlsx</td><td>08/10/2024</td></tr><tr><td>Indigenous production</td><td>Indigenous production_Crude Oil & NGLs</td><td>201404</td><td>10402.730000000001</td><td>ET_3.1_SEP_24.xlsx</td><td>08/10/2024</td></tr><tr><td>Indigenous production</td><td>Indigenous production_Crude Oil & NGLs</td><td>201501</td><td>10739.7</td><td>ET_3.1_SEP_24.xlsx</td><td>08/10/2024</td></tr><tr><td>Indigenous production</td><td>Indigenous production_Crude Oil & NGLs</td><td>201502</td><td>12052.67</td><td>ET_3.1_SEP_24.xlsx</td><td>08/10/2024</td></tr><tr><td>Indigenous production</td><td>Indigenous production_Crude Oil & NGLs</td><td>201503</td><td>10402.869999999999</td><td>ET_3.1_SEP_24.xlsx</td><td>08/10/2024</td></tr><tr><td>Indigenous production</td><td>Indigenous production_Crude Oil & NGLs</td><td>201504</td><td>12092.48</td><td>ET_3.1_SEP_24.xlsx</td><td>08/10/2024</td></tr><tr><td>Indigenous production</td><td>Indigenous production_Crude Oil & NGLs</td><td>201601</td><td>12599.61</td><td>ET_3.1_SEP_24.xlsx</td><td>08/10/2024</td></tr><tr><td>Indigenous production</td><td>Indigenous production_Crude Oil & NGLs</td><td>201602</td><td>12104.81</td><td>ET_3.1_SEP_24.xlsx</td><td>08/10/2024</td></tr><tr><td>Indigenous production</td><td>Indigenous production_Crude Oil & NGLs</td><td>201603</td><td>11276.66</td><td>ET_3.1_SEP_24.xlsx</td><td>08/10/2024</td></tr><tr><td>Indigenous production</td><td>Indigenous production_Crude Oil & NGLs</td><td>201604</td><td>11463.51</td><td>ET_3.1_SEP_24.xlsx</td><td>08/10/2024</td></tr><tr><td>Indigenous production</td><td>Indigenous production_Crude Oil & NGLs</td><td>201701</td><td>12011.12</td><td>ET_3.1_SEP_24.xlsx</td><td>08/10/2024</td></tr><tr><td>Indigenous production</td><td>Indigenous production_Crude Oil & NGLs</td><td>201702</td><td>11858.16</td><td>ET_3.1_SEP_24.xlsx</td><td>08/10/2024</td></tr><tr><td>Indigenous production</td><td>Indigenous production_Crude Oil & NGLs</td><td>201703</td><td>11224.0</td><td>ET_3.1_SEP_24.xlsx</td><td>08/10/2024</td></tr><tr><td>Indigenous production</td><td>Indigenous production_Crude Oil & NGLs</td><td>201704</td><td>11537.06</td><td>ET_3.1_SEP_24.xlsx</td><td>08/10/2024</td></tr><tr><td>Indigenous production</td><td>Indigenous production_Crude Oil & NGLs</td><td>201801</td><td>12751.22</td><td>ET_3.1_SEP_24.xlsx</td><td>08/10/2024</td></tr><tr><td>Indigenous production</td><td>Indigenous production_Crude Oil & NGLs</td><td>201802</td><td>13400.189999999999</td><td>ET_3.1_SEP_24.xlsx</td><td>08/10/2024</td></tr><tr><td>Indigenous production</td><td>Indigenous production_Crude Oil & NGLs</td><td>201803</td><td>11551.710000000001</td><td>ET_3.1_SEP_24.xlsx</td><td>08/10/2024</td></tr><tr><td>Indigenous production</td><td>Indigenous production_Crude Oil & NGLs</td><td>201804</td><td>13484.42</td><td>ET_3.1_SEP_24.xlsx</td><td>08/10/2024</td></tr><tr><td>Indigenous production</td><td>Indigenous production_Crude Oil & NGLs</td><td>201901</td><td>13777.03</td><td>ET_3.1_SEP_24.xlsx</td><td>08/10/2024</td></tr><tr><td>Indigenous production</td><td>Indigenous production_Crude Oil & NGLs</td><td>201902</td><td>13088.460000000001</td><td>ET_3.1_SEP_24.xlsx</td><td>08/10/2024</td></tr><tr><td>Indigenous production</td><td>Indigenous production_Crude Oil & NGLs</td><td>201903</td><td>12461.740000000002</td><td>ET_3.1_SEP_24.xlsx</td><td>08/10/2024</td></tr><tr><td>Indigenous production</td><td>Indigenous production_Crude Oil & NGLs</td><td>201904</td><td>13161.140000000001</td><td>ET_3.1_SEP_24.xlsx</td><td>08/10/2024</td></tr><tr><td>Indigenous production</td><td>Indigenous production_Crude Oil & NGLs</td><td>202001</td><td>13122.93</td><td>ET_3.1_SEP_24.xlsx</td><td>08/10/2024</td></tr><tr><td>Indigenous production</td><td>Indigenous production_Crude Oil & NGLs</td><td>202002</td><td>12948.54</td><td>ET_3.1_SEP_24.xlsx</td><td>08/10/2024</td></tr><tr><td>Indigenous production</td><td>Indigenous production_Crude Oil & NGLs</td><td>202003</td><td>11023.679999999998</td><td>ET_3.1_SEP_24.xlsx</td><td>08/10/2024</td></tr><tr><td>Indigenous production</td><td>Indigenous production_Crude Oil & NGLs</td><td>202004</td><td>11890.1</td><td>ET_3.1_SEP_24.xlsx</td><td>08/10/2024</td></tr><tr><td>Indigenous production</td><td>Indigenous production_Crude Oil & NGLs</td><td>202101</td><td>11612.85</td><td>ET_3.1_SEP_24.xlsx</td><td>08/10/2024</td></tr><tr><td>Indigenous production</td><td>Indigenous production_Crude Oil & NGLs</td><td>202102</td><td>8808.33</td><td>ET_3.1_SEP_24.xlsx</td><td>08/10/2024</td></tr><tr><td>Indigenous production</td><td>Indigenous production_Crude Oil & NGLs</td><td>202103</td><td>10200.609999999999</td><td>ET_3.1_SEP_24.xlsx</td><td>08/10/2024</td></tr><tr><td>Indigenous production</td><td>Indigenous production_Crude Oil & NGLs</td><td>202104</td><td>10241.93</td><td>ET_3.1_SEP_24.xlsx</td><td>08/10/2024</td></tr><tr><td>Indigenous production</td><td>Indigenous production_Crude Oil & NGLs</td><td>202201</td><td>10361.630000000001</td><td>ET_3.1_SEP_24.xlsx</td><td>08/10/2024</td></tr><tr><td>Indigenous production</td><td>Indigenous production_Crude Oil & NGLs</td><td>202202</td><td>9610.11</td><td>ET_3.1_SEP_24.xlsx</td><td>08/10/2024</td></tr><tr><td>Indigenous production</td><td>Indigenous production_Crude Oil & NGLs</td><td>202203</td><td>8549.3</td><td>ET_3.1_SEP_24.xlsx</td><td>08/10/2024</td></tr><tr><td>Indigenous production</td><td>Indigenous production_Crude Oil & NGLs</td><td>202204</td><td>9231.16</td><td>ET_3.1_SEP_24.xlsx</td><td>08/10/2024</td></tr><tr><td>Indigenous production</td><td>Indigenous production_Crude Oil & NGLs</td><td>202301</td><td>9117.78</td><td>ET_3.1_SEP_24.xlsx</td><td>08/10/2024</td></tr><tr><td>Indigenous production</td><td>Indigenous production_Crude Oil & NGLs</td><td>202302</td><td>8407.460000000001</td><td>ET_3.1_SEP_24.xlsx</td><td>08/10/2024</td></tr><tr><td>Indigenous production</td><td>Indigenous production_Crude Oil & NGLs</td><td>202303</td><td>7721.33</td><td>ET_3.1_SEP_24.xlsx</td><td>08/10/2024</td></tr><tr><td>Indigenous production</td><td>Indigenous production_Crude Oil & NGLs</td><td>202304</td><td>8199.27</td><td>ET_3.1_SEP_24.xlsx</td><td>08/10/2024</td></tr><tr><td>Indigenous production</td><td>Indigenous production_Crude Oil & NGLs</td><td>202401</td><td>7944.58</td><td>ET_3.1_SEP_24.xlsx</td><td>08/10/2024</td></tr><tr><td>Indigenous production</td><td>Indigenous production_Crude Oil & NGLs</td><td>202402</td><td>7631.91</td><td>ET_3.1_SEP_24.xlsx</td><td>08/10/2024</td></tr></tbody></table></div>"
      ]
     },
     "metadata": {
      "application/vnd.databricks.v1+output": {
       "addedWidgets": {},
       "aggData": [],
       "aggError": "",
       "aggOverflow": false,
       "aggSchema": [],
       "aggSeriesLimitReached": false,
       "aggType": "",
       "arguments": {},
       "columnCustomDisplayInfos": {},
       "data": [
        [
         "Indigenous production",
         "Indigenous production",
         "199901",
         34382.56,
         "ET_3.1_SEP_24.xlsx",
         "08/10/2024"
        ],
        [
         "Indigenous production",
         "Indigenous production",
         "199902",
         33060.35,
         "ET_3.1_SEP_24.xlsx",
         "08/10/2024"
        ],
        [
         "Indigenous production",
         "Indigenous production",
         "199903",
         34314.67,
         "ET_3.1_SEP_24.xlsx",
         "08/10/2024"
        ],
        [
         "Indigenous production",
         "Indigenous production",
         "199904",
         35341.42,
         "ET_3.1_SEP_24.xlsx",
         "08/10/2024"
        ],
        [
         "Indigenous production",
         "Indigenous production",
         "200001",
         34217.37,
         "ET_3.1_SEP_24.xlsx",
         "08/10/2024"
        ],
        [
         "Indigenous production",
         "Indigenous production",
         "200002",
         30802.13,
         "ET_3.1_SEP_24.xlsx",
         "08/10/2024"
        ],
        [
         "Indigenous production",
         "Indigenous production",
         "200003",
         30427.07,
         "ET_3.1_SEP_24.xlsx",
         "08/10/2024"
        ],
        [
         "Indigenous production",
         "Indigenous production",
         "200004",
         30798.43,
         "ET_3.1_SEP_24.xlsx",
         "08/10/2024"
        ],
        [
         "Indigenous production",
         "Indigenous production",
         "200101",
         29196.34,
         "ET_3.1_SEP_24.xlsx",
         "08/10/2024"
        ],
        [
         "Indigenous production",
         "Indigenous production",
         "200102",
         28340.07,
         "ET_3.1_SEP_24.xlsx",
         "08/10/2024"
        ],
        [
         "Indigenous production",
         "Indigenous production",
         "200103",
         28328.32,
         "ET_3.1_SEP_24.xlsx",
         "08/10/2024"
        ],
        [
         "Indigenous production",
         "Indigenous production",
         "200104",
         30813.65,
         "ET_3.1_SEP_24.xlsx",
         "08/10/2024"
        ],
        [
         "Indigenous production",
         "Indigenous production",
         "200201",
         29652.43,
         "ET_3.1_SEP_24.xlsx",
         "08/10/2024"
        ],
        [
         "Indigenous production",
         "Indigenous production",
         "200202",
         29527.45,
         "ET_3.1_SEP_24.xlsx",
         "08/10/2024"
        ],
        [
         "Indigenous production",
         "Indigenous production",
         "200203",
         26481.83,
         "ET_3.1_SEP_24.xlsx",
         "08/10/2024"
        ],
        [
         "Indigenous production",
         "Indigenous production",
         "200204",
         30282.55,
         "ET_3.1_SEP_24.xlsx",
         "08/10/2024"
        ],
        [
         "Indigenous production",
         "Indigenous production",
         "200301",
         28679.69,
         "ET_3.1_SEP_24.xlsx",
         "08/10/2024"
        ],
        [
         "Indigenous production",
         "Indigenous production",
         "200302",
         26025.5,
         "ET_3.1_SEP_24.xlsx",
         "08/10/2024"
        ],
        [
         "Indigenous production",
         "Indigenous production",
         "200303",
         24957.81,
         "ET_3.1_SEP_24.xlsx",
         "08/10/2024"
        ],
        [
         "Indigenous production",
         "Indigenous production",
         "200304",
         26409.93,
         "ET_3.1_SEP_24.xlsx",
         "08/10/2024"
        ],
        [
         "Indigenous production",
         "Indigenous production",
         "200401",
         25434.13,
         "ET_3.1_SEP_24.xlsx",
         "08/10/2024"
        ],
        [
         "Indigenous production",
         "Indigenous production",
         "200402",
         24345.24,
         "ET_3.1_SEP_24.xlsx",
         "08/10/2024"
        ],
        [
         "Indigenous production",
         "Indigenous production",
         "200403",
         22078.37,
         "ET_3.1_SEP_24.xlsx",
         "08/10/2024"
        ],
        [
         "Indigenous production",
         "Indigenous production",
         "200404",
         23516.04,
         "ET_3.1_SEP_24.xlsx",
         "08/10/2024"
        ],
        [
         "Indigenous production",
         "Indigenous production",
         "200501",
         22714.08,
         "ET_3.1_SEP_24.xlsx",
         "08/10/2024"
        ],
        [
         "Indigenous production",
         "Indigenous production",
         "200502",
         21989.98,
         "ET_3.1_SEP_24.xlsx",
         "08/10/2024"
        ],
        [
         "Indigenous production",
         "Indigenous production",
         "200503",
         19307.51,
         "ET_3.1_SEP_24.xlsx",
         "08/10/2024"
        ],
        [
         "Indigenous production",
         "Indigenous production",
         "200504",
         20709.57,
         "ET_3.1_SEP_24.xlsx",
         "08/10/2024"
        ],
        [
         "Indigenous production",
         "Indigenous production",
         "200601",
         20878.21,
         "ET_3.1_SEP_24.xlsx",
         "08/10/2024"
        ],
        [
         "Indigenous production",
         "Indigenous production",
         "200602",
         19151.3,
         "ET_3.1_SEP_24.xlsx",
         "08/10/2024"
        ],
        [
         "Indigenous production",
         "Indigenous production",
         "200603",
         17266.06,
         "ET_3.1_SEP_24.xlsx",
         "08/10/2024"
        ],
        [
         "Indigenous production",
         "Indigenous production",
         "200604",
         19282.27,
         "ET_3.1_SEP_24.xlsx",
         "08/10/2024"
        ],
        [
         "Indigenous production",
         "Indigenous production",
         "200701",
         19967.65,
         "ET_3.1_SEP_24.xlsx",
         "08/10/2024"
        ],
        [
         "Indigenous production",
         "Indigenous production",
         "200702",
         19744.77,
         "ET_3.1_SEP_24.xlsx",
         "08/10/2024"
        ],
        [
         "Indigenous production",
         "Indigenous production",
         "200703",
         17398.73,
         "ET_3.1_SEP_24.xlsx",
         "08/10/2024"
        ],
        [
         "Indigenous production",
         "Indigenous production",
         "200704",
         19463.94,
         "ET_3.1_SEP_24.xlsx",
         "08/10/2024"
        ],
        [
         "Indigenous production",
         "Indigenous production",
         "200801",
         18794.86,
         "ET_3.1_SEP_24.xlsx",
         "08/10/2024"
        ],
        [
         "Indigenous production",
         "Indigenous production",
         "200802",
         18615.57,
         "ET_3.1_SEP_24.xlsx",
         "08/10/2024"
        ],
        [
         "Indigenous production",
         "Indigenous production",
         "200803",
         16299.55,
         "ET_3.1_SEP_24.xlsx",
         "08/10/2024"
        ],
        [
         "Indigenous production",
         "Indigenous production",
         "200804",
         18078.86,
         "ET_3.1_SEP_24.xlsx",
         "08/10/2024"
        ],
        [
         "Indigenous production",
         "Indigenous production",
         "200901",
         18267.73,
         "ET_3.1_SEP_24.xlsx",
         "08/10/2024"
        ],
        [
         "Indigenous production",
         "Indigenous production",
         "200902",
         17976.12,
         "ET_3.1_SEP_24.xlsx",
         "08/10/2024"
        ],
        [
         "Indigenous production",
         "Indigenous production",
         "200903",
         14936.37,
         "ET_3.1_SEP_24.xlsx",
         "08/10/2024"
        ],
        [
         "Indigenous production",
         "Indigenous production",
         "200904",
         17018.32,
         "ET_3.1_SEP_24.xlsx",
         "08/10/2024"
        ],
        [
         "Indigenous production",
         "Indigenous production",
         "201001",
         17197.33,
         "ET_3.1_SEP_24.xlsx",
         "08/10/2024"
        ],
        [
         "Indigenous production",
         "Indigenous production",
         "201002",
         15984.51,
         "ET_3.1_SEP_24.xlsx",
         "08/10/2024"
        ],
        [
         "Indigenous production",
         "Indigenous production",
         "201003",
         14184.81,
         "ET_3.1_SEP_24.xlsx",
         "08/10/2024"
        ],
        [
         "Indigenous production",
         "Indigenous production",
         "201004",
         15594.96,
         "ET_3.1_SEP_24.xlsx",
         "08/10/2024"
        ],
        [
         "Indigenous production",
         "Indigenous production",
         "201101",
         14484.67,
         "ET_3.1_SEP_24.xlsx",
         "08/10/2024"
        ],
        [
         "Indigenous production",
         "Indigenous production",
         "201102",
         13422.62,
         "ET_3.1_SEP_24.xlsx",
         "08/10/2024"
        ],
        [
         "Indigenous production",
         "Indigenous production",
         "201103",
         11116.55,
         "ET_3.1_SEP_24.xlsx",
         "08/10/2024"
        ],
        [
         "Indigenous production",
         "Indigenous production",
         "201104",
         12948.59,
         "ET_3.1_SEP_24.xlsx",
         "08/10/2024"
        ],
        [
         "Indigenous production",
         "Indigenous production",
         "201201",
         12603.85,
         "ET_3.1_SEP_24.xlsx",
         "08/10/2024"
        ],
        [
         "Indigenous production",
         "Indigenous production",
         "201202",
         11811.68,
         "ET_3.1_SEP_24.xlsx",
         "08/10/2024"
        ],
        [
         "Indigenous production",
         "Indigenous production",
         "201203",
         9751.07,
         "ET_3.1_SEP_24.xlsx",
         "08/10/2024"
        ],
        [
         "Indigenous production",
         "Indigenous production",
         "201204",
         10394.2,
         "ET_3.1_SEP_24.xlsx",
         "08/10/2024"
        ],
        [
         "Indigenous production",
         "Indigenous production",
         "201301",
         10718.11,
         "ET_3.1_SEP_24.xlsx",
         "08/10/2024"
        ],
        [
         "Indigenous production",
         "Indigenous production",
         "201302",
         10496.19,
         "ET_3.1_SEP_24.xlsx",
         "08/10/2024"
        ],
        [
         "Indigenous production",
         "Indigenous production",
         "201303",
         9218.7,
         "ET_3.1_SEP_24.xlsx",
         "08/10/2024"
        ],
        [
         "Indigenous production",
         "Indigenous production",
         "201304",
         10667.8,
         "ET_3.1_SEP_24.xlsx",
         "08/10/2024"
        ],
        [
         "Indigenous production",
         "Indigenous production",
         "201401",
         11163.92,
         "ET_3.1_SEP_24.xlsx",
         "08/10/2024"
        ],
        [
         "Indigenous production",
         "Indigenous production",
         "201402",
         10357.87,
         "ET_3.1_SEP_24.xlsx",
         "08/10/2024"
        ],
        [
         "Indigenous production",
         "Indigenous production",
         "201403",
         8295.7,
         "ET_3.1_SEP_24.xlsx",
         "08/10/2024"
        ],
        [
         "Indigenous production",
         "Indigenous production",
         "201404",
         10510.27,
         "ET_3.1_SEP_24.xlsx",
         "08/10/2024"
        ],
        [
         "Indigenous production",
         "Indigenous production",
         "201501",
         10835.63,
         "ET_3.1_SEP_24.xlsx",
         "08/10/2024"
        ],
        [
         "Indigenous production",
         "Indigenous production",
         "201502",
         12141.02,
         "ET_3.1_SEP_24.xlsx",
         "08/10/2024"
        ],
        [
         "Indigenous production",
         "Indigenous production",
         "201503",
         10515.01,
         "ET_3.1_SEP_24.xlsx",
         "08/10/2024"
        ],
        [
         "Indigenous production",
         "Indigenous production",
         "201504",
         12206.46,
         "ET_3.1_SEP_24.xlsx",
         "08/10/2024"
        ],
        [
         "Indigenous production",
         "Indigenous production",
         "201601",
         12715.78,
         "ET_3.1_SEP_24.xlsx",
         "08/10/2024"
        ],
        [
         "Indigenous production",
         "Indigenous production",
         "201602",
         12209.88,
         "ET_3.1_SEP_24.xlsx",
         "08/10/2024"
        ],
        [
         "Indigenous production",
         "Indigenous production",
         "201603",
         11376.66,
         "ET_3.1_SEP_24.xlsx",
         "08/10/2024"
        ],
        [
         "Indigenous production",
         "Indigenous production",
         "201604",
         11569.76,
         "ET_3.1_SEP_24.xlsx",
         "08/10/2024"
        ],
        [
         "Indigenous production",
         "Indigenous production",
         "201701",
         12126.83,
         "ET_3.1_SEP_24.xlsx",
         "08/10/2024"
        ],
        [
         "Indigenous production",
         "Indigenous production",
         "201702",
         11961.45,
         "ET_3.1_SEP_24.xlsx",
         "08/10/2024"
        ],
        [
         "Indigenous production",
         "Indigenous production",
         "201703",
         11324.38,
         "ET_3.1_SEP_24.xlsx",
         "08/10/2024"
        ],
        [
         "Indigenous production",
         "Indigenous production",
         "201704",
         11636.63,
         "ET_3.1_SEP_24.xlsx",
         "08/10/2024"
        ],
        [
         "Indigenous production",
         "Indigenous production",
         "201801",
         12851.32,
         "ET_3.1_SEP_24.xlsx",
         "08/10/2024"
        ],
        [
         "Indigenous production",
         "Indigenous production",
         "201802",
         13498.96,
         "ET_3.1_SEP_24.xlsx",
         "08/10/2024"
        ],
        [
         "Indigenous production",
         "Indigenous production",
         "201803",
         11650.46,
         "ET_3.1_SEP_24.xlsx",
         "08/10/2024"
        ],
        [
         "Indigenous production",
         "Indigenous production",
         "201804",
         13549.99,
         "ET_3.1_SEP_24.xlsx",
         "08/10/2024"
        ],
        [
         "Indigenous production",
         "Indigenous production",
         "201901",
         13880.29,
         "ET_3.1_SEP_24.xlsx",
         "08/10/2024"
        ],
        [
         "Indigenous production",
         "Indigenous production",
         "201902",
         13159.31,
         "ET_3.1_SEP_24.xlsx",
         "08/10/2024"
        ],
        [
         "Indigenous production",
         "Indigenous production",
         "201903",
         12561.96,
         "ET_3.1_SEP_24.xlsx",
         "08/10/2024"
        ],
        [
         "Indigenous production",
         "Indigenous production",
         "201904",
         13254.64,
         "ET_3.1_SEP_24.xlsx",
         "08/10/2024"
        ],
        [
         "Indigenous production",
         "Indigenous production",
         "202001",
         13241.32,
         "ET_3.1_SEP_24.xlsx",
         "08/10/2024"
        ],
        [
         "Indigenous production",
         "Indigenous production",
         "202002",
         13024.81,
         "ET_3.1_SEP_24.xlsx",
         "08/10/2024"
        ],
        [
         "Indigenous production",
         "Indigenous production",
         "202003",
         11092.15,
         "ET_3.1_SEP_24.xlsx",
         "08/10/2024"
        ],
        [
         "Indigenous production",
         "Indigenous production",
         "202004",
         12003.22,
         "ET_3.1_SEP_24.xlsx",
         "08/10/2024"
        ],
        [
         "Indigenous production",
         "Indigenous production",
         "202101",
         11698.39,
         "ET_3.1_SEP_24.xlsx",
         "08/10/2024"
        ],
        [
         "Indigenous production",
         "Indigenous production",
         "202102",
         8883.41,
         "ET_3.1_SEP_24.xlsx",
         "08/10/2024"
        ],
        [
         "Indigenous production",
         "Indigenous production",
         "202103",
         10269.05,
         "ET_3.1_SEP_24.xlsx",
         "08/10/2024"
        ],
        [
         "Indigenous production",
         "Indigenous production",
         "202104",
         10311.62,
         "ET_3.1_SEP_24.xlsx",
         "08/10/2024"
        ],
        [
         "Indigenous production",
         "Indigenous production",
         "202201",
         10435.31,
         "ET_3.1_SEP_24.xlsx",
         "08/10/2024"
        ],
        [
         "Indigenous production",
         "Indigenous production",
         "202202",
         9677.52,
         "ET_3.1_SEP_24.xlsx",
         "08/10/2024"
        ],
        [
         "Indigenous production",
         "Indigenous production",
         "202203",
         8622.86,
         "ET_3.1_SEP_24.xlsx",
         "08/10/2024"
        ],
        [
         "Indigenous production",
         "Indigenous production",
         "202204",
         9301.1,
         "ET_3.1_SEP_24.xlsx",
         "08/10/2024"
        ],
        [
         "Indigenous production",
         "Indigenous production",
         "202301",
         9215.96,
         "ET_3.1_SEP_24.xlsx",
         "08/10/2024"
        ],
        [
         "Indigenous production",
         "Indigenous production",
         "202302",
         8467.26,
         "ET_3.1_SEP_24.xlsx",
         "08/10/2024"
        ],
        [
         "Indigenous production",
         "Indigenous production",
         "202303",
         7791.2,
         "ET_3.1_SEP_24.xlsx",
         "08/10/2024"
        ],
        [
         "Indigenous production",
         "Indigenous production",
         "202304",
         8280.18,
         "ET_3.1_SEP_24.xlsx",
         "08/10/2024"
        ],
        [
         "Indigenous production",
         "Indigenous production",
         "202401",
         8026.91,
         "ET_3.1_SEP_24.xlsx",
         "08/10/2024"
        ],
        [
         "Indigenous production",
         "Indigenous production",
         "202402",
         7714.23,
         "ET_3.1_SEP_24.xlsx",
         "08/10/2024"
        ],
        [
         "Indigenous production",
         "Indigenous production_Feedstocks",
         "199901",
         0.0,
         "ET_3.1_SEP_24.xlsx",
         "08/10/2024"
        ],
        [
         "Indigenous production",
         "Indigenous production_Feedstocks",
         "199902",
         0.0,
         "ET_3.1_SEP_24.xlsx",
         "08/10/2024"
        ],
        [
         "Indigenous production",
         "Indigenous production_Feedstocks",
         "199903",
         0.0,
         "ET_3.1_SEP_24.xlsx",
         "08/10/2024"
        ],
        [
         "Indigenous production",
         "Indigenous production_Feedstocks",
         "199904",
         0.0,
         "ET_3.1_SEP_24.xlsx",
         "08/10/2024"
        ],
        [
         "Indigenous production",
         "Indigenous production_Feedstocks",
         "200001",
         0.0,
         "ET_3.1_SEP_24.xlsx",
         "08/10/2024"
        ],
        [
         "Indigenous production",
         "Indigenous production_Feedstocks",
         "200002",
         0.0,
         "ET_3.1_SEP_24.xlsx",
         "08/10/2024"
        ],
        [
         "Indigenous production",
         "Indigenous production_Feedstocks",
         "200003",
         0.0,
         "ET_3.1_SEP_24.xlsx",
         "08/10/2024"
        ],
        [
         "Indigenous production",
         "Indigenous production_Feedstocks",
         "200004",
         0.0,
         "ET_3.1_SEP_24.xlsx",
         "08/10/2024"
        ],
        [
         "Indigenous production",
         "Indigenous production_Feedstocks",
         "200101",
         0.0,
         "ET_3.1_SEP_24.xlsx",
         "08/10/2024"
        ],
        [
         "Indigenous production",
         "Indigenous production_Feedstocks",
         "200102",
         0.0,
         "ET_3.1_SEP_24.xlsx",
         "08/10/2024"
        ],
        [
         "Indigenous production",
         "Indigenous production_Feedstocks",
         "200103",
         0.0,
         "ET_3.1_SEP_24.xlsx",
         "08/10/2024"
        ],
        [
         "Indigenous production",
         "Indigenous production_Feedstocks",
         "200104",
         0.0,
         "ET_3.1_SEP_24.xlsx",
         "08/10/2024"
        ],
        [
         "Indigenous production",
         "Indigenous production_Feedstocks",
         "200201",
         0.0,
         "ET_3.1_SEP_24.xlsx",
         "08/10/2024"
        ],
        [
         "Indigenous production",
         "Indigenous production_Feedstocks",
         "200202",
         0.0,
         "ET_3.1_SEP_24.xlsx",
         "08/10/2024"
        ],
        [
         "Indigenous production",
         "Indigenous production_Feedstocks",
         "200203",
         0.0,
         "ET_3.1_SEP_24.xlsx",
         "08/10/2024"
        ],
        [
         "Indigenous production",
         "Indigenous production_Feedstocks",
         "200204",
         0.0,
         "ET_3.1_SEP_24.xlsx",
         "08/10/2024"
        ],
        [
         "Indigenous production",
         "Indigenous production_Feedstocks",
         "200301",
         0.0,
         "ET_3.1_SEP_24.xlsx",
         "08/10/2024"
        ],
        [
         "Indigenous production",
         "Indigenous production_Feedstocks",
         "200302",
         0.0,
         "ET_3.1_SEP_24.xlsx",
         "08/10/2024"
        ],
        [
         "Indigenous production",
         "Indigenous production_Feedstocks",
         "200303",
         0.0,
         "ET_3.1_SEP_24.xlsx",
         "08/10/2024"
        ],
        [
         "Indigenous production",
         "Indigenous production_Feedstocks",
         "200304",
         0.0,
         "ET_3.1_SEP_24.xlsx",
         "08/10/2024"
        ],
        [
         "Indigenous production",
         "Indigenous production_Feedstocks",
         "200401",
         0.0,
         "ET_3.1_SEP_24.xlsx",
         "08/10/2024"
        ],
        [
         "Indigenous production",
         "Indigenous production_Feedstocks",
         "200402",
         0.0,
         "ET_3.1_SEP_24.xlsx",
         "08/10/2024"
        ],
        [
         "Indigenous production",
         "Indigenous production_Feedstocks",
         "200403",
         0.0,
         "ET_3.1_SEP_24.xlsx",
         "08/10/2024"
        ],
        [
         "Indigenous production",
         "Indigenous production_Feedstocks",
         "200404",
         0.0,
         "ET_3.1_SEP_24.xlsx",
         "08/10/2024"
        ],
        [
         "Indigenous production",
         "Indigenous production_Feedstocks",
         "200501",
         0.0,
         "ET_3.1_SEP_24.xlsx",
         "08/10/2024"
        ],
        [
         "Indigenous production",
         "Indigenous production_Feedstocks",
         "200502",
         0.0,
         "ET_3.1_SEP_24.xlsx",
         "08/10/2024"
        ],
        [
         "Indigenous production",
         "Indigenous production_Feedstocks",
         "200503",
         0.0,
         "ET_3.1_SEP_24.xlsx",
         "08/10/2024"
        ],
        [
         "Indigenous production",
         "Indigenous production_Feedstocks",
         "200504",
         0.0,
         "ET_3.1_SEP_24.xlsx",
         "08/10/2024"
        ],
        [
         "Indigenous production",
         "Indigenous production_Feedstocks",
         "200601",
         0.0,
         "ET_3.1_SEP_24.xlsx",
         "08/10/2024"
        ],
        [
         "Indigenous production",
         "Indigenous production_Feedstocks",
         "200602",
         0.0,
         "ET_3.1_SEP_24.xlsx",
         "08/10/2024"
        ],
        [
         "Indigenous production",
         "Indigenous production_Feedstocks",
         "200603",
         0.0,
         "ET_3.1_SEP_24.xlsx",
         "08/10/2024"
        ],
        [
         "Indigenous production",
         "Indigenous production_Feedstocks",
         "200604",
         0.0,
         "ET_3.1_SEP_24.xlsx",
         "08/10/2024"
        ],
        [
         "Indigenous production",
         "Indigenous production_Feedstocks",
         "200701",
         0.0,
         "ET_3.1_SEP_24.xlsx",
         "08/10/2024"
        ],
        [
         "Indigenous production",
         "Indigenous production_Feedstocks",
         "200702",
         0.0,
         "ET_3.1_SEP_24.xlsx",
         "08/10/2024"
        ],
        [
         "Indigenous production",
         "Indigenous production_Feedstocks",
         "200703",
         0.0,
         "ET_3.1_SEP_24.xlsx",
         "08/10/2024"
        ],
        [
         "Indigenous production",
         "Indigenous production_Feedstocks",
         "200704",
         0.0,
         "ET_3.1_SEP_24.xlsx",
         "08/10/2024"
        ],
        [
         "Indigenous production",
         "Indigenous production_Feedstocks",
         "200801",
         0.0,
         "ET_3.1_SEP_24.xlsx",
         "08/10/2024"
        ],
        [
         "Indigenous production",
         "Indigenous production_Feedstocks",
         "200802",
         0.0,
         "ET_3.1_SEP_24.xlsx",
         "08/10/2024"
        ],
        [
         "Indigenous production",
         "Indigenous production_Feedstocks",
         "200803",
         0.0,
         "ET_3.1_SEP_24.xlsx",
         "08/10/2024"
        ],
        [
         "Indigenous production",
         "Indigenous production_Feedstocks",
         "200804",
         0.0,
         "ET_3.1_SEP_24.xlsx",
         "08/10/2024"
        ],
        [
         "Indigenous production",
         "Indigenous production_Feedstocks",
         "200901",
         0.0,
         "ET_3.1_SEP_24.xlsx",
         "08/10/2024"
        ],
        [
         "Indigenous production",
         "Indigenous production_Feedstocks",
         "200902",
         0.0,
         "ET_3.1_SEP_24.xlsx",
         "08/10/2024"
        ],
        [
         "Indigenous production",
         "Indigenous production_Feedstocks",
         "200903",
         0.0,
         "ET_3.1_SEP_24.xlsx",
         "08/10/2024"
        ],
        [
         "Indigenous production",
         "Indigenous production_Feedstocks",
         "200904",
         0.0,
         "ET_3.1_SEP_24.xlsx",
         "08/10/2024"
        ],
        [
         "Indigenous production",
         "Indigenous production_Feedstocks",
         "201001",
         0.0,
         "ET_3.1_SEP_24.xlsx",
         "08/10/2024"
        ],
        [
         "Indigenous production",
         "Indigenous production_Feedstocks",
         "201002",
         0.0,
         "ET_3.1_SEP_24.xlsx",
         "08/10/2024"
        ],
        [
         "Indigenous production",
         "Indigenous production_Feedstocks",
         "201003",
         0.0,
         "ET_3.1_SEP_24.xlsx",
         "08/10/2024"
        ],
        [
         "Indigenous production",
         "Indigenous production_Feedstocks",
         "201004",
         0.0,
         "ET_3.1_SEP_24.xlsx",
         "08/10/2024"
        ],
        [
         "Indigenous production",
         "Indigenous production_Feedstocks",
         "201101",
         0.0,
         "ET_3.1_SEP_24.xlsx",
         "08/10/2024"
        ],
        [
         "Indigenous production",
         "Indigenous production_Feedstocks",
         "201102",
         0.0,
         "ET_3.1_SEP_24.xlsx",
         "08/10/2024"
        ],
        [
         "Indigenous production",
         "Indigenous production_Feedstocks",
         "201103",
         0.0,
         "ET_3.1_SEP_24.xlsx",
         "08/10/2024"
        ],
        [
         "Indigenous production",
         "Indigenous production_Feedstocks",
         "201104",
         0.0,
         "ET_3.1_SEP_24.xlsx",
         "08/10/2024"
        ],
        [
         "Indigenous production",
         "Indigenous production_Feedstocks",
         "201201",
         0.0,
         "ET_3.1_SEP_24.xlsx",
         "08/10/2024"
        ],
        [
         "Indigenous production",
         "Indigenous production_Feedstocks",
         "201202",
         0.0,
         "ET_3.1_SEP_24.xlsx",
         "08/10/2024"
        ],
        [
         "Indigenous production",
         "Indigenous production_Feedstocks",
         "201203",
         0.0,
         "ET_3.1_SEP_24.xlsx",
         "08/10/2024"
        ],
        [
         "Indigenous production",
         "Indigenous production_Feedstocks",
         "201204",
         0.0,
         "ET_3.1_SEP_24.xlsx",
         "08/10/2024"
        ],
        [
         "Indigenous production",
         "Indigenous production_Feedstocks",
         "201301",
         117.65,
         "ET_3.1_SEP_24.xlsx",
         "08/10/2024"
        ],
        [
         "Indigenous production",
         "Indigenous production_Feedstocks",
         "201302",
         99.25,
         "ET_3.1_SEP_24.xlsx",
         "08/10/2024"
        ],
        [
         "Indigenous production",
         "Indigenous production_Feedstocks",
         "201303",
         110.59,
         "ET_3.1_SEP_24.xlsx",
         "08/10/2024"
        ],
        [
         "Indigenous production",
         "Indigenous production_Feedstocks",
         "201304",
         126.92,
         "ET_3.1_SEP_24.xlsx",
         "08/10/2024"
        ],
        [
         "Indigenous production",
         "Indigenous production_Feedstocks",
         "201401",
         111.71,
         "ET_3.1_SEP_24.xlsx",
         "08/10/2024"
        ],
        [
         "Indigenous production",
         "Indigenous production_Feedstocks",
         "201402",
         79.44,
         "ET_3.1_SEP_24.xlsx",
         "08/10/2024"
        ],
        [
         "Indigenous production",
         "Indigenous production_Feedstocks",
         "201403",
         101.14,
         "ET_3.1_SEP_24.xlsx",
         "08/10/2024"
        ],
        [
         "Indigenous production",
         "Indigenous production_Feedstocks",
         "201404",
         107.54,
         "ET_3.1_SEP_24.xlsx",
         "08/10/2024"
        ],
        [
         "Indigenous production",
         "Indigenous production_Feedstocks",
         "201501",
         95.92,
         "ET_3.1_SEP_24.xlsx",
         "08/10/2024"
        ],
        [
         "Indigenous production",
         "Indigenous production_Feedstocks",
         "201502",
         88.35,
         "ET_3.1_SEP_24.xlsx",
         "08/10/2024"
        ],
        [
         "Indigenous production",
         "Indigenous production_Feedstocks",
         "201503",
         112.14,
         "ET_3.1_SEP_24.xlsx",
         "08/10/2024"
        ],
        [
         "Indigenous production",
         "Indigenous production_Feedstocks",
         "201504",
         113.97,
         "ET_3.1_SEP_24.xlsx",
         "08/10/2024"
        ],
        [
         "Indigenous production",
         "Indigenous production_Feedstocks",
         "201601",
         116.17,
         "ET_3.1_SEP_24.xlsx",
         "08/10/2024"
        ],
        [
         "Indigenous production",
         "Indigenous production_Feedstocks",
         "201602",
         105.07,
         "ET_3.1_SEP_24.xlsx",
         "08/10/2024"
        ],
        [
         "Indigenous production",
         "Indigenous production_Feedstocks",
         "201603",
         99.99,
         "ET_3.1_SEP_24.xlsx",
         "08/10/2024"
        ],
        [
         "Indigenous production",
         "Indigenous production_Feedstocks",
         "201604",
         106.25,
         "ET_3.1_SEP_24.xlsx",
         "08/10/2024"
        ],
        [
         "Indigenous production",
         "Indigenous production_Feedstocks",
         "201701",
         115.72,
         "ET_3.1_SEP_24.xlsx",
         "08/10/2024"
        ],
        [
         "Indigenous production",
         "Indigenous production_Feedstocks",
         "201702",
         103.29,
         "ET_3.1_SEP_24.xlsx",
         "08/10/2024"
        ],
        [
         "Indigenous production",
         "Indigenous production_Feedstocks",
         "201703",
         100.38,
         "ET_3.1_SEP_24.xlsx",
         "08/10/2024"
        ],
        [
         "Indigenous production",
         "Indigenous production_Feedstocks",
         "201704",
         99.58,
         "ET_3.1_SEP_24.xlsx",
         "08/10/2024"
        ],
        [
         "Indigenous production",
         "Indigenous production_Feedstocks",
         "201801",
         100.1,
         "ET_3.1_SEP_24.xlsx",
         "08/10/2024"
        ],
        [
         "Indigenous production",
         "Indigenous production_Feedstocks",
         "201802",
         98.77,
         "ET_3.1_SEP_24.xlsx",
         "08/10/2024"
        ],
        [
         "Indigenous production",
         "Indigenous production_Feedstocks",
         "201803",
         98.75,
         "ET_3.1_SEP_24.xlsx",
         "08/10/2024"
        ],
        [
         "Indigenous production",
         "Indigenous production_Feedstocks",
         "201804",
         65.57,
         "ET_3.1_SEP_24.xlsx",
         "08/10/2024"
        ],
        [
         "Indigenous production",
         "Indigenous production_Feedstocks",
         "201901",
         103.25,
         "ET_3.1_SEP_24.xlsx",
         "08/10/2024"
        ],
        [
         "Indigenous production",
         "Indigenous production_Feedstocks",
         "201902",
         70.85,
         "ET_3.1_SEP_24.xlsx",
         "08/10/2024"
        ],
        [
         "Indigenous production",
         "Indigenous production_Feedstocks",
         "201903",
         100.22,
         "ET_3.1_SEP_24.xlsx",
         "08/10/2024"
        ],
        [
         "Indigenous production",
         "Indigenous production_Feedstocks",
         "201904",
         93.49,
         "ET_3.1_SEP_24.xlsx",
         "08/10/2024"
        ],
        [
         "Indigenous production",
         "Indigenous production_Feedstocks",
         "202001",
         118.39,
         "ET_3.1_SEP_24.xlsx",
         "08/10/2024"
        ],
        [
         "Indigenous production",
         "Indigenous production_Feedstocks",
         "202002",
         76.27,
         "ET_3.1_SEP_24.xlsx",
         "08/10/2024"
        ],
        [
         "Indigenous production",
         "Indigenous production_Feedstocks",
         "202003",
         68.46,
         "ET_3.1_SEP_24.xlsx",
         "08/10/2024"
        ],
        [
         "Indigenous production",
         "Indigenous production_Feedstocks",
         "202004",
         113.12,
         "ET_3.1_SEP_24.xlsx",
         "08/10/2024"
        ],
        [
         "Indigenous production",
         "Indigenous production_Feedstocks",
         "202101",
         85.53,
         "ET_3.1_SEP_24.xlsx",
         "08/10/2024"
        ],
        [
         "Indigenous production",
         "Indigenous production_Feedstocks",
         "202102",
         75.08,
         "ET_3.1_SEP_24.xlsx",
         "08/10/2024"
        ],
        [
         "Indigenous production",
         "Indigenous production_Feedstocks",
         "202103",
         68.45,
         "ET_3.1_SEP_24.xlsx",
         "08/10/2024"
        ],
        [
         "Indigenous production",
         "Indigenous production_Feedstocks",
         "202104",
         69.69,
         "ET_3.1_SEP_24.xlsx",
         "08/10/2024"
        ],
        [
         "Indigenous production",
         "Indigenous production_Feedstocks",
         "202201",
         73.69,
         "ET_3.1_SEP_24.xlsx",
         "08/10/2024"
        ],
        [
         "Indigenous production",
         "Indigenous production_Feedstocks",
         "202202",
         67.41,
         "ET_3.1_SEP_24.xlsx",
         "08/10/2024"
        ],
        [
         "Indigenous production",
         "Indigenous production_Feedstocks",
         "202203",
         73.56,
         "ET_3.1_SEP_24.xlsx",
         "08/10/2024"
        ],
        [
         "Indigenous production",
         "Indigenous production_Feedstocks",
         "202204",
         69.94,
         "ET_3.1_SEP_24.xlsx",
         "08/10/2024"
        ],
        [
         "Indigenous production",
         "Indigenous production_Feedstocks",
         "202301",
         98.17,
         "ET_3.1_SEP_24.xlsx",
         "08/10/2024"
        ],
        [
         "Indigenous production",
         "Indigenous production_Feedstocks",
         "202302",
         59.8,
         "ET_3.1_SEP_24.xlsx",
         "08/10/2024"
        ],
        [
         "Indigenous production",
         "Indigenous production_Feedstocks",
         "202303",
         69.87,
         "ET_3.1_SEP_24.xlsx",
         "08/10/2024"
        ],
        [
         "Indigenous production",
         "Indigenous production_Feedstocks",
         "202304",
         80.91,
         "ET_3.1_SEP_24.xlsx",
         "08/10/2024"
        ],
        [
         "Indigenous production",
         "Indigenous production_Feedstocks",
         "202401",
         82.32,
         "ET_3.1_SEP_24.xlsx",
         "08/10/2024"
        ],
        [
         "Indigenous production",
         "Indigenous production_Feedstocks",
         "202402",
         82.31,
         "ET_3.1_SEP_24.xlsx",
         "08/10/2024"
        ],
        [
         "Imports",
         "Imports",
         "199901",
         10086.68,
         "ET_3.1_SEP_24.xlsx",
         "08/10/2024"
        ],
        [
         "Imports",
         "Imports",
         "199902",
         10889.88,
         "ET_3.1_SEP_24.xlsx",
         "08/10/2024"
        ],
        [
         "Imports",
         "Imports",
         "199903",
         11828.64,
         "ET_3.1_SEP_24.xlsx",
         "08/10/2024"
        ],
        [
         "Imports",
         "Imports",
         "199904",
         12063.8,
         "ET_3.1_SEP_24.xlsx",
         "08/10/2024"
        ],
        [
         "Imports",
         "Imports",
         "200001",
         13161.13,
         "ET_3.1_SEP_24.xlsx",
         "08/10/2024"
        ],
        [
         "Imports",
         "Imports",
         "200002",
         13623.23,
         "ET_3.1_SEP_24.xlsx",
         "08/10/2024"
        ],
        [
         "Imports",
         "Imports",
         "200003",
         14267.78,
         "ET_3.1_SEP_24.xlsx",
         "08/10/2024"
        ],
        [
         "Imports",
         "Imports",
         "200004",
         13334.15,
         "ET_3.1_SEP_24.xlsx",
         "08/10/2024"
        ],
        [
         "Imports",
         "Imports",
         "200101",
         12485.16,
         "ET_3.1_SEP_24.xlsx",
         "08/10/2024"
        ],
        [
         "Imports",
         "Imports",
         "200102",
         11532.77,
         "ET_3.1_SEP_24.xlsx",
         "08/10/2024"
        ],
        [
         "Imports",
         "Imports",
         "200103",
         14419.66,
         "ET_3.1_SEP_24.xlsx",
         "08/10/2024"
        ],
        [
         "Imports",
         "Imports",
         "200104",
         15113.84,
         "ET_3.1_SEP_24.xlsx",
         "08/10/2024"
        ],
        [
         "Imports",
         "Imports",
         "200201",
         13947.62,
         "ET_3.1_SEP_24.xlsx",
         "08/10/2024"
        ],
        [
         "Imports",
         "Imports",
         "200202",
         17235.98,
         "ET_3.1_SEP_24.xlsx",
         "08/10/2024"
        ],
        [
         "Imports",
         "Imports",
         "200203",
         13317.76,
         "ET_3.1_SEP_24.xlsx",
         "08/10/2024"
        ],
        [
         "Imports",
         "Imports",
         "200204",
         12466.56,
         "ET_3.1_SEP_24.xlsx",
         "08/10/2024"
        ],
        [
         "Imports",
         "Imports",
         "200301",
         13604.71,
         "ET_3.1_SEP_24.xlsx",
         "08/10/2024"
        ],
        [
         "Imports",
         "Imports",
         "200302",
         12997.09,
         "ET_3.1_SEP_24.xlsx",
         "08/10/2024"
        ],
        [
         "Imports",
         "Imports",
         "200303",
         14235.32,
         "ET_3.1_SEP_24.xlsx",
         "08/10/2024"
        ],
        [
         "Imports",
         "Imports",
         "200304",
         13340.21,
         "ET_3.1_SEP_24.xlsx",
         "08/10/2024"
        ],
        [
         "Imports",
         "Imports",
         "200401",
         14963.47,
         "ET_3.1_SEP_24.xlsx",
         "08/10/2024"
        ],
        [
         "Imports",
         "Imports",
         "200402",
         15665.53,
         "ET_3.1_SEP_24.xlsx",
         "08/10/2024"
        ],
        [
         "Imports",
         "Imports",
         "200403",
         16439.68,
         "ET_3.1_SEP_24.xlsx",
         "08/10/2024"
        ],
        [
         "Imports",
         "Imports",
         "200404",
         15447.55,
         "ET_3.1_SEP_24.xlsx",
         "08/10/2024"
        ],
        [
         "Imports",
         "Imports",
         "200501",
         13693.84,
         "ET_3.1_SEP_24.xlsx",
         "08/10/2024"
        ],
        [
         "Imports",
         "Imports",
         "200502",
         15796.26,
         "ET_3.1_SEP_24.xlsx",
         "08/10/2024"
        ],
        [
         "Imports",
         "Imports",
         "200503",
         15551.58,
         "ET_3.1_SEP_24.xlsx",
         "08/10/2024"
        ],
        [
         "Imports",
         "Imports",
         "200504",
         13843.46,
         "ET_3.1_SEP_24.xlsx",
         "08/10/2024"
        ],
        [
         "Imports",
         "Imports",
         "200601",
         14157.74,
         "ET_3.1_SEP_24.xlsx",
         "08/10/2024"
        ],
        [
         "Imports",
         "Imports",
         "200602",
         15490.02,
         "ET_3.1_SEP_24.xlsx",
         "08/10/2024"
        ],
        [
         "Imports",
         "Imports",
         "200603",
         15413.99,
         "ET_3.1_SEP_24.xlsx",
         "08/10/2024"
        ],
        [
         "Imports",
         "Imports",
         "200604",
         14381.4,
         "ET_3.1_SEP_24.xlsx",
         "08/10/2024"
        ],
        [
         "Imports",
         "Imports",
         "200701",
         12861.29,
         "ET_3.1_SEP_24.xlsx",
         "08/10/2024"
        ],
        [
         "Imports",
         "Imports",
         "200702",
         13635.38,
         "ET_3.1_SEP_24.xlsx",
         "08/10/2024"
        ],
        [
         "Imports",
         "Imports",
         "200703",
         16288.33,
         "ET_3.1_SEP_24.xlsx",
         "08/10/2024"
        ],
        [
         "Imports",
         "Imports",
         "200704",
         14571.74,
         "ET_3.1_SEP_24.xlsx",
         "08/10/2024"
        ],
        [
         "Imports",
         "Imports",
         "200801",
         14074.2,
         "ET_3.1_SEP_24.xlsx",
         "08/10/2024"
        ],
        [
         "Imports",
         "Imports",
         "200802",
         15615.04,
         "ET_3.1_SEP_24.xlsx",
         "08/10/2024"
        ],
        [
         "Imports",
         "Imports",
         "200803",
         16002.17,
         "ET_3.1_SEP_24.xlsx",
         "08/10/2024"
        ],
        [
         "Imports",
         "Imports",
         "200804",
         14643.46,
         "ET_3.1_SEP_24.xlsx",
         "08/10/2024"
        ],
        [
         "Imports",
         "Imports",
         "200901",
         13303.79,
         "ET_3.1_SEP_24.xlsx",
         "08/10/2024"
        ],
        [
         "Imports",
         "Imports",
         "200902",
         13486.32,
         "ET_3.1_SEP_24.xlsx",
         "08/10/2024"
        ],
        [
         "Imports",
         "Imports",
         "200903",
         14630.91,
         "ET_3.1_SEP_24.xlsx",
         "08/10/2024"
        ],
        [
         "Imports",
         "Imports",
         "200904",
         13581.25,
         "ET_3.1_SEP_24.xlsx",
         "08/10/2024"
        ],
        [
         "Imports",
         "Imports",
         "201001",
         12555.09,
         "ET_3.1_SEP_24.xlsx",
         "08/10/2024"
        ],
        [
         "Imports",
         "Imports",
         "201002",
         14734.4,
         "ET_3.1_SEP_24.xlsx",
         "08/10/2024"
        ],
        [
         "Imports",
         "Imports",
         "201003",
         13659.78,
         "ET_3.1_SEP_24.xlsx",
         "08/10/2024"
        ],
        [
         "Imports",
         "Imports",
         "201004",
         14114.73,
         "ET_3.1_SEP_24.xlsx",
         "08/10/2024"
        ],
        [
         "Imports",
         "Imports",
         "201101",
         14088.54,
         "ET_3.1_SEP_24.xlsx",
         "08/10/2024"
        ],
        [
         "Imports",
         "Imports",
         "201102",
         13887.91,
         "ET_3.1_SEP_24.xlsx",
         "08/10/2024"
        ],
        [
         "Imports",
         "Imports",
         "201103",
         15296.26,
         "ET_3.1_SEP_24.xlsx",
         "08/10/2024"
        ],
        [
         "Imports",
         "Imports",
         "201104",
         14819.59,
         "ET_3.1_SEP_24.xlsx",
         "08/10/2024"
        ],
        [
         "Imports",
         "Imports",
         "201201",
         15574.9,
         "ET_3.1_SEP_24.xlsx",
         "08/10/2024"
        ],
        [
         "Imports",
         "Imports",
         "201202",
         16203.91,
         "ET_3.1_SEP_24.xlsx",
         "08/10/2024"
        ],
        [
         "Imports",
         "Imports",
         "201203",
         15078.08,
         "ET_3.1_SEP_24.xlsx",
         "08/10/2024"
        ],
        [
         "Imports",
         "Imports",
         "201204",
         13618.82,
         "ET_3.1_SEP_24.xlsx",
         "08/10/2024"
        ],
        [
         "Imports",
         "Imports",
         "201301",
         14510.54,
         "ET_3.1_SEP_24.xlsx",
         "08/10/2024"
        ],
        [
         "Imports",
         "Imports",
         "201302",
         16344.48,
         "ET_3.1_SEP_24.xlsx",
         "08/10/2024"
        ],
        [
         "Imports",
         "Imports",
         "201303",
         15145.4,
         "ET_3.1_SEP_24.xlsx",
         "08/10/2024"
        ],
        [
         "Imports",
         "Imports",
         "201304",
         12966.32,
         "ET_3.1_SEP_24.xlsx",
         "08/10/2024"
        ],
        [
         "Imports",
         "Imports",
         "201401",
         13017.95,
         "ET_3.1_SEP_24.xlsx",
         "08/10/2024"
        ],
        [
         "Imports",
         "Imports",
         "201402",
         12481.25,
         "ET_3.1_SEP_24.xlsx",
         "08/10/2024"
        ],
        [
         "Imports",
         "Imports",
         "201403",
         13963.97,
         "ET_3.1_SEP_24.xlsx",
         "08/10/2024"
        ],
        [
         "Imports",
         "Imports",
         "201404",
         14174.37,
         "ET_3.1_SEP_24.xlsx",
         "08/10/2024"
        ],
        [
         "Imports",
         "Imports",
         "201501",
         12037.06,
         "ET_3.1_SEP_24.xlsx",
         "08/10/2024"
        ],
        [
         "Imports",
         "Imports",
         "201502",
         12034.81,
         "ET_3.1_SEP_24.xlsx",
         "08/10/2024"
        ],
        [
         "Imports",
         "Imports",
         "201503",
         12979.05,
         "ET_3.1_SEP_24.xlsx",
         "08/10/2024"
        ],
        [
         "Imports",
         "Imports",
         "201504",
         13548.09,
         "ET_3.1_SEP_24.xlsx",
         "08/10/2024"
        ],
        [
         "Imports",
         "Imports",
         "201601",
         11478.57,
         "ET_3.1_SEP_24.xlsx",
         "08/10/2024"
        ],
        [
         "Imports",
         "Imports",
         "201602",
         11846.32,
         "ET_3.1_SEP_24.xlsx",
         "08/10/2024"
        ],
        [
         "Imports",
         "Imports",
         "201603",
         12328.09,
         "ET_3.1_SEP_24.xlsx",
         "08/10/2024"
        ],
        [
         "Imports",
         "Imports",
         "201604",
         13136.07,
         "ET_3.1_SEP_24.xlsx",
         "08/10/2024"
        ],
        [
         "Imports",
         "Imports",
         "201701",
         12476.31,
         "ET_3.1_SEP_24.xlsx",
         "08/10/2024"
        ],
        [
         "Imports",
         "Imports",
         "201702",
         13703.33,
         "ET_3.1_SEP_24.xlsx",
         "08/10/2024"
        ],
        [
         "Imports",
         "Imports",
         "201703",
         13990.96,
         "ET_3.1_SEP_24.xlsx",
         "08/10/2024"
        ],
        [
         "Imports",
         "Imports",
         "201704",
         13120.2,
         "ET_3.1_SEP_24.xlsx",
         "08/10/2024"
        ],
        [
         "Imports",
         "Imports",
         "201801",
         11265.55,
         "ET_3.1_SEP_24.xlsx",
         "08/10/2024"
        ],
        [
         "Imports",
         "Imports",
         "201802",
         13303.83,
         "ET_3.1_SEP_24.xlsx",
         "08/10/2024"
        ],
        [
         "Imports",
         "Imports",
         "201803",
         13696.2,
         "ET_3.1_SEP_24.xlsx",
         "08/10/2024"
        ],
        [
         "Imports",
         "Imports",
         "201804",
         14002.36,
         "ET_3.1_SEP_24.xlsx",
         "08/10/2024"
        ],
        [
         "Imports",
         "Imports",
         "201901",
         12977.07,
         "ET_3.1_SEP_24.xlsx",
         "08/10/2024"
        ],
        [
         "Imports",
         "Imports",
         "201902",
         13055.67,
         "ET_3.1_SEP_24.xlsx",
         "08/10/2024"
        ],
        [
         "Imports",
         "Imports",
         "201903",
         12455.19,
         "ET_3.1_SEP_24.xlsx",
         "08/10/2024"
        ],
        [
         "Imports",
         "Imports",
         "201904",
         13060.99,
         "ET_3.1_SEP_24.xlsx",
         "08/10/2024"
        ],
        [
         "Imports",
         "Imports",
         "202001",
         11675.15,
         "ET_3.1_SEP_24.xlsx",
         "08/10/2024"
        ],
        [
         "Imports",
         "Imports",
         "202002",
         7850.43,
         "ET_3.1_SEP_24.xlsx",
         "08/10/2024"
        ],
        [
         "Imports",
         "Imports",
         "202003",
         9821.8,
         "ET_3.1_SEP_24.xlsx",
         "08/10/2024"
        ],
        [
         "Imports",
         "Imports",
         "202004",
         10226.07,
         "ET_3.1_SEP_24.xlsx",
         "08/10/2024"
        ],
        [
         "Imports",
         "Imports",
         "202101",
         7322.32,
         "ET_3.1_SEP_24.xlsx",
         "08/10/2024"
        ],
        [
         "Imports",
         "Imports",
         "202102",
         10822.61,
         "ET_3.1_SEP_24.xlsx",
         "08/10/2024"
        ],
        [
         "Imports",
         "Imports",
         "202103",
         11289.28,
         "ET_3.1_SEP_24.xlsx",
         "08/10/2024"
        ],
        [
         "Imports",
         "Imports",
         "202104",
         12297.17,
         "ET_3.1_SEP_24.xlsx",
         "08/10/2024"
        ],
        [
         "Imports",
         "Imports",
         "202201",
         11891.97,
         "ET_3.1_SEP_24.xlsx",
         "08/10/2024"
        ],
        [
         "Imports",
         "Imports",
         "202202",
         11209.06,
         "ET_3.1_SEP_24.xlsx",
         "08/10/2024"
        ],
        [
         "Imports",
         "Imports",
         "202203",
         11961.95,
         "ET_3.1_SEP_24.xlsx",
         "08/10/2024"
        ],
        [
         "Imports",
         "Imports",
         "202204",
         11535.01,
         "ET_3.1_SEP_24.xlsx",
         "08/10/2024"
        ],
        [
         "Imports",
         "Imports",
         "202301",
         11858.07,
         "ET_3.1_SEP_24.xlsx",
         "08/10/2024"
        ],
        [
         "Imports",
         "Imports",
         "202302",
         11014.69,
         "ET_3.1_SEP_24.xlsx",
         "08/10/2024"
        ],
        [
         "Imports",
         "Imports",
         "202303",
         11991.17,
         "ET_3.1_SEP_24.xlsx",
         "08/10/2024"
        ],
        [
         "Imports",
         "Imports",
         "202304",
         10772.25,
         "ET_3.1_SEP_24.xlsx",
         "08/10/2024"
        ],
        [
         "Imports",
         "Imports",
         "202401",
         10993.1,
         "ET_3.1_SEP_24.xlsx",
         "08/10/2024"
        ],
        [
         "Imports",
         "Imports",
         "202402",
         11967.7,
         "ET_3.1_SEP_24.xlsx",
         "08/10/2024"
        ],
        [
         "Imports",
         "Imports_Crude oil & NGLs",
         "199901",
         8937.42,
         "ET_3.1_SEP_24.xlsx",
         "08/10/2024"
        ],
        [
         "Imports",
         "Imports_Crude oil & NGLs",
         "199902",
         9397.88,
         "ET_3.1_SEP_24.xlsx",
         "08/10/2024"
        ],
        [
         "Imports",
         "Imports_Crude oil & NGLs",
         "199903",
         10350.26,
         "ET_3.1_SEP_24.xlsx",
         "08/10/2024"
        ],
        [
         "Imports",
         "Imports_Crude oil & NGLs",
         "199904",
         10635.45,
         "ET_3.1_SEP_24.xlsx",
         "08/10/2024"
        ],
        [
         "Imports",
         "Imports_Crude oil & NGLs",
         "200001",
         11813.79,
         "ET_3.1_SEP_24.xlsx",
         "08/10/2024"
        ],
        [
         "Imports",
         "Imports_Crude oil & NGLs",
         "200002",
         11981.42,
         "ET_3.1_SEP_24.xlsx",
         "08/10/2024"
        ],
        [
         "Imports",
         "Imports_Crude oil & NGLs",
         "200003",
         12900.9,
         "ET_3.1_SEP_24.xlsx",
         "08/10/2024"
        ],
        [
         "Imports",
         "Imports_Crude oil & NGLs",
         "200004",
         12171.58,
         "ET_3.1_SEP_24.xlsx",
         "08/10/2024"
        ],
        [
         "Imports",
         "Imports_Crude oil & NGLs",
         "200101",
         11638.03,
         "ET_3.1_SEP_24.xlsx",
         "08/10/2024"
        ],
        [
         "Imports",
         "Imports_Crude oil & NGLs",
         "200102",
         10597.78,
         "ET_3.1_SEP_24.xlsx",
         "08/10/2024"
        ],
        [
         "Imports",
         "Imports_Crude oil & NGLs",
         "200103",
         12922.38,
         "ET_3.1_SEP_24.xlsx",
         "08/10/2024"
        ],
        [
         "Imports",
         "Imports_Crude oil & NGLs",
         "200104",
         13834.09,
         "ET_3.1_SEP_24.xlsx",
         "08/10/2024"
        ],
        [
         "Imports",
         "Imports_Crude oil & NGLs",
         "200201",
         13091.31,
         "ET_3.1_SEP_24.xlsx",
         "08/10/2024"
        ],
        [
         "Imports",
         "Imports_Crude oil & NGLs",
         "200202",
         15936.11,
         "ET_3.1_SEP_24.xlsx",
         "08/10/2024"
        ],
        [
         "Imports",
         "Imports_Crude oil & NGLs",
         "200203",
         11743.78,
         "ET_3.1_SEP_24.xlsx",
         "08/10/2024"
        ],
        [
         "Imports",
         "Imports_Crude oil & NGLs",
         "200204",
         11270.34,
         "ET_3.1_SEP_24.xlsx",
         "08/10/2024"
        ],
        [
         "Imports",
         "Imports_Crude oil & NGLs",
         "200301",
         12247.22,
         "ET_3.1_SEP_24.xlsx",
         "08/10/2024"
        ],
        [
         "Imports",
         "Imports_Crude oil & NGLs",
         "200302",
         11393.84,
         "ET_3.1_SEP_24.xlsx",
         "08/10/2024"
        ],
        [
         "Imports",
         "Imports_Crude oil & NGLs",
         "200303",
         12883.1,
         "ET_3.1_SEP_24.xlsx",
         "08/10/2024"
        ],
        [
         "Imports",
         "Imports_Crude oil & NGLs",
         "200304",
         12064.76,
         "ET_3.1_SEP_24.xlsx",
         "08/10/2024"
        ],
        [
         "Imports",
         "Imports_Crude oil & NGLs",
         "200401",
         13357.12,
         "ET_3.1_SEP_24.xlsx",
         "08/10/2024"
        ],
        [
         "Imports",
         "Imports_Crude oil & NGLs",
         "200402",
         14064.01,
         "ET_3.1_SEP_24.xlsx",
         "08/10/2024"
        ],
        [
         "Imports",
         "Imports_Crude oil & NGLs",
         "200403",
         14445.68,
         "ET_3.1_SEP_24.xlsx",
         "08/10/2024"
        ],
        [
         "Imports",
         "Imports_Crude oil & NGLs",
         "200404",
         13990.72,
         "ET_3.1_SEP_24.xlsx",
         "08/10/2024"
        ],
        [
         "Imports",
         "Imports_Crude oil & NGLs",
         "200501",
         12468.67,
         "ET_3.1_SEP_24.xlsx",
         "08/10/2024"
        ],
        [
         "Imports",
         "Imports_Crude oil & NGLs",
         "200502",
         13896.03,
         "ET_3.1_SEP_24.xlsx",
         "08/10/2024"
        ],
        [
         "Imports",
         "Imports_Crude oil & NGLs",
         "200503",
         13655.79,
         "ET_3.1_SEP_24.xlsx",
         "08/10/2024"
        ],
        [
         "Imports",
         "Imports_Crude oil & NGLs",
         "200504",
         12190.0,
         "ET_3.1_SEP_24.xlsx",
         "08/10/2024"
        ],
        [
         "Imports",
         "Imports_Crude oil & NGLs",
         "200601",
         12385.74,
         "ET_3.1_SEP_24.xlsx",
         "08/10/2024"
        ],
        [
         "Imports",
         "Imports_Crude oil & NGLs",
         "200602",
         13336.78,
         "ET_3.1_SEP_24.xlsx",
         "08/10/2024"
        ],
        [
         "Imports",
         "Imports_Crude oil & NGLs",
         "200603",
         13656.53,
         "ET_3.1_SEP_24.xlsx",
         "08/10/2024"
        ],
        [
         "Imports",
         "Imports_Crude oil & NGLs",
         "200604",
         12067.33,
         "ET_3.1_SEP_24.xlsx",
         "08/10/2024"
        ],
        [
         "Imports",
         "Imports_Crude oil & NGLs",
         "200701",
         11315.07,
         "ET_3.1_SEP_24.xlsx",
         "08/10/2024"
        ],
        [
         "Imports",
         "Imports_Crude oil & NGLs",
         "200702",
         11465.43,
         "ET_3.1_SEP_24.xlsx",
         "08/10/2024"
        ],
        [
         "Imports",
         "Imports_Crude oil & NGLs",
         "200703",
         14161.54,
         "ET_3.1_SEP_24.xlsx",
         "08/10/2024"
        ],
        [
         "Imports",
         "Imports_Crude oil & NGLs",
         "200704",
         13208.55,
         "ET_3.1_SEP_24.xlsx",
         "08/10/2024"
        ],
        [
         "Imports",
         "Imports_Crude oil & NGLs",
         "200801",
         11868.76,
         "ET_3.1_SEP_24.xlsx",
         "08/10/2024"
        ],
        [
         "Imports",
         "Imports_Crude oil & NGLs",
         "200802",
         13539.34,
         "ET_3.1_SEP_24.xlsx",
         "08/10/2024"
        ],
        [
         "Imports",
         "Imports_Crude oil & NGLs",
         "200803",
         14033.99,
         "ET_3.1_SEP_24.xlsx",
         "08/10/2024"
        ],
        [
         "Imports",
         "Imports_Crude oil & NGLs",
         "200804",
         12966.83,
         "ET_3.1_SEP_24.xlsx",
         "08/10/2024"
        ],
        [
         "Imports",
         "Imports_Crude oil & NGLs",
         "200901",
         11557.27,
         "ET_3.1_SEP_24.xlsx",
         "08/10/2024"
        ],
        [
         "Imports",
         "Imports_Crude oil & NGLs",
         "200902",
         11811.48,
         "ET_3.1_SEP_24.xlsx",
         "08/10/2024"
        ],
        [
         "Imports",
         "Imports_Crude oil & NGLs",
         "200903",
         12674.32,
         "ET_3.1_SEP_24.xlsx",
         "08/10/2024"
        ],
        [
         "Imports",
         "Imports_Crude oil & NGLs",
         "200904",
         12188.33,
         "ET_3.1_SEP_24.xlsx",
         "08/10/2024"
        ],
        [
         "Imports",
         "Imports_Crude oil & NGLs",
         "201001",
         11192.18,
         "ET_3.1_SEP_24.xlsx",
         "08/10/2024"
        ],
        [
         "Imports",
         "Imports_Crude oil & NGLs",
         "201002",
         13086.98,
         "ET_3.1_SEP_24.xlsx",
         "08/10/2024"
        ],
        [
         "Imports",
         "Imports_Crude oil & NGLs",
         "201003",
         12047.38,
         "ET_3.1_SEP_24.xlsx",
         "08/10/2024"
        ],
        [
         "Imports",
         "Imports_Crude oil & NGLs",
         "201004",
         12104.31,
         "ET_3.1_SEP_24.xlsx",
         "08/10/2024"
        ],
        [
         "Imports",
         "Imports_Crude oil & NGLs",
         "201101",
         12110.47,
         "ET_3.1_SEP_24.xlsx",
         "08/10/2024"
        ],
        [
         "Imports",
         "Imports_Crude oil & NGLs",
         "201102",
         12195.84,
         "ET_3.1_SEP_24.xlsx",
         "08/10/2024"
        ],
        [
         "Imports",
         "Imports_Crude oil & NGLs",
         "201103",
         13298.01,
         "ET_3.1_SEP_24.xlsx",
         "08/10/2024"
        ],
        [
         "Imports",
         "Imports_Crude oil & NGLs",
         "201104",
         13349.36,
         "ET_3.1_SEP_24.xlsx",
         "08/10/2024"
        ],
        [
         "Imports",
         "Imports_Crude oil & NGLs",
         "201201",
         14089.86,
         "ET_3.1_SEP_24.xlsx",
         "08/10/2024"
        ],
        [
         "Imports",
         "Imports_Crude oil & NGLs",
         "201202",
         14629.47,
         "ET_3.1_SEP_24.xlsx",
         "08/10/2024"
        ],
        [
         "Imports",
         "Imports_Crude oil & NGLs",
         "201203",
         13822.64,
         "ET_3.1_SEP_24.xlsx",
         "08/10/2024"
        ],
        [
         "Imports",
         "Imports_Crude oil & NGLs",
         "201204",
         12798.3,
         "ET_3.1_SEP_24.xlsx",
         "08/10/2024"
        ],
        [
         "Imports",
         "Imports_Crude oil & NGLs",
         "201301",
         12880.13,
         "ET_3.1_SEP_24.xlsx",
         "08/10/2024"
        ],
        [
         "Imports",
         "Imports_Crude oil & NGLs",
         "201302",
         14773.1,
         "ET_3.1_SEP_24.xlsx",
         "08/10/2024"
        ],
        [
         "Imports",
         "Imports_Crude oil & NGLs",
         "201303",
         13532.9,
         "ET_3.1_SEP_24.xlsx",
         "08/10/2024"
        ],
        [
         "Imports",
         "Imports_Crude oil & NGLs",
         "201304",
         11283.77,
         "ET_3.1_SEP_24.xlsx",
         "08/10/2024"
        ],
        [
         "Imports",
         "Imports_Crude oil & NGLs",
         "201401",
         11618.87,
         "ET_3.1_SEP_24.xlsx",
         "08/10/2024"
        ],
        [
         "Imports",
         "Imports_Crude oil & NGLs",
         "201402",
         11339.56,
         "ET_3.1_SEP_24.xlsx",
         "08/10/2024"
        ],
        [
         "Imports",
         "Imports_Crude oil & NGLs",
         "201403",
         12830.99,
         "ET_3.1_SEP_24.xlsx",
         "08/10/2024"
        ],
        [
         "Imports",
         "Imports_Crude oil & NGLs",
         "201404",
         13100.73,
         "ET_3.1_SEP_24.xlsx",
         "08/10/2024"
        ],
        [
         "Imports",
         "Imports_Crude oil & NGLs",
         "201501",
         10952.44,
         "ET_3.1_SEP_24.xlsx",
         "08/10/2024"
        ],
        [
         "Imports",
         "Imports_Crude oil & NGLs",
         "201502",
         10931.07,
         "ET_3.1_SEP_24.xlsx",
         "08/10/2024"
        ],
        [
         "Imports",
         "Imports_Crude oil & NGLs",
         "201503",
         11395.85,
         "ET_3.1_SEP_24.xlsx",
         "08/10/2024"
        ],
        [
         "Imports",
         "Imports_Crude oil & NGLs",
         "201504",
         12001.45,
         "ET_3.1_SEP_24.xlsx",
         "08/10/2024"
        ],
        [
         "Imports",
         "Imports_Crude oil & NGLs",
         "201601",
         9840.92,
         "ET_3.1_SEP_24.xlsx",
         "08/10/2024"
        ],
        [
         "Imports",
         "Imports_Crude oil & NGLs",
         "201602",
         10172.4,
         "ET_3.1_SEP_24.xlsx",
         "08/10/2024"
        ],
        [
         "Imports",
         "Imports_Crude oil & NGLs",
         "201603",
         10673.66,
         "ET_3.1_SEP_24.xlsx",
         "08/10/2024"
        ],
        [
         "Imports",
         "Imports_Crude oil & NGLs",
         "201604",
         11718.82,
         "ET_3.1_SEP_24.xlsx",
         "08/10/2024"
        ],
        [
         "Imports",
         "Imports_Crude oil & NGLs",
         "201701",
         10989.57,
         "ET_3.1_SEP_24.xlsx",
         "08/10/2024"
        ],
        [
         "Imports",
         "Imports_Crude oil & NGLs",
         "201702",
         11720.03,
         "ET_3.1_SEP_24.xlsx",
         "08/10/2024"
        ],
        [
         "Imports",
         "Imports_Crude oil & NGLs",
         "201703",
         12385.59,
         "ET_3.1_SEP_24.xlsx",
         "08/10/2024"
        ],
        [
         "Imports",
         "Imports_Crude oil & NGLs",
         "201704",
         11528.41,
         "ET_3.1_SEP_24.xlsx",
         "08/10/2024"
        ],
        [
         "Imports",
         "Imports_Crude oil & NGLs",
         "201801",
         9651.92,
         "ET_3.1_SEP_24.xlsx",
         "08/10/2024"
        ],
        [
         "Imports",
         "Imports_Crude oil & NGLs",
         "201802",
         11747.7,
         "ET_3.1_SEP_24.xlsx",
         "08/10/2024"
        ],
        [
         "Imports",
         "Imports_Crude oil & NGLs",
         "201803",
         11865.68,
         "ET_3.1_SEP_24.xlsx",
         "08/10/2024"
        ],
        [
         "Imports",
         "Imports_Crude oil & NGLs",
         "201804",
         12384.95,
         "ET_3.1_SEP_24.xlsx",
         "08/10/2024"
        ],
        [
         "Imports",
         "Imports_Crude oil & NGLs",
         "201901",
         11349.54,
         "ET_3.1_SEP_24.xlsx",
         "08/10/2024"
        ],
        [
         "Imports",
         "Imports_Crude oil & NGLs",
         "201902",
         11533.44,
         "ET_3.1_SEP_24.xlsx",
         "08/10/2024"
        ],
        [
         "Imports",
         "Imports_Crude oil & NGLs",
         "201903",
         10888.67,
         "ET_3.1_SEP_24.xlsx",
         "08/10/2024"
        ],
        [
         "Imports",
         "Imports_Crude oil & NGLs",
         "201904",
         11841.71,
         "ET_3.1_SEP_24.xlsx",
         "08/10/2024"
        ],
        [
         "Imports",
         "Imports_Crude oil & NGLs",
         "202001",
         11180.48,
         "ET_3.1_SEP_24.xlsx",
         "08/10/2024"
        ],
        [
         "Imports",
         "Imports_Crude oil & NGLs",
         "202002",
         7345.38,
         "ET_3.1_SEP_24.xlsx",
         "08/10/2024"
        ],
        [
         "Imports",
         "Imports_Crude oil & NGLs",
         "202003",
         9072.45,
         "ET_3.1_SEP_24.xlsx",
         "08/10/2024"
        ],
        [
         "Imports",
         "Imports_Crude oil & NGLs",
         "202004",
         9366.94,
         "ET_3.1_SEP_24.xlsx",
         "08/10/2024"
        ],
        [
         "Imports",
         "Imports_Crude oil & NGLs",
         "202101",
         6589.99,
         "ET_3.1_SEP_24.xlsx",
         "08/10/2024"
        ],
        [
         "Imports",
         "Imports_Crude oil & NGLs",
         "202102",
         9804.33,
         "ET_3.1_SEP_24.xlsx",
         "08/10/2024"
        ],
        [
         "Imports",
         "Imports_Crude oil & NGLs",
         "202103",
         10364.03,
         "ET_3.1_SEP_24.xlsx",
         "08/10/2024"
        ],
        [
         "Imports",
         "Imports_Crude oil & NGLs",
         "202104",
         11302.46,
         "ET_3.1_SEP_24.xlsx",
         "08/10/2024"
        ],
        [
         "Imports",
         "Imports_Crude oil & NGLs",
         "202201",
         10852.16,
         "ET_3.1_SEP_24.xlsx",
         "08/10/2024"
        ],
        [
         "Imports",
         "Imports_Crude oil & NGLs",
         "202202",
         10344.7,
         "ET_3.1_SEP_24.xlsx",
         "08/10/2024"
        ],
        [
         "Imports",
         "Imports_Crude oil & NGLs",
         "202203",
         11296.25,
         "ET_3.1_SEP_24.xlsx",
         "08/10/2024"
        ],
        [
         "Imports",
         "Imports_Crude oil & NGLs",
         "202204",
         10607.82,
         "ET_3.1_SEP_24.xlsx",
         "08/10/2024"
        ],
        [
         "Imports",
         "Imports_Crude oil & NGLs",
         "202301",
         10930.03,
         "ET_3.1_SEP_24.xlsx",
         "08/10/2024"
        ],
        [
         "Imports",
         "Imports_Crude oil & NGLs",
         "202302",
         10388.76,
         "ET_3.1_SEP_24.xlsx",
         "08/10/2024"
        ],
        [
         "Imports",
         "Imports_Crude oil & NGLs",
         "202303",
         10765.37,
         "ET_3.1_SEP_24.xlsx",
         "08/10/2024"
        ],
        [
         "Imports",
         "Imports_Crude oil & NGLs",
         "202304",
         9854.34,
         "ET_3.1_SEP_24.xlsx",
         "08/10/2024"
        ],
        [
         "Imports",
         "Imports_Crude oil & NGLs",
         "202401",
         10048.38,
         "ET_3.1_SEP_24.xlsx",
         "08/10/2024"
        ],
        [
         "Imports",
         "Imports_Crude oil & NGLs",
         "202402",
         11020.35,
         "ET_3.1_SEP_24.xlsx",
         "08/10/2024"
        ],
        [
         "Imports",
         "Imports_Feedstocks",
         "199901",
         1149.26,
         "ET_3.1_SEP_24.xlsx",
         "08/10/2024"
        ],
        [
         "Imports",
         "Imports_Feedstocks",
         "199902",
         1492.01,
         "ET_3.1_SEP_24.xlsx",
         "08/10/2024"
        ],
        [
         "Imports",
         "Imports_Feedstocks",
         "199903",
         1478.38,
         "ET_3.1_SEP_24.xlsx",
         "08/10/2024"
        ],
        [
         "Imports",
         "Imports_Feedstocks",
         "199904",
         1428.35,
         "ET_3.1_SEP_24.xlsx",
         "08/10/2024"
        ],
        [
         "Imports",
         "Imports_Feedstocks",
         "200001",
         1347.34,
         "ET_3.1_SEP_24.xlsx",
         "08/10/2024"
        ],
        [
         "Imports",
         "Imports_Feedstocks",
         "200002",
         1641.81,
         "ET_3.1_SEP_24.xlsx",
         "08/10/2024"
        ],
        [
         "Imports",
         "Imports_Feedstocks",
         "200003",
         1366.89,
         "ET_3.1_SEP_24.xlsx",
         "08/10/2024"
        ],
        [
         "Imports",
         "Imports_Feedstocks",
         "200004",
         1162.57,
         "ET_3.1_SEP_24.xlsx",
         "08/10/2024"
        ],
        [
         "Imports",
         "Imports_Feedstocks",
         "200101",
         847.14,
         "ET_3.1_SEP_24.xlsx",
         "08/10/2024"
        ],
        [
         "Imports",
         "Imports_Feedstocks",
         "200102",
         934.99,
         "ET_3.1_SEP_24.xlsx",
         "08/10/2024"
        ],
        [
         "Imports",
         "Imports_Feedstocks",
         "200103",
         1497.28,
         "ET_3.1_SEP_24.xlsx",
         "08/10/2024"
        ],
        [
         "Imports",
         "Imports_Feedstocks",
         "200104",
         1279.76,
         "ET_3.1_SEP_24.xlsx",
         "08/10/2024"
        ],
        [
         "Imports",
         "Imports_Feedstocks",
         "200201",
         856.31,
         "ET_3.1_SEP_24.xlsx",
         "08/10/2024"
        ],
        [
         "Imports",
         "Imports_Feedstocks",
         "200202",
         1299.87,
         "ET_3.1_SEP_24.xlsx",
         "08/10/2024"
        ],
        [
         "Imports",
         "Imports_Feedstocks",
         "200203",
         1573.99,
         "ET_3.1_SEP_24.xlsx",
         "08/10/2024"
        ],
        [
         "Imports",
         "Imports_Feedstocks",
         "200204",
         1196.22,
         "ET_3.1_SEP_24.xlsx",
         "08/10/2024"
        ],
        [
         "Imports",
         "Imports_Feedstocks",
         "200301",
         1357.49,
         "ET_3.1_SEP_24.xlsx",
         "08/10/2024"
        ],
        [
         "Imports",
         "Imports_Feedstocks",
         "200302",
         1603.25,
         "ET_3.1_SEP_24.xlsx",
         "08/10/2024"
        ],
        [
         "Imports",
         "Imports_Feedstocks",
         "200303",
         1352.22,
         "ET_3.1_SEP_24.xlsx",
         "08/10/2024"
        ],
        [
         "Imports",
         "Imports_Feedstocks",
         "200304",
         1275.45,
         "ET_3.1_SEP_24.xlsx",
         "08/10/2024"
        ],
        [
         "Imports",
         "Imports_Feedstocks",
         "200401",
         1606.35,
         "ET_3.1_SEP_24.xlsx",
         "08/10/2024"
        ],
        [
         "Imports",
         "Imports_Feedstocks",
         "200402",
         1601.52,
         "ET_3.1_SEP_24.xlsx",
         "08/10/2024"
        ],
        [
         "Imports",
         "Imports_Feedstocks",
         "200403",
         1994.0,
         "ET_3.1_SEP_24.xlsx",
         "08/10/2024"
        ],
        [
         "Imports",
         "Imports_Feedstocks",
         "200404",
         1456.84,
         "ET_3.1_SEP_24.xlsx",
         "08/10/2024"
        ],
        [
         "Imports",
         "Imports_Feedstocks",
         "200501",
         1225.16,
         "ET_3.1_SEP_24.xlsx",
         "08/10/2024"
        ],
        [
         "Imports",
         "Imports_Feedstocks",
         "200502",
         1900.23,
         "ET_3.1_SEP_24.xlsx",
         "08/10/2024"
        ],
        [
         "Imports",
         "Imports_Feedstocks",
         "200503",
         1895.79,
         "ET_3.1_SEP_24.xlsx",
         "08/10/2024"
        ],
        [
         "Imports",
         "Imports_Feedstocks",
         "200504",
         1653.46,
         "ET_3.1_SEP_24.xlsx",
         "08/10/2024"
        ],
        [
         "Imports",
         "Imports_Feedstocks",
         "200601",
         1772.0,
         "ET_3.1_SEP_24.xlsx",
         "08/10/2024"
        ],
        [
         "Imports",
         "Imports_Feedstocks",
         "200602",
         2153.24,
         "ET_3.1_SEP_24.xlsx",
         "08/10/2024"
        ],
        [
         "Imports",
         "Imports_Feedstocks",
         "200603",
         1757.46,
         "ET_3.1_SEP_24.xlsx",
         "08/10/2024"
        ],
        [
         "Imports",
         "Imports_Feedstocks",
         "200604",
         2314.08,
         "ET_3.1_SEP_24.xlsx",
         "08/10/2024"
        ],
        [
         "Imports",
         "Imports_Feedstocks",
         "200701",
         1546.22,
         "ET_3.1_SEP_24.xlsx",
         "08/10/2024"
        ],
        [
         "Imports",
         "Imports_Feedstocks",
         "200702",
         2169.94,
         "ET_3.1_SEP_24.xlsx",
         "08/10/2024"
        ],
        [
         "Imports",
         "Imports_Feedstocks",
         "200703",
         2126.78,
         "ET_3.1_SEP_24.xlsx",
         "08/10/2024"
        ],
        [
         "Imports",
         "Imports_Feedstocks",
         "200704",
         1363.19,
         "ET_3.1_SEP_24.xlsx",
         "08/10/2024"
        ],
        [
         "Imports",
         "Imports_Feedstocks",
         "200801",
         2205.44,
         "ET_3.1_SEP_24.xlsx",
         "08/10/2024"
        ],
        [
         "Imports",
         "Imports_Feedstocks",
         "200802",
         2075.7,
         "ET_3.1_SEP_24.xlsx",
         "08/10/2024"
        ],
        [
         "Imports",
         "Imports_Feedstocks",
         "200803",
         1968.18,
         "ET_3.1_SEP_24.xlsx",
         "08/10/2024"
        ],
        [
         "Imports",
         "Imports_Feedstocks",
         "200804",
         1676.62,
         "ET_3.1_SEP_24.xlsx",
         "08/10/2024"
        ],
        [
         "Imports",
         "Imports_Feedstocks",
         "200901",
         1746.52,
         "ET_3.1_SEP_24.xlsx",
         "08/10/2024"
        ],
        [
         "Imports",
         "Imports_Feedstocks",
         "200902",
         1674.84,
         "ET_3.1_SEP_24.xlsx",
         "08/10/2024"
        ],
        [
         "Imports",
         "Imports_Feedstocks",
         "200903",
         1956.59,
         "ET_3.1_SEP_24.xlsx",
         "08/10/2024"
        ],
        [
         "Imports",
         "Imports_Feedstocks",
         "200904",
         1392.92,
         "ET_3.1_SEP_24.xlsx",
         "08/10/2024"
        ],
        [
         "Imports",
         "Imports_Feedstocks",
         "201001",
         1362.91,
         "ET_3.1_SEP_24.xlsx",
         "08/10/2024"
        ],
        [
         "Imports",
         "Imports_Feedstocks",
         "201002",
         1647.42,
         "ET_3.1_SEP_24.xlsx",
         "08/10/2024"
        ],
        [
         "Imports",
         "Imports_Feedstocks",
         "201003",
         1612.41,
         "ET_3.1_SEP_24.xlsx",
         "08/10/2024"
        ],
        [
         "Imports",
         "Imports_Feedstocks",
         "201004",
         2010.43,
         "ET_3.1_SEP_24.xlsx",
         "08/10/2024"
        ],
        [
         "Imports",
         "Imports_Feedstocks",
         "201101",
         1978.07,
         "ET_3.1_SEP_24.xlsx",
         "08/10/2024"
        ],
        [
         "Imports",
         "Imports_Feedstocks",
         "201102",
         1692.07,
         "ET_3.1_SEP_24.xlsx",
         "08/10/2024"
        ],
        [
         "Imports",
         "Imports_Feedstocks",
         "201103",
         1998.26,
         "ET_3.1_SEP_24.xlsx",
         "08/10/2024"
        ],
        [
         "Imports",
         "Imports_Feedstocks",
         "201104",
         1470.23,
         "ET_3.1_SEP_24.xlsx",
         "08/10/2024"
        ],
        [
         "Imports",
         "Imports_Feedstocks",
         "201201",
         1485.04,
         "ET_3.1_SEP_24.xlsx",
         "08/10/2024"
        ],
        [
         "Imports",
         "Imports_Feedstocks",
         "201202",
         1574.44,
         "ET_3.1_SEP_24.xlsx",
         "08/10/2024"
        ],
        [
         "Imports",
         "Imports_Feedstocks",
         "201203",
         1255.43,
         "ET_3.1_SEP_24.xlsx",
         "08/10/2024"
        ],
        [
         "Imports",
         "Imports_Feedstocks",
         "201204",
         820.52,
         "ET_3.1_SEP_24.xlsx",
         "08/10/2024"
        ],
        [
         "Imports",
         "Imports_Feedstocks",
         "201301",
         1630.41,
         "ET_3.1_SEP_24.xlsx",
         "08/10/2024"
        ],
        [
         "Imports",
         "Imports_Feedstocks",
         "201302",
         1571.38,
         "ET_3.1_SEP_24.xlsx",
         "08/10/2024"
        ],
        [
         "Imports",
         "Imports_Feedstocks",
         "201303",
         1612.5,
         "ET_3.1_SEP_24.xlsx",
         "08/10/2024"
        ],
        [
         "Imports",
         "Imports_Feedstocks",
         "201304",
         1682.56,
         "ET_3.1_SEP_24.xlsx",
         "08/10/2024"
        ],
        [
         "Imports",
         "Imports_Feedstocks",
         "201401",
         1399.08,
         "ET_3.1_SEP_24.xlsx",
         "08/10/2024"
        ],
        [
         "Imports",
         "Imports_Feedstocks",
         "201402",
         1141.69,
         "ET_3.1_SEP_24.xlsx",
         "08/10/2024"
        ],
        [
         "Imports",
         "Imports_Feedstocks",
         "201403",
         1132.99,
         "ET_3.1_SEP_24.xlsx",
         "08/10/2024"
        ],
        [
         "Imports",
         "Imports_Feedstocks",
         "201404",
         1073.64,
         "ET_3.1_SEP_24.xlsx",
         "08/10/2024"
        ],
        [
         "Imports",
         "Imports_Feedstocks",
         "201501",
         1084.61,
         "ET_3.1_SEP_24.xlsx",
         "08/10/2024"
        ],
        [
         "Imports",
         "Imports_Feedstocks",
         "201502",
         1103.74,
         "ET_3.1_SEP_24.xlsx",
         "08/10/2024"
        ],
        [
         "Imports",
         "Imports_Feedstocks",
         "201503",
         1583.2,
         "ET_3.1_SEP_24.xlsx",
         "08/10/2024"
        ],
        [
         "Imports",
         "Imports_Feedstocks",
         "201504",
         1546.64,
         "ET_3.1_SEP_24.xlsx",
         "08/10/2024"
        ],
        [
         "Imports",
         "Imports_Feedstocks",
         "201601",
         1637.65,
         "ET_3.1_SEP_24.xlsx",
         "08/10/2024"
        ],
        [
         "Imports",
         "Imports_Feedstocks",
         "201602",
         1673.92,
         "ET_3.1_SEP_24.xlsx",
         "08/10/2024"
        ],
        [
         "Imports",
         "Imports_Feedstocks",
         "201603",
         1654.44,
         "ET_3.1_SEP_24.xlsx",
         "08/10/2024"
        ],
        [
         "Imports",
         "Imports_Feedstocks",
         "201604",
         1417.25,
         "ET_3.1_SEP_24.xlsx",
         "08/10/2024"
        ],
        [
         "Imports",
         "Imports_Feedstocks",
         "201701",
         1486.74,
         "ET_3.1_SEP_24.xlsx",
         "08/10/2024"
        ],
        [
         "Imports",
         "Imports_Feedstocks",
         "201702",
         1983.31,
         "ET_3.1_SEP_24.xlsx",
         "08/10/2024"
        ],
        [
         "Imports",
         "Imports_Feedstocks",
         "201703",
         1605.37,
         "ET_3.1_SEP_24.xlsx",
         "08/10/2024"
        ],
        [
         "Imports",
         "Imports_Feedstocks",
         "201704",
         1591.8,
         "ET_3.1_SEP_24.xlsx",
         "08/10/2024"
        ],
        [
         "Imports",
         "Imports_Feedstocks",
         "201801",
         1613.62,
         "ET_3.1_SEP_24.xlsx",
         "08/10/2024"
        ],
        [
         "Imports",
         "Imports_Feedstocks",
         "201802",
         1556.13,
         "ET_3.1_SEP_24.xlsx",
         "08/10/2024"
        ],
        [
         "Imports",
         "Imports_Feedstocks",
         "201803",
         1830.51,
         "ET_3.1_SEP_24.xlsx",
         "08/10/2024"
        ],
        [
         "Imports",
         "Imports_Feedstocks",
         "201804",
         1617.41,
         "ET_3.1_SEP_24.xlsx",
         "08/10/2024"
        ],
        [
         "Imports",
         "Imports_Feedstocks",
         "201901",
         1627.54,
         "ET_3.1_SEP_24.xlsx",
         "08/10/2024"
        ],
        [
         "Imports",
         "Imports_Feedstocks",
         "201902",
         1522.23,
         "ET_3.1_SEP_24.xlsx",
         "08/10/2024"
        ],
        [
         "Imports",
         "Imports_Feedstocks",
         "201903",
         1566.51,
         "ET_3.1_SEP_24.xlsx",
         "08/10/2024"
        ],
        [
         "Imports",
         "Imports_Feedstocks",
         "201904",
         1219.27,
         "ET_3.1_SEP_24.xlsx",
         "08/10/2024"
        ],
        [
         "Imports",
         "Imports_Feedstocks",
         "202001",
         494.67,
         "ET_3.1_SEP_24.xlsx",
         "08/10/2024"
        ],
        [
         "Imports",
         "Imports_Feedstocks",
         "202002",
         505.05,
         "ET_3.1_SEP_24.xlsx",
         "08/10/2024"
        ],
        [
         "Imports",
         "Imports_Feedstocks",
         "202003",
         749.35,
         "ET_3.1_SEP_24.xlsx",
         "08/10/2024"
        ],
        [
         "Imports",
         "Imports_Feedstocks",
         "202004",
         859.13,
         "ET_3.1_SEP_24.xlsx",
         "08/10/2024"
        ],
        [
         "Imports",
         "Imports_Feedstocks",
         "202101",
         732.34,
         "ET_3.1_SEP_24.xlsx",
         "08/10/2024"
        ],
        [
         "Imports",
         "Imports_Feedstocks",
         "202102",
         1018.29,
         "ET_3.1_SEP_24.xlsx",
         "08/10/2024"
        ],
        [
         "Imports",
         "Imports_Feedstocks",
         "202103",
         925.24,
         "ET_3.1_SEP_24.xlsx",
         "08/10/2024"
        ],
        [
         "Imports",
         "Imports_Feedstocks",
         "202104",
         994.71,
         "ET_3.1_SEP_24.xlsx",
         "08/10/2024"
        ],
        [
         "Imports",
         "Imports_Feedstocks",
         "202201",
         1039.81,
         "ET_3.1_SEP_24.xlsx",
         "08/10/2024"
        ],
        [
         "Imports",
         "Imports_Feedstocks",
         "202202",
         864.37,
         "ET_3.1_SEP_24.xlsx",
         "08/10/2024"
        ],
        [
         "Imports",
         "Imports_Feedstocks",
         "202203",
         665.7,
         "ET_3.1_SEP_24.xlsx",
         "08/10/2024"
        ],
        [
         "Imports",
         "Imports_Feedstocks",
         "202204",
         927.19,
         "ET_3.1_SEP_24.xlsx",
         "08/10/2024"
        ],
        [
         "Imports",
         "Imports_Feedstocks",
         "202301",
         928.04,
         "ET_3.1_SEP_24.xlsx",
         "08/10/2024"
        ],
        [
         "Imports",
         "Imports_Feedstocks",
         "202302",
         625.93,
         "ET_3.1_SEP_24.xlsx",
         "08/10/2024"
        ],
        [
         "Imports",
         "Imports_Feedstocks",
         "202303",
         1225.8,
         "ET_3.1_SEP_24.xlsx",
         "08/10/2024"
        ],
        [
         "Imports",
         "Imports_Feedstocks",
         "202304",
         917.91,
         "ET_3.1_SEP_24.xlsx",
         "08/10/2024"
        ],
        [
         "Imports",
         "Imports_Feedstocks",
         "202401",
         944.72,
         "ET_3.1_SEP_24.xlsx",
         "08/10/2024"
        ],
        [
         "Imports",
         "Imports_Feedstocks",
         "202402",
         947.34,
         "ET_3.1_SEP_24.xlsx",
         "08/10/2024"
        ],
        [
         "Exports",
         "Exports",
         "199901",
         20743.41,
         "ET_3.1_SEP_24.xlsx",
         "08/10/2024"
        ],
        [
         "Exports",
         "Exports",
         "199902",
         21341.24,
         "ET_3.1_SEP_24.xlsx",
         "08/10/2024"
        ],
        [
         "Exports",
         "Exports",
         "199903",
         24225.48,
         "ET_3.1_SEP_24.xlsx",
         "08/10/2024"
        ],
        [
         "Exports",
         "Exports",
         "199904",
         25486.88,
         "ET_3.1_SEP_24.xlsx",
         "08/10/2024"
        ],
        [
         "Exports",
         "Exports",
         "200001",
         24609.94,
         "ET_3.1_SEP_24.xlsx",
         "08/10/2024"
        ],
        [
         "Exports",
         "Exports",
         "200002",
         23894.54,
         "ET_3.1_SEP_24.xlsx",
         "08/10/2024"
        ],
        [
         "Exports",
         "Exports",
         "200003",
         22303.95,
         "ET_3.1_SEP_24.xlsx",
         "08/10/2024"
        ],
        [
         "Exports",
         "Exports",
         "200004",
         22108.75,
         "ET_3.1_SEP_24.xlsx",
         "08/10/2024"
        ],
        [
         "Exports",
         "Exports",
         "200101",
         20832.07,
         "ET_3.1_SEP_24.xlsx",
         "08/10/2024"
        ],
        [
         "Exports",
         "Exports",
         "200102",
         22302.89,
         "ET_3.1_SEP_24.xlsx",
         "08/10/2024"
        ],
        [
         "Exports",
         "Exports",
         "200103",
         20889.8,
         "ET_3.1_SEP_24.xlsx",
         "08/10/2024"
        ],
        [
         "Exports",
         "Exports",
         "200104",
         22904.98,
         "ET_3.1_SEP_24.xlsx",
         "08/10/2024"
        ],
        [
         "Exports",
         "Exports",
         "200201",
         22465.06,
         "ET_3.1_SEP_24.xlsx",
         "08/10/2024"
        ],
        [
         "Exports",
         "Exports",
         "200202",
         24548.13,
         "ET_3.1_SEP_24.xlsx",
         "08/10/2024"
        ],
        [
         "Exports",
         "Exports",
         "200203",
         18303.46,
         "ET_3.1_SEP_24.xlsx",
         "08/10/2024"
        ],
        [
         "Exports",
         "Exports",
         "200204",
         21827.07,
         "ET_3.1_SEP_24.xlsx",
         "08/10/2024"
        ],
        [
         "Exports",
         "Exports",
         "200301",
         20280.84,
         "ET_3.1_SEP_24.xlsx",
         "08/10/2024"
        ],
        [
         "Exports",
         "Exports",
         "200302",
         17415.24,
         "ET_3.1_SEP_24.xlsx",
         "08/10/2024"
        ],
        [
         "Exports",
         "Exports",
         "200303",
         18839.42,
         "ET_3.1_SEP_24.xlsx",
         "08/10/2024"
        ],
        [
         "Exports",
         "Exports",
         "200304",
         18362.26,
         "ET_3.1_SEP_24.xlsx",
         "08/10/2024"
        ],
        [
         "Exports",
         "Exports",
         "200401",
         17758.24,
         "ET_3.1_SEP_24.xlsx",
         "08/10/2024"
        ],
        [
         "Exports",
         "Exports",
         "200402",
         16618.97,
         "ET_3.1_SEP_24.xlsx",
         "08/10/2024"
        ],
        [
         "Exports",
         "Exports",
         "200403",
         15075.18,
         "ET_3.1_SEP_24.xlsx",
         "08/10/2024"
        ],
        [
         "Exports",
         "Exports",
         "200404",
         15051.62,
         "ET_3.1_SEP_24.xlsx",
         "08/10/2024"
        ],
        [
         "Exports",
         "Exports",
         "200501",
         14553.09,
         "ET_3.1_SEP_24.xlsx",
         "08/10/2024"
        ],
        [
         "Exports",
         "Exports",
         "200502",
         15342.83,
         "ET_3.1_SEP_24.xlsx",
         "08/10/2024"
        ],
        [
         "Exports",
         "Exports",
         "200503",
         11405.72,
         "ET_3.1_SEP_24.xlsx",
         "08/10/2024"
        ],
        [
         "Exports",
         "Exports",
         "200504",
         12797.08,
         "ET_3.1_SEP_24.xlsx",
         "08/10/2024"
        ],
        [
         "Exports",
         "Exports",
         "200601",
         13835.97,
         "ET_3.1_SEP_24.xlsx",
         "08/10/2024"
        ],
        [
         "Exports",
         "Exports",
         "200602",
         13094.5,
         "ET_3.1_SEP_24.xlsx",
         "08/10/2024"
        ],
        [
         "Exports",
         "Exports",
         "200603",
         11350.59,
         "ET_3.1_SEP_24.xlsx",
         "08/10/2024"
        ],
        [
         "Exports",
         "Exports",
         "200604",
         11913.57,
         "ET_3.1_SEP_24.xlsx",
         "08/10/2024"
        ],
        [
         "Exports",
         "Exports",
         "200701",
         12254.08,
         "ET_3.1_SEP_24.xlsx",
         "08/10/2024"
        ],
        [
         "Exports",
         "Exports",
         "200702",
         12580.49,
         "ET_3.1_SEP_24.xlsx",
         "08/10/2024"
        ],
        [
         "Exports",
         "Exports",
         "200703",
         12698.73,
         "ET_3.1_SEP_24.xlsx",
         "08/10/2024"
        ],
        [
         "Exports",
         "Exports",
         "200704",
         13466.06,
         "ET_3.1_SEP_24.xlsx",
         "08/10/2024"
        ],
        [
         "Exports",
         "Exports",
         "200801",
         12258.07,
         "ET_3.1_SEP_24.xlsx",
         "08/10/2024"
        ],
        [
         "Exports",
         "Exports",
         "200802",
         12343.31,
         "ET_3.1_SEP_24.xlsx",
         "08/10/2024"
        ],
        [
         "Exports",
         "Exports",
         "200803",
         11181.22,
         "ET_3.1_SEP_24.xlsx",
         "08/10/2024"
        ],
        [
         "Exports",
         "Exports",
         "200804",
         12452.76,
         "ET_3.1_SEP_24.xlsx",
         "08/10/2024"
        ],
        [
         "Exports",
         "Exports",
         "200901",
         11173.68,
         "ET_3.1_SEP_24.xlsx",
         "08/10/2024"
        ],
        [
         "Exports",
         "Exports",
         "200902",
         12611.71,
         "ET_3.1_SEP_24.xlsx",
         "08/10/2024"
        ],
        [
         "Exports",
         "Exports",
         "200903",
         9824.91,
         "ET_3.1_SEP_24.xlsx",
         "08/10/2024"
        ],
        [
         "Exports",
         "Exports",
         "200904",
         11740.44,
         "ET_3.1_SEP_24.xlsx",
         "08/10/2024"
        ],
        [
         "Exports",
         "Exports",
         "201001",
         11448.98,
         "ET_3.1_SEP_24.xlsx",
         "08/10/2024"
        ],
        [
         "Exports",
         "Exports",
         "201002",
         11133.12,
         "ET_3.1_SEP_24.xlsx",
         "08/10/2024"
        ],
        [
         "Exports",
         "Exports",
         "201003",
         8708.25,
         "ET_3.1_SEP_24.xlsx",
         "08/10/2024"
        ],
        [
         "Exports",
         "Exports",
         "201004",
         10773.8,
         "ET_3.1_SEP_24.xlsx",
         "08/10/2024"
        ],
        [
         "Exports",
         "Exports",
         "201101",
         9239.46,
         "ET_3.1_SEP_24.xlsx",
         "08/10/2024"
        ],
        [
         "Exports",
         "Exports",
         "201102",
         8279.08,
         "ET_3.1_SEP_24.xlsx",
         "08/10/2024"
        ],
        [
         "Exports",
         "Exports",
         "201103",
         7039.58,
         "ET_3.1_SEP_24.xlsx",
         "08/10/2024"
        ],
        [
         "Exports",
         "Exports",
         "201104",
         9066.56,
         "ET_3.1_SEP_24.xlsx",
         "08/10/2024"
        ],
        [
         "Exports",
         "Exports",
         "201201",
         7926.96,
         "ET_3.1_SEP_24.xlsx",
         "08/10/2024"
        ],
        [
         "Exports",
         "Exports",
         "201202",
         7976.63,
         "ET_3.1_SEP_24.xlsx",
         "08/10/2024"
        ],
        [
         "Exports",
         "Exports",
         "201203",
         7135.95,
         "ET_3.1_SEP_24.xlsx",
         "08/10/2024"
        ],
        [
         "Exports",
         "Exports",
         "201204",
         7906.69,
         "ET_3.1_SEP_24.xlsx",
         "08/10/2024"
        ],
        [
         "Exports",
         "Exports",
         "201301",
         8685.58,
         "ET_3.1_SEP_24.xlsx",
         "08/10/2024"
        ],
        [
         "Exports",
         "Exports",
         "201302",
         8649.4,
         "ET_3.1_SEP_24.xlsx",
         "08/10/2024"
        ],
        [
         "Exports",
         "Exports",
         "201303",
         7452.04,
         "ET_3.1_SEP_24.xlsx",
         "08/10/2024"
        ],
        [
         "Exports",
         "Exports",
         "201304",
         8318.14,
         "ET_3.1_SEP_24.xlsx",
         "08/10/2024"
        ],
        [
         "Exports",
         "Exports",
         "201401",
         8001.18,
         "ET_3.1_SEP_24.xlsx",
         "08/10/2024"
        ],
        [
         "Exports",
         "Exports",
         "201402",
         7446.45,
         "ET_3.1_SEP_24.xlsx",
         "08/10/2024"
        ],
        [
         "Exports",
         "Exports",
         "201403",
         6906.21,
         "ET_3.1_SEP_24.xlsx",
         "08/10/2024"
        ],
        [
         "Exports",
         "Exports",
         "201404",
         8515.06,
         "ET_3.1_SEP_24.xlsx",
         "08/10/2024"
        ],
        [
         "Exports",
         "Exports",
         "201501",
         8095.88,
         "ET_3.1_SEP_24.xlsx",
         "08/10/2024"
        ],
        [
         "Exports",
         "Exports",
         "201502",
         9309.1,
         "ET_3.1_SEP_24.xlsx",
         "08/10/2024"
        ],
        [
         "Exports",
         "Exports",
         "201503",
         7908.26,
         "ET_3.1_SEP_24.xlsx",
         "08/10/2024"
        ],
        [
         "Exports",
         "Exports",
         "201504",
         8396.19,
         "ET_3.1_SEP_24.xlsx",
         "08/10/2024"
        ],
        [
         "Exports",
         "Exports",
         "201601",
         10089.94,
         "ET_3.1_SEP_24.xlsx",
         "08/10/2024"
        ],
        [
         "Exports",
         "Exports",
         "201602",
         7976.12,
         "ET_3.1_SEP_24.xlsx",
         "08/10/2024"
        ],
        [
         "Exports",
         "Exports",
         "201603",
         8224.57,
         "ET_3.1_SEP_24.xlsx",
         "08/10/2024"
        ],
        [
         "Exports",
         "Exports",
         "201604",
         8565.15,
         "ET_3.1_SEP_24.xlsx",
         "08/10/2024"
        ],
        [
         "Exports",
         "Exports",
         "201701",
         9823.55,
         "ET_3.1_SEP_24.xlsx",
         "08/10/2024"
        ],
        [
         "Exports",
         "Exports",
         "201702",
         9692.3,
         "ET_3.1_SEP_24.xlsx",
         "08/10/2024"
        ],
        [
         "Exports",
         "Exports",
         "201703",
         9635.82,
         "ET_3.1_SEP_24.xlsx",
         "08/10/2024"
        ],
        [
         "Exports",
         "Exports",
         "201704",
         9167.17,
         "ET_3.1_SEP_24.xlsx",
         "08/10/2024"
        ],
        [
         "Exports",
         "Exports",
         "201801",
         10868.01,
         "ET_3.1_SEP_24.xlsx",
         "08/10/2024"
        ],
        [
         "Exports",
         "Exports",
         "201802",
         11376.53,
         "ET_3.1_SEP_24.xlsx",
         "08/10/2024"
        ],
        [
         "Exports",
         "Exports",
         "201803",
         10113.04,
         "ET_3.1_SEP_24.xlsx",
         "08/10/2024"
        ],
        [
         "Exports",
         "Exports",
         "201804",
         12150.33,
         "ET_3.1_SEP_24.xlsx",
         "08/10/2024"
        ],
        [
         "Exports",
         "Exports",
         "201901",
         11186.95,
         "ET_3.1_SEP_24.xlsx",
         "08/10/2024"
        ],
        [
         "Exports",
         "Exports",
         "201902",
         12007.39,
         "ET_3.1_SEP_24.xlsx",
         "08/10/2024"
        ],
        [
         "Exports",
         "Exports",
         "201903",
         11047.16,
         "ET_3.1_SEP_24.xlsx",
         "08/10/2024"
        ],
        [
         "Exports",
         "Exports",
         "201904",
         10697.88,
         "ET_3.1_SEP_24.xlsx",
         "08/10/2024"
        ],
        [
         "Exports",
         "Exports",
         "202001",
         10680.12,
         "ET_3.1_SEP_24.xlsx",
         "08/10/2024"
        ],
        [
         "Exports",
         "Exports",
         "202002",
         9949.32,
         "ET_3.1_SEP_24.xlsx",
         "08/10/2024"
        ],
        [
         "Exports",
         "Exports",
         "202003",
         9645.11,
         "ET_3.1_SEP_24.xlsx",
         "08/10/2024"
        ],
        [
         "Exports",
         "Exports",
         "202004",
         9582.03,
         "ET_3.1_SEP_24.xlsx",
         "08/10/2024"
        ],
        [
         "Exports",
         "Exports",
         "202101",
         9244.6,
         "ET_3.1_SEP_24.xlsx",
         "08/10/2024"
        ],
        [
         "Exports",
         "Exports",
         "202102",
         7549.21,
         "ET_3.1_SEP_24.xlsx",
         "08/10/2024"
        ],
        [
         "Exports",
         "Exports",
         "202103",
         8458.86,
         "ET_3.1_SEP_24.xlsx",
         "08/10/2024"
        ],
        [
         "Exports",
         "Exports",
         "202104",
         9228.82,
         "ET_3.1_SEP_24.xlsx",
         "08/10/2024"
        ],
        [
         "Exports",
         "Exports",
         "202201",
         8627.96,
         "ET_3.1_SEP_24.xlsx",
         "08/10/2024"
        ],
        [
         "Exports",
         "Exports",
         "202202",
         7354.98,
         "ET_3.1_SEP_24.xlsx",
         "08/10/2024"
        ],
        [
         "Exports",
         "Exports",
         "202203",
         6643.99,
         "ET_3.1_SEP_24.xlsx",
         "08/10/2024"
        ],
        [
         "Exports",
         "Exports",
         "202204",
         8301.84,
         "ET_3.1_SEP_24.xlsx",
         "08/10/2024"
        ],
        [
         "Exports",
         "Exports",
         "202301",
         7317.81,
         "ET_3.1_SEP_24.xlsx",
         "08/10/2024"
        ],
        [
         "Exports",
         "Exports",
         "202302",
         6663.13,
         "ET_3.1_SEP_24.xlsx",
         "08/10/2024"
        ],
        [
         "Exports",
         "Exports",
         "202303",
         6803.34,
         "ET_3.1_SEP_24.xlsx",
         "08/10/2024"
        ],
        [
         "Exports",
         "Exports",
         "202304",
         6869.7,
         "ET_3.1_SEP_24.xlsx",
         "08/10/2024"
        ],
        [
         "Exports",
         "Exports",
         "202401",
         6350.04,
         "ET_3.1_SEP_24.xlsx",
         "08/10/2024"
        ],
        [
         "Exports",
         "Exports",
         "202402",
         6941.35,
         "ET_3.1_SEP_24.xlsx",
         "08/10/2024"
        ],
        [
         "Exports",
         "Exports_Crude Oil & NGLs",
         "199901",
         19890.75,
         "ET_3.1_SEP_24.xlsx",
         "08/10/2024"
        ],
        [
         "Exports",
         "Exports_Crude Oil & NGLs",
         "199902",
         20758.26,
         "ET_3.1_SEP_24.xlsx",
         "08/10/2024"
        ],
        [
         "Exports",
         "Exports_Crude Oil & NGLs",
         "199903",
         23590.02,
         "ET_3.1_SEP_24.xlsx",
         "08/10/2024"
        ],
        [
         "Exports",
         "Exports_Crude Oil & NGLs",
         "199904",
         24682.97,
         "ET_3.1_SEP_24.xlsx",
         "08/10/2024"
        ],
        [
         "Exports",
         "Exports_Crude Oil & NGLs",
         "200001",
         23952.26,
         "ET_3.1_SEP_24.xlsx",
         "08/10/2024"
        ],
        [
         "Exports",
         "Exports_Crude Oil & NGLs",
         "200002",
         23224.01,
         "ET_3.1_SEP_24.xlsx",
         "08/10/2024"
        ],
        [
         "Exports",
         "Exports_Crude Oil & NGLs",
         "200003",
         21607.51,
         "ET_3.1_SEP_24.xlsx",
         "08/10/2024"
        ],
        [
         "Exports",
         "Exports_Crude Oil & NGLs",
         "200004",
         21297.59,
         "ET_3.1_SEP_24.xlsx",
         "08/10/2024"
        ],
        [
         "Exports",
         "Exports_Crude Oil & NGLs",
         "200101",
         20110.32,
         "ET_3.1_SEP_24.xlsx",
         "08/10/2024"
        ],
        [
         "Exports",
         "Exports_Crude Oil & NGLs",
         "200102",
         21644.5,
         "ET_3.1_SEP_24.xlsx",
         "08/10/2024"
        ],
        [
         "Exports",
         "Exports_Crude Oil & NGLs",
         "200103",
         20386.36,
         "ET_3.1_SEP_24.xlsx",
         "08/10/2024"
        ],
        [
         "Exports",
         "Exports_Crude Oil & NGLs",
         "200104",
         22299.56,
         "ET_3.1_SEP_24.xlsx",
         "08/10/2024"
        ],
        [
         "Exports",
         "Exports_Crude Oil & NGLs",
         "200201",
         22074.49,
         "ET_3.1_SEP_24.xlsx",
         "08/10/2024"
        ],
        [
         "Exports",
         "Exports_Crude Oil & NGLs",
         "200202",
         23968.83,
         "ET_3.1_SEP_24.xlsx",
         "08/10/2024"
        ],
        [
         "Exports",
         "Exports_Crude Oil & NGLs",
         "200203",
         17690.09,
         "ET_3.1_SEP_24.xlsx",
         "08/10/2024"
        ],
        [
         "Exports",
         "Exports_Crude Oil & NGLs",
         "200204",
         21294.69,
         "ET_3.1_SEP_24.xlsx",
         "08/10/2024"
        ],
        [
         "Exports",
         "Exports_Crude Oil & NGLs",
         "200301",
         19719.96,
         "ET_3.1_SEP_24.xlsx",
         "08/10/2024"
        ],
        [
         "Exports",
         "Exports_Crude Oil & NGLs",
         "200302",
         16785.91,
         "ET_3.1_SEP_24.xlsx",
         "08/10/2024"
        ],
        [
         "Exports",
         "Exports_Crude Oil & NGLs",
         "200303",
         18151.69,
         "ET_3.1_SEP_24.xlsx",
         "08/10/2024"
        ],
        [
         "Exports",
         "Exports_Crude Oil & NGLs",
         "200304",
         17868.63,
         "ET_3.1_SEP_24.xlsx",
         "08/10/2024"
        ],
        [
         "Exports",
         "Exports_Crude Oil & NGLs",
         "200401",
         17373.73,
         "ET_3.1_SEP_24.xlsx",
         "08/10/2024"
        ],
        [
         "Exports",
         "Exports_Crude Oil & NGLs",
         "200402",
         16387.45,
         "ET_3.1_SEP_24.xlsx",
         "08/10/2024"
        ],
        [
         "Exports",
         "Exports_Crude Oil & NGLs",
         "200403",
         14793.61,
         "ET_3.1_SEP_24.xlsx",
         "08/10/2024"
        ],
        [
         "Exports",
         "Exports_Crude Oil & NGLs",
         "200404",
         14858.07,
         "ET_3.1_SEP_24.xlsx",
         "08/10/2024"
        ],
        [
         "Exports",
         "Exports_Crude Oil & NGLs",
         "200501",
         14045.36,
         "ET_3.1_SEP_24.xlsx",
         "08/10/2024"
        ],
        [
         "Exports",
         "Exports_Crude Oil & NGLs",
         "200502",
         15036.48,
         "ET_3.1_SEP_24.xlsx",
         "08/10/2024"
        ],
        [
         "Exports",
         "Exports_Crude Oil & NGLs",
         "200503",
         10901.45,
         "ET_3.1_SEP_24.xlsx",
         "08/10/2024"
        ],
        [
         "Exports",
         "Exports_Crude Oil & NGLs",
         "200504",
         12123.62,
         "ET_3.1_SEP_24.xlsx",
         "08/10/2024"
        ],
        [
         "Exports",
         "Exports_Crude Oil & NGLs",
         "200601",
         13259.96,
         "ET_3.1_SEP_24.xlsx",
         "08/10/2024"
        ],
        [
         "Exports",
         "Exports_Crude Oil & NGLs",
         "200602",
         12270.84,
         "ET_3.1_SEP_24.xlsx",
         "08/10/2024"
        ],
        [
         "Exports",
         "Exports_Crude Oil & NGLs",
         "200603",
         10770.99,
         "ET_3.1_SEP_24.xlsx",
         "08/10/2024"
        ],
        [
         "Exports",
         "Exports_Crude Oil & NGLs",
         "200604",
         11249.65,
         "ET_3.1_SEP_24.xlsx",
         "08/10/2024"
        ],
        [
         "Exports",
         "Exports_Crude Oil & NGLs",
         "200701",
         11469.77,
         "ET_3.1_SEP_24.xlsx",
         "08/10/2024"
        ],
        [
         "Exports",
         "Exports_Crude Oil & NGLs",
         "200702",
         11876.46,
         "ET_3.1_SEP_24.xlsx",
         "08/10/2024"
        ],
        [
         "Exports",
         "Exports_Crude Oil & NGLs",
         "200703",
         11919.8,
         "ET_3.1_SEP_24.xlsx",
         "08/10/2024"
        ],
        [
         "Exports",
         "Exports_Crude Oil & NGLs",
         "200704",
         12446.62,
         "ET_3.1_SEP_24.xlsx",
         "08/10/2024"
        ],
        [
         "Exports",
         "Exports_Crude Oil & NGLs",
         "200801",
         11402.23,
         "ET_3.1_SEP_24.xlsx",
         "08/10/2024"
        ],
        [
         "Exports",
         "Exports_Crude Oil & NGLs",
         "200802",
         11502.0,
         "ET_3.1_SEP_24.xlsx",
         "08/10/2024"
        ],
        [
         "Exports",
         "Exports_Crude Oil & NGLs",
         "200803",
         10058.33,
         "ET_3.1_SEP_24.xlsx",
         "08/10/2024"
        ],
        [
         "Exports",
         "Exports_Crude Oil & NGLs",
         "200804",
         11414.86,
         "ET_3.1_SEP_24.xlsx",
         "08/10/2024"
        ],
        [
         "Exports",
         "Exports_Crude Oil & NGLs",
         "200901",
         10437.23,
         "ET_3.1_SEP_24.xlsx",
         "08/10/2024"
        ],
        [
         "Exports",
         "Exports_Crude Oil & NGLs",
         "200902",
         12014.53,
         "ET_3.1_SEP_24.xlsx",
         "08/10/2024"
        ],
        [
         "Exports",
         "Exports_Crude Oil & NGLs",
         "200903",
         8723.09,
         "ET_3.1_SEP_24.xlsx",
         "08/10/2024"
        ],
        [
         "Exports",
         "Exports_Crude Oil & NGLs",
         "200904",
         10534.81,
         "ET_3.1_SEP_24.xlsx",
         "08/10/2024"
        ],
        [
         "Exports",
         "Exports_Crude Oil & NGLs",
         "201001",
         10749.41,
         "ET_3.1_SEP_24.xlsx",
         "08/10/2024"
        ],
        [
         "Exports",
         "Exports_Crude Oil & NGLs",
         "201002",
         10310.06,
         "ET_3.1_SEP_24.xlsx",
         "08/10/2024"
        ],
        [
         "Exports",
         "Exports_Crude Oil & NGLs",
         "201003",
         8005.57,
         "ET_3.1_SEP_24.xlsx",
         "08/10/2024"
        ],
        [
         "Exports",
         "Exports_Crude Oil & NGLs",
         "201004",
         10042.11,
         "ET_3.1_SEP_24.xlsx",
         "08/10/2024"
        ],
        [
         "Exports",
         "Exports_Crude Oil & NGLs",
         "201101",
         8276.96,
         "ET_3.1_SEP_24.xlsx",
         "08/10/2024"
        ],
        [
         "Exports",
         "Exports_Crude Oil & NGLs",
         "201102",
         7335.91,
         "ET_3.1_SEP_24.xlsx",
         "08/10/2024"
        ],
        [
         "Exports",
         "Exports_Crude Oil & NGLs",
         "201103",
         5968.44,
         "ET_3.1_SEP_24.xlsx",
         "08/10/2024"
        ],
        [
         "Exports",
         "Exports_Crude Oil & NGLs",
         "201104",
         8135.08,
         "ET_3.1_SEP_24.xlsx",
         "08/10/2024"
        ],
        [
         "Exports",
         "Exports_Crude Oil & NGLs",
         "201201",
         7595.11,
         "ET_3.1_SEP_24.xlsx",
         "08/10/2024"
        ],
        [
         "Exports",
         "Exports_Crude Oil & NGLs",
         "201202",
         7739.52,
         "ET_3.1_SEP_24.xlsx",
         "08/10/2024"
        ],
        [
         "Exports",
         "Exports_Crude Oil & NGLs",
         "201203",
         6792.28,
         "ET_3.1_SEP_24.xlsx",
         "08/10/2024"
        ],
        [
         "Exports",
         "Exports_Crude Oil & NGLs",
         "201204",
         7699.4,
         "ET_3.1_SEP_24.xlsx",
         "08/10/2024"
        ],
        [
         "Exports",
         "Exports_Crude Oil & NGLs",
         "201301",
         8289.61,
         "ET_3.1_SEP_24.xlsx",
         "08/10/2024"
        ],
        [
         "Exports",
         "Exports_Crude Oil & NGLs",
         "201302",
         8287.02,
         "ET_3.1_SEP_24.xlsx",
         "08/10/2024"
        ],
        [
         "Exports",
         "Exports_Crude Oil & NGLs",
         "201303",
         7028.12,
         "ET_3.1_SEP_24.xlsx",
         "08/10/2024"
        ],
        [
         "Exports",
         "Exports_Crude Oil & NGLs",
         "201304",
         8064.92,
         "ET_3.1_SEP_24.xlsx",
         "08/10/2024"
        ],
        [
         "Exports",
         "Exports_Crude Oil & NGLs",
         "201401",
         7780.47,
         "ET_3.1_SEP_24.xlsx",
         "08/10/2024"
        ],
        [
         "Exports",
         "Exports_Crude Oil & NGLs",
         "201402",
         7164.18,
         "ET_3.1_SEP_24.xlsx",
         "08/10/2024"
        ],
        [
         "Exports",
         "Exports_Crude Oil & NGLs",
         "201403",
         6633.57,
         "ET_3.1_SEP_24.xlsx",
         "08/10/2024"
        ],
        [
         "Exports",
         "Exports_Crude Oil & NGLs",
         "201404",
         8231.12,
         "ET_3.1_SEP_24.xlsx",
         "08/10/2024"
        ],
        [
         "Exports",
         "Exports_Crude Oil & NGLs",
         "201501",
         7611.76,
         "ET_3.1_SEP_24.xlsx",
         "08/10/2024"
        ],
        [
         "Exports",
         "Exports_Crude Oil & NGLs",
         "201502",
         8846.27,
         "ET_3.1_SEP_24.xlsx",
         "08/10/2024"
        ],
        [
         "Exports",
         "Exports_Crude Oil & NGLs",
         "201503",
         7278.66,
         "ET_3.1_SEP_24.xlsx",
         "08/10/2024"
        ],
        [
         "Exports",
         "Exports_Crude Oil & NGLs",
         "201504",
         8083.13,
         "ET_3.1_SEP_24.xlsx",
         "08/10/2024"
        ],
        [
         "Exports",
         "Exports_Crude Oil & NGLs",
         "201601",
         9459.82,
         "ET_3.1_SEP_24.xlsx",
         "08/10/2024"
        ],
        [
         "Exports",
         "Exports_Crude Oil & NGLs",
         "201602",
         7543.5,
         "ET_3.1_SEP_24.xlsx",
         "08/10/2024"
        ],
        [
         "Exports",
         "Exports_Crude Oil & NGLs",
         "201603",
         7930.83,
         "ET_3.1_SEP_24.xlsx",
         "08/10/2024"
        ],
        [
         "Exports",
         "Exports_Crude Oil & NGLs",
         "201604",
         8312.42,
         "ET_3.1_SEP_24.xlsx",
         "08/10/2024"
        ],
        [
         "Exports",
         "Exports_Crude Oil & NGLs",
         "201701",
         9470.19,
         "ET_3.1_SEP_24.xlsx",
         "08/10/2024"
        ],
        [
         "Exports",
         "Exports_Crude Oil & NGLs",
         "201702",
         9366.91,
         "ET_3.1_SEP_24.xlsx",
         "08/10/2024"
        ],
        [
         "Exports",
         "Exports_Crude Oil & NGLs",
         "201703",
         9194.89,
         "ET_3.1_SEP_24.xlsx",
         "08/10/2024"
        ],
        [
         "Exports",
         "Exports_Crude Oil & NGLs",
         "201704",
         8830.75,
         "ET_3.1_SEP_24.xlsx",
         "08/10/2024"
        ],
        [
         "Exports",
         "Exports_Crude Oil & NGLs",
         "201801",
         10625.92,
         "ET_3.1_SEP_24.xlsx",
         "08/10/2024"
        ],
        [
         "Exports",
         "Exports_Crude Oil & NGLs",
         "201802",
         10900.93,
         "ET_3.1_SEP_24.xlsx",
         "08/10/2024"
        ],
        [
         "Exports",
         "Exports_Crude Oil & NGLs",
         "201803",
         9666.29,
         "ET_3.1_SEP_24.xlsx",
         "08/10/2024"
        ],
        [
         "Exports",
         "Exports_Crude Oil & NGLs",
         "201804",
         11388.98,
         "ET_3.1_SEP_24.xlsx",
         "08/10/2024"
        ],
        [
         "Exports",
         "Exports_Crude Oil & NGLs",
         "201901",
         10860.25,
         "ET_3.1_SEP_24.xlsx",
         "08/10/2024"
        ],
        [
         "Exports",
         "Exports_Crude Oil & NGLs",
         "201902",
         11462.9,
         "ET_3.1_SEP_24.xlsx",
         "08/10/2024"
        ],
        [
         "Exports",
         "Exports_Crude Oil & NGLs",
         "201903",
         10368.97,
         "ET_3.1_SEP_24.xlsx",
         "08/10/2024"
        ],
        [
         "Exports",
         "Exports_Crude Oil & NGLs",
         "201904",
         10150.53,
         "ET_3.1_SEP_24.xlsx",
         "08/10/2024"
        ],
        [
         "Exports",
         "Exports_Crude Oil & NGLs",
         "202001",
         10030.98,
         "ET_3.1_SEP_24.xlsx",
         "08/10/2024"
        ],
        [
         "Exports",
         "Exports_Crude Oil & NGLs",
         "202002",
         9462.24,
         "ET_3.1_SEP_24.xlsx",
         "08/10/2024"
        ],
        [
         "Exports",
         "Exports_Crude Oil & NGLs",
         "202003",
         9408.09,
         "ET_3.1_SEP_24.xlsx",
         "08/10/2024"
        ],
        [
         "Exports",
         "Exports_Crude Oil & NGLs",
         "202004",
         9386.53,
         "ET_3.1_SEP_24.xlsx",
         "08/10/2024"
        ],
        [
         "Exports",
         "Exports_Crude Oil & NGLs",
         "202101",
         8938.88,
         "ET_3.1_SEP_24.xlsx",
         "08/10/2024"
        ],
        [
         "Exports",
         "Exports_Crude Oil & NGLs",
         "202102",
         7007.27,
         "ET_3.1_SEP_24.xlsx",
         "08/10/2024"
        ],
        [
         "Exports",
         "Exports_Crude Oil & NGLs",
         "202103",
         8095.42,
         "ET_3.1_SEP_24.xlsx",
         "08/10/2024"
        ],
        [
         "Exports",
         "Exports_Crude Oil & NGLs",
         "202104",
         8643.65,
         "ET_3.1_SEP_24.xlsx",
         "08/10/2024"
        ],
        [
         "Exports",
         "Exports_Crude Oil & NGLs",
         "202201",
         8147.79,
         "ET_3.1_SEP_24.xlsx",
         "08/10/2024"
        ],
        [
         "Exports",
         "Exports_Crude Oil & NGLs",
         "202202",
         6945.2,
         "ET_3.1_SEP_24.xlsx",
         "08/10/2024"
        ],
        [
         "Exports",
         "Exports_Crude Oil & NGLs",
         "202203",
         6205.05,
         "ET_3.1_SEP_24.xlsx",
         "08/10/2024"
        ],
        [
         "Exports",
         "Exports_Crude Oil & NGLs",
         "202204",
         7305.85,
         "ET_3.1_SEP_24.xlsx",
         "08/10/2024"
        ],
        [
         "Exports",
         "Exports_Crude Oil & NGLs",
         "202301",
         6973.89,
         "ET_3.1_SEP_24.xlsx",
         "08/10/2024"
        ],
        [
         "Exports",
         "Exports_Crude Oil & NGLs",
         "202302",
         5990.45,
         "ET_3.1_SEP_24.xlsx",
         "08/10/2024"
        ],
        [
         "Exports",
         "Exports_Crude Oil & NGLs",
         "202303",
         6127.05,
         "ET_3.1_SEP_24.xlsx",
         "08/10/2024"
        ],
        [
         "Exports",
         "Exports_Crude Oil & NGLs",
         "202304",
         6348.71,
         "ET_3.1_SEP_24.xlsx",
         "08/10/2024"
        ],
        [
         "Exports",
         "Exports_Crude Oil & NGLs",
         "202401",
         5965.67,
         "ET_3.1_SEP_24.xlsx",
         "08/10/2024"
        ],
        [
         "Exports",
         "Exports_Crude Oil & NGLs",
         "202402",
         6243.02,
         "ET_3.1_SEP_24.xlsx",
         "08/10/2024"
        ],
        [
         "Exports",
         "Exports_Feedstocks",
         "199901",
         852.66,
         "ET_3.1_SEP_24.xlsx",
         "08/10/2024"
        ],
        [
         "Exports",
         "Exports_Feedstocks",
         "199902",
         582.97,
         "ET_3.1_SEP_24.xlsx",
         "08/10/2024"
        ],
        [
         "Exports",
         "Exports_Feedstocks",
         "199903",
         635.45,
         "ET_3.1_SEP_24.xlsx",
         "08/10/2024"
        ],
        [
         "Exports",
         "Exports_Feedstocks",
         "199904",
         803.92,
         "ET_3.1_SEP_24.xlsx",
         "08/10/2024"
        ],
        [
         "Exports",
         "Exports_Feedstocks",
         "200001",
         657.68,
         "ET_3.1_SEP_24.xlsx",
         "08/10/2024"
        ],
        [
         "Exports",
         "Exports_Feedstocks",
         "200002",
         670.53,
         "ET_3.1_SEP_24.xlsx",
         "08/10/2024"
        ],
        [
         "Exports",
         "Exports_Feedstocks",
         "200003",
         696.45,
         "ET_3.1_SEP_24.xlsx",
         "08/10/2024"
        ],
        [
         "Exports",
         "Exports_Feedstocks",
         "200004",
         811.16,
         "ET_3.1_SEP_24.xlsx",
         "08/10/2024"
        ],
        [
         "Exports",
         "Exports_Feedstocks",
         "200101",
         721.75,
         "ET_3.1_SEP_24.xlsx",
         "08/10/2024"
        ],
        [
         "Exports",
         "Exports_Feedstocks",
         "200102",
         658.39,
         "ET_3.1_SEP_24.xlsx",
         "08/10/2024"
        ],
        [
         "Exports",
         "Exports_Feedstocks",
         "200103",
         503.44,
         "ET_3.1_SEP_24.xlsx",
         "08/10/2024"
        ],
        [
         "Exports",
         "Exports_Feedstocks",
         "200104",
         605.42,
         "ET_3.1_SEP_24.xlsx",
         "08/10/2024"
        ],
        [
         "Exports",
         "Exports_Feedstocks",
         "200201",
         390.56,
         "ET_3.1_SEP_24.xlsx",
         "08/10/2024"
        ],
        [
         "Exports",
         "Exports_Feedstocks",
         "200202",
         579.3,
         "ET_3.1_SEP_24.xlsx",
         "08/10/2024"
        ],
        [
         "Exports",
         "Exports_Feedstocks",
         "200203",
         613.37,
         "ET_3.1_SEP_24.xlsx",
         "08/10/2024"
        ],
        [
         "Exports",
         "Exports_Feedstocks",
         "200204",
         532.38,
         "ET_3.1_SEP_24.xlsx",
         "08/10/2024"
        ],
        [
         "Exports",
         "Exports_Feedstocks",
         "200301",
         560.88,
         "ET_3.1_SEP_24.xlsx",
         "08/10/2024"
        ],
        [
         "Exports",
         "Exports_Feedstocks",
         "200302",
         629.33,
         "ET_3.1_SEP_24.xlsx",
         "08/10/2024"
        ],
        [
         "Exports",
         "Exports_Feedstocks",
         "200303",
         687.73,
         "ET_3.1_SEP_24.xlsx",
         "08/10/2024"
        ],
        [
         "Exports",
         "Exports_Feedstocks",
         "200304",
         493.63,
         "ET_3.1_SEP_24.xlsx",
         "08/10/2024"
        ],
        [
         "Exports",
         "Exports_Feedstocks",
         "200401",
         384.51,
         "ET_3.1_SEP_24.xlsx",
         "08/10/2024"
        ],
        [
         "Exports",
         "Exports_Feedstocks",
         "200402",
         231.53,
         "ET_3.1_SEP_24.xlsx",
         "08/10/2024"
        ],
        [
         "Exports",
         "Exports_Feedstocks",
         "200403",
         281.57,
         "ET_3.1_SEP_24.xlsx",
         "08/10/2024"
        ],
        [
         "Exports",
         "Exports_Feedstocks",
         "200404",
         193.56,
         "ET_3.1_SEP_24.xlsx",
         "08/10/2024"
        ],
        [
         "Exports",
         "Exports_Feedstocks",
         "200501",
         507.73,
         "ET_3.1_SEP_24.xlsx",
         "08/10/2024"
        ],
        [
         "Exports",
         "Exports_Feedstocks",
         "200502",
         306.35,
         "ET_3.1_SEP_24.xlsx",
         "08/10/2024"
        ],
        [
         "Exports",
         "Exports_Feedstocks",
         "200503",
         504.27,
         "ET_3.1_SEP_24.xlsx",
         "08/10/2024"
        ],
        [
         "Exports",
         "Exports_Feedstocks",
         "200504",
         673.46,
         "ET_3.1_SEP_24.xlsx",
         "08/10/2024"
        ],
        [
         "Exports",
         "Exports_Feedstocks",
         "200601",
         576.01,
         "ET_3.1_SEP_24.xlsx",
         "08/10/2024"
        ],
        [
         "Exports",
         "Exports_Feedstocks",
         "200602",
         823.66,
         "ET_3.1_SEP_24.xlsx",
         "08/10/2024"
        ],
        [
         "Exports",
         "Exports_Feedstocks",
         "200603",
         579.6,
         "ET_3.1_SEP_24.xlsx",
         "08/10/2024"
        ],
        [
         "Exports",
         "Exports_Feedstocks",
         "200604",
         663.92,
         "ET_3.1_SEP_24.xlsx",
         "08/10/2024"
        ],
        [
         "Exports",
         "Exports_Feedstocks",
         "200701",
         784.31,
         "ET_3.1_SEP_24.xlsx",
         "08/10/2024"
        ],
        [
         "Exports",
         "Exports_Feedstocks",
         "200702",
         704.04,
         "ET_3.1_SEP_24.xlsx",
         "08/10/2024"
        ],
        [
         "Exports",
         "Exports_Feedstocks",
         "200703",
         778.94,
         "ET_3.1_SEP_24.xlsx",
         "08/10/2024"
        ],
        [
         "Exports",
         "Exports_Feedstocks",
         "200704",
         1019.44,
         "ET_3.1_SEP_24.xlsx",
         "08/10/2024"
        ],
        [
         "Exports",
         "Exports_Feedstocks",
         "200801",
         855.83,
         "ET_3.1_SEP_24.xlsx",
         "08/10/2024"
        ],
        [
         "Exports",
         "Exports_Feedstocks",
         "200802",
         841.31,
         "ET_3.1_SEP_24.xlsx",
         "08/10/2024"
        ],
        [
         "Exports",
         "Exports_Feedstocks",
         "200803",
         1122.9,
         "ET_3.1_SEP_24.xlsx",
         "08/10/2024"
        ],
        [
         "Exports",
         "Exports_Feedstocks",
         "200804",
         1037.91,
         "ET_3.1_SEP_24.xlsx",
         "08/10/2024"
        ],
        [
         "Exports",
         "Exports_Feedstocks",
         "200901",
         736.45,
         "ET_3.1_SEP_24.xlsx",
         "08/10/2024"
        ],
        [
         "Exports",
         "Exports_Feedstocks",
         "200902",
         597.18,
         "ET_3.1_SEP_24.xlsx",
         "08/10/2024"
        ],
        [
         "Exports",
         "Exports_Feedstocks",
         "200903",
         1101.82,
         "ET_3.1_SEP_24.xlsx",
         "08/10/2024"
        ],
        [
         "Exports",
         "Exports_Feedstocks",
         "200904",
         1205.63,
         "ET_3.1_SEP_24.xlsx",
         "08/10/2024"
        ],
        [
         "Exports",
         "Exports_Feedstocks",
         "201001",
         699.58,
         "ET_3.1_SEP_24.xlsx",
         "08/10/2024"
        ],
        [
         "Exports",
         "Exports_Feedstocks",
         "201002",
         823.06,
         "ET_3.1_SEP_24.xlsx",
         "08/10/2024"
        ],
        [
         "Exports",
         "Exports_Feedstocks",
         "201003",
         702.68,
         "ET_3.1_SEP_24.xlsx",
         "08/10/2024"
        ],
        [
         "Exports",
         "Exports_Feedstocks",
         "201004",
         731.69,
         "ET_3.1_SEP_24.xlsx",
         "08/10/2024"
        ],
        [
         "Exports",
         "Exports_Feedstocks",
         "201101",
         962.51,
         "ET_3.1_SEP_24.xlsx",
         "08/10/2024"
        ],
        [
         "Exports",
         "Exports_Feedstocks",
         "201102",
         943.17,
         "ET_3.1_SEP_24.xlsx",
         "08/10/2024"
        ],
        [
         "Exports",
         "Exports_Feedstocks",
         "201103",
         1071.13,
         "ET_3.1_SEP_24.xlsx",
         "08/10/2024"
        ],
        [
         "Exports",
         "Exports_Feedstocks",
         "201104",
         931.48,
         "ET_3.1_SEP_24.xlsx",
         "08/10/2024"
        ],
        [
         "Exports",
         "Exports_Feedstocks",
         "201201",
         331.85,
         "ET_3.1_SEP_24.xlsx",
         "08/10/2024"
        ],
        [
         "Exports",
         "Exports_Feedstocks",
         "201202",
         237.11,
         "ET_3.1_SEP_24.xlsx",
         "08/10/2024"
        ],
        [
         "Exports",
         "Exports_Feedstocks",
         "201203",
         343.67,
         "ET_3.1_SEP_24.xlsx",
         "08/10/2024"
        ],
        [
         "Exports",
         "Exports_Feedstocks",
         "201204",
         207.29,
         "ET_3.1_SEP_24.xlsx",
         "08/10/2024"
        ],
        [
         "Exports",
         "Exports_Feedstocks",
         "201301",
         395.98,
         "ET_3.1_SEP_24.xlsx",
         "08/10/2024"
        ],
        [
         "Exports",
         "Exports_Feedstocks",
         "201302",
         362.38,
         "ET_3.1_SEP_24.xlsx",
         "08/10/2024"
        ],
        [
         "Exports",
         "Exports_Feedstocks",
         "201303",
         423.93,
         "ET_3.1_SEP_24.xlsx",
         "08/10/2024"
        ],
        [
         "Exports",
         "Exports_Feedstocks",
         "201304",
         253.22,
         "ET_3.1_SEP_24.xlsx",
         "08/10/2024"
        ],
        [
         "Exports",
         "Exports_Feedstocks",
         "201401",
         220.71,
         "ET_3.1_SEP_24.xlsx",
         "08/10/2024"
        ],
        [
         "Exports",
         "Exports_Feedstocks",
         "201402",
         282.27,
         "ET_3.1_SEP_24.xlsx",
         "08/10/2024"
        ],
        [
         "Exports",
         "Exports_Feedstocks",
         "201403",
         272.63,
         "ET_3.1_SEP_24.xlsx",
         "08/10/2024"
        ],
        [
         "Exports",
         "Exports_Feedstocks",
         "201404",
         283.95,
         "ET_3.1_SEP_24.xlsx",
         "08/10/2024"
        ],
        [
         "Exports",
         "Exports_Feedstocks",
         "201501",
         484.11,
         "ET_3.1_SEP_24.xlsx",
         "08/10/2024"
        ],
        [
         "Exports",
         "Exports_Feedstocks",
         "201502",
         462.84,
         "ET_3.1_SEP_24.xlsx",
         "08/10/2024"
        ],
        [
         "Exports",
         "Exports_Feedstocks",
         "201503",
         629.6,
         "ET_3.1_SEP_24.xlsx",
         "08/10/2024"
        ],
        [
         "Exports",
         "Exports_Feedstocks",
         "201504",
         313.06,
         "ET_3.1_SEP_24.xlsx",
         "08/10/2024"
        ],
        [
         "Exports",
         "Exports_Feedstocks",
         "201601",
         630.12,
         "ET_3.1_SEP_24.xlsx",
         "08/10/2024"
        ],
        [
         "Exports",
         "Exports_Feedstocks",
         "201602",
         432.62,
         "ET_3.1_SEP_24.xlsx",
         "08/10/2024"
        ],
        [
         "Exports",
         "Exports_Feedstocks",
         "201603",
         293.74,
         "ET_3.1_SEP_24.xlsx",
         "08/10/2024"
        ],
        [
         "Exports",
         "Exports_Feedstocks",
         "201604",
         252.73,
         "ET_3.1_SEP_24.xlsx",
         "08/10/2024"
        ],
        [
         "Exports",
         "Exports_Feedstocks",
         "201701",
         353.36,
         "ET_3.1_SEP_24.xlsx",
         "08/10/2024"
        ],
        [
         "Exports",
         "Exports_Feedstocks",
         "201702",
         325.39,
         "ET_3.1_SEP_24.xlsx",
         "08/10/2024"
        ],
        [
         "Exports",
         "Exports_Feedstocks",
         "201703",
         440.93,
         "ET_3.1_SEP_24.xlsx",
         "08/10/2024"
        ],
        [
         "Exports",
         "Exports_Feedstocks",
         "201704",
         336.42,
         "ET_3.1_SEP_24.xlsx",
         "08/10/2024"
        ],
        [
         "Exports",
         "Exports_Feedstocks",
         "201801",
         242.09,
         "ET_3.1_SEP_24.xlsx",
         "08/10/2024"
        ],
        [
         "Exports",
         "Exports_Feedstocks",
         "201802",
         475.6,
         "ET_3.1_SEP_24.xlsx",
         "08/10/2024"
        ],
        [
         "Exports",
         "Exports_Feedstocks",
         "201803",
         446.75,
         "ET_3.1_SEP_24.xlsx",
         "08/10/2024"
        ],
        [
         "Exports",
         "Exports_Feedstocks",
         "201804",
         761.35,
         "ET_3.1_SEP_24.xlsx",
         "08/10/2024"
        ],
        [
         "Exports",
         "Exports_Feedstocks",
         "201901",
         326.7,
         "ET_3.1_SEP_24.xlsx",
         "08/10/2024"
        ],
        [
         "Exports",
         "Exports_Feedstocks",
         "201902",
         544.49,
         "ET_3.1_SEP_24.xlsx",
         "08/10/2024"
        ],
        [
         "Exports",
         "Exports_Feedstocks",
         "201903",
         678.19,
         "ET_3.1_SEP_24.xlsx",
         "08/10/2024"
        ],
        [
         "Exports",
         "Exports_Feedstocks",
         "201904",
         547.36,
         "ET_3.1_SEP_24.xlsx",
         "08/10/2024"
        ],
        [
         "Exports",
         "Exports_Feedstocks",
         "202001",
         649.14,
         "ET_3.1_SEP_24.xlsx",
         "08/10/2024"
        ],
        [
         "Exports",
         "Exports_Feedstocks",
         "202002",
         487.08,
         "ET_3.1_SEP_24.xlsx",
         "08/10/2024"
        ],
        [
         "Exports",
         "Exports_Feedstocks",
         "202003",
         237.02,
         "ET_3.1_SEP_24.xlsx",
         "08/10/2024"
        ],
        [
         "Exports",
         "Exports_Feedstocks",
         "202004",
         195.5,
         "ET_3.1_SEP_24.xlsx",
         "08/10/2024"
        ],
        [
         "Exports",
         "Exports_Feedstocks",
         "202101",
         305.72,
         "ET_3.1_SEP_24.xlsx",
         "08/10/2024"
        ],
        [
         "Exports",
         "Exports_Feedstocks",
         "202102",
         541.94,
         "ET_3.1_SEP_24.xlsx",
         "08/10/2024"
        ],
        [
         "Exports",
         "Exports_Feedstocks",
         "202103",
         363.44,
         "ET_3.1_SEP_24.xlsx",
         "08/10/2024"
        ],
        [
         "Exports",
         "Exports_Feedstocks",
         "202104",
         585.18,
         "ET_3.1_SEP_24.xlsx",
         "08/10/2024"
        ],
        [
         "Exports",
         "Exports_Feedstocks",
         "202201",
         480.17,
         "ET_3.1_SEP_24.xlsx",
         "08/10/2024"
        ],
        [
         "Exports",
         "Exports_Feedstocks",
         "202202",
         409.78,
         "ET_3.1_SEP_24.xlsx",
         "08/10/2024"
        ],
        [
         "Exports",
         "Exports_Feedstocks",
         "202203",
         438.93,
         "ET_3.1_SEP_24.xlsx",
         "08/10/2024"
        ],
        [
         "Exports",
         "Exports_Feedstocks",
         "202204",
         995.99,
         "ET_3.1_SEP_24.xlsx",
         "08/10/2024"
        ],
        [
         "Exports",
         "Exports_Feedstocks",
         "202301",
         343.92,
         "ET_3.1_SEP_24.xlsx",
         "08/10/2024"
        ],
        [
         "Exports",
         "Exports_Feedstocks",
         "202302",
         672.67,
         "ET_3.1_SEP_24.xlsx",
         "08/10/2024"
        ],
        [
         "Exports",
         "Exports_Feedstocks",
         "202303",
         676.29,
         "ET_3.1_SEP_24.xlsx",
         "08/10/2024"
        ],
        [
         "Exports",
         "Exports_Feedstocks",
         "202304",
         520.99,
         "ET_3.1_SEP_24.xlsx",
         "08/10/2024"
        ],
        [
         "Exports",
         "Exports_Feedstocks",
         "202401",
         384.36,
         "ET_3.1_SEP_24.xlsx",
         "08/10/2024"
        ],
        [
         "Exports",
         "Exports_Feedstocks",
         "202402",
         698.33,
         "ET_3.1_SEP_24.xlsx",
         "08/10/2024"
        ],
        [
         "Stock change",
         "Stock change",
         "199901",
         238.41,
         "ET_3.1_SEP_24.xlsx",
         "08/10/2024"
        ],
        [
         "Stock change",
         "Stock change",
         "199902",
         460.68,
         "ET_3.1_SEP_24.xlsx",
         "08/10/2024"
        ],
        [
         "Stock change",
         "Stock change",
         "199903",
         -427.93,
         "ET_3.1_SEP_24.xlsx",
         "08/10/2024"
        ],
        [
         "Stock change",
         "Stock change",
         "199904",
         -468.72,
         "ET_3.1_SEP_24.xlsx",
         "08/10/2024"
        ],
        [
         "Stock change",
         "Stock change",
         "200001",
         5.83,
         "ET_3.1_SEP_24.xlsx",
         "08/10/2024"
        ],
        [
         "Stock change",
         "Stock change",
         "200002",
         850.66,
         "ET_3.1_SEP_24.xlsx",
         "08/10/2024"
        ],
        [
         "Stock change",
         "Stock change",
         "200003",
         -264.86,
         "ET_3.1_SEP_24.xlsx",
         "08/10/2024"
        ],
        [
         "Stock change",
         "Stock change",
         "200004",
         506.39,
         "ET_3.1_SEP_24.xlsx",
         "08/10/2024"
        ],
        [
         "Stock change",
         "Stock change",
         "200101",
         -628.05,
         "ET_3.1_SEP_24.xlsx",
         "08/10/2024"
        ],
        [
         "Stock change",
         "Stock change",
         "200102",
         674.24,
         "ET_3.1_SEP_24.xlsx",
         "08/10/2024"
        ],
        [
         "Stock change",
         "Stock change",
         "200103",
         139.78,
         "ET_3.1_SEP_24.xlsx",
         "08/10/2024"
        ],
        [
         "Stock change",
         "Stock change",
         "200104",
         -800.3,
         "ET_3.1_SEP_24.xlsx",
         "08/10/2024"
        ],
        [
         "Stock change",
         "Stock change",
         "200201",
         389.16,
         "ET_3.1_SEP_24.xlsx",
         "08/10/2024"
        ],
        [
         "Stock change",
         "Stock change",
         "200202",
         -744.24,
         "ET_3.1_SEP_24.xlsx",
         "08/10/2024"
        ],
        [
         "Stock change",
         "Stock change",
         "200203",
         708.02,
         "ET_3.1_SEP_24.xlsx",
         "08/10/2024"
        ],
        [
         "Stock change",
         "Stock change",
         "200204",
         -210.33,
         "ET_3.1_SEP_24.xlsx",
         "08/10/2024"
        ],
        [
         "Stock change",
         "Stock change",
         "200301",
         -370.67,
         "ET_3.1_SEP_24.xlsx",
         "08/10/2024"
        ],
        [
         "Stock change",
         "Stock change",
         "200302",
         771.85,
         "ET_3.1_SEP_24.xlsx",
         "08/10/2024"
        ],
        [
         "Stock change",
         "Stock change",
         "200303",
         358.14,
         "ET_3.1_SEP_24.xlsx",
         "08/10/2024"
        ],
        [
         "Stock change",
         "Stock change",
         "200304",
         -290.11,
         "ET_3.1_SEP_24.xlsx",
         "08/10/2024"
        ],
        [
         "Stock change",
         "Stock change",
         "200401",
         -381.21,
         "ET_3.1_SEP_24.xlsx",
         "08/10/2024"
        ],
        [
         "Stock change",
         "Stock change",
         "200402",
         -335.41,
         "ET_3.1_SEP_24.xlsx",
         "08/10/2024"
        ],
        [
         "Stock change",
         "Stock change",
         "200403",
         254.59,
         "ET_3.1_SEP_24.xlsx",
         "08/10/2024"
        ],
        [
         "Stock change",
         "Stock change",
         "200404",
         328.76,
         "ET_3.1_SEP_24.xlsx",
         "08/10/2024"
        ],
        [
         "Stock change",
         "Stock change",
         "200501",
         -329.36,
         "ET_3.1_SEP_24.xlsx",
         "08/10/2024"
        ],
        [
         "Stock change",
         "Stock change",
         "200502",
         -376.13,
         "ET_3.1_SEP_24.xlsx",
         "08/10/2024"
        ],
        [
         "Stock change",
         "Stock change",
         "200503",
         -245.75,
         "ET_3.1_SEP_24.xlsx",
         "08/10/2024"
        ],
        [
         "Stock change",
         "Stock change",
         "200504",
         566.66,
         "ET_3.1_SEP_24.xlsx",
         "08/10/2024"
        ],
        [
         "Stock change",
         "Stock change",
         "200601",
         -593.46,
         "ET_3.1_SEP_24.xlsx",
         "08/10/2024"
        ],
        [
         "Stock change",
         "Stock change",
         "200602",
         9.54,
         "ET_3.1_SEP_24.xlsx",
         "08/10/2024"
        ],
        [
         "Stock change",
         "Stock change",
         "200603",
         897.72,
         "ET_3.1_SEP_24.xlsx",
         "08/10/2024"
        ],
        [
         "Stock change",
         "Stock change",
         "200604",
         -669.1,
         "ET_3.1_SEP_24.xlsx",
         "08/10/2024"
        ],
        [
         "Stock change",
         "Stock change",
         "200701",
         -850.3,
         "ET_3.1_SEP_24.xlsx",
         "08/10/2024"
        ],
        [
         "Stock change",
         "Stock change",
         "200702",
         896.77,
         "ET_3.1_SEP_24.xlsx",
         "08/10/2024"
        ],
        [
         "Stock change",
         "Stock change",
         "200703",
         777.42,
         "ET_3.1_SEP_24.xlsx",
         "08/10/2024"
        ],
        [
         "Stock change",
         "Stock change",
         "200704",
         -39.97,
         "ET_3.1_SEP_24.xlsx",
         "08/10/2024"
        ],
        [
         "Stock change",
         "Stock change",
         "200801",
         -599.37,
         "ET_3.1_SEP_24.xlsx",
         "08/10/2024"
        ],
        [
         "Stock change",
         "Stock change",
         "200802",
         -106.68,
         "ET_3.1_SEP_24.xlsx",
         "08/10/2024"
        ],
        [
         "Stock change",
         "Stock change",
         "200803",
         612.77,
         "ET_3.1_SEP_24.xlsx",
         "08/10/2024"
        ],
        [
         "Stock change",
         "Stock change",
         "200804",
         156.34,
         "ET_3.1_SEP_24.xlsx",
         "08/10/2024"
        ],
        [
         "Stock change",
         "Stock change",
         "200901",
         -165.62,
         "ET_3.1_SEP_24.xlsx",
         "08/10/2024"
        ],
        [
         "Stock change",
         "Stock change",
         "200902",
         478.44,
         "ET_3.1_SEP_24.xlsx",
         "08/10/2024"
        ],
        [
         "Stock change",
         "Stock change",
         "200903",
         31.21,
         "ET_3.1_SEP_24.xlsx",
         "08/10/2024"
        ],
        [
         "Stock change",
         "Stock change",
         "200904",
         201.31,
         "ET_3.1_SEP_24.xlsx",
         "08/10/2024"
        ],
        [
         "Stock change",
         "Stock change",
         "201001",
         -95.45,
         "ET_3.1_SEP_24.xlsx",
         "08/10/2024"
        ],
        [
         "Stock change",
         "Stock change",
         "201002",
         -553.42,
         "ET_3.1_SEP_24.xlsx",
         "08/10/2024"
        ],
        [
         "Stock change",
         "Stock change",
         "201003",
         184.01,
         "ET_3.1_SEP_24.xlsx",
         "08/10/2024"
        ],
        [
         "Stock change",
         "Stock change",
         "201004",
         425.85,
         "ET_3.1_SEP_24.xlsx",
         "08/10/2024"
        ],
        [
         "Stock change",
         "Stock change",
         "201101",
         -653.75,
         "ET_3.1_SEP_24.xlsx",
         "08/10/2024"
        ],
        [
         "Stock change",
         "Stock change",
         "201102",
         814.59,
         "ET_3.1_SEP_24.xlsx",
         "08/10/2024"
        ],
        [
         "Stock change",
         "Stock change",
         "201103",
         364.7,
         "ET_3.1_SEP_24.xlsx",
         "08/10/2024"
        ],
        [
         "Stock change",
         "Stock change",
         "201104",
         85.13,
         "ET_3.1_SEP_24.xlsx",
         "08/10/2024"
        ],
        [
         "Stock change",
         "Stock change",
         "201201",
         -196.83,
         "ET_3.1_SEP_24.xlsx",
         "08/10/2024"
        ],
        [
         "Stock change",
         "Stock change",
         "201202",
         -223.07,
         "ET_3.1_SEP_24.xlsx",
         "08/10/2024"
        ],
        [
         "Stock change",
         "Stock change",
         "201203",
         673.06,
         "ET_3.1_SEP_24.xlsx",
         "08/10/2024"
        ],
        [
         "Stock change",
         "Stock change",
         "201204",
         -739.55,
         "ET_3.1_SEP_24.xlsx",
         "08/10/2024"
        ],
        [
         "Stock change",
         "Stock change",
         "201301",
         555.45,
         "ET_3.1_SEP_24.xlsx",
         "08/10/2024"
        ],
        [
         "Stock change",
         "Stock change",
         "201302",
         -222.44,
         "ET_3.1_SEP_24.xlsx",
         "08/10/2024"
        ],
        [
         "Stock change",
         "Stock change",
         "201303",
         615.45,
         "ET_3.1_SEP_24.xlsx",
         "08/10/2024"
        ],
        [
         "Stock change",
         "Stock change",
         "201304",
         -224.48,
         "ET_3.1_SEP_24.xlsx",
         "08/10/2024"
        ],
        [
         "Stock change",
         "Stock change",
         "201401",
         -288.03,
         "ET_3.1_SEP_24.xlsx",
         "08/10/2024"
        ],
        [
         "Stock change",
         "Stock change",
         "201402",
         63.03,
         "ET_3.1_SEP_24.xlsx",
         "08/10/2024"
        ],
        [
         "Stock change",
         "Stock change",
         "201403",
         198.87,
         "ET_3.1_SEP_24.xlsx",
         "08/10/2024"
        ],
        [
         "Stock change",
         "Stock change",
         "201404",
         -565.7,
         "ET_3.1_SEP_24.xlsx",
         "08/10/2024"
        ],
        [
         "Stock change",
         "Stock change",
         "201501",
         -58.85,
         "ET_3.1_SEP_24.xlsx",
         "08/10/2024"
        ],
        [
         "Stock change",
         "Stock change",
         "201502",
         -384.1,
         "ET_3.1_SEP_24.xlsx",
         "08/10/2024"
        ],
        [
         "Stock change",
         "Stock change",
         "201503",
         970.49,
         "ET_3.1_SEP_24.xlsx",
         "08/10/2024"
        ],
        [
         "Stock change",
         "Stock change",
         "201504",
         -625.66,
         "ET_3.1_SEP_24.xlsx",
         "08/10/2024"
        ],
        [
         "Stock change",
         "Stock change",
         "201601",
         355.08,
         "ET_3.1_SEP_24.xlsx",
         "08/10/2024"
        ],
        [
         "Stock change",
         "Stock change",
         "201602",
         -492.45,
         "ET_3.1_SEP_24.xlsx",
         "08/10/2024"
        ],
        [
         "Stock change",
         "Stock change",
         "201603",
         95.31,
         "ET_3.1_SEP_24.xlsx",
         "08/10/2024"
        ],
        [
         "Stock change",
         "Stock change",
         "201604",
         -82.7,
         "ET_3.1_SEP_24.xlsx",
         "08/10/2024"
        ],
        [
         "Stock change",
         "Stock change",
         "201701",
         413.66,
         "ET_3.1_SEP_24.xlsx",
         "08/10/2024"
        ],
        [
         "Stock change",
         "Stock change",
         "201702",
         -93.66,
         "ET_3.1_SEP_24.xlsx",
         "08/10/2024"
        ],
        [
         "Stock change",
         "Stock change",
         "201703",
         191.42,
         "ET_3.1_SEP_24.xlsx",
         "08/10/2024"
        ],
        [
         "Stock change",
         "Stock change",
         "201704",
         -181.46,
         "ET_3.1_SEP_24.xlsx",
         "08/10/2024"
        ],
        [
         "Stock change",
         "Stock change",
         "201801",
         174.62,
         "ET_3.1_SEP_24.xlsx",
         "08/10/2024"
        ],
        [
         "Stock change",
         "Stock change",
         "201802",
         -930.78,
         "ET_3.1_SEP_24.xlsx",
         "08/10/2024"
        ],
        [
         "Stock change",
         "Stock change",
         "201803",
         800.59,
         "ET_3.1_SEP_24.xlsx",
         "08/10/2024"
        ],
        [
         "Stock change",
         "Stock change",
         "201804",
         94.35,
         "ET_3.1_SEP_24.xlsx",
         "08/10/2024"
        ],
        [
         "Stock change",
         "Stock change",
         "201901",
         -564.6,
         "ET_3.1_SEP_24.xlsx",
         "08/10/2024"
        ],
        [
         "Stock change",
         "Stock change",
         "201902",
         4.79,
         "ET_3.1_SEP_24.xlsx",
         "08/10/2024"
        ],
        [
         "Stock change",
         "Stock change",
         "201903",
         635.76,
         "ET_3.1_SEP_24.xlsx",
         "08/10/2024"
        ],
        [
         "Stock change",
         "Stock change",
         "201904",
         -166.82,
         "ET_3.1_SEP_24.xlsx",
         "08/10/2024"
        ],
        [
         "Stock change",
         "Stock change",
         "202001",
         -49.61,
         "ET_3.1_SEP_24.xlsx",
         "08/10/2024"
        ],
        [
         "Stock change",
         "Stock change",
         "202002",
         -422.12,
         "ET_3.1_SEP_24.xlsx",
         "08/10/2024"
        ],
        [
         "Stock change",
         "Stock change",
         "202003",
         608.22,
         "ET_3.1_SEP_24.xlsx",
         "08/10/2024"
        ],
        [
         "Stock change",
         "Stock change",
         "202004",
         25.76,
         "ET_3.1_SEP_24.xlsx",
         "08/10/2024"
        ],
        [
         "Stock change",
         "Stock change",
         "202101",
         136.73,
         "ET_3.1_SEP_24.xlsx",
         "08/10/2024"
        ],
        [
         "Stock change",
         "Stock change",
         "202102",
         -142.91,
         "ET_3.1_SEP_24.xlsx",
         "08/10/2024"
        ],
        [
         "Stock change",
         "Stock change",
         "202103",
         312.58,
         "ET_3.1_SEP_24.xlsx",
         "08/10/2024"
        ],
        [
         "Stock change",
         "Stock change",
         "202104",
         -158.78,
         "ET_3.1_SEP_24.xlsx",
         "08/10/2024"
        ],
        [
         "Stock change",
         "Stock change",
         "202201",
         2.41,
         "ET_3.1_SEP_24.xlsx",
         "08/10/2024"
        ],
        [
         "Stock change",
         "Stock change",
         "202202",
         423.56,
         "ET_3.1_SEP_24.xlsx",
         "08/10/2024"
        ],
        [
         "Stock change",
         "Stock change",
         "202203",
         -627.44,
         "ET_3.1_SEP_24.xlsx",
         "08/10/2024"
        ],
        [
         "Stock change",
         "Stock change",
         "202204",
         615.25,
         "ET_3.1_SEP_24.xlsx",
         "08/10/2024"
        ],
        [
         "Stock change",
         "Stock change",
         "202301",
         -311.04,
         "ET_3.1_SEP_24.xlsx",
         "08/10/2024"
        ],
        [
         "Stock change",
         "Stock change",
         "202302",
         17.03,
         "ET_3.1_SEP_24.xlsx",
         "08/10/2024"
        ],
        [
         "Stock change",
         "Stock change",
         "202303",
         -165.9,
         "ET_3.1_SEP_24.xlsx",
         "08/10/2024"
        ],
        [
         "Stock change",
         "Stock change",
         "202304",
         -248.39,
         "ET_3.1_SEP_24.xlsx",
         "08/10/2024"
        ],
        [
         "Stock change",
         "Stock change",
         "202401",
         126.91,
         "ET_3.1_SEP_24.xlsx",
         "08/10/2024"
        ],
        [
         "Stock change",
         "Stock change",
         "202402",
         -47.53,
         "ET_3.1_SEP_24.xlsx",
         "08/10/2024"
        ],
        [
         "Transfers",
         "Transfers",
         "199901",
         -369.87,
         "ET_3.1_SEP_24.xlsx",
         "08/10/2024"
        ],
        [
         "Transfers",
         "Transfers",
         "199902",
         -472.96,
         "ET_3.1_SEP_24.xlsx",
         "08/10/2024"
        ],
        [
         "Transfers",
         "Transfers",
         "199903",
         -207.64,
         "ET_3.1_SEP_24.xlsx",
         "08/10/2024"
        ],
        [
         "Transfers",
         "Transfers",
         "199904",
         -167.53,
         "ET_3.1_SEP_24.xlsx",
         "08/10/2024"
        ],
        [
         "Transfers",
         "Transfers",
         "200001",
         -76.22,
         "ET_3.1_SEP_24.xlsx",
         "08/10/2024"
        ],
        [
         "Transfers",
         "Transfers",
         "200002",
         48.68,
         "ET_3.1_SEP_24.xlsx",
         "08/10/2024"
        ],
        [
         "Transfers",
         "Transfers",
         "200003",
         -26.36,
         "ET_3.1_SEP_24.xlsx",
         "08/10/2024"
        ],
        [
         "Transfers",
         "Transfers",
         "200004",
         163.49,
         "ET_3.1_SEP_24.xlsx",
         "08/10/2024"
        ],
        [
         "Transfers",
         "Transfers",
         "200101",
         655.33,
         "ET_3.1_SEP_24.xlsx",
         "08/10/2024"
        ],
        [
         "Transfers",
         "Transfers",
         "200102",
         78.98,
         "ET_3.1_SEP_24.xlsx",
         "08/10/2024"
        ],
        [
         "Transfers",
         "Transfers",
         "200103",
         8.72,
         "ET_3.1_SEP_24.xlsx",
         "08/10/2024"
        ],
        [
         "Transfers",
         "Transfers",
         "200104",
         9.65,
         "ET_3.1_SEP_24.xlsx",
         "08/10/2024"
        ],
        [
         "Transfers",
         "Transfers",
         "200201",
         -427.3,
         "ET_3.1_SEP_24.xlsx",
         "08/10/2024"
        ],
        [
         "Transfers",
         "Transfers",
         "200202",
         -305.05,
         "ET_3.1_SEP_24.xlsx",
         "08/10/2024"
        ],
        [
         "Transfers",
         "Transfers",
         "200203",
         -453.17,
         "ET_3.1_SEP_24.xlsx",
         "08/10/2024"
        ],
        [
         "Transfers",
         "Transfers",
         "200204",
         -369.78,
         "ET_3.1_SEP_24.xlsx",
         "08/10/2024"
        ],
        [
         "Transfers",
         "Transfers",
         "200301",
         -307.76,
         "ET_3.1_SEP_24.xlsx",
         "08/10/2024"
        ],
        [
         "Transfers",
         "Transfers",
         "200302",
         -322.44,
         "ET_3.1_SEP_24.xlsx",
         "08/10/2024"
        ],
        [
         "Transfers",
         "Transfers",
         "200303",
         -51.82,
         "ET_3.1_SEP_24.xlsx",
         "08/10/2024"
        ],
        [
         "Transfers",
         "Transfers",
         "200304",
         -325.61,
         "ET_3.1_SEP_24.xlsx",
         "08/10/2024"
        ],
        [
         "Transfers",
         "Transfers",
         "200401",
         -984.33,
         "ET_3.1_SEP_24.xlsx",
         "08/10/2024"
        ],
        [
         "Transfers",
         "Transfers",
         "200402",
         -870.85,
         "ET_3.1_SEP_24.xlsx",
         "08/10/2024"
        ],
        [
         "Transfers",
         "Transfers",
         "200403",
         -759.17,
         "ET_3.1_SEP_24.xlsx",
         "08/10/2024"
        ],
        [
         "Transfers",
         "Transfers",
         "200404",
         -928.76,
         "ET_3.1_SEP_24.xlsx",
         "08/10/2024"
        ],
        [
         "Transfers",
         "Transfers",
         "200501",
         -637.18,
         "ET_3.1_SEP_24.xlsx",
         "08/10/2024"
        ],
        [
         "Transfers",
         "Transfers",
         "200502",
         -866.16,
         "ET_3.1_SEP_24.xlsx",
         "08/10/2024"
        ],
        [
         "Transfers",
         "Transfers",
         "200503",
         -584.26,
         "ET_3.1_SEP_24.xlsx",
         "08/10/2024"
        ],
        [
         "Transfers",
         "Transfers",
         "200504",
         -966.51,
         "ET_3.1_SEP_24.xlsx",
         "08/10/2024"
        ],
        [
         "Transfers",
         "Transfers",
         "200601",
         -577.08,
         "ET_3.1_SEP_24.xlsx",
         "08/10/2024"
        ],
        [
         "Transfers",
         "Transfers",
         "200602",
         -649.4,
         "ET_3.1_SEP_24.xlsx",
         "08/10/2024"
        ],
        [
         "Transfers",
         "Transfers",
         "200603",
         -571.66,
         "ET_3.1_SEP_24.xlsx",
         "08/10/2024"
        ],
        [
         "Transfers",
         "Transfers",
         "200604",
         -542.76,
         "ET_3.1_SEP_24.xlsx",
         "08/10/2024"
        ],
        [
         "Transfers",
         "Transfers",
         "200701",
         -645.43,
         "ET_3.1_SEP_24.xlsx",
         "08/10/2024"
        ],
        [
         "Transfers",
         "Transfers",
         "200702",
         -548.48,
         "ET_3.1_SEP_24.xlsx",
         "08/10/2024"
        ],
        [
         "Transfers",
         "Transfers",
         "200703",
         -543.48,
         "ET_3.1_SEP_24.xlsx",
         "08/10/2024"
        ],
        [
         "Transfers",
         "Transfers",
         "200704",
         -469.8,
         "ET_3.1_SEP_24.xlsx",
         "08/10/2024"
        ],
        [
         "Transfers",
         "Transfers",
         "200801",
         -821.8,
         "ET_3.1_SEP_24.xlsx",
         "08/10/2024"
        ],
        [
         "Transfers",
         "Transfers",
         "200802",
         -824.53,
         "ET_3.1_SEP_24.xlsx",
         "08/10/2024"
        ],
        [
         "Transfers",
         "Transfers",
         "200803",
         -573.26,
         "ET_3.1_SEP_24.xlsx",
         "08/10/2024"
        ],
        [
         "Transfers",
         "Transfers",
         "200804",
         -537.94,
         "ET_3.1_SEP_24.xlsx",
         "08/10/2024"
        ],
        [
         "Transfers",
         "Transfers",
         "200901",
         -623.64,
         "ET_3.1_SEP_24.xlsx",
         "08/10/2024"
        ],
        [
         "Transfers",
         "Transfers",
         "200902",
         -818.26,
         "ET_3.1_SEP_24.xlsx",
         "08/10/2024"
        ],
        [
         "Transfers",
         "Transfers",
         "200903",
         -636.46,
         "ET_3.1_SEP_24.xlsx",
         "08/10/2024"
        ],
        [
         "Transfers",
         "Transfers",
         "200904",
         -631.62,
         "ET_3.1_SEP_24.xlsx",
         "08/10/2024"
        ],
        [
         "Transfers",
         "Transfers",
         "201001",
         -568.83,
         "ET_3.1_SEP_24.xlsx",
         "08/10/2024"
        ],
        [
         "Transfers",
         "Transfers",
         "201002",
         -713.37,
         "ET_3.1_SEP_24.xlsx",
         "08/10/2024"
        ],
        [
         "Transfers",
         "Transfers",
         "201003",
         -531.05,
         "ET_3.1_SEP_24.xlsx",
         "08/10/2024"
        ],
        [
         "Transfers",
         "Transfers",
         "201004",
         -556.41,
         "ET_3.1_SEP_24.xlsx",
         "08/10/2024"
        ],
        [
         "Transfers",
         "Transfers",
         "201101",
         -567.47,
         "ET_3.1_SEP_24.xlsx",
         "08/10/2024"
        ],
        [
         "Transfers",
         "Transfers",
         "201102",
         -615.98,
         "ET_3.1_SEP_24.xlsx",
         "08/10/2024"
        ],
        [
         "Transfers",
         "Transfers",
         "201103",
         -566.4,
         "ET_3.1_SEP_24.xlsx",
         "08/10/2024"
        ],
        [
         "Transfers",
         "Transfers",
         "201104",
         -485.46,
         "ET_3.1_SEP_24.xlsx",
         "08/10/2024"
        ],
        [
         "Transfers",
         "Transfers",
         "201201",
         -637.78,
         "ET_3.1_SEP_24.xlsx",
         "08/10/2024"
        ],
        [
         "Transfers",
         "Transfers",
         "201202",
         -580.42,
         "ET_3.1_SEP_24.xlsx",
         "08/10/2024"
        ],
        [
         "Transfers",
         "Transfers",
         "201203",
         -277.65,
         "ET_3.1_SEP_24.xlsx",
         "08/10/2024"
        ],
        [
         "Transfers",
         "Transfers",
         "201204",
         -366.63,
         "ET_3.1_SEP_24.xlsx",
         "08/10/2024"
        ],
        [
         "Transfers",
         "Transfers",
         "201301",
         -520.73,
         "ET_3.1_SEP_24.xlsx",
         "08/10/2024"
        ],
        [
         "Transfers",
         "Transfers",
         "201302",
         -598.4,
         "ET_3.1_SEP_24.xlsx",
         "08/10/2024"
        ],
        [
         "Transfers",
         "Transfers",
         "201303",
         -506.87,
         "ET_3.1_SEP_24.xlsx",
         "08/10/2024"
        ],
        [
         "Transfers",
         "Transfers",
         "201304",
         -132.28,
         "ET_3.1_SEP_24.xlsx",
         "08/10/2024"
        ],
        [
         "Transfers",
         "Transfers",
         "201401",
         -353.96,
         "ET_3.1_SEP_24.xlsx",
         "08/10/2024"
        ],
        [
         "Transfers",
         "Transfers",
         "201402",
         -323.63,
         "ET_3.1_SEP_24.xlsx",
         "08/10/2024"
        ],
        [
         "Transfers",
         "Transfers",
         "201403",
         -306.11,
         "ET_3.1_SEP_24.xlsx",
         "08/10/2024"
        ],
        [
         "Transfers",
         "Transfers",
         "201404",
         -454.8,
         "ET_3.1_SEP_24.xlsx",
         "08/10/2024"
        ],
        [
         "Transfers",
         "Transfers",
         "201501",
         -99.6,
         "ET_3.1_SEP_24.xlsx",
         "08/10/2024"
        ],
        [
         "Transfers",
         "Transfers",
         "201502",
         -381.67,
         "ET_3.1_SEP_24.xlsx",
         "08/10/2024"
        ],
        [
         "Transfers",
         "Transfers",
         "201503",
         -225.07,
         "ET_3.1_SEP_24.xlsx",
         "08/10/2024"
        ],
        [
         "Transfers",
         "Transfers",
         "201504",
         -445.39,
         "ET_3.1_SEP_24.xlsx",
         "08/10/2024"
        ],
        [
         "Transfers",
         "Transfers",
         "201601",
         -234.84,
         "ET_3.1_SEP_24.xlsx",
         "08/10/2024"
        ],
        [
         "Transfers",
         "Transfers",
         "201602",
         -313.79,
         "ET_3.1_SEP_24.xlsx",
         "08/10/2024"
        ],
        [
         "Transfers",
         "Transfers",
         "201603",
         -208.4,
         "ET_3.1_SEP_24.xlsx",
         "08/10/2024"
        ],
        [
         "Transfers",
         "Transfers",
         "201604",
         -480.21,
         "ET_3.1_SEP_24.xlsx",
         "08/10/2024"
        ],
        [
         "Transfers",
         "Transfers",
         "201701",
         -609.32,
         "ET_3.1_SEP_24.xlsx",
         "08/10/2024"
        ],
        [
         "Transfers",
         "Transfers",
         "201702",
         -582.09,
         "ET_3.1_SEP_24.xlsx",
         "08/10/2024"
        ],
        [
         "Transfers",
         "Transfers",
         "201703",
         -435.83,
         "ET_3.1_SEP_24.xlsx",
         "08/10/2024"
        ],
        [
         "Transfers",
         "Transfers",
         "201704",
         -460.87,
         "ET_3.1_SEP_24.xlsx",
         "08/10/2024"
        ],
        [
         "Transfers",
         "Transfers",
         "201801",
         -252.94,
         "ET_3.1_SEP_24.xlsx",
         "08/10/2024"
        ],
        [
         "Transfers",
         "Transfers",
         "201802",
         -326.97,
         "ET_3.1_SEP_24.xlsx",
         "08/10/2024"
        ],
        [
         "Transfers",
         "Transfers",
         "201803",
         -339.68,
         "ET_3.1_SEP_24.xlsx",
         "08/10/2024"
        ],
        [
         "Transfers",
         "Transfers",
         "201804",
         154.71,
         "ET_3.1_SEP_24.xlsx",
         "08/10/2024"
        ],
        [
         "Transfers",
         "Transfers",
         "201901",
         -395.7,
         "ET_3.1_SEP_24.xlsx",
         "08/10/2024"
        ],
        [
         "Transfers",
         "Transfers",
         "201902",
         -281.65,
         "ET_3.1_SEP_24.xlsx",
         "08/10/2024"
        ],
        [
         "Transfers",
         "Transfers",
         "201903",
         287.18,
         "ET_3.1_SEP_24.xlsx",
         "08/10/2024"
        ],
        [
         "Transfers",
         "Transfers",
         "201904",
         226.32,
         "ET_3.1_SEP_24.xlsx",
         "08/10/2024"
        ],
        [
         "Transfers",
         "Transfers",
         "202001",
         -129.68,
         "ET_3.1_SEP_24.xlsx",
         "08/10/2024"
        ],
        [
         "Transfers",
         "Transfers",
         "202002",
         -273.47,
         "ET_3.1_SEP_24.xlsx",
         "08/10/2024"
        ],
        [
         "Transfers",
         "Transfers",
         "202003",
         -233.35,
         "ET_3.1_SEP_24.xlsx",
         "08/10/2024"
        ],
        [
         "Transfers",
         "Transfers",
         "202004",
         -363.04,
         "ET_3.1_SEP_24.xlsx",
         "08/10/2024"
        ],
        [
         "Transfers",
         "Transfers",
         "202101",
         -106.97,
         "ET_3.1_SEP_24.xlsx",
         "08/10/2024"
        ],
        [
         "Transfers",
         "Transfers",
         "202102",
         288.73,
         "ET_3.1_SEP_24.xlsx",
         "08/10/2024"
        ],
        [
         "Transfers",
         "Transfers",
         "202103",
         -129.43,
         "ET_3.1_SEP_24.xlsx",
         "08/10/2024"
        ],
        [
         "Transfers",
         "Transfers",
         "202104",
         194.62,
         "ET_3.1_SEP_24.xlsx",
         "08/10/2024"
        ],
        [
         "Transfers",
         "Transfers",
         "202201",
         107.86,
         "ET_3.1_SEP_24.xlsx",
         "08/10/2024"
        ],
        [
         "Transfers",
         "Transfers",
         "202202",
         24.38,
         "ET_3.1_SEP_24.xlsx",
         "08/10/2024"
        ],
        [
         "Transfers",
         "Transfers",
         "202203",
         106.32,
         "ET_3.1_SEP_24.xlsx",
         "08/10/2024"
        ],
        [
         "Transfers",
         "Transfers",
         "202204",
         470.08,
         "ET_3.1_SEP_24.xlsx",
         "08/10/2024"
        ],
        [
         "Transfers",
         "Transfers",
         "202301",
         6.12,
         "ET_3.1_SEP_24.xlsx",
         "08/10/2024"
        ],
        [
         "Transfers",
         "Transfers",
         "202302",
         13.11,
         "ET_3.1_SEP_24.xlsx",
         "08/10/2024"
        ],
        [
         "Transfers",
         "Transfers",
         "202303",
         -43.52,
         "ET_3.1_SEP_24.xlsx",
         "08/10/2024"
        ],
        [
         "Transfers",
         "Transfers",
         "202304",
         -10.87,
         "ET_3.1_SEP_24.xlsx",
         "08/10/2024"
        ],
        [
         "Transfers",
         "Transfers",
         "202401",
         33.02,
         "ET_3.1_SEP_24.xlsx",
         "08/10/2024"
        ],
        [
         "Transfers",
         "Transfers",
         "202402",
         35.18,
         "ET_3.1_SEP_24.xlsx",
         "08/10/2024"
        ],
        [
         "Total supply",
         "Total supply",
         "199901",
         23594.36,
         "ET_3.1_SEP_24.xlsx",
         "08/10/2024"
        ],
        [
         "Total supply",
         "Total supply",
         "199902",
         22596.71,
         "ET_3.1_SEP_24.xlsx",
         "08/10/2024"
        ],
        [
         "Total supply",
         "Total supply",
         "199903",
         21282.27,
         "ET_3.1_SEP_24.xlsx",
         "08/10/2024"
        ],
        [
         "Total supply",
         "Total supply",
         "199904",
         21282.08,
         "ET_3.1_SEP_24.xlsx",
         "08/10/2024"
        ],
        [
         "Total supply",
         "Total supply",
         "200001",
         22698.17,
         "ET_3.1_SEP_24.xlsx",
         "08/10/2024"
        ],
        [
         "Total supply",
         "Total supply",
         "200002",
         21430.16,
         "ET_3.1_SEP_24.xlsx",
         "08/10/2024"
        ],
        [
         "Total supply",
         "Total supply",
         "200003",
         22099.67,
         "ET_3.1_SEP_24.xlsx",
         "08/10/2024"
        ],
        [
         "Total supply",
         "Total supply",
         "200004",
         22693.7,
         "ET_3.1_SEP_24.xlsx",
         "08/10/2024"
        ],
        [
         "Total supply",
         "Total supply",
         "200101",
         20876.72,
         "ET_3.1_SEP_24.xlsx",
         "08/10/2024"
        ],
        [
         "Total supply",
         "Total supply",
         "200102",
         18323.17,
         "ET_3.1_SEP_24.xlsx",
         "08/10/2024"
        ],
        [
         "Total supply",
         "Total supply",
         "200103",
         22006.67,
         "ET_3.1_SEP_24.xlsx",
         "08/10/2024"
        ],
        [
         "Total supply",
         "Total supply",
         "200104",
         22231.87,
         "ET_3.1_SEP_24.xlsx",
         "08/10/2024"
        ],
        [
         "Total supply",
         "Total supply",
         "200201",
         21096.85,
         "ET_3.1_SEP_24.xlsx",
         "08/10/2024"
        ],
        [
         "Total supply",
         "Total supply",
         "200202",
         21166.01,
         "ET_3.1_SEP_24.xlsx",
         "08/10/2024"
        ],
        [
         "Total supply",
         "Total supply",
         "200203",
         21750.98,
         "ET_3.1_SEP_24.xlsx",
         "08/10/2024"
        ],
        [
         "Total supply",
         "Total supply",
         "200204",
         20341.92,
         "ET_3.1_SEP_24.xlsx",
         "08/10/2024"
        ],
        [
         "Total supply",
         "Total supply",
         "200301",
         21325.13,
         "ET_3.1_SEP_24.xlsx",
         "08/10/2024"
        ],
        [
         "Total supply",
         "Total supply",
         "200302",
         22056.77,
         "ET_3.1_SEP_24.xlsx",
         "08/10/2024"
        ],
        [
         "Total supply",
         "Total supply",
         "200303",
         20660.02,
         "ET_3.1_SEP_24.xlsx",
         "08/10/2024"
        ],
        [
         "Total supply",
         "Total supply",
         "200304",
         20772.16,
         "ET_3.1_SEP_24.xlsx",
         "08/10/2024"
        ],
        [
         "Total supply",
         "Total supply",
         "200401",
         21273.83,
         "ET_3.1_SEP_24.xlsx",
         "08/10/2024"
        ],
        [
         "Total supply",
         "Total supply",
         "200402",
         22185.54,
         "ET_3.1_SEP_24.xlsx",
         "08/10/2024"
        ],
        [
         "Total supply",
         "Total supply",
         "200403",
         22938.29,
         "ET_3.1_SEP_24.xlsx",
         "08/10/2024"
        ],
        [
         "Total supply",
         "Total supply",
         "200404",
         23311.98,
         "ET_3.1_SEP_24.xlsx",
         "08/10/2024"
        ],
        [
         "Total supply",
         "Total supply",
         "200501",
         20888.28,
         "ET_3.1_SEP_24.xlsx",
         "08/10/2024"
        ],
        [
         "Total supply",
         "Total supply",
         "200502",
         21201.12,
         "ET_3.1_SEP_24.xlsx",
         "08/10/2024"
        ],
        [
         "Total supply",
         "Total supply",
         "200503",
         22623.36,
         "ET_3.1_SEP_24.xlsx",
         "08/10/2024"
        ],
        [
         "Total supply",
         "Total supply",
         "200504",
         21356.1,
         "ET_3.1_SEP_24.xlsx",
         "08/10/2024"
        ],
        [
         "Total supply",
         "Total supply",
         "200601",
         20029.44,
         "ET_3.1_SEP_24.xlsx",
         "08/10/2024"
        ],
        [
         "Total supply",
         "Total supply",
         "200602",
         20906.96,
         "ET_3.1_SEP_24.xlsx",
         "08/10/2024"
        ],
        [
         "Total supply",
         "Total supply",
         "200603",
         21655.53,
         "ET_3.1_SEP_24.xlsx",
         "08/10/2024"
        ],
        [
         "Total supply",
         "Total supply",
         "200604",
         20538.24,
         "ET_3.1_SEP_24.xlsx",
         "08/10/2024"
        ],
        [
         "Total supply",
         "Total supply",
         "200701",
         19079.13,
         "ET_3.1_SEP_24.xlsx",
         "08/10/2024"
        ],
        [
         "Total supply",
         "Total supply",
         "200702",
         21147.94,
         "ET_3.1_SEP_24.xlsx",
         "08/10/2024"
        ],
        [
         "Total supply",
         "Total supply",
         "200703",
         21222.27,
         "ET_3.1_SEP_24.xlsx",
         "08/10/2024"
        ],
        [
         "Total supply",
         "Total supply",
         "200704",
         20059.85,
         "ET_3.1_SEP_24.xlsx",
         "08/10/2024"
        ],
        [
         "Total supply",
         "Total supply",
         "200801",
         19189.82,
         "ET_3.1_SEP_24.xlsx",
         "08/10/2024"
        ],
        [
         "Total supply",
         "Total supply",
         "200802",
         20956.1,
         "ET_3.1_SEP_24.xlsx",
         "08/10/2024"
        ],
        [
         "Total supply",
         "Total supply",
         "200803",
         21160.0,
         "ET_3.1_SEP_24.xlsx",
         "08/10/2024"
        ],
        [
         "Total supply",
         "Total supply",
         "200804",
         19887.95,
         "ET_3.1_SEP_24.xlsx",
         "08/10/2024"
        ],
        [
         "Total supply",
         "Total supply",
         "200901",
         19608.58,
         "ET_3.1_SEP_24.xlsx",
         "08/10/2024"
        ],
        [
         "Total supply",
         "Total supply",
         "200902",
         18510.91,
         "ET_3.1_SEP_24.xlsx",
         "08/10/2024"
        ],
        [
         "Total supply",
         "Total supply",
         "200903",
         19137.12,
         "ET_3.1_SEP_24.xlsx",
         "08/10/2024"
        ],
        [
         "Total supply",
         "Total supply",
         "200904",
         18428.82,
         "ET_3.1_SEP_24.xlsx",
         "08/10/2024"
        ],
        [
         "Total supply",
         "Total supply",
         "201001",
         17639.15,
         "ET_3.1_SEP_24.xlsx",
         "08/10/2024"
        ],
        [
         "Total supply",
         "Total supply",
         "201002",
         18319.0,
         "ET_3.1_SEP_24.xlsx",
         "08/10/2024"
        ],
        [
         "Total supply",
         "Total supply",
         "201003",
         18789.3,
         "ET_3.1_SEP_24.xlsx",
         "08/10/2024"
        ],
        [
         "Total supply",
         "Total supply",
         "201004",
         18805.34,
         "ET_3.1_SEP_24.xlsx",
         "08/10/2024"
        ],
        [
         "Total supply",
         "Total supply",
         "201101",
         18112.53,
         "ET_3.1_SEP_24.xlsx",
         "08/10/2024"
        ],
        [
         "Total supply",
         "Total supply",
         "201102",
         19230.05,
         "ET_3.1_SEP_24.xlsx",
         "08/10/2024"
        ],
        [
         "Total supply",
         "Total supply",
         "201103",
         19171.54,
         "ET_3.1_SEP_24.xlsx",
         "08/10/2024"
        ],
        [
         "Total supply",
         "Total supply",
         "201104",
         18301.28,
         "ET_3.1_SEP_24.xlsx",
         "08/10/2024"
        ],
        [
         "Total supply",
         "Total supply",
         "201201",
         19417.18,
         "ET_3.1_SEP_24.xlsx",
         "08/10/2024"
        ],
        [
         "Total supply",
         "Total supply",
         "201202",
         19235.47,
         "ET_3.1_SEP_24.xlsx",
         "08/10/2024"
        ],
        [
         "Total supply",
         "Total supply",
         "201203",
         18088.61,
         "ET_3.1_SEP_24.xlsx",
         "08/10/2024"
        ],
        [
         "Total supply",
         "Total supply",
         "201204",
         15000.16,
         "ET_3.1_SEP_24.xlsx",
         "08/10/2024"
        ],
        [
         "Total supply",
         "Total supply",
         "201301",
         16577.79,
         "ET_3.1_SEP_24.xlsx",
         "08/10/2024"
        ],
        [
         "Total supply",
         "Total supply",
         "201302",
         17370.44,
         "ET_3.1_SEP_24.xlsx",
         "08/10/2024"
        ],
        [
         "Total supply",
         "Total supply",
         "201303",
         17020.63,
         "ET_3.1_SEP_24.xlsx",
         "08/10/2024"
        ],
        [
         "Total supply",
         "Total supply",
         "201304",
         14959.22,
         "ET_3.1_SEP_24.xlsx",
         "08/10/2024"
        ],
        [
         "Total supply",
         "Total supply",
         "201401",
         15538.69,
         "ET_3.1_SEP_24.xlsx",
         "08/10/2024"
        ],
        [
         "Total supply",
         "Total supply",
         "201402",
         15132.07,
         "ET_3.1_SEP_24.xlsx",
         "08/10/2024"
        ],
        [
         "Total supply",
         "Total supply",
         "201403",
         15246.23,
         "ET_3.1_SEP_24.xlsx",
         "08/10/2024"
        ],
        [
         "Total supply",
         "Total supply",
         "201404",
         15149.07,
         "ET_3.1_SEP_24.xlsx",
         "08/10/2024"
        ],
        [
         "Total supply",
         "Total supply",
         "201501",
         14618.36,
         "ET_3.1_SEP_24.xlsx",
         "08/10/2024"
        ],
        [
         "Total supply",
         "Total supply",
         "201502",
         14100.96,
         "ET_3.1_SEP_24.xlsx",
         "08/10/2024"
        ],
        [
         "Total supply",
         "Total supply",
         "201503",
         16331.22,
         "ET_3.1_SEP_24.xlsx",
         "08/10/2024"
        ],
        [
         "Total supply",
         "Total supply",
         "201504",
         16287.31,
         "ET_3.1_SEP_24.xlsx",
         "08/10/2024"
        ],
        [
         "Total supply",
         "Total supply",
         "201601",
         14224.64,
         "ET_3.1_SEP_24.xlsx",
         "08/10/2024"
        ],
        [
         "Total supply",
         "Total supply",
         "201602",
         15273.85,
         "ET_3.1_SEP_24.xlsx",
         "08/10/2024"
        ],
        [
         "Total supply",
         "Total supply",
         "201603",
         15367.08,
         "ET_3.1_SEP_24.xlsx",
         "08/10/2024"
        ],
        [
         "Total supply",
         "Total supply",
         "201604",
         15577.77,
         "ET_3.1_SEP_24.xlsx",
         "08/10/2024"
        ],
        [
         "Total supply",
         "Total supply",
         "201701",
         14583.93,
         "ET_3.1_SEP_24.xlsx",
         "08/10/2024"
        ],
        [
         "Total supply",
         "Total supply",
         "201702",
         15296.72,
         "ET_3.1_SEP_24.xlsx",
         "08/10/2024"
        ],
        [
         "Total supply",
         "Total supply",
         "201703",
         15435.11,
         "ET_3.1_SEP_24.xlsx",
         "08/10/2024"
        ],
        [
         "Total supply",
         "Total supply",
         "201704",
         14947.34,
         "ET_3.1_SEP_24.xlsx",
         "08/10/2024"
        ],
        [
         "Total supply",
         "Total supply",
         "201801",
         13170.53,
         "ET_3.1_SEP_24.xlsx",
         "08/10/2024"
        ],
        [
         "Total supply",
         "Total supply",
         "201802",
         14168.51,
         "ET_3.1_SEP_24.xlsx",
         "08/10/2024"
        ],
        [
         "Total supply",
         "Total supply",
         "201803",
         15694.53,
         "ET_3.1_SEP_24.xlsx",
         "08/10/2024"
        ],
        [
         "Total supply",
         "Total supply",
         "201804",
         15651.07,
         "ET_3.1_SEP_24.xlsx",
         "08/10/2024"
        ],
        [
         "Total supply",
         "Total supply",
         "201901",
         14710.11,
         "ET_3.1_SEP_24.xlsx",
         "08/10/2024"
        ],
        [
         "Total supply",
         "Total supply",
         "201902",
         13930.73,
         "ET_3.1_SEP_24.xlsx",
         "08/10/2024"
        ],
        [
         "Total supply",
         "Total supply",
         "201903",
         14892.93,
         "ET_3.1_SEP_24.xlsx",
         "08/10/2024"
        ],
        [
         "Total supply",
         "Total supply",
         "201904",
         15677.24,
         "ET_3.1_SEP_24.xlsx",
         "08/10/2024"
        ],
        [
         "Total supply",
         "Total supply",
         "202001",
         14057.06,
         "ET_3.1_SEP_24.xlsx",
         "08/10/2024"
        ],
        [
         "Total supply",
         "Total supply",
         "202002",
         10230.34,
         "ET_3.1_SEP_24.xlsx",
         "08/10/2024"
        ],
        [
         "Total supply",
         "Total supply",
         "202003",
         11643.71,
         "ET_3.1_SEP_24.xlsx",
         "08/10/2024"
        ],
        [
         "Total supply",
         "Total supply",
         "202004",
         12309.97,
         "ET_3.1_SEP_24.xlsx",
         "08/10/2024"
        ],
        [
         "Total supply",
         "Total supply",
         "202101",
         9805.87,
         "ET_3.1_SEP_24.xlsx",
         "08/10/2024"
        ],
        [
         "Total supply",
         "Total supply",
         "202102",
         12302.62,
         "ET_3.1_SEP_24.xlsx",
         "08/10/2024"
        ],
        [
         "Total supply",
         "Total supply",
         "202103",
         13282.62,
         "ET_3.1_SEP_24.xlsx",
         "08/10/2024"
        ],
        [
         "Total supply",
         "Total supply",
         "202104",
         13415.8,
         "ET_3.1_SEP_24.xlsx",
         "08/10/2024"
        ],
        [
         "Total supply",
         "Total supply",
         "202201",
         13809.59,
         "ET_3.1_SEP_24.xlsx",
         "08/10/2024"
        ],
        [
         "Total supply",
         "Total supply",
         "202202",
         13979.55,
         "ET_3.1_SEP_24.xlsx",
         "08/10/2024"
        ],
        [
         "Total supply",
         "Total supply",
         "202203",
         13419.71,
         "ET_3.1_SEP_24.xlsx",
         "08/10/2024"
        ],
        [
         "Total supply",
         "Total supply",
         "202204",
         13619.59,
         "ET_3.1_SEP_24.xlsx",
         "08/10/2024"
        ],
        [
         "Total supply",
         "Total supply",
         "202301",
         13451.3,
         "ET_3.1_SEP_24.xlsx",
         "08/10/2024"
        ],
        [
         "Total supply",
         "Total supply",
         "202302",
         12848.97,
         "ET_3.1_SEP_24.xlsx",
         "08/10/2024"
        ],
        [
         "Total supply",
         "Total supply",
         "202303",
         12769.61,
         "ET_3.1_SEP_24.xlsx",
         "08/10/2024"
        ],
        [
         "Total supply",
         "Total supply",
         "202304",
         11923.47,
         "ET_3.1_SEP_24.xlsx",
         "08/10/2024"
        ],
        [
         "Total supply",
         "Total supply",
         "202401",
         12829.9,
         "ET_3.1_SEP_24.xlsx",
         "08/10/2024"
        ],
        [
         "Total supply",
         "Total supply",
         "202402",
         12728.22,
         "ET_3.1_SEP_24.xlsx",
         "08/10/2024"
        ],
        [
         "Statistical difference",
         "Statistical difference",
         "199901",
         843.9,
         "ET_3.1_SEP_24.xlsx",
         "08/10/2024"
        ],
        [
         "Statistical difference",
         "Statistical difference",
         "199902",
         495.41,
         "ET_3.1_SEP_24.xlsx",
         "08/10/2024"
        ],
        [
         "Statistical difference",
         "Statistical difference",
         "199903",
         -269.16,
         "ET_3.1_SEP_24.xlsx",
         "08/10/2024"
        ],
        [
         "Statistical difference",
         "Statistical difference",
         "199904",
         -923.72,
         "ET_3.1_SEP_24.xlsx",
         "08/10/2024"
        ],
        [
         "Statistical difference",
         "Statistical difference",
         "200001",
         391.0,
         "ET_3.1_SEP_24.xlsx",
         "08/10/2024"
        ],
        [
         "Statistical difference",
         "Statistical difference",
         "200002",
         -167.68,
         "ET_3.1_SEP_24.xlsx",
         "08/10/2024"
        ],
        [
         "Statistical difference",
         "Statistical difference",
         "200003",
         186.46,
         "ET_3.1_SEP_24.xlsx",
         "08/10/2024"
        ],
        [
         "Statistical difference",
         "Statistical difference",
         "200004",
         204.67,
         "ET_3.1_SEP_24.xlsx",
         "08/10/2024"
        ],
        [
         "Statistical difference",
         "Statistical difference",
         "200101",
         199.8,
         "ET_3.1_SEP_24.xlsx",
         "08/10/2024"
        ],
        [
         "Statistical difference",
         "Statistical difference",
         "200102",
         260.94,
         "ET_3.1_SEP_24.xlsx",
         "08/10/2024"
        ],
        [
         "Statistical difference",
         "Statistical difference",
         "200103",
         -66.95,
         "ET_3.1_SEP_24.xlsx",
         "08/10/2024"
        ],
        [
         "Statistical difference",
         "Statistical difference",
         "200104",
         -298.2,
         "ET_3.1_SEP_24.xlsx",
         "08/10/2024"
        ],
        [
         "Statistical difference",
         "Statistical difference",
         "200201",
         -38.76,
         "ET_3.1_SEP_24.xlsx",
         "08/10/2024"
        ],
        [
         "Statistical difference",
         "Statistical difference",
         "200202",
         256.14,
         "ET_3.1_SEP_24.xlsx",
         "08/10/2024"
        ],
        [
         "Statistical difference",
         "Statistical difference",
         "200203",
         -61.22,
         "ET_3.1_SEP_24.xlsx",
         "08/10/2024"
        ],
        [
         "Statistical difference",
         "Statistical difference",
         "200204",
         -584.31,
         "ET_3.1_SEP_24.xlsx",
         "08/10/2024"
        ],
        [
         "Statistical difference",
         "Statistical difference",
         "200301",
         -136.12,
         "ET_3.1_SEP_24.xlsx",
         "08/10/2024"
        ],
        [
         "Statistical difference",
         "Statistical difference",
         "200302",
         324.75,
         "ET_3.1_SEP_24.xlsx",
         "08/10/2024"
        ],
        [
         "Statistical difference",
         "Statistical difference",
         "200303",
         99.6,
         "ET_3.1_SEP_24.xlsx",
         "08/10/2024"
        ],
        [
         "Statistical difference",
         "Statistical difference",
         "200304",
         -59.17,
         "ET_3.1_SEP_24.xlsx",
         "08/10/2024"
        ],
        [
         "Statistical difference",
         "Statistical difference",
         "200401",
         -140.4,
         "ET_3.1_SEP_24.xlsx",
         "08/10/2024"
        ],
        [
         "Statistical difference",
         "Statistical difference",
         "200402",
         -31.04,
         "ET_3.1_SEP_24.xlsx",
         "08/10/2024"
        ],
        [
         "Statistical difference",
         "Statistical difference",
         "200403",
         -67.43,
         "ET_3.1_SEP_24.xlsx",
         "08/10/2024"
        ],
        [
         "Statistical difference",
         "Statistical difference",
         "200404",
         127.91,
         "ET_3.1_SEP_24.xlsx",
         "08/10/2024"
        ],
        [
         "Statistical difference",
         "Statistical difference",
         "200501",
         -90.0,
         "ET_3.1_SEP_24.xlsx",
         "08/10/2024"
        ],
        [
         "Statistical difference",
         "Statistical difference",
         "200502",
         202.92,
         "ET_3.1_SEP_24.xlsx",
         "08/10/2024"
        ],
        [
         "Statistical difference",
         "Statistical difference",
         "200503",
         12.45,
         "ET_3.1_SEP_24.xlsx",
         "08/10/2024"
        ],
        [
         "Statistical difference",
         "Statistical difference",
         "200504",
         -190.76,
         "ET_3.1_SEP_24.xlsx",
         "08/10/2024"
        ],
        [
         "Statistical difference",
         "Statistical difference",
         "200601",
         -83.22,
         "ET_3.1_SEP_24.xlsx",
         "08/10/2024"
        ],
        [
         "Statistical difference",
         "Statistical difference",
         "200602",
         -75.3,
         "ET_3.1_SEP_24.xlsx",
         "08/10/2024"
        ],
        [
         "Statistical difference",
         "Statistical difference",
         "200603",
         41.14,
         "ET_3.1_SEP_24.xlsx",
         "08/10/2024"
        ],
        [
         "Statistical difference",
         "Statistical difference",
         "200604",
         34.44,
         "ET_3.1_SEP_24.xlsx",
         "08/10/2024"
        ],
        [
         "Statistical difference",
         "Statistical difference",
         "200701",
         -192.92,
         "ET_3.1_SEP_24.xlsx",
         "08/10/2024"
        ],
        [
         "Statistical difference",
         "Statistical difference",
         "200702",
         41.61,
         "ET_3.1_SEP_24.xlsx",
         "08/10/2024"
        ],
        [
         "Statistical difference",
         "Statistical difference",
         "200703",
         180.32,
         "ET_3.1_SEP_24.xlsx",
         "08/10/2024"
        ],
        [
         "Statistical difference",
         "Statistical difference",
         "200704",
         2.96,
         "ET_3.1_SEP_24.xlsx",
         "08/10/2024"
        ],
        [
         "Statistical difference",
         "Statistical difference",
         "200801",
         -321.65,
         "ET_3.1_SEP_24.xlsx",
         "08/10/2024"
        ],
        [
         "Statistical difference",
         "Statistical difference",
         "200802",
         223.78,
         "ET_3.1_SEP_24.xlsx",
         "08/10/2024"
        ],
        [
         "Statistical difference",
         "Statistical difference",
         "200803",
         260.62,
         "ET_3.1_SEP_24.xlsx",
         "08/10/2024"
        ],
        [
         "Statistical difference",
         "Statistical difference",
         "200804",
         -2.49,
         "ET_3.1_SEP_24.xlsx",
         "08/10/2024"
        ],
        [
         "Statistical difference",
         "Statistical difference",
         "200901",
         -112.85,
         "ET_3.1_SEP_24.xlsx",
         "08/10/2024"
        ],
        [
         "Statistical difference",
         "Statistical difference",
         "200902",
         184.82,
         "ET_3.1_SEP_24.xlsx",
         "08/10/2024"
        ],
        [
         "Statistical difference",
         "Statistical difference",
         "200903",
         -95.25,
         "ET_3.1_SEP_24.xlsx",
         "08/10/2024"
        ],
        [
         "Statistical difference",
         "Statistical difference",
         "200904",
         158.15,
         "ET_3.1_SEP_24.xlsx",
         "08/10/2024"
        ],
        [
         "Statistical difference",
         "Statistical difference",
         "201001",
         68.57,
         "ET_3.1_SEP_24.xlsx",
         "08/10/2024"
        ],
        [
         "Statistical difference",
         "Statistical difference",
         "201002",
         -37.96,
         "ET_3.1_SEP_24.xlsx",
         "08/10/2024"
        ],
        [
         "Statistical difference",
         "Statistical difference",
         "201003",
         -101.65,
         "ET_3.1_SEP_24.xlsx",
         "08/10/2024"
        ],
        [
         "Statistical difference",
         "Statistical difference",
         "201004",
         80.98,
         "ET_3.1_SEP_24.xlsx",
         "08/10/2024"
        ],
        [
         "Statistical difference",
         "Statistical difference",
         "201101",
         -93.5,
         "ET_3.1_SEP_24.xlsx",
         "08/10/2024"
        ],
        [
         "Statistical difference",
         "Statistical difference",
         "201102",
         -71.53,
         "ET_3.1_SEP_24.xlsx",
         "08/10/2024"
        ],
        [
         "Statistical difference",
         "Statistical difference",
         "201103",
         -225.38,
         "ET_3.1_SEP_24.xlsx",
         "08/10/2024"
        ],
        [
         "Statistical difference",
         "Statistical difference",
         "201104",
         125.54,
         "ET_3.1_SEP_24.xlsx",
         "08/10/2024"
        ],
        [
         "Statistical difference",
         "Statistical difference",
         "201201",
         -35.12,
         "ET_3.1_SEP_24.xlsx",
         "08/10/2024"
        ],
        [
         "Statistical difference",
         "Statistical difference",
         "201202",
         96.72,
         "ET_3.1_SEP_24.xlsx",
         "08/10/2024"
        ],
        [
         "Statistical difference",
         "Statistical difference",
         "201203",
         -104.87,
         "ET_3.1_SEP_24.xlsx",
         "08/10/2024"
        ],
        [
         "Statistical difference",
         "Statistical difference",
         "201204",
         -54.42,
         "ET_3.1_SEP_24.xlsx",
         "08/10/2024"
        ],
        [
         "Statistical difference",
         "Statistical difference",
         "201301",
         -93.22,
         "ET_3.1_SEP_24.xlsx",
         "08/10/2024"
        ],
        [
         "Statistical difference",
         "Statistical difference",
         "201302",
         -21.47,
         "ET_3.1_SEP_24.xlsx",
         "08/10/2024"
        ],
        [
         "Statistical difference",
         "Statistical difference",
         "201303",
         51.14,
         "ET_3.1_SEP_24.xlsx",
         "08/10/2024"
        ],
        [
         "Statistical difference",
         "Statistical difference",
         "201304",
         19.73,
         "ET_3.1_SEP_24.xlsx",
         "08/10/2024"
        ],
        [
         "Statistical difference",
         "Statistical difference",
         "201401",
         21.49,
         "ET_3.1_SEP_24.xlsx",
         "08/10/2024"
        ],
        [
         "Statistical difference",
         "Statistical difference",
         "201402",
         -2.42,
         "ET_3.1_SEP_24.xlsx",
         "08/10/2024"
        ],
        [
         "Statistical difference",
         "Statistical difference",
         "201403",
         -24.01,
         "ET_3.1_SEP_24.xlsx",
         "08/10/2024"
        ],
        [
         "Statistical difference",
         "Statistical difference",
         "201404",
         8.45,
         "ET_3.1_SEP_24.xlsx",
         "08/10/2024"
        ],
        [
         "Statistical difference",
         "Statistical difference",
         "201501",
         -14.68,
         "ET_3.1_SEP_24.xlsx",
         "08/10/2024"
        ],
        [
         "Statistical difference",
         "Statistical difference",
         "201502",
         -1.59,
         "ET_3.1_SEP_24.xlsx",
         "08/10/2024"
        ],
        [
         "Statistical difference",
         "Statistical difference",
         "201503",
         -16.03,
         "ET_3.1_SEP_24.xlsx",
         "08/10/2024"
        ],
        [
         "Statistical difference",
         "Statistical difference",
         "201504",
         -20.67,
         "ET_3.1_SEP_24.xlsx",
         "08/10/2024"
        ],
        [
         "Statistical difference",
         "Statistical difference",
         "201601",
         3.25,
         "ET_3.1_SEP_24.xlsx",
         "08/10/2024"
        ],
        [
         "Statistical difference",
         "Statistical difference",
         "201602",
         33.65,
         "ET_3.1_SEP_24.xlsx",
         "08/10/2024"
        ],
        [
         "Statistical difference",
         "Statistical difference",
         "201603",
         -4.65,
         "ET_3.1_SEP_24.xlsx",
         "08/10/2024"
        ],
        [
         "Statistical difference",
         "Statistical difference",
         "201604",
         15.64,
         "ET_3.1_SEP_24.xlsx",
         "08/10/2024"
        ],
        [
         "Statistical difference",
         "Statistical difference",
         "201701",
         -7.17,
         "ET_3.1_SEP_24.xlsx",
         "08/10/2024"
        ],
        [
         "Statistical difference",
         "Statistical difference",
         "201702",
         15.0,
         "ET_3.1_SEP_24.xlsx",
         "08/10/2024"
        ],
        [
         "Statistical difference",
         "Statistical difference",
         "201703",
         27.25,
         "ET_3.1_SEP_24.xlsx",
         "08/10/2024"
        ],
        [
         "Statistical difference",
         "Statistical difference",
         "201704",
         -28.57,
         "ET_3.1_SEP_24.xlsx",
         "08/10/2024"
        ],
        [
         "Statistical difference",
         "Statistical difference",
         "201801",
         -7.9,
         "ET_3.1_SEP_24.xlsx",
         "08/10/2024"
        ],
        [
         "Statistical difference",
         "Statistical difference",
         "201802",
         -2.27,
         "ET_3.1_SEP_24.xlsx",
         "08/10/2024"
        ],
        [
         "Statistical difference",
         "Statistical difference",
         "201803",
         4.22,
         "ET_3.1_SEP_24.xlsx",
         "08/10/2024"
        ],
        [
         "Statistical difference",
         "Statistical difference",
         "201804",
         -6.65,
         "ET_3.1_SEP_24.xlsx",
         "08/10/2024"
        ],
        [
         "Statistical difference",
         "Statistical difference",
         "201901",
         -0.11,
         "ET_3.1_SEP_24.xlsx",
         "08/10/2024"
        ],
        [
         "Statistical difference",
         "Statistical difference",
         "201902",
         3.8,
         "ET_3.1_SEP_24.xlsx",
         "08/10/2024"
        ],
        [
         "Statistical difference",
         "Statistical difference",
         "201903",
         -3.37,
         "ET_3.1_SEP_24.xlsx",
         "08/10/2024"
        ],
        [
         "Statistical difference",
         "Statistical difference",
         "201904",
         -8.09,
         "ET_3.1_SEP_24.xlsx",
         "08/10/2024"
        ],
        [
         "Statistical difference",
         "Statistical difference",
         "202001",
         -11.76,
         "ET_3.1_SEP_24.xlsx",
         "08/10/2024"
        ],
        [
         "Statistical difference",
         "Statistical difference",
         "202002",
         15.12,
         "ET_3.1_SEP_24.xlsx",
         "08/10/2024"
        ],
        [
         "Statistical difference",
         "Statistical difference",
         "202003",
         1.87,
         "ET_3.1_SEP_24.xlsx",
         "08/10/2024"
        ],
        [
         "Statistical difference",
         "Statistical difference",
         "202004",
         -6.75,
         "ET_3.1_SEP_24.xlsx",
         "08/10/2024"
        ],
        [
         "Statistical difference",
         "Statistical difference",
         "202101",
         -3.07,
         "ET_3.1_SEP_24.xlsx",
         "08/10/2024"
        ],
        [
         "Statistical difference",
         "Statistical difference",
         "202102",
         -0.65,
         "ET_3.1_SEP_24.xlsx",
         "08/10/2024"
        ],
        [
         "Statistical difference",
         "Statistical difference",
         "202103",
         7.4,
         "ET_3.1_SEP_24.xlsx",
         "08/10/2024"
        ],
        [
         "Statistical difference",
         "Statistical difference",
         "202104",
         6.63,
         "ET_3.1_SEP_24.xlsx",
         "08/10/2024"
        ],
        [
         "Statistical difference",
         "Statistical difference",
         "202201",
         -14.67,
         "ET_3.1_SEP_24.xlsx",
         "08/10/2024"
        ],
        [
         "Statistical difference",
         "Statistical difference",
         "202202",
         -0.82,
         "ET_3.1_SEP_24.xlsx",
         "08/10/2024"
        ],
        [
         "Statistical difference",
         "Statistical difference",
         "202203",
         -1.54,
         "ET_3.1_SEP_24.xlsx",
         "08/10/2024"
        ],
        [
         "Statistical difference",
         "Statistical difference",
         "202204",
         18.6,
         "ET_3.1_SEP_24.xlsx",
         "08/10/2024"
        ],
        [
         "Statistical difference",
         "Statistical difference",
         "202301",
         -12.84,
         "ET_3.1_SEP_24.xlsx",
         "08/10/2024"
        ],
        [
         "Statistical difference",
         "Statistical difference",
         "202302",
         9.2,
         "ET_3.1_SEP_24.xlsx",
         "08/10/2024"
        ],
        [
         "Statistical difference",
         "Statistical difference",
         "202303",
         -1.17,
         "ET_3.1_SEP_24.xlsx",
         "08/10/2024"
        ],
        [
         "Statistical difference",
         "Statistical difference",
         "202304",
         21.07,
         "ET_3.1_SEP_24.xlsx",
         "08/10/2024"
        ],
        [
         "Statistical difference",
         "Statistical difference",
         "202401",
         40.22,
         "ET_3.1_SEP_24.xlsx",
         "08/10/2024"
        ],
        [
         "Statistical difference",
         "Statistical difference",
         "202402",
         8.25,
         "ET_3.1_SEP_24.xlsx",
         "08/10/2024"
        ],
        [
         "Total demand",
         "Total demand",
         "199901",
         22750.47,
         "ET_3.1_SEP_24.xlsx",
         "08/10/2024"
        ],
        [
         "Total demand",
         "Total demand",
         "199902",
         22101.3,
         "ET_3.1_SEP_24.xlsx",
         "08/10/2024"
        ],
        [
         "Total demand",
         "Total demand",
         "199903",
         21551.43,
         "ET_3.1_SEP_24.xlsx",
         "08/10/2024"
        ],
        [
         "Total demand",
         "Total demand",
         "199904",
         22205.8,
         "ET_3.1_SEP_24.xlsx",
         "08/10/2024"
        ],
        [
         "Total demand",
         "Total demand",
         "200001",
         22307.17,
         "ET_3.1_SEP_24.xlsx",
         "08/10/2024"
        ],
        [
         "Total demand",
         "Total demand",
         "200002",
         21597.85,
         "ET_3.1_SEP_24.xlsx",
         "08/10/2024"
        ],
        [
         "Total demand",
         "Total demand",
         "200003",
         21913.21,
         "ET_3.1_SEP_24.xlsx",
         "08/10/2024"
        ],
        [
         "Total demand",
         "Total demand",
         "200004",
         22489.03,
         "ET_3.1_SEP_24.xlsx",
         "08/10/2024"
        ],
        [
         "Total demand",
         "Total demand",
         "200101",
         20676.92,
         "ET_3.1_SEP_24.xlsx",
         "08/10/2024"
        ],
        [
         "Total demand",
         "Total demand",
         "200102",
         18062.23,
         "ET_3.1_SEP_24.xlsx",
         "08/10/2024"
        ],
        [
         "Total demand",
         "Total demand",
         "200103",
         22073.61,
         "ET_3.1_SEP_24.xlsx",
         "08/10/2024"
        ],
        [
         "Total demand",
         "Total demand",
         "200104",
         22530.07,
         "ET_3.1_SEP_24.xlsx",
         "08/10/2024"
        ],
        [
         "Total demand",
         "Total demand",
         "200201",
         21135.61,
         "ET_3.1_SEP_24.xlsx",
         "08/10/2024"
        ],
        [
         "Total demand",
         "Total demand",
         "200202",
         20909.86,
         "ET_3.1_SEP_24.xlsx",
         "08/10/2024"
        ],
        [
         "Total demand",
         "Total demand",
         "200203",
         21812.2,
         "ET_3.1_SEP_24.xlsx",
         "08/10/2024"
        ],
        [
         "Total demand",
         "Total demand",
         "200204",
         20926.24,
         "ET_3.1_SEP_24.xlsx",
         "08/10/2024"
        ],
        [
         "Total demand",
         "Total demand",
         "200301",
         21461.25,
         "ET_3.1_SEP_24.xlsx",
         "08/10/2024"
        ],
        [
         "Total demand",
         "Total demand",
         "200302",
         21732.01,
         "ET_3.1_SEP_24.xlsx",
         "08/10/2024"
        ],
        [
         "Total demand",
         "Total demand",
         "200303",
         20560.42,
         "ET_3.1_SEP_24.xlsx",
         "08/10/2024"
        ],
        [
         "Total demand",
         "Total demand",
         "200304",
         20831.33,
         "ET_3.1_SEP_24.xlsx",
         "08/10/2024"
        ],
        [
         "Total demand",
         "Total demand",
         "200401",
         21414.23,
         "ET_3.1_SEP_24.xlsx",
         "08/10/2024"
        ],
        [
         "Total demand",
         "Total demand",
         "200402",
         22216.58,
         "ET_3.1_SEP_24.xlsx",
         "08/10/2024"
        ],
        [
         "Total demand",
         "Total demand",
         "200403",
         23005.72,
         "ET_3.1_SEP_24.xlsx",
         "08/10/2024"
        ],
        [
         "Total demand",
         "Total demand",
         "200404",
         23184.06,
         "ET_3.1_SEP_24.xlsx",
         "08/10/2024"
        ],
        [
         "Total demand",
         "Total demand",
         "200501",
         20978.29,
         "ET_3.1_SEP_24.xlsx",
         "08/10/2024"
        ],
        [
         "Total demand",
         "Total demand",
         "200502",
         20998.2,
         "ET_3.1_SEP_24.xlsx",
         "08/10/2024"
        ],
        [
         "Total demand",
         "Total demand",
         "200503",
         22610.92,
         "ET_3.1_SEP_24.xlsx",
         "08/10/2024"
        ],
        [
         "Total demand",
         "Total demand",
         "200504",
         21546.85,
         "ET_3.1_SEP_24.xlsx",
         "08/10/2024"
        ],
        [
         "Total demand",
         "Total demand",
         "200601",
         20112.67,
         "ET_3.1_SEP_24.xlsx",
         "08/10/2024"
        ],
        [
         "Total demand",
         "Total demand",
         "200602",
         20982.26,
         "ET_3.1_SEP_24.xlsx",
         "08/10/2024"
        ],
        [
         "Total demand",
         "Total demand",
         "200603",
         21614.39,
         "ET_3.1_SEP_24.xlsx",
         "08/10/2024"
        ],
        [
         "Total demand",
         "Total demand",
         "200604",
         20503.8,
         "ET_3.1_SEP_24.xlsx",
         "08/10/2024"
        ],
        [
         "Total demand",
         "Total demand",
         "200701",
         19272.05,
         "ET_3.1_SEP_24.xlsx",
         "08/10/2024"
        ],
        [
         "Total demand",
         "Total demand",
         "200702",
         21106.33,
         "ET_3.1_SEP_24.xlsx",
         "08/10/2024"
        ],
        [
         "Total demand",
         "Total demand",
         "200703",
         21041.95,
         "ET_3.1_SEP_24.xlsx",
         "08/10/2024"
        ],
        [
         "Total demand",
         "Total demand",
         "200704",
         20056.89,
         "ET_3.1_SEP_24.xlsx",
         "08/10/2024"
        ],
        [
         "Total demand",
         "Total demand",
         "200801",
         19511.47,
         "ET_3.1_SEP_24.xlsx",
         "08/10/2024"
        ],
        [
         "Total demand",
         "Total demand",
         "200802",
         20732.31,
         "ET_3.1_SEP_24.xlsx",
         "08/10/2024"
        ],
        [
         "Total demand",
         "Total demand",
         "200803",
         20899.38,
         "ET_3.1_SEP_24.xlsx",
         "08/10/2024"
        ],
        [
         "Total demand",
         "Total demand",
         "200804",
         19890.43,
         "ET_3.1_SEP_24.xlsx",
         "08/10/2024"
        ],
        [
         "Total demand",
         "Total demand",
         "200901",
         19721.43,
         "ET_3.1_SEP_24.xlsx",
         "08/10/2024"
        ],
        [
         "Total demand",
         "Total demand",
         "200902",
         18326.09,
         "ET_3.1_SEP_24.xlsx",
         "08/10/2024"
        ],
        [
         "Total demand",
         "Total demand",
         "200903",
         19232.37,
         "ET_3.1_SEP_24.xlsx",
         "08/10/2024"
        ],
        [
         "Total demand",
         "Total demand",
         "200904",
         18270.67,
         "ET_3.1_SEP_24.xlsx",
         "08/10/2024"
        ],
        [
         "Total demand",
         "Total demand",
         "201001",
         17570.58,
         "ET_3.1_SEP_24.xlsx",
         "08/10/2024"
        ],
        [
         "Total demand",
         "Total demand",
         "201002",
         18356.95,
         "ET_3.1_SEP_24.xlsx",
         "08/10/2024"
        ],
        [
         "Total demand",
         "Total demand",
         "201003",
         18890.95,
         "ET_3.1_SEP_24.xlsx",
         "08/10/2024"
        ],
        [
         "Total demand",
         "Total demand",
         "201004",
         18724.36,
         "ET_3.1_SEP_24.xlsx",
         "08/10/2024"
        ],
        [
         "Total demand",
         "Total demand",
         "201101",
         18206.03,
         "ET_3.1_SEP_24.xlsx",
         "08/10/2024"
        ],
        [
         "Total demand",
         "Total demand",
         "201102",
         19301.58,
         "ET_3.1_SEP_24.xlsx",
         "08/10/2024"
        ],
        [
         "Total demand",
         "Total demand",
         "201103",
         19396.92,
         "ET_3.1_SEP_24.xlsx",
         "08/10/2024"
        ],
        [
         "Total demand",
         "Total demand",
         "201104",
         18175.74,
         "ET_3.1_SEP_24.xlsx",
         "08/10/2024"
        ],
        [
         "Total demand",
         "Total demand",
         "201201",
         19452.3,
         "ET_3.1_SEP_24.xlsx",
         "08/10/2024"
        ],
        [
         "Total demand",
         "Total demand",
         "201202",
         19138.75,
         "ET_3.1_SEP_24.xlsx",
         "08/10/2024"
        ],
        [
         "Total demand",
         "Total demand",
         "201203",
         18193.48,
         "ET_3.1_SEP_24.xlsx",
         "08/10/2024"
        ],
        [
         "Total demand",
         "Total demand",
         "201204",
         15054.59,
         "ET_3.1_SEP_24.xlsx",
         "08/10/2024"
        ],
        [
         "Total demand",
         "Total demand",
         "201301",
         16671.01,
         "ET_3.1_SEP_24.xlsx",
         "08/10/2024"
        ],
        [
         "Total demand",
         "Total demand",
         "201302",
         17391.91,
         "ET_3.1_SEP_24.xlsx",
         "08/10/2024"
        ],
        [
         "Total demand",
         "Total demand",
         "201303",
         16969.49,
         "ET_3.1_SEP_24.xlsx",
         "08/10/2024"
        ],
        [
         "Total demand",
         "Total demand",
         "201304",
         14939.49,
         "ET_3.1_SEP_24.xlsx",
         "08/10/2024"
        ],
        [
         "Total demand",
         "Total demand",
         "201401",
         15517.21,
         "ET_3.1_SEP_24.xlsx",
         "08/10/2024"
        ],
        [
         "Total demand",
         "Total demand",
         "201402",
         15134.49,
         "ET_3.1_SEP_24.xlsx",
         "08/10/2024"
        ],
        [
         "Total demand",
         "Total demand",
         "201403",
         15270.23,
         "ET_3.1_SEP_24.xlsx",
         "08/10/2024"
        ],
        [
         "Total demand",
         "Total demand",
         "201404",
         15140.62,
         "ET_3.1_SEP_24.xlsx",
         "08/10/2024"
        ],
        [
         "Total demand",
         "Total demand",
         "201501",
         14633.03,
         "ET_3.1_SEP_24.xlsx",
         "08/10/2024"
        ],
        [
         "Total demand",
         "Total demand",
         "201502",
         14102.55,
         "ET_3.1_SEP_24.xlsx",
         "08/10/2024"
        ],
        [
         "Total demand",
         "Total demand",
         "201503",
         16347.25,
         "ET_3.1_SEP_24.xlsx",
         "08/10/2024"
        ],
        [
         "Total demand",
         "Total demand",
         "201504",
         16307.98,
         "ET_3.1_SEP_24.xlsx",
         "08/10/2024"
        ],
        [
         "Total demand",
         "Total demand",
         "201601",
         14221.39,
         "ET_3.1_SEP_24.xlsx",
         "08/10/2024"
        ],
        [
         "Total demand",
         "Total demand",
         "201602",
         15240.19,
         "ET_3.1_SEP_24.xlsx",
         "08/10/2024"
        ],
        [
         "Total demand",
         "Total demand",
         "201603",
         15371.73,
         "ET_3.1_SEP_24.xlsx",
         "08/10/2024"
        ],
        [
         "Total demand",
         "Total demand",
         "201604",
         15562.13,
         "ET_3.1_SEP_24.xlsx",
         "08/10/2024"
        ],
        [
         "Total demand",
         "Total demand",
         "201701",
         14591.1,
         "ET_3.1_SEP_24.xlsx",
         "08/10/2024"
        ],
        [
         "Total demand",
         "Total demand",
         "201702",
         15281.72,
         "ET_3.1_SEP_24.xlsx",
         "08/10/2024"
        ],
        [
         "Total demand",
         "Total demand",
         "201703",
         15407.86,
         "ET_3.1_SEP_24.xlsx",
         "08/10/2024"
        ],
        [
         "Total demand",
         "Total demand",
         "201704",
         14975.92,
         "ET_3.1_SEP_24.xlsx",
         "08/10/2024"
        ],
        [
         "Total demand",
         "Total demand",
         "201801",
         13178.44,
         "ET_3.1_SEP_24.xlsx",
         "08/10/2024"
        ],
        [
         "Total demand",
         "Total demand",
         "201802",
         14170.78,
         "ET_3.1_SEP_24.xlsx",
         "08/10/2024"
        ],
        [
         "Total demand",
         "Total demand",
         "201803",
         15690.31,
         "ET_3.1_SEP_24.xlsx",
         "08/10/2024"
        ],
        [
         "Total demand",
         "Total demand",
         "201804",
         15657.73,
         "ET_3.1_SEP_24.xlsx",
         "08/10/2024"
        ],
        [
         "Total demand",
         "Total demand",
         "201901",
         14710.22,
         "ET_3.1_SEP_24.xlsx",
         "08/10/2024"
        ],
        [
         "Total demand",
         "Total demand",
         "201902",
         13926.94,
         "ET_3.1_SEP_24.xlsx",
         "08/10/2024"
        ],
        [
         "Total demand",
         "Total demand",
         "201903",
         14896.3,
         "ET_3.1_SEP_24.xlsx",
         "08/10/2024"
        ],
        [
         "Total demand",
         "Total demand",
         "201904",
         15685.33,
         "ET_3.1_SEP_24.xlsx",
         "08/10/2024"
        ],
        [
         "Total demand",
         "Total demand",
         "202001",
         14068.82,
         "ET_3.1_SEP_24.xlsx",
         "08/10/2024"
        ],
        [
         "Total demand",
         "Total demand",
         "202002",
         10215.22,
         "ET_3.1_SEP_24.xlsx",
         "08/10/2024"
        ],
        [
         "Total demand",
         "Total demand",
         "202003",
         11641.84,
         "ET_3.1_SEP_24.xlsx",
         "08/10/2024"
        ],
        [
         "Total demand",
         "Total demand",
         "202004",
         12316.73,
         "ET_3.1_SEP_24.xlsx",
         "08/10/2024"
        ],
        [
         "Total demand",
         "Total demand",
         "202101",
         9808.94,
         "ET_3.1_SEP_24.xlsx",
         "08/10/2024"
        ],
        [
         "Total demand",
         "Total demand",
         "202102",
         12303.27,
         "ET_3.1_SEP_24.xlsx",
         "08/10/2024"
        ],
        [
         "Total demand",
         "Total demand",
         "202103",
         13275.23,
         "ET_3.1_SEP_24.xlsx",
         "08/10/2024"
        ],
        [
         "Total demand",
         "Total demand",
         "202104",
         13409.17,
         "ET_3.1_SEP_24.xlsx",
         "08/10/2024"
        ],
        [
         "Total demand",
         "Total demand",
         "202201",
         13824.26,
         "ET_3.1_SEP_24.xlsx",
         "08/10/2024"
        ],
        [
         "Total demand",
         "Total demand",
         "202202",
         13980.37,
         "ET_3.1_SEP_24.xlsx",
         "08/10/2024"
        ],
        [
         "Total demand",
         "Total demand",
         "202203",
         13421.25,
         "ET_3.1_SEP_24.xlsx",
         "08/10/2024"
        ],
        [
         "Total demand",
         "Total demand",
         "202204",
         13601.0,
         "ET_3.1_SEP_24.xlsx",
         "08/10/2024"
        ],
        [
         "Total demand",
         "Total demand",
         "202301",
         13464.15,
         "ET_3.1_SEP_24.xlsx",
         "08/10/2024"
        ],
        [
         "Total demand",
         "Total demand",
         "202302",
         12839.76,
         "ET_3.1_SEP_24.xlsx",
         "08/10/2024"
        ],
        [
         "Total demand",
         "Total demand",
         "202303",
         12770.78,
         "ET_3.1_SEP_24.xlsx",
         "08/10/2024"
        ],
        [
         "Total demand",
         "Total demand",
         "202304",
         11902.4,
         "ET_3.1_SEP_24.xlsx",
         "08/10/2024"
        ],
        [
         "Total demand",
         "Total demand",
         "202401",
         12789.68,
         "ET_3.1_SEP_24.xlsx",
         "08/10/2024"
        ],
        [
         "Total demand",
         "Total demand",
         "202402",
         12719.97,
         "ET_3.1_SEP_24.xlsx",
         "08/10/2024"
        ],
        [
         "Transformation",
         "Transformation",
         "199901",
         22666.66,
         "ET_3.1_SEP_24.xlsx",
         "08/10/2024"
        ],
        [
         "Transformation",
         "Transformation",
         "199902",
         22020.28,
         "ET_3.1_SEP_24.xlsx",
         "08/10/2024"
        ],
        [
         "Transformation",
         "Transformation",
         "199903",
         21474.62,
         "ET_3.1_SEP_24.xlsx",
         "08/10/2024"
        ],
        [
         "Transformation",
         "Transformation",
         "199904",
         22124.44,
         "ET_3.1_SEP_24.xlsx",
         "08/10/2024"
        ],
        [
         "Transformation",
         "Transformation",
         "200001",
         22225.17,
         "ET_3.1_SEP_24.xlsx",
         "08/10/2024"
        ],
        [
         "Transformation",
         "Transformation",
         "200002",
         21522.85,
         "ET_3.1_SEP_24.xlsx",
         "08/10/2024"
        ],
        [
         "Transformation",
         "Transformation",
         "200003",
         21845.21,
         "ET_3.1_SEP_24.xlsx",
         "08/10/2024"
        ],
        [
         "Transformation",
         "Transformation",
         "200004",
         22420.03,
         "ET_3.1_SEP_24.xlsx",
         "08/10/2024"
        ],
        [
         "Transformation",
         "Transformation",
         "200101",
         20676.92,
         "ET_3.1_SEP_24.xlsx",
         "08/10/2024"
        ],
        [
         "Transformation",
         "Transformation",
         "200102",
         18062.23,
         "ET_3.1_SEP_24.xlsx",
         "08/10/2024"
        ],
        [
         "Transformation",
         "Transformation",
         "200103",
         22073.61,
         "ET_3.1_SEP_24.xlsx",
         "08/10/2024"
        ],
        [
         "Transformation",
         "Transformation",
         "200104",
         22530.07,
         "ET_3.1_SEP_24.xlsx",
         "08/10/2024"
        ],
        [
         "Transformation",
         "Transformation",
         "200201",
         21135.61,
         "ET_3.1_SEP_24.xlsx",
         "08/10/2024"
        ],
        [
         "Transformation",
         "Transformation",
         "200202",
         20909.86,
         "ET_3.1_SEP_24.xlsx",
         "08/10/2024"
        ],
        [
         "Transformation",
         "Transformation",
         "200203",
         21812.2,
         "ET_3.1_SEP_24.xlsx",
         "08/10/2024"
        ],
        [
         "Transformation",
         "Transformation",
         "200204",
         20926.24,
         "ET_3.1_SEP_24.xlsx",
         "08/10/2024"
        ],
        [
         "Transformation",
         "Transformation",
         "200301",
         21461.25,
         "ET_3.1_SEP_24.xlsx",
         "08/10/2024"
        ],
        [
         "Transformation",
         "Transformation",
         "200302",
         21732.01,
         "ET_3.1_SEP_24.xlsx",
         "08/10/2024"
        ],
        [
         "Transformation",
         "Transformation",
         "200303",
         20560.42,
         "ET_3.1_SEP_24.xlsx",
         "08/10/2024"
        ],
        [
         "Transformation",
         "Transformation",
         "200304",
         20831.33,
         "ET_3.1_SEP_24.xlsx",
         "08/10/2024"
        ],
        [
         "Transformation",
         "Transformation",
         "200401",
         21414.23,
         "ET_3.1_SEP_24.xlsx",
         "08/10/2024"
        ],
        [
         "Transformation",
         "Transformation",
         "200402",
         22216.58,
         "ET_3.1_SEP_24.xlsx",
         "08/10/2024"
        ],
        [
         "Transformation",
         "Transformation",
         "200403",
         23005.72,
         "ET_3.1_SEP_24.xlsx",
         "08/10/2024"
        ],
        [
         "Transformation",
         "Transformation",
         "200404",
         23184.06,
         "ET_3.1_SEP_24.xlsx",
         "08/10/2024"
        ],
        [
         "Transformation",
         "Transformation",
         "200501",
         20978.29,
         "ET_3.1_SEP_24.xlsx",
         "08/10/2024"
        ],
        [
         "Transformation",
         "Transformation",
         "200502",
         20998.2,
         "ET_3.1_SEP_24.xlsx",
         "08/10/2024"
        ],
        [
         "Transformation",
         "Transformation",
         "200503",
         22610.92,
         "ET_3.1_SEP_24.xlsx",
         "08/10/2024"
        ],
        [
         "Transformation",
         "Transformation",
         "200504",
         21546.85,
         "ET_3.1_SEP_24.xlsx",
         "08/10/2024"
        ],
        [
         "Transformation",
         "Transformation",
         "200601",
         20112.67,
         "ET_3.1_SEP_24.xlsx",
         "08/10/2024"
        ],
        [
         "Transformation",
         "Transformation",
         "200602",
         20982.26,
         "ET_3.1_SEP_24.xlsx",
         "08/10/2024"
        ],
        [
         "Transformation",
         "Transformation",
         "200603",
         21614.39,
         "ET_3.1_SEP_24.xlsx",
         "08/10/2024"
        ],
        [
         "Transformation",
         "Transformation",
         "200604",
         20503.8,
         "ET_3.1_SEP_24.xlsx",
         "08/10/2024"
        ],
        [
         "Transformation",
         "Transformation",
         "200701",
         19272.05,
         "ET_3.1_SEP_24.xlsx",
         "08/10/2024"
        ],
        [
         "Transformation",
         "Transformation",
         "200702",
         21106.33,
         "ET_3.1_SEP_24.xlsx",
         "08/10/2024"
        ],
        [
         "Transformation",
         "Transformation",
         "200703",
         21041.95,
         "ET_3.1_SEP_24.xlsx",
         "08/10/2024"
        ],
        [
         "Transformation",
         "Transformation",
         "200704",
         20056.89,
         "ET_3.1_SEP_24.xlsx",
         "08/10/2024"
        ],
        [
         "Transformation",
         "Transformation",
         "200801",
         19511.47,
         "ET_3.1_SEP_24.xlsx",
         "08/10/2024"
        ],
        [
         "Transformation",
         "Transformation",
         "200802",
         20732.31,
         "ET_3.1_SEP_24.xlsx",
         "08/10/2024"
        ],
        [
         "Transformation",
         "Transformation",
         "200803",
         20899.38,
         "ET_3.1_SEP_24.xlsx",
         "08/10/2024"
        ],
        [
         "Transformation",
         "Transformation",
         "200804",
         19890.43,
         "ET_3.1_SEP_24.xlsx",
         "08/10/2024"
        ],
        [
         "Transformation",
         "Transformation",
         "200901",
         19721.43,
         "ET_3.1_SEP_24.xlsx",
         "08/10/2024"
        ],
        [
         "Transformation",
         "Transformation",
         "200902",
         18326.09,
         "ET_3.1_SEP_24.xlsx",
         "08/10/2024"
        ],
        [
         "Transformation",
         "Transformation",
         "200903",
         19232.37,
         "ET_3.1_SEP_24.xlsx",
         "08/10/2024"
        ],
        [
         "Transformation",
         "Transformation",
         "200904",
         18270.67,
         "ET_3.1_SEP_24.xlsx",
         "08/10/2024"
        ],
        [
         "Transformation",
         "Transformation",
         "201001",
         17570.58,
         "ET_3.1_SEP_24.xlsx",
         "08/10/2024"
        ],
        [
         "Transformation",
         "Transformation",
         "201002",
         18356.95,
         "ET_3.1_SEP_24.xlsx",
         "08/10/2024"
        ],
        [
         "Transformation",
         "Transformation",
         "201003",
         18890.95,
         "ET_3.1_SEP_24.xlsx",
         "08/10/2024"
        ],
        [
         "Transformation",
         "Transformation",
         "201004",
         18724.36,
         "ET_3.1_SEP_24.xlsx",
         "08/10/2024"
        ],
        [
         "Transformation",
         "Transformation",
         "201101",
         18206.03,
         "ET_3.1_SEP_24.xlsx",
         "08/10/2024"
        ],
        [
         "Transformation",
         "Transformation",
         "201102",
         19301.58,
         "ET_3.1_SEP_24.xlsx",
         "08/10/2024"
        ],
        [
         "Transformation",
         "Transformation",
         "201103",
         19396.92,
         "ET_3.1_SEP_24.xlsx",
         "08/10/2024"
        ],
        [
         "Transformation",
         "Transformation",
         "201104",
         18175.74,
         "ET_3.1_SEP_24.xlsx",
         "08/10/2024"
        ],
        [
         "Transformation",
         "Transformation",
         "201201",
         19452.3,
         "ET_3.1_SEP_24.xlsx",
         "08/10/2024"
        ],
        [
         "Transformation",
         "Transformation",
         "201202",
         19138.75,
         "ET_3.1_SEP_24.xlsx",
         "08/10/2024"
        ],
        [
         "Transformation",
         "Transformation",
         "201203",
         18193.48,
         "ET_3.1_SEP_24.xlsx",
         "08/10/2024"
        ],
        [
         "Transformation",
         "Transformation",
         "201204",
         15054.59,
         "ET_3.1_SEP_24.xlsx",
         "08/10/2024"
        ],
        [
         "Transformation",
         "Transformation",
         "201301",
         16671.01,
         "ET_3.1_SEP_24.xlsx",
         "08/10/2024"
        ],
        [
         "Transformation",
         "Transformation",
         "201302",
         17391.91,
         "ET_3.1_SEP_24.xlsx",
         "08/10/2024"
        ],
        [
         "Transformation",
         "Transformation",
         "201303",
         16969.49,
         "ET_3.1_SEP_24.xlsx",
         "08/10/2024"
        ],
        [
         "Transformation",
         "Transformation",
         "201304",
         14939.49,
         "ET_3.1_SEP_24.xlsx",
         "08/10/2024"
        ],
        [
         "Transformation",
         "Transformation",
         "201401",
         15517.21,
         "ET_3.1_SEP_24.xlsx",
         "08/10/2024"
        ],
        [
         "Transformation",
         "Transformation",
         "201402",
         15134.49,
         "ET_3.1_SEP_24.xlsx",
         "08/10/2024"
        ],
        [
         "Transformation",
         "Transformation",
         "201403",
         15270.23,
         "ET_3.1_SEP_24.xlsx",
         "08/10/2024"
        ],
        [
         "Transformation",
         "Transformation",
         "201404",
         15140.62,
         "ET_3.1_SEP_24.xlsx",
         "08/10/2024"
        ],
        [
         "Transformation",
         "Transformation",
         "201501",
         14633.03,
         "ET_3.1_SEP_24.xlsx",
         "08/10/2024"
        ],
        [
         "Transformation",
         "Transformation",
         "201502",
         14102.55,
         "ET_3.1_SEP_24.xlsx",
         "08/10/2024"
        ],
        [
         "Transformation",
         "Transformation",
         "201503",
         16347.25,
         "ET_3.1_SEP_24.xlsx",
         "08/10/2024"
        ],
        [
         "Transformation",
         "Transformation",
         "201504",
         16307.98,
         "ET_3.1_SEP_24.xlsx",
         "08/10/2024"
        ],
        [
         "Transformation",
         "Transformation",
         "201601",
         14221.39,
         "ET_3.1_SEP_24.xlsx",
         "08/10/2024"
        ],
        [
         "Transformation",
         "Transformation",
         "201602",
         15240.19,
         "ET_3.1_SEP_24.xlsx",
         "08/10/2024"
        ],
        [
         "Transformation",
         "Transformation",
         "201603",
         15371.73,
         "ET_3.1_SEP_24.xlsx",
         "08/10/2024"
        ],
        [
         "Transformation",
         "Transformation",
         "201604",
         15562.13,
         "ET_3.1_SEP_24.xlsx",
         "08/10/2024"
        ],
        [
         "Transformation",
         "Transformation",
         "201701",
         14591.1,
         "ET_3.1_SEP_24.xlsx",
         "08/10/2024"
        ],
        [
         "Transformation",
         "Transformation",
         "201702",
         15281.72,
         "ET_3.1_SEP_24.xlsx",
         "08/10/2024"
        ],
        [
         "Transformation",
         "Transformation",
         "201703",
         15407.86,
         "ET_3.1_SEP_24.xlsx",
         "08/10/2024"
        ],
        [
         "Transformation",
         "Transformation",
         "201704",
         14975.92,
         "ET_3.1_SEP_24.xlsx",
         "08/10/2024"
        ],
        [
         "Transformation",
         "Transformation",
         "201801",
         13178.44,
         "ET_3.1_SEP_24.xlsx",
         "08/10/2024"
        ],
        [
         "Transformation",
         "Transformation",
         "201802",
         14170.78,
         "ET_3.1_SEP_24.xlsx",
         "08/10/2024"
        ],
        [
         "Transformation",
         "Transformation",
         "201803",
         15690.31,
         "ET_3.1_SEP_24.xlsx",
         "08/10/2024"
        ],
        [
         "Transformation",
         "Transformation",
         "201804",
         15657.73,
         "ET_3.1_SEP_24.xlsx",
         "08/10/2024"
        ],
        [
         "Transformation",
         "Transformation",
         "201901",
         14710.22,
         "ET_3.1_SEP_24.xlsx",
         "08/10/2024"
        ],
        [
         "Transformation",
         "Transformation",
         "201902",
         13926.94,
         "ET_3.1_SEP_24.xlsx",
         "08/10/2024"
        ],
        [
         "Transformation",
         "Transformation",
         "201903",
         14896.3,
         "ET_3.1_SEP_24.xlsx",
         "08/10/2024"
        ],
        [
         "Transformation",
         "Transformation",
         "201904",
         15685.33,
         "ET_3.1_SEP_24.xlsx",
         "08/10/2024"
        ],
        [
         "Transformation",
         "Transformation",
         "202001",
         14068.82,
         "ET_3.1_SEP_24.xlsx",
         "08/10/2024"
        ],
        [
         "Transformation",
         "Transformation",
         "202002",
         10215.22,
         "ET_3.1_SEP_24.xlsx",
         "08/10/2024"
        ],
        [
         "Transformation",
         "Transformation",
         "202003",
         11641.84,
         "ET_3.1_SEP_24.xlsx",
         "08/10/2024"
        ],
        [
         "Transformation",
         "Transformation",
         "202004",
         12316.73,
         "ET_3.1_SEP_24.xlsx",
         "08/10/2024"
        ],
        [
         "Transformation",
         "Transformation",
         "202101",
         9808.94,
         "ET_3.1_SEP_24.xlsx",
         "08/10/2024"
        ],
        [
         "Transformation",
         "Transformation",
         "202102",
         12303.27,
         "ET_3.1_SEP_24.xlsx",
         "08/10/2024"
        ],
        [
         "Transformation",
         "Transformation",
         "202103",
         13275.23,
         "ET_3.1_SEP_24.xlsx",
         "08/10/2024"
        ],
        [
         "Transformation",
         "Transformation",
         "202104",
         13409.17,
         "ET_3.1_SEP_24.xlsx",
         "08/10/2024"
        ],
        [
         "Transformation",
         "Transformation",
         "202201",
         13824.26,
         "ET_3.1_SEP_24.xlsx",
         "08/10/2024"
        ],
        [
         "Transformation",
         "Transformation",
         "202202",
         13980.37,
         "ET_3.1_SEP_24.xlsx",
         "08/10/2024"
        ],
        [
         "Transformation",
         "Transformation",
         "202203",
         13421.25,
         "ET_3.1_SEP_24.xlsx",
         "08/10/2024"
        ],
        [
         "Transformation",
         "Transformation",
         "202204",
         13601.0,
         "ET_3.1_SEP_24.xlsx",
         "08/10/2024"
        ],
        [
         "Transformation",
         "Transformation",
         "202301",
         13464.15,
         "ET_3.1_SEP_24.xlsx",
         "08/10/2024"
        ],
        [
         "Transformation",
         "Transformation",
         "202302",
         12839.76,
         "ET_3.1_SEP_24.xlsx",
         "08/10/2024"
        ],
        [
         "Transformation",
         "Transformation",
         "202303",
         12770.78,
         "ET_3.1_SEP_24.xlsx",
         "08/10/2024"
        ],
        [
         "Transformation",
         "Transformation",
         "202304",
         11902.4,
         "ET_3.1_SEP_24.xlsx",
         "08/10/2024"
        ],
        [
         "Transformation",
         "Transformation",
         "202401",
         12789.68,
         "ET_3.1_SEP_24.xlsx",
         "08/10/2024"
        ],
        [
         "Transformation",
         "Transformation",
         "202402",
         12719.97,
         "ET_3.1_SEP_24.xlsx",
         "08/10/2024"
        ],
        [
         "Petroleum refineries",
         "Petroleum refineries",
         "199901",
         22666.66,
         "ET_3.1_SEP_24.xlsx",
         "08/10/2024"
        ],
        [
         "Petroleum refineries",
         "Petroleum refineries",
         "199902",
         22020.28,
         "ET_3.1_SEP_24.xlsx",
         "08/10/2024"
        ],
        [
         "Petroleum refineries",
         "Petroleum refineries",
         "199903",
         21474.62,
         "ET_3.1_SEP_24.xlsx",
         "08/10/2024"
        ],
        [
         "Petroleum refineries",
         "Petroleum refineries",
         "199904",
         22124.44,
         "ET_3.1_SEP_24.xlsx",
         "08/10/2024"
        ],
        [
         "Petroleum refineries",
         "Petroleum refineries",
         "200001",
         22225.17,
         "ET_3.1_SEP_24.xlsx",
         "08/10/2024"
        ],
        [
         "Petroleum refineries",
         "Petroleum refineries",
         "200002",
         21522.85,
         "ET_3.1_SEP_24.xlsx",
         "08/10/2024"
        ],
        [
         "Petroleum refineries",
         "Petroleum refineries",
         "200003",
         21845.21,
         "ET_3.1_SEP_24.xlsx",
         "08/10/2024"
        ],
        [
         "Petroleum refineries",
         "Petroleum refineries",
         "200004",
         22420.03,
         "ET_3.1_SEP_24.xlsx",
         "08/10/2024"
        ],
        [
         "Petroleum refineries",
         "Petroleum refineries",
         "200101",
         20676.92,
         "ET_3.1_SEP_24.xlsx",
         "08/10/2024"
        ],
        [
         "Petroleum refineries",
         "Petroleum refineries",
         "200102",
         18062.23,
         "ET_3.1_SEP_24.xlsx",
         "08/10/2024"
        ],
        [
         "Petroleum refineries",
         "Petroleum refineries",
         "200103",
         22073.61,
         "ET_3.1_SEP_24.xlsx",
         "08/10/2024"
        ],
        [
         "Petroleum refineries",
         "Petroleum refineries",
         "200104",
         22530.07,
         "ET_3.1_SEP_24.xlsx",
         "08/10/2024"
        ],
        [
         "Petroleum refineries",
         "Petroleum refineries",
         "200201",
         21135.61,
         "ET_3.1_SEP_24.xlsx",
         "08/10/2024"
        ],
        [
         "Petroleum refineries",
         "Petroleum refineries",
         "200202",
         20909.86,
         "ET_3.1_SEP_24.xlsx",
         "08/10/2024"
        ],
        [
         "Petroleum refineries",
         "Petroleum refineries",
         "200203",
         21812.2,
         "ET_3.1_SEP_24.xlsx",
         "08/10/2024"
        ],
        [
         "Petroleum refineries",
         "Petroleum refineries",
         "200204",
         20926.24,
         "ET_3.1_SEP_24.xlsx",
         "08/10/2024"
        ],
        [
         "Petroleum refineries",
         "Petroleum refineries",
         "200301",
         21461.25,
         "ET_3.1_SEP_24.xlsx",
         "08/10/2024"
        ],
        [
         "Petroleum refineries",
         "Petroleum refineries",
         "200302",
         21732.01,
         "ET_3.1_SEP_24.xlsx",
         "08/10/2024"
        ],
        [
         "Petroleum refineries",
         "Petroleum refineries",
         "200303",
         20560.42,
         "ET_3.1_SEP_24.xlsx",
         "08/10/2024"
        ],
        [
         "Petroleum refineries",
         "Petroleum refineries",
         "200304",
         20831.33,
         "ET_3.1_SEP_24.xlsx",
         "08/10/2024"
        ],
        [
         "Petroleum refineries",
         "Petroleum refineries",
         "200401",
         21414.23,
         "ET_3.1_SEP_24.xlsx",
         "08/10/2024"
        ],
        [
         "Petroleum refineries",
         "Petroleum refineries",
         "200402",
         22216.58,
         "ET_3.1_SEP_24.xlsx",
         "08/10/2024"
        ],
        [
         "Petroleum refineries",
         "Petroleum refineries",
         "200403",
         23005.72,
         "ET_3.1_SEP_24.xlsx",
         "08/10/2024"
        ],
        [
         "Petroleum refineries",
         "Petroleum refineries",
         "200404",
         23184.06,
         "ET_3.1_SEP_24.xlsx",
         "08/10/2024"
        ],
        [
         "Petroleum refineries",
         "Petroleum refineries",
         "200501",
         20978.29,
         "ET_3.1_SEP_24.xlsx",
         "08/10/2024"
        ],
        [
         "Petroleum refineries",
         "Petroleum refineries",
         "200502",
         20998.2,
         "ET_3.1_SEP_24.xlsx",
         "08/10/2024"
        ],
        [
         "Petroleum refineries",
         "Petroleum refineries",
         "200503",
         22610.92,
         "ET_3.1_SEP_24.xlsx",
         "08/10/2024"
        ],
        [
         "Petroleum refineries",
         "Petroleum refineries",
         "200504",
         21546.85,
         "ET_3.1_SEP_24.xlsx",
         "08/10/2024"
        ],
        [
         "Petroleum refineries",
         "Petroleum refineries",
         "200601",
         20112.67,
         "ET_3.1_SEP_24.xlsx",
         "08/10/2024"
        ],
        [
         "Petroleum refineries",
         "Petroleum refineries",
         "200602",
         20982.26,
         "ET_3.1_SEP_24.xlsx",
         "08/10/2024"
        ],
        [
         "Petroleum refineries",
         "Petroleum refineries",
         "200603",
         21614.39,
         "ET_3.1_SEP_24.xlsx",
         "08/10/2024"
        ],
        [
         "Petroleum refineries",
         "Petroleum refineries",
         "200604",
         20503.8,
         "ET_3.1_SEP_24.xlsx",
         "08/10/2024"
        ],
        [
         "Petroleum refineries",
         "Petroleum refineries",
         "200701",
         19272.05,
         "ET_3.1_SEP_24.xlsx",
         "08/10/2024"
        ],
        [
         "Petroleum refineries",
         "Petroleum refineries",
         "200702",
         21106.33,
         "ET_3.1_SEP_24.xlsx",
         "08/10/2024"
        ],
        [
         "Petroleum refineries",
         "Petroleum refineries",
         "200703",
         21041.95,
         "ET_3.1_SEP_24.xlsx",
         "08/10/2024"
        ],
        [
         "Petroleum refineries",
         "Petroleum refineries",
         "200704",
         20056.89,
         "ET_3.1_SEP_24.xlsx",
         "08/10/2024"
        ],
        [
         "Petroleum refineries",
         "Petroleum refineries",
         "200801",
         19511.47,
         "ET_3.1_SEP_24.xlsx",
         "08/10/2024"
        ],
        [
         "Petroleum refineries",
         "Petroleum refineries",
         "200802",
         20732.31,
         "ET_3.1_SEP_24.xlsx",
         "08/10/2024"
        ],
        [
         "Petroleum refineries",
         "Petroleum refineries",
         "200803",
         20899.38,
         "ET_3.1_SEP_24.xlsx",
         "08/10/2024"
        ],
        [
         "Petroleum refineries",
         "Petroleum refineries",
         "200804",
         19890.43,
         "ET_3.1_SEP_24.xlsx",
         "08/10/2024"
        ],
        [
         "Petroleum refineries",
         "Petroleum refineries",
         "200901",
         19721.43,
         "ET_3.1_SEP_24.xlsx",
         "08/10/2024"
        ],
        [
         "Petroleum refineries",
         "Petroleum refineries",
         "200902",
         18326.09,
         "ET_3.1_SEP_24.xlsx",
         "08/10/2024"
        ],
        [
         "Petroleum refineries",
         "Petroleum refineries",
         "200903",
         19232.37,
         "ET_3.1_SEP_24.xlsx",
         "08/10/2024"
        ],
        [
         "Petroleum refineries",
         "Petroleum refineries",
         "200904",
         18270.67,
         "ET_3.1_SEP_24.xlsx",
         "08/10/2024"
        ],
        [
         "Petroleum refineries",
         "Petroleum refineries",
         "201001",
         17570.58,
         "ET_3.1_SEP_24.xlsx",
         "08/10/2024"
        ],
        [
         "Petroleum refineries",
         "Petroleum refineries",
         "201002",
         18356.95,
         "ET_3.1_SEP_24.xlsx",
         "08/10/2024"
        ],
        [
         "Petroleum refineries",
         "Petroleum refineries",
         "201003",
         18890.95,
         "ET_3.1_SEP_24.xlsx",
         "08/10/2024"
        ],
        [
         "Petroleum refineries",
         "Petroleum refineries",
         "201004",
         18724.36,
         "ET_3.1_SEP_24.xlsx",
         "08/10/2024"
        ],
        [
         "Petroleum refineries",
         "Petroleum refineries",
         "201101",
         18206.03,
         "ET_3.1_SEP_24.xlsx",
         "08/10/2024"
        ],
        [
         "Petroleum refineries",
         "Petroleum refineries",
         "201102",
         19301.58,
         "ET_3.1_SEP_24.xlsx",
         "08/10/2024"
        ],
        [
         "Petroleum refineries",
         "Petroleum refineries",
         "201103",
         19396.92,
         "ET_3.1_SEP_24.xlsx",
         "08/10/2024"
        ],
        [
         "Petroleum refineries",
         "Petroleum refineries",
         "201104",
         18175.74,
         "ET_3.1_SEP_24.xlsx",
         "08/10/2024"
        ],
        [
         "Petroleum refineries",
         "Petroleum refineries",
         "201201",
         19452.3,
         "ET_3.1_SEP_24.xlsx",
         "08/10/2024"
        ],
        [
         "Petroleum refineries",
         "Petroleum refineries",
         "201202",
         19138.75,
         "ET_3.1_SEP_24.xlsx",
         "08/10/2024"
        ],
        [
         "Petroleum refineries",
         "Petroleum refineries",
         "201203",
         18193.48,
         "ET_3.1_SEP_24.xlsx",
         "08/10/2024"
        ],
        [
         "Petroleum refineries",
         "Petroleum refineries",
         "201204",
         15054.59,
         "ET_3.1_SEP_24.xlsx",
         "08/10/2024"
        ],
        [
         "Petroleum refineries",
         "Petroleum refineries",
         "201301",
         16671.01,
         "ET_3.1_SEP_24.xlsx",
         "08/10/2024"
        ],
        [
         "Petroleum refineries",
         "Petroleum refineries",
         "201302",
         17391.91,
         "ET_3.1_SEP_24.xlsx",
         "08/10/2024"
        ],
        [
         "Petroleum refineries",
         "Petroleum refineries",
         "201303",
         16969.49,
         "ET_3.1_SEP_24.xlsx",
         "08/10/2024"
        ],
        [
         "Petroleum refineries",
         "Petroleum refineries",
         "201304",
         14939.49,
         "ET_3.1_SEP_24.xlsx",
         "08/10/2024"
        ],
        [
         "Petroleum refineries",
         "Petroleum refineries",
         "201401",
         15517.21,
         "ET_3.1_SEP_24.xlsx",
         "08/10/2024"
        ],
        [
         "Petroleum refineries",
         "Petroleum refineries",
         "201402",
         15134.49,
         "ET_3.1_SEP_24.xlsx",
         "08/10/2024"
        ],
        [
         "Petroleum refineries",
         "Petroleum refineries",
         "201403",
         15270.23,
         "ET_3.1_SEP_24.xlsx",
         "08/10/2024"
        ],
        [
         "Petroleum refineries",
         "Petroleum refineries",
         "201404",
         15140.62,
         "ET_3.1_SEP_24.xlsx",
         "08/10/2024"
        ],
        [
         "Petroleum refineries",
         "Petroleum refineries",
         "201501",
         14633.03,
         "ET_3.1_SEP_24.xlsx",
         "08/10/2024"
        ],
        [
         "Petroleum refineries",
         "Petroleum refineries",
         "201502",
         14102.55,
         "ET_3.1_SEP_24.xlsx",
         "08/10/2024"
        ],
        [
         "Petroleum refineries",
         "Petroleum refineries",
         "201503",
         16347.25,
         "ET_3.1_SEP_24.xlsx",
         "08/10/2024"
        ],
        [
         "Petroleum refineries",
         "Petroleum refineries",
         "201504",
         16307.98,
         "ET_3.1_SEP_24.xlsx",
         "08/10/2024"
        ],
        [
         "Petroleum refineries",
         "Petroleum refineries",
         "201601",
         14221.39,
         "ET_3.1_SEP_24.xlsx",
         "08/10/2024"
        ],
        [
         "Petroleum refineries",
         "Petroleum refineries",
         "201602",
         15240.19,
         "ET_3.1_SEP_24.xlsx",
         "08/10/2024"
        ],
        [
         "Petroleum refineries",
         "Petroleum refineries",
         "201603",
         15371.73,
         "ET_3.1_SEP_24.xlsx",
         "08/10/2024"
        ],
        [
         "Petroleum refineries",
         "Petroleum refineries",
         "201604",
         15562.13,
         "ET_3.1_SEP_24.xlsx",
         "08/10/2024"
        ],
        [
         "Petroleum refineries",
         "Petroleum refineries",
         "201701",
         14591.1,
         "ET_3.1_SEP_24.xlsx",
         "08/10/2024"
        ],
        [
         "Petroleum refineries",
         "Petroleum refineries",
         "201702",
         15281.72,
         "ET_3.1_SEP_24.xlsx",
         "08/10/2024"
        ],
        [
         "Petroleum refineries",
         "Petroleum refineries",
         "201703",
         15407.86,
         "ET_3.1_SEP_24.xlsx",
         "08/10/2024"
        ],
        [
         "Petroleum refineries",
         "Petroleum refineries",
         "201704",
         14975.92,
         "ET_3.1_SEP_24.xlsx",
         "08/10/2024"
        ],
        [
         "Petroleum refineries",
         "Petroleum refineries",
         "201801",
         13178.44,
         "ET_3.1_SEP_24.xlsx",
         "08/10/2024"
        ],
        [
         "Petroleum refineries",
         "Petroleum refineries",
         "201802",
         14170.78,
         "ET_3.1_SEP_24.xlsx",
         "08/10/2024"
        ],
        [
         "Petroleum refineries",
         "Petroleum refineries",
         "201803",
         15690.31,
         "ET_3.1_SEP_24.xlsx",
         "08/10/2024"
        ],
        [
         "Petroleum refineries",
         "Petroleum refineries",
         "201804",
         15657.73,
         "ET_3.1_SEP_24.xlsx",
         "08/10/2024"
        ],
        [
         "Petroleum refineries",
         "Petroleum refineries",
         "201901",
         14710.22,
         "ET_3.1_SEP_24.xlsx",
         "08/10/2024"
        ],
        [
         "Petroleum refineries",
         "Petroleum refineries",
         "201902",
         13926.94,
         "ET_3.1_SEP_24.xlsx",
         "08/10/2024"
        ],
        [
         "Petroleum refineries",
         "Petroleum refineries",
         "201903",
         14896.3,
         "ET_3.1_SEP_24.xlsx",
         "08/10/2024"
        ],
        [
         "Petroleum refineries",
         "Petroleum refineries",
         "201904",
         15685.33,
         "ET_3.1_SEP_24.xlsx",
         "08/10/2024"
        ],
        [
         "Petroleum refineries",
         "Petroleum refineries",
         "202001",
         14068.82,
         "ET_3.1_SEP_24.xlsx",
         "08/10/2024"
        ],
        [
         "Petroleum refineries",
         "Petroleum refineries",
         "202002",
         10215.22,
         "ET_3.1_SEP_24.xlsx",
         "08/10/2024"
        ],
        [
         "Petroleum refineries",
         "Petroleum refineries",
         "202003",
         11641.84,
         "ET_3.1_SEP_24.xlsx",
         "08/10/2024"
        ],
        [
         "Petroleum refineries",
         "Petroleum refineries",
         "202004",
         12316.73,
         "ET_3.1_SEP_24.xlsx",
         "08/10/2024"
        ],
        [
         "Petroleum refineries",
         "Petroleum refineries",
         "202101",
         9808.94,
         "ET_3.1_SEP_24.xlsx",
         "08/10/2024"
        ],
        [
         "Petroleum refineries",
         "Petroleum refineries",
         "202102",
         12303.27,
         "ET_3.1_SEP_24.xlsx",
         "08/10/2024"
        ],
        [
         "Petroleum refineries",
         "Petroleum refineries",
         "202103",
         13275.23,
         "ET_3.1_SEP_24.xlsx",
         "08/10/2024"
        ],
        [
         "Petroleum refineries",
         "Petroleum refineries",
         "202104",
         13409.17,
         "ET_3.1_SEP_24.xlsx",
         "08/10/2024"
        ],
        [
         "Petroleum refineries",
         "Petroleum refineries",
         "202201",
         13824.26,
         "ET_3.1_SEP_24.xlsx",
         "08/10/2024"
        ],
        [
         "Petroleum refineries",
         "Petroleum refineries",
         "202202",
         13980.37,
         "ET_3.1_SEP_24.xlsx",
         "08/10/2024"
        ],
        [
         "Petroleum refineries",
         "Petroleum refineries",
         "202203",
         13421.25,
         "ET_3.1_SEP_24.xlsx",
         "08/10/2024"
        ],
        [
         "Petroleum refineries",
         "Petroleum refineries",
         "202204",
         13601.0,
         "ET_3.1_SEP_24.xlsx",
         "08/10/2024"
        ],
        [
         "Petroleum refineries",
         "Petroleum refineries",
         "202301",
         13464.15,
         "ET_3.1_SEP_24.xlsx",
         "08/10/2024"
        ],
        [
         "Petroleum refineries",
         "Petroleum refineries",
         "202302",
         12839.76,
         "ET_3.1_SEP_24.xlsx",
         "08/10/2024"
        ],
        [
         "Petroleum refineries",
         "Petroleum refineries",
         "202303",
         12770.78,
         "ET_3.1_SEP_24.xlsx",
         "08/10/2024"
        ],
        [
         "Petroleum refineries",
         "Petroleum refineries",
         "202304",
         11902.4,
         "ET_3.1_SEP_24.xlsx",
         "08/10/2024"
        ],
        [
         "Petroleum refineries",
         "Petroleum refineries",
         "202401",
         12789.68,
         "ET_3.1_SEP_24.xlsx",
         "08/10/2024"
        ],
        [
         "Petroleum refineries",
         "Petroleum refineries",
         "202402",
         12719.97,
         "ET_3.1_SEP_24.xlsx",
         "08/10/2024"
        ],
        [
         "Energy industry use",
         "Energy industry use",
         "199901",
         83.81,
         "ET_3.1_SEP_24.xlsx",
         "08/10/2024"
        ],
        [
         "Energy industry use",
         "Energy industry use",
         "199902",
         81.02,
         "ET_3.1_SEP_24.xlsx",
         "08/10/2024"
        ],
        [
         "Energy industry use",
         "Energy industry use",
         "199903",
         76.81,
         "ET_3.1_SEP_24.xlsx",
         "08/10/2024"
        ],
        [
         "Energy industry use",
         "Energy industry use",
         "199904",
         81.36,
         "ET_3.1_SEP_24.xlsx",
         "08/10/2024"
        ],
        [
         "Energy industry use",
         "Energy industry use",
         "200001",
         82.0,
         "ET_3.1_SEP_24.xlsx",
         "08/10/2024"
        ],
        [
         "Energy industry use",
         "Energy industry use",
         "200002",
         75.0,
         "ET_3.1_SEP_24.xlsx",
         "08/10/2024"
        ],
        [
         "Energy industry use",
         "Energy industry use",
         "200003",
         68.0,
         "ET_3.1_SEP_24.xlsx",
         "08/10/2024"
        ],
        [
         "Energy industry use",
         "Energy industry use",
         "200004",
         69.0,
         "ET_3.1_SEP_24.xlsx",
         "08/10/2024"
        ],
        [
         "Energy industry use",
         "Energy industry use",
         "200101",
         0.0,
         "ET_3.1_SEP_24.xlsx",
         "08/10/2024"
        ],
        [
         "Energy industry use",
         "Energy industry use",
         "200102",
         0.0,
         "ET_3.1_SEP_24.xlsx",
         "08/10/2024"
        ],
        [
         "Energy industry use",
         "Energy industry use",
         "200103",
         0.0,
         "ET_3.1_SEP_24.xlsx",
         "08/10/2024"
        ],
        [
         "Energy industry use",
         "Energy industry use",
         "200104",
         0.0,
         "ET_3.1_SEP_24.xlsx",
         "08/10/2024"
        ],
        [
         "Energy industry use",
         "Energy industry use",
         "200201",
         0.0,
         "ET_3.1_SEP_24.xlsx",
         "08/10/2024"
        ],
        [
         "Energy industry use",
         "Energy industry use",
         "200202",
         0.0,
         "ET_3.1_SEP_24.xlsx",
         "08/10/2024"
        ],
        [
         "Energy industry use",
         "Energy industry use",
         "200203",
         0.0,
         "ET_3.1_SEP_24.xlsx",
         "08/10/2024"
        ],
        [
         "Energy industry use",
         "Energy industry use",
         "200204",
         0.0,
         "ET_3.1_SEP_24.xlsx",
         "08/10/2024"
        ],
        [
         "Energy industry use",
         "Energy industry use",
         "200301",
         0.0,
         "ET_3.1_SEP_24.xlsx",
         "08/10/2024"
        ],
        [
         "Energy industry use",
         "Energy industry use",
         "200302",
         0.0,
         "ET_3.1_SEP_24.xlsx",
         "08/10/2024"
        ],
        [
         "Energy industry use",
         "Energy industry use",
         "200303",
         0.0,
         "ET_3.1_SEP_24.xlsx",
         "08/10/2024"
        ],
        [
         "Energy industry use",
         "Energy industry use",
         "200304",
         0.0,
         "ET_3.1_SEP_24.xlsx",
         "08/10/2024"
        ],
        [
         "Energy industry use",
         "Energy industry use",
         "200401",
         0.0,
         "ET_3.1_SEP_24.xlsx",
         "08/10/2024"
        ],
        [
         "Energy industry use",
         "Energy industry use",
         "200402",
         0.0,
         "ET_3.1_SEP_24.xlsx",
         "08/10/2024"
        ],
        [
         "Energy industry use",
         "Energy industry use",
         "200403",
         0.0,
         "ET_3.1_SEP_24.xlsx",
         "08/10/2024"
        ],
        [
         "Energy industry use",
         "Energy industry use",
         "200404",
         0.0,
         "ET_3.1_SEP_24.xlsx",
         "08/10/2024"
        ],
        [
         "Energy industry use",
         "Energy industry use",
         "200501",
         0.0,
         "ET_3.1_SEP_24.xlsx",
         "08/10/2024"
        ],
        [
         "Energy industry use",
         "Energy industry use",
         "200502",
         0.0,
         "ET_3.1_SEP_24.xlsx",
         "08/10/2024"
        ],
        [
         "Energy industry use",
         "Energy industry use",
         "200503",
         0.0,
         "ET_3.1_SEP_24.xlsx",
         "08/10/2024"
        ],
        [
         "Energy industry use",
         "Energy industry use",
         "200504",
         0.0,
         "ET_3.1_SEP_24.xlsx",
         "08/10/2024"
        ],
        [
         "Energy industry use",
         "Energy industry use",
         "200601",
         0.0,
         "ET_3.1_SEP_24.xlsx",
         "08/10/2024"
        ],
        [
         "Energy industry use",
         "Energy industry use",
         "200602",
         0.0,
         "ET_3.1_SEP_24.xlsx",
         "08/10/2024"
        ],
        [
         "Energy industry use",
         "Energy industry use",
         "200603",
         0.0,
         "ET_3.1_SEP_24.xlsx",
         "08/10/2024"
        ],
        [
         "Energy industry use",
         "Energy industry use",
         "200604",
         0.0,
         "ET_3.1_SEP_24.xlsx",
         "08/10/2024"
        ],
        [
         "Energy industry use",
         "Energy industry use",
         "200701",
         0.0,
         "ET_3.1_SEP_24.xlsx",
         "08/10/2024"
        ],
        [
         "Energy industry use",
         "Energy industry use",
         "200702",
         0.0,
         "ET_3.1_SEP_24.xlsx",
         "08/10/2024"
        ],
        [
         "Energy industry use",
         "Energy industry use",
         "200703",
         0.0,
         "ET_3.1_SEP_24.xlsx",
         "08/10/2024"
        ],
        [
         "Energy industry use",
         "Energy industry use",
         "200704",
         0.0,
         "ET_3.1_SEP_24.xlsx",
         "08/10/2024"
        ],
        [
         "Energy industry use",
         "Energy industry use",
         "200801",
         0.0,
         "ET_3.1_SEP_24.xlsx",
         "08/10/2024"
        ],
        [
         "Energy industry use",
         "Energy industry use",
         "200802",
         0.0,
         "ET_3.1_SEP_24.xlsx",
         "08/10/2024"
        ],
        [
         "Energy industry use",
         "Energy industry use",
         "200803",
         0.0,
         "ET_3.1_SEP_24.xlsx",
         "08/10/2024"
        ],
        [
         "Energy industry use",
         "Energy industry use",
         "200804",
         0.0,
         "ET_3.1_SEP_24.xlsx",
         "08/10/2024"
        ],
        [
         "Energy industry use",
         "Energy industry use",
         "200901",
         0.0,
         "ET_3.1_SEP_24.xlsx",
         "08/10/2024"
        ],
        [
         "Energy industry use",
         "Energy industry use",
         "200902",
         0.0,
         "ET_3.1_SEP_24.xlsx",
         "08/10/2024"
        ],
        [
         "Energy industry use",
         "Energy industry use",
         "200903",
         0.0,
         "ET_3.1_SEP_24.xlsx",
         "08/10/2024"
        ],
        [
         "Energy industry use",
         "Energy industry use",
         "200904",
         0.0,
         "ET_3.1_SEP_24.xlsx",
         "08/10/2024"
        ],
        [
         "Energy industry use",
         "Energy industry use",
         "201001",
         0.0,
         "ET_3.1_SEP_24.xlsx",
         "08/10/2024"
        ],
        [
         "Energy industry use",
         "Energy industry use",
         "201002",
         0.0,
         "ET_3.1_SEP_24.xlsx",
         "08/10/2024"
        ],
        [
         "Energy industry use",
         "Energy industry use",
         "201003",
         0.0,
         "ET_3.1_SEP_24.xlsx",
         "08/10/2024"
        ],
        [
         "Energy industry use",
         "Energy industry use",
         "201004",
         0.0,
         "ET_3.1_SEP_24.xlsx",
         "08/10/2024"
        ],
        [
         "Energy industry use",
         "Energy industry use",
         "201101",
         0.0,
         "ET_3.1_SEP_24.xlsx",
         "08/10/2024"
        ],
        [
         "Energy industry use",
         "Energy industry use",
         "201102",
         0.0,
         "ET_3.1_SEP_24.xlsx",
         "08/10/2024"
        ],
        [
         "Energy industry use",
         "Energy industry use",
         "201103",
         0.0,
         "ET_3.1_SEP_24.xlsx",
         "08/10/2024"
        ],
        [
         "Energy industry use",
         "Energy industry use",
         "201104",
         0.0,
         "ET_3.1_SEP_24.xlsx",
         "08/10/2024"
        ],
        [
         "Energy industry use",
         "Energy industry use",
         "201201",
         0.0,
         "ET_3.1_SEP_24.xlsx",
         "08/10/2024"
        ],
        [
         "Energy industry use",
         "Energy industry use",
         "201202",
         0.0,
         "ET_3.1_SEP_24.xlsx",
         "08/10/2024"
        ],
        [
         "Energy industry use",
         "Energy industry use",
         "201203",
         0.0,
         "ET_3.1_SEP_24.xlsx",
         "08/10/2024"
        ],
        [
         "Energy industry use",
         "Energy industry use",
         "201204",
         0.0,
         "ET_3.1_SEP_24.xlsx",
         "08/10/2024"
        ],
        [
         "Energy industry use",
         "Energy industry use",
         "201301",
         0.0,
         "ET_3.1_SEP_24.xlsx",
         "08/10/2024"
        ],
        [
         "Energy industry use",
         "Energy industry use",
         "201302",
         0.0,
         "ET_3.1_SEP_24.xlsx",
         "08/10/2024"
        ],
        [
         "Energy industry use",
         "Energy industry use",
         "201303",
         0.0,
         "ET_3.1_SEP_24.xlsx",
         "08/10/2024"
        ],
        [
         "Energy industry use",
         "Energy industry use",
         "201304",
         0.0,
         "ET_3.1_SEP_24.xlsx",
         "08/10/2024"
        ],
        [
         "Energy industry use",
         "Energy industry use",
         "201401",
         0.0,
         "ET_3.1_SEP_24.xlsx",
         "08/10/2024"
        ],
        [
         "Energy industry use",
         "Energy industry use",
         "201402",
         0.0,
         "ET_3.1_SEP_24.xlsx",
         "08/10/2024"
        ],
        [
         "Energy industry use",
         "Energy industry use",
         "201403",
         0.0,
         "ET_3.1_SEP_24.xlsx",
         "08/10/2024"
        ],
        [
         "Energy industry use",
         "Energy industry use",
         "201404",
         0.0,
         "ET_3.1_SEP_24.xlsx",
         "08/10/2024"
        ],
        [
         "Energy industry use",
         "Energy industry use",
         "201501",
         0.0,
         "ET_3.1_SEP_24.xlsx",
         "08/10/2024"
        ],
        [
         "Energy industry use",
         "Energy industry use",
         "201502",
         0.0,
         "ET_3.1_SEP_24.xlsx",
         "08/10/2024"
        ],
        [
         "Energy industry use",
         "Energy industry use",
         "201503",
         0.0,
         "ET_3.1_SEP_24.xlsx",
         "08/10/2024"
        ],
        [
         "Energy industry use",
         "Energy industry use",
         "201504",
         0.0,
         "ET_3.1_SEP_24.xlsx",
         "08/10/2024"
        ],
        [
         "Energy industry use",
         "Energy industry use",
         "201601",
         0.0,
         "ET_3.1_SEP_24.xlsx",
         "08/10/2024"
        ],
        [
         "Energy industry use",
         "Energy industry use",
         "201602",
         0.0,
         "ET_3.1_SEP_24.xlsx",
         "08/10/2024"
        ],
        [
         "Energy industry use",
         "Energy industry use",
         "201603",
         0.0,
         "ET_3.1_SEP_24.xlsx",
         "08/10/2024"
        ],
        [
         "Energy industry use",
         "Energy industry use",
         "201604",
         0.0,
         "ET_3.1_SEP_24.xlsx",
         "08/10/2024"
        ],
        [
         "Energy industry use",
         "Energy industry use",
         "201701",
         0.0,
         "ET_3.1_SEP_24.xlsx",
         "08/10/2024"
        ],
        [
         "Energy industry use",
         "Energy industry use",
         "201702",
         0.0,
         "ET_3.1_SEP_24.xlsx",
         "08/10/2024"
        ],
        [
         "Energy industry use",
         "Energy industry use",
         "201703",
         0.0,
         "ET_3.1_SEP_24.xlsx",
         "08/10/2024"
        ],
        [
         "Energy industry use",
         "Energy industry use",
         "201704",
         0.0,
         "ET_3.1_SEP_24.xlsx",
         "08/10/2024"
        ],
        [
         "Energy industry use",
         "Energy industry use",
         "201801",
         0.0,
         "ET_3.1_SEP_24.xlsx",
         "08/10/2024"
        ],
        [
         "Energy industry use",
         "Energy industry use",
         "201802",
         0.0,
         "ET_3.1_SEP_24.xlsx",
         "08/10/2024"
        ],
        [
         "Energy industry use",
         "Energy industry use",
         "201803",
         0.0,
         "ET_3.1_SEP_24.xlsx",
         "08/10/2024"
        ],
        [
         "Energy industry use",
         "Energy industry use",
         "201804",
         0.0,
         "ET_3.1_SEP_24.xlsx",
         "08/10/2024"
        ],
        [
         "Energy industry use",
         "Energy industry use",
         "201901",
         0.0,
         "ET_3.1_SEP_24.xlsx",
         "08/10/2024"
        ],
        [
         "Energy industry use",
         "Energy industry use",
         "201902",
         0.0,
         "ET_3.1_SEP_24.xlsx",
         "08/10/2024"
        ],
        [
         "Energy industry use",
         "Energy industry use",
         "201903",
         0.0,
         "ET_3.1_SEP_24.xlsx",
         "08/10/2024"
        ],
        [
         "Energy industry use",
         "Energy industry use",
         "201904",
         0.0,
         "ET_3.1_SEP_24.xlsx",
         "08/10/2024"
        ],
        [
         "Energy industry use",
         "Energy industry use",
         "202001",
         0.0,
         "ET_3.1_SEP_24.xlsx",
         "08/10/2024"
        ],
        [
         "Energy industry use",
         "Energy industry use",
         "202002",
         0.0,
         "ET_3.1_SEP_24.xlsx",
         "08/10/2024"
        ],
        [
         "Energy industry use",
         "Energy industry use",
         "202003",
         0.0,
         "ET_3.1_SEP_24.xlsx",
         "08/10/2024"
        ],
        [
         "Energy industry use",
         "Energy industry use",
         "202004",
         0.0,
         "ET_3.1_SEP_24.xlsx",
         "08/10/2024"
        ],
        [
         "Energy industry use",
         "Energy industry use",
         "202101",
         0.0,
         "ET_3.1_SEP_24.xlsx",
         "08/10/2024"
        ],
        [
         "Energy industry use",
         "Energy industry use",
         "202102",
         0.0,
         "ET_3.1_SEP_24.xlsx",
         "08/10/2024"
        ],
        [
         "Energy industry use",
         "Energy industry use",
         "202103",
         0.0,
         "ET_3.1_SEP_24.xlsx",
         "08/10/2024"
        ],
        [
         "Energy industry use",
         "Energy industry use",
         "202104",
         0.0,
         "ET_3.1_SEP_24.xlsx",
         "08/10/2024"
        ],
        [
         "Energy industry use",
         "Energy industry use",
         "202201",
         0.0,
         "ET_3.1_SEP_24.xlsx",
         "08/10/2024"
        ],
        [
         "Energy industry use",
         "Energy industry use",
         "202202",
         0.0,
         "ET_3.1_SEP_24.xlsx",
         "08/10/2024"
        ],
        [
         "Energy industry use",
         "Energy industry use",
         "202203",
         0.0,
         "ET_3.1_SEP_24.xlsx",
         "08/10/2024"
        ],
        [
         "Energy industry use",
         "Energy industry use",
         "202204",
         0.0,
         "ET_3.1_SEP_24.xlsx",
         "08/10/2024"
        ],
        [
         "Energy industry use",
         "Energy industry use",
         "202301",
         0.0,
         "ET_3.1_SEP_24.xlsx",
         "08/10/2024"
        ],
        [
         "Energy industry use",
         "Energy industry use",
         "202302",
         0.0,
         "ET_3.1_SEP_24.xlsx",
         "08/10/2024"
        ],
        [
         "Energy industry use",
         "Energy industry use",
         "202303",
         0.0,
         "ET_3.1_SEP_24.xlsx",
         "08/10/2024"
        ],
        [
         "Energy industry use",
         "Energy industry use",
         "202304",
         0.0,
         "ET_3.1_SEP_24.xlsx",
         "08/10/2024"
        ],
        [
         "Energy industry use",
         "Energy industry use",
         "202401",
         0.0,
         "ET_3.1_SEP_24.xlsx",
         "08/10/2024"
        ],
        [
         "Energy industry use",
         "Energy industry use",
         "202402",
         0.0,
         "ET_3.1_SEP_24.xlsx",
         "08/10/2024"
        ],
        [
         "Oil & gas extraction",
         "Oil & gas extraction",
         "199901",
         83.81,
         "ET_3.1_SEP_24.xlsx",
         "08/10/2024"
        ],
        [
         "Oil & gas extraction",
         "Oil & gas extraction",
         "199902",
         81.02,
         "ET_3.1_SEP_24.xlsx",
         "08/10/2024"
        ],
        [
         "Oil & gas extraction",
         "Oil & gas extraction",
         "199903",
         76.81,
         "ET_3.1_SEP_24.xlsx",
         "08/10/2024"
        ],
        [
         "Oil & gas extraction",
         "Oil & gas extraction",
         "199904",
         81.36,
         "ET_3.1_SEP_24.xlsx",
         "08/10/2024"
        ],
        [
         "Oil & gas extraction",
         "Oil & gas extraction",
         "200001",
         82.0,
         "ET_3.1_SEP_24.xlsx",
         "08/10/2024"
        ],
        [
         "Oil & gas extraction",
         "Oil & gas extraction",
         "200002",
         75.0,
         "ET_3.1_SEP_24.xlsx",
         "08/10/2024"
        ],
        [
         "Oil & gas extraction",
         "Oil & gas extraction",
         "200003",
         68.0,
         "ET_3.1_SEP_24.xlsx",
         "08/10/2024"
        ],
        [
         "Oil & gas extraction",
         "Oil & gas extraction",
         "200004",
         69.0,
         "ET_3.1_SEP_24.xlsx",
         "08/10/2024"
        ],
        [
         "Oil & gas extraction",
         "Oil & gas extraction",
         "200101",
         0.0,
         "ET_3.1_SEP_24.xlsx",
         "08/10/2024"
        ],
        [
         "Oil & gas extraction",
         "Oil & gas extraction",
         "200102",
         0.0,
         "ET_3.1_SEP_24.xlsx",
         "08/10/2024"
        ],
        [
         "Oil & gas extraction",
         "Oil & gas extraction",
         "200103",
         0.0,
         "ET_3.1_SEP_24.xlsx",
         "08/10/2024"
        ],
        [
         "Oil & gas extraction",
         "Oil & gas extraction",
         "200104",
         0.0,
         "ET_3.1_SEP_24.xlsx",
         "08/10/2024"
        ],
        [
         "Oil & gas extraction",
         "Oil & gas extraction",
         "200201",
         0.0,
         "ET_3.1_SEP_24.xlsx",
         "08/10/2024"
        ],
        [
         "Oil & gas extraction",
         "Oil & gas extraction",
         "200202",
         0.0,
         "ET_3.1_SEP_24.xlsx",
         "08/10/2024"
        ],
        [
         "Oil & gas extraction",
         "Oil & gas extraction",
         "200203",
         0.0,
         "ET_3.1_SEP_24.xlsx",
         "08/10/2024"
        ],
        [
         "Oil & gas extraction",
         "Oil & gas extraction",
         "200204",
         0.0,
         "ET_3.1_SEP_24.xlsx",
         "08/10/2024"
        ],
        [
         "Oil & gas extraction",
         "Oil & gas extraction",
         "200301",
         0.0,
         "ET_3.1_SEP_24.xlsx",
         "08/10/2024"
        ],
        [
         "Oil & gas extraction",
         "Oil & gas extraction",
         "200302",
         0.0,
         "ET_3.1_SEP_24.xlsx",
         "08/10/2024"
        ],
        [
         "Oil & gas extraction",
         "Oil & gas extraction",
         "200303",
         0.0,
         "ET_3.1_SEP_24.xlsx",
         "08/10/2024"
        ],
        [
         "Oil & gas extraction",
         "Oil & gas extraction",
         "200304",
         0.0,
         "ET_3.1_SEP_24.xlsx",
         "08/10/2024"
        ],
        [
         "Oil & gas extraction",
         "Oil & gas extraction",
         "200401",
         0.0,
         "ET_3.1_SEP_24.xlsx",
         "08/10/2024"
        ],
        [
         "Oil & gas extraction",
         "Oil & gas extraction",
         "200402",
         0.0,
         "ET_3.1_SEP_24.xlsx",
         "08/10/2024"
        ],
        [
         "Oil & gas extraction",
         "Oil & gas extraction",
         "200403",
         0.0,
         "ET_3.1_SEP_24.xlsx",
         "08/10/2024"
        ],
        [
         "Oil & gas extraction",
         "Oil & gas extraction",
         "200404",
         0.0,
         "ET_3.1_SEP_24.xlsx",
         "08/10/2024"
        ],
        [
         "Oil & gas extraction",
         "Oil & gas extraction",
         "200501",
         0.0,
         "ET_3.1_SEP_24.xlsx",
         "08/10/2024"
        ],
        [
         "Oil & gas extraction",
         "Oil & gas extraction",
         "200502",
         0.0,
         "ET_3.1_SEP_24.xlsx",
         "08/10/2024"
        ],
        [
         "Oil & gas extraction",
         "Oil & gas extraction",
         "200503",
         0.0,
         "ET_3.1_SEP_24.xlsx",
         "08/10/2024"
        ],
        [
         "Oil & gas extraction",
         "Oil & gas extraction",
         "200504",
         0.0,
         "ET_3.1_SEP_24.xlsx",
         "08/10/2024"
        ],
        [
         "Oil & gas extraction",
         "Oil & gas extraction",
         "200601",
         0.0,
         "ET_3.1_SEP_24.xlsx",
         "08/10/2024"
        ],
        [
         "Oil & gas extraction",
         "Oil & gas extraction",
         "200602",
         0.0,
         "ET_3.1_SEP_24.xlsx",
         "08/10/2024"
        ],
        [
         "Oil & gas extraction",
         "Oil & gas extraction",
         "200603",
         0.0,
         "ET_3.1_SEP_24.xlsx",
         "08/10/2024"
        ],
        [
         "Oil & gas extraction",
         "Oil & gas extraction",
         "200604",
         0.0,
         "ET_3.1_SEP_24.xlsx",
         "08/10/2024"
        ],
        [
         "Oil & gas extraction",
         "Oil & gas extraction",
         "200701",
         0.0,
         "ET_3.1_SEP_24.xlsx",
         "08/10/2024"
        ],
        [
         "Oil & gas extraction",
         "Oil & gas extraction",
         "200702",
         0.0,
         "ET_3.1_SEP_24.xlsx",
         "08/10/2024"
        ],
        [
         "Oil & gas extraction",
         "Oil & gas extraction",
         "200703",
         0.0,
         "ET_3.1_SEP_24.xlsx",
         "08/10/2024"
        ],
        [
         "Oil & gas extraction",
         "Oil & gas extraction",
         "200704",
         0.0,
         "ET_3.1_SEP_24.xlsx",
         "08/10/2024"
        ],
        [
         "Oil & gas extraction",
         "Oil & gas extraction",
         "200801",
         0.0,
         "ET_3.1_SEP_24.xlsx",
         "08/10/2024"
        ],
        [
         "Oil & gas extraction",
         "Oil & gas extraction",
         "200802",
         0.0,
         "ET_3.1_SEP_24.xlsx",
         "08/10/2024"
        ],
        [
         "Oil & gas extraction",
         "Oil & gas extraction",
         "200803",
         0.0,
         "ET_3.1_SEP_24.xlsx",
         "08/10/2024"
        ],
        [
         "Oil & gas extraction",
         "Oil & gas extraction",
         "200804",
         0.0,
         "ET_3.1_SEP_24.xlsx",
         "08/10/2024"
        ],
        [
         "Oil & gas extraction",
         "Oil & gas extraction",
         "200901",
         0.0,
         "ET_3.1_SEP_24.xlsx",
         "08/10/2024"
        ],
        [
         "Oil & gas extraction",
         "Oil & gas extraction",
         "200902",
         0.0,
         "ET_3.1_SEP_24.xlsx",
         "08/10/2024"
        ],
        [
         "Oil & gas extraction",
         "Oil & gas extraction",
         "200903",
         0.0,
         "ET_3.1_SEP_24.xlsx",
         "08/10/2024"
        ],
        [
         "Oil & gas extraction",
         "Oil & gas extraction",
         "200904",
         0.0,
         "ET_3.1_SEP_24.xlsx",
         "08/10/2024"
        ],
        [
         "Oil & gas extraction",
         "Oil & gas extraction",
         "201001",
         0.0,
         "ET_3.1_SEP_24.xlsx",
         "08/10/2024"
        ],
        [
         "Oil & gas extraction",
         "Oil & gas extraction",
         "201002",
         0.0,
         "ET_3.1_SEP_24.xlsx",
         "08/10/2024"
        ],
        [
         "Oil & gas extraction",
         "Oil & gas extraction",
         "201003",
         0.0,
         "ET_3.1_SEP_24.xlsx",
         "08/10/2024"
        ],
        [
         "Oil & gas extraction",
         "Oil & gas extraction",
         "201004",
         0.0,
         "ET_3.1_SEP_24.xlsx",
         "08/10/2024"
        ],
        [
         "Oil & gas extraction",
         "Oil & gas extraction",
         "201101",
         0.0,
         "ET_3.1_SEP_24.xlsx",
         "08/10/2024"
        ],
        [
         "Oil & gas extraction",
         "Oil & gas extraction",
         "201102",
         0.0,
         "ET_3.1_SEP_24.xlsx",
         "08/10/2024"
        ],
        [
         "Oil & gas extraction",
         "Oil & gas extraction",
         "201103",
         0.0,
         "ET_3.1_SEP_24.xlsx",
         "08/10/2024"
        ],
        [
         "Oil & gas extraction",
         "Oil & gas extraction",
         "201104",
         0.0,
         "ET_3.1_SEP_24.xlsx",
         "08/10/2024"
        ],
        [
         "Oil & gas extraction",
         "Oil & gas extraction",
         "201201",
         0.0,
         "ET_3.1_SEP_24.xlsx",
         "08/10/2024"
        ],
        [
         "Oil & gas extraction",
         "Oil & gas extraction",
         "201202",
         0.0,
         "ET_3.1_SEP_24.xlsx",
         "08/10/2024"
        ],
        [
         "Oil & gas extraction",
         "Oil & gas extraction",
         "201203",
         0.0,
         "ET_3.1_SEP_24.xlsx",
         "08/10/2024"
        ],
        [
         "Oil & gas extraction",
         "Oil & gas extraction",
         "201204",
         0.0,
         "ET_3.1_SEP_24.xlsx",
         "08/10/2024"
        ],
        [
         "Oil & gas extraction",
         "Oil & gas extraction",
         "201301",
         0.0,
         "ET_3.1_SEP_24.xlsx",
         "08/10/2024"
        ],
        [
         "Oil & gas extraction",
         "Oil & gas extraction",
         "201302",
         0.0,
         "ET_3.1_SEP_24.xlsx",
         "08/10/2024"
        ],
        [
         "Oil & gas extraction",
         "Oil & gas extraction",
         "201303",
         0.0,
         "ET_3.1_SEP_24.xlsx",
         "08/10/2024"
        ],
        [
         "Oil & gas extraction",
         "Oil & gas extraction",
         "201304",
         0.0,
         "ET_3.1_SEP_24.xlsx",
         "08/10/2024"
        ],
        [
         "Oil & gas extraction",
         "Oil & gas extraction",
         "201401",
         0.0,
         "ET_3.1_SEP_24.xlsx",
         "08/10/2024"
        ],
        [
         "Oil & gas extraction",
         "Oil & gas extraction",
         "201402",
         0.0,
         "ET_3.1_SEP_24.xlsx",
         "08/10/2024"
        ],
        [
         "Oil & gas extraction",
         "Oil & gas extraction",
         "201403",
         0.0,
         "ET_3.1_SEP_24.xlsx",
         "08/10/2024"
        ],
        [
         "Oil & gas extraction",
         "Oil & gas extraction",
         "201404",
         0.0,
         "ET_3.1_SEP_24.xlsx",
         "08/10/2024"
        ],
        [
         "Oil & gas extraction",
         "Oil & gas extraction",
         "201501",
         0.0,
         "ET_3.1_SEP_24.xlsx",
         "08/10/2024"
        ],
        [
         "Oil & gas extraction",
         "Oil & gas extraction",
         "201502",
         0.0,
         "ET_3.1_SEP_24.xlsx",
         "08/10/2024"
        ],
        [
         "Oil & gas extraction",
         "Oil & gas extraction",
         "201503",
         0.0,
         "ET_3.1_SEP_24.xlsx",
         "08/10/2024"
        ],
        [
         "Oil & gas extraction",
         "Oil & gas extraction",
         "201504",
         0.0,
         "ET_3.1_SEP_24.xlsx",
         "08/10/2024"
        ],
        [
         "Oil & gas extraction",
         "Oil & gas extraction",
         "201601",
         0.0,
         "ET_3.1_SEP_24.xlsx",
         "08/10/2024"
        ],
        [
         "Oil & gas extraction",
         "Oil & gas extraction",
         "201602",
         0.0,
         "ET_3.1_SEP_24.xlsx",
         "08/10/2024"
        ],
        [
         "Oil & gas extraction",
         "Oil & gas extraction",
         "201603",
         0.0,
         "ET_3.1_SEP_24.xlsx",
         "08/10/2024"
        ],
        [
         "Oil & gas extraction",
         "Oil & gas extraction",
         "201604",
         0.0,
         "ET_3.1_SEP_24.xlsx",
         "08/10/2024"
        ],
        [
         "Oil & gas extraction",
         "Oil & gas extraction",
         "201701",
         0.0,
         "ET_3.1_SEP_24.xlsx",
         "08/10/2024"
        ],
        [
         "Oil & gas extraction",
         "Oil & gas extraction",
         "201702",
         0.0,
         "ET_3.1_SEP_24.xlsx",
         "08/10/2024"
        ],
        [
         "Oil & gas extraction",
         "Oil & gas extraction",
         "201703",
         0.0,
         "ET_3.1_SEP_24.xlsx",
         "08/10/2024"
        ],
        [
         "Oil & gas extraction",
         "Oil & gas extraction",
         "201704",
         0.0,
         "ET_3.1_SEP_24.xlsx",
         "08/10/2024"
        ],
        [
         "Oil & gas extraction",
         "Oil & gas extraction",
         "201801",
         0.0,
         "ET_3.1_SEP_24.xlsx",
         "08/10/2024"
        ],
        [
         "Oil & gas extraction",
         "Oil & gas extraction",
         "201802",
         0.0,
         "ET_3.1_SEP_24.xlsx",
         "08/10/2024"
        ],
        [
         "Oil & gas extraction",
         "Oil & gas extraction",
         "201803",
         0.0,
         "ET_3.1_SEP_24.xlsx",
         "08/10/2024"
        ],
        [
         "Oil & gas extraction",
         "Oil & gas extraction",
         "201804",
         0.0,
         "ET_3.1_SEP_24.xlsx",
         "08/10/2024"
        ],
        [
         "Oil & gas extraction",
         "Oil & gas extraction",
         "201901",
         0.0,
         "ET_3.1_SEP_24.xlsx",
         "08/10/2024"
        ],
        [
         "Oil & gas extraction",
         "Oil & gas extraction",
         "201902",
         0.0,
         "ET_3.1_SEP_24.xlsx",
         "08/10/2024"
        ],
        [
         "Oil & gas extraction",
         "Oil & gas extraction",
         "201903",
         0.0,
         "ET_3.1_SEP_24.xlsx",
         "08/10/2024"
        ],
        [
         "Oil & gas extraction",
         "Oil & gas extraction",
         "201904",
         0.0,
         "ET_3.1_SEP_24.xlsx",
         "08/10/2024"
        ],
        [
         "Oil & gas extraction",
         "Oil & gas extraction",
         "202001",
         0.0,
         "ET_3.1_SEP_24.xlsx",
         "08/10/2024"
        ],
        [
         "Oil & gas extraction",
         "Oil & gas extraction",
         "202002",
         0.0,
         "ET_3.1_SEP_24.xlsx",
         "08/10/2024"
        ],
        [
         "Oil & gas extraction",
         "Oil & gas extraction",
         "202003",
         0.0,
         "ET_3.1_SEP_24.xlsx",
         "08/10/2024"
        ],
        [
         "Oil & gas extraction",
         "Oil & gas extraction",
         "202004",
         0.0,
         "ET_3.1_SEP_24.xlsx",
         "08/10/2024"
        ],
        [
         "Oil & gas extraction",
         "Oil & gas extraction",
         "202101",
         0.0,
         "ET_3.1_SEP_24.xlsx",
         "08/10/2024"
        ],
        [
         "Oil & gas extraction",
         "Oil & gas extraction",
         "202102",
         0.0,
         "ET_3.1_SEP_24.xlsx",
         "08/10/2024"
        ],
        [
         "Oil & gas extraction",
         "Oil & gas extraction",
         "202103",
         0.0,
         "ET_3.1_SEP_24.xlsx",
         "08/10/2024"
        ],
        [
         "Oil & gas extraction",
         "Oil & gas extraction",
         "202104",
         0.0,
         "ET_3.1_SEP_24.xlsx",
         "08/10/2024"
        ],
        [
         "Oil & gas extraction",
         "Oil & gas extraction",
         "202201",
         0.0,
         "ET_3.1_SEP_24.xlsx",
         "08/10/2024"
        ],
        [
         "Oil & gas extraction",
         "Oil & gas extraction",
         "202202",
         0.0,
         "ET_3.1_SEP_24.xlsx",
         "08/10/2024"
        ],
        [
         "Oil & gas extraction",
         "Oil & gas extraction",
         "202203",
         0.0,
         "ET_3.1_SEP_24.xlsx",
         "08/10/2024"
        ],
        [
         "Oil & gas extraction",
         "Oil & gas extraction",
         "202204",
         0.0,
         "ET_3.1_SEP_24.xlsx",
         "08/10/2024"
        ],
        [
         "Oil & gas extraction",
         "Oil & gas extraction",
         "202301",
         0.0,
         "ET_3.1_SEP_24.xlsx",
         "08/10/2024"
        ],
        [
         "Oil & gas extraction",
         "Oil & gas extraction",
         "202302",
         0.0,
         "ET_3.1_SEP_24.xlsx",
         "08/10/2024"
        ],
        [
         "Oil & gas extraction",
         "Oil & gas extraction",
         "202303",
         0.0,
         "ET_3.1_SEP_24.xlsx",
         "08/10/2024"
        ],
        [
         "Oil & gas extraction",
         "Oil & gas extraction",
         "202304",
         0.0,
         "ET_3.1_SEP_24.xlsx",
         "08/10/2024"
        ],
        [
         "Oil & gas extraction",
         "Oil & gas extraction",
         "202401",
         0.0,
         "ET_3.1_SEP_24.xlsx",
         "08/10/2024"
        ],
        [
         "Oil & gas extraction",
         "Oil & gas extraction",
         "202402",
         0.0,
         "ET_3.1_SEP_24.xlsx",
         "08/10/2024"
        ],
        [
         "Indigenous production",
         "Indigenous production_Crude Oil & NGLs",
         "199901",
         34382.56,
         "ET_3.1_SEP_24.xlsx",
         "08/10/2024"
        ],
        [
         "Indigenous production",
         "Indigenous production_Crude Oil & NGLs",
         "199902",
         33060.35,
         "ET_3.1_SEP_24.xlsx",
         "08/10/2024"
        ],
        [
         "Indigenous production",
         "Indigenous production_Crude Oil & NGLs",
         "199903",
         34314.67,
         "ET_3.1_SEP_24.xlsx",
         "08/10/2024"
        ],
        [
         "Indigenous production",
         "Indigenous production_Crude Oil & NGLs",
         "199904",
         35341.42,
         "ET_3.1_SEP_24.xlsx",
         "08/10/2024"
        ],
        [
         "Indigenous production",
         "Indigenous production_Crude Oil & NGLs",
         "200001",
         34217.37,
         "ET_3.1_SEP_24.xlsx",
         "08/10/2024"
        ],
        [
         "Indigenous production",
         "Indigenous production_Crude Oil & NGLs",
         "200002",
         30802.13,
         "ET_3.1_SEP_24.xlsx",
         "08/10/2024"
        ],
        [
         "Indigenous production",
         "Indigenous production_Crude Oil & NGLs",
         "200003",
         30427.07,
         "ET_3.1_SEP_24.xlsx",
         "08/10/2024"
        ],
        [
         "Indigenous production",
         "Indigenous production_Crude Oil & NGLs",
         "200004",
         30798.43,
         "ET_3.1_SEP_24.xlsx",
         "08/10/2024"
        ],
        [
         "Indigenous production",
         "Indigenous production_Crude Oil & NGLs",
         "200101",
         29196.34,
         "ET_3.1_SEP_24.xlsx",
         "08/10/2024"
        ],
        [
         "Indigenous production",
         "Indigenous production_Crude Oil & NGLs",
         "200102",
         28340.079999999998,
         "ET_3.1_SEP_24.xlsx",
         "08/10/2024"
        ],
        [
         "Indigenous production",
         "Indigenous production_Crude Oil & NGLs",
         "200103",
         28328.32,
         "ET_3.1_SEP_24.xlsx",
         "08/10/2024"
        ],
        [
         "Indigenous production",
         "Indigenous production_Crude Oil & NGLs",
         "200104",
         30813.649999999998,
         "ET_3.1_SEP_24.xlsx",
         "08/10/2024"
        ],
        [
         "Indigenous production",
         "Indigenous production_Crude Oil & NGLs",
         "200201",
         29652.43,
         "ET_3.1_SEP_24.xlsx",
         "08/10/2024"
        ],
        [
         "Indigenous production",
         "Indigenous production_Crude Oil & NGLs",
         "200202",
         29527.44,
         "ET_3.1_SEP_24.xlsx",
         "08/10/2024"
        ],
        [
         "Indigenous production",
         "Indigenous production_Crude Oil & NGLs",
         "200203",
         26481.82,
         "ET_3.1_SEP_24.xlsx",
         "08/10/2024"
        ],
        [
         "Indigenous production",
         "Indigenous production_Crude Oil & NGLs",
         "200204",
         30282.55,
         "ET_3.1_SEP_24.xlsx",
         "08/10/2024"
        ],
        [
         "Indigenous production",
         "Indigenous production_Crude Oil & NGLs",
         "200301",
         28679.690000000002,
         "ET_3.1_SEP_24.xlsx",
         "08/10/2024"
        ],
        [
         "Indigenous production",
         "Indigenous production_Crude Oil & NGLs",
         "200302",
         26025.5,
         "ET_3.1_SEP_24.xlsx",
         "08/10/2024"
        ],
        [
         "Indigenous production",
         "Indigenous production_Crude Oil & NGLs",
         "200303",
         24957.81,
         "ET_3.1_SEP_24.xlsx",
         "08/10/2024"
        ],
        [
         "Indigenous production",
         "Indigenous production_Crude Oil & NGLs",
         "200304",
         26409.929999999997,
         "ET_3.1_SEP_24.xlsx",
         "08/10/2024"
        ],
        [
         "Indigenous production",
         "Indigenous production_Crude Oil & NGLs",
         "200401",
         25434.129999999997,
         "ET_3.1_SEP_24.xlsx",
         "08/10/2024"
        ],
        [
         "Indigenous production",
         "Indigenous production_Crude Oil & NGLs",
         "200402",
         24345.24,
         "ET_3.1_SEP_24.xlsx",
         "08/10/2024"
        ],
        [
         "Indigenous production",
         "Indigenous production_Crude Oil & NGLs",
         "200403",
         22078.37,
         "ET_3.1_SEP_24.xlsx",
         "08/10/2024"
        ],
        [
         "Indigenous production",
         "Indigenous production_Crude Oil & NGLs",
         "200404",
         23516.039999999997,
         "ET_3.1_SEP_24.xlsx",
         "08/10/2024"
        ],
        [
         "Indigenous production",
         "Indigenous production_Crude Oil & NGLs",
         "200501",
         22714.08,
         "ET_3.1_SEP_24.xlsx",
         "08/10/2024"
        ],
        [
         "Indigenous production",
         "Indigenous production_Crude Oil & NGLs",
         "200502",
         21989.97,
         "ET_3.1_SEP_24.xlsx",
         "08/10/2024"
        ],
        [
         "Indigenous production",
         "Indigenous production_Crude Oil & NGLs",
         "200503",
         19307.510000000002,
         "ET_3.1_SEP_24.xlsx",
         "08/10/2024"
        ],
        [
         "Indigenous production",
         "Indigenous production_Crude Oil & NGLs",
         "200504",
         20709.57,
         "ET_3.1_SEP_24.xlsx",
         "08/10/2024"
        ],
        [
         "Indigenous production",
         "Indigenous production_Crude Oil & NGLs",
         "200601",
         20878.22,
         "ET_3.1_SEP_24.xlsx",
         "08/10/2024"
        ],
        [
         "Indigenous production",
         "Indigenous production_Crude Oil & NGLs",
         "200602",
         19151.29,
         "ET_3.1_SEP_24.xlsx",
         "08/10/2024"
        ],
        [
         "Indigenous production",
         "Indigenous production_Crude Oil & NGLs",
         "200603",
         17266.059999999998,
         "ET_3.1_SEP_24.xlsx",
         "08/10/2024"
        ],
        [
         "Indigenous production",
         "Indigenous production_Crude Oil & NGLs",
         "200604",
         19282.269999999997,
         "ET_3.1_SEP_24.xlsx",
         "08/10/2024"
        ],
        [
         "Indigenous production",
         "Indigenous production_Crude Oil & NGLs",
         "200701",
         19967.65,
         "ET_3.1_SEP_24.xlsx",
         "08/10/2024"
        ],
        [
         "Indigenous production",
         "Indigenous production_Crude Oil & NGLs",
         "200702",
         19744.77,
         "ET_3.1_SEP_24.xlsx",
         "08/10/2024"
        ],
        [
         "Indigenous production",
         "Indigenous production_Crude Oil & NGLs",
         "200703",
         17398.74,
         "ET_3.1_SEP_24.xlsx",
         "08/10/2024"
        ],
        [
         "Indigenous production",
         "Indigenous production_Crude Oil & NGLs",
         "200704",
         19463.94,
         "ET_3.1_SEP_24.xlsx",
         "08/10/2024"
        ],
        [
         "Indigenous production",
         "Indigenous production_Crude Oil & NGLs",
         "200801",
         18794.859999999997,
         "ET_3.1_SEP_24.xlsx",
         "08/10/2024"
        ],
        [
         "Indigenous production",
         "Indigenous production_Crude Oil & NGLs",
         "200802",
         18615.579999999998,
         "ET_3.1_SEP_24.xlsx",
         "08/10/2024"
        ],
        [
         "Indigenous production",
         "Indigenous production_Crude Oil & NGLs",
         "200803",
         16299.55,
         "ET_3.1_SEP_24.xlsx",
         "08/10/2024"
        ],
        [
         "Indigenous production",
         "Indigenous production_Crude Oil & NGLs",
         "200804",
         18078.85,
         "ET_3.1_SEP_24.xlsx",
         "08/10/2024"
        ],
        [
         "Indigenous production",
         "Indigenous production_Crude Oil & NGLs",
         "200901",
         18267.74,
         "ET_3.1_SEP_24.xlsx",
         "08/10/2024"
        ],
        [
         "Indigenous production",
         "Indigenous production_Crude Oil & NGLs",
         "200902",
         17976.120000000003,
         "ET_3.1_SEP_24.xlsx",
         "08/10/2024"
        ],
        [
         "Indigenous production",
         "Indigenous production_Crude Oil & NGLs",
         "200903",
         14936.369999999999,
         "ET_3.1_SEP_24.xlsx",
         "08/10/2024"
        ],
        [
         "Indigenous production",
         "Indigenous production_Crude Oil & NGLs",
         "200904",
         17018.32,
         "ET_3.1_SEP_24.xlsx",
         "08/10/2024"
        ],
        [
         "Indigenous production",
         "Indigenous production_Crude Oil & NGLs",
         "201001",
         17197.329999999998,
         "ET_3.1_SEP_24.xlsx",
         "08/10/2024"
        ],
        [
         "Indigenous production",
         "Indigenous production_Crude Oil & NGLs",
         "201002",
         15984.509999999998,
         "ET_3.1_SEP_24.xlsx",
         "08/10/2024"
        ],
        [
         "Indigenous production",
         "Indigenous production_Crude Oil & NGLs",
         "201003",
         14184.810000000001,
         "ET_3.1_SEP_24.xlsx",
         "08/10/2024"
        ],
        [
         "Indigenous production",
         "Indigenous production_Crude Oil & NGLs",
         "201004",
         15594.96,
         "ET_3.1_SEP_24.xlsx",
         "08/10/2024"
        ],
        [
         "Indigenous production",
         "Indigenous production_Crude Oil & NGLs",
         "201101",
         14484.67,
         "ET_3.1_SEP_24.xlsx",
         "08/10/2024"
        ],
        [
         "Indigenous production",
         "Indigenous production_Crude Oil & NGLs",
         "201102",
         13422.62,
         "ET_3.1_SEP_24.xlsx",
         "08/10/2024"
        ],
        [
         "Indigenous production",
         "Indigenous production_Crude Oil & NGLs",
         "201103",
         11116.550000000001,
         "ET_3.1_SEP_24.xlsx",
         "08/10/2024"
        ],
        [
         "Indigenous production",
         "Indigenous production_Crude Oil & NGLs",
         "201104",
         12948.59,
         "ET_3.1_SEP_24.xlsx",
         "08/10/2024"
        ],
        [
         "Indigenous production",
         "Indigenous production_Crude Oil & NGLs",
         "201201",
         12603.86,
         "ET_3.1_SEP_24.xlsx",
         "08/10/2024"
        ],
        [
         "Indigenous production",
         "Indigenous production_Crude Oil & NGLs",
         "201202",
         11811.68,
         "ET_3.1_SEP_24.xlsx",
         "08/10/2024"
        ],
        [
         "Indigenous production",
         "Indigenous production_Crude Oil & NGLs",
         "201203",
         9751.07,
         "ET_3.1_SEP_24.xlsx",
         "08/10/2024"
        ],
        [
         "Indigenous production",
         "Indigenous production_Crude Oil & NGLs",
         "201204",
         10394.21,
         "ET_3.1_SEP_24.xlsx",
         "08/10/2024"
        ],
        [
         "Indigenous production",
         "Indigenous production_Crude Oil & NGLs",
         "201301",
         10600.470000000001,
         "ET_3.1_SEP_24.xlsx",
         "08/10/2024"
        ],
        [
         "Indigenous production",
         "Indigenous production_Crude Oil & NGLs",
         "201302",
         10396.95,
         "ET_3.1_SEP_24.xlsx",
         "08/10/2024"
        ],
        [
         "Indigenous production",
         "Indigenous production_Crude Oil & NGLs",
         "201303",
         9108.1,
         "ET_3.1_SEP_24.xlsx",
         "08/10/2024"
        ],
        [
         "Indigenous production",
         "Indigenous production_Crude Oil & NGLs",
         "201304",
         10540.88,
         "ET_3.1_SEP_24.xlsx",
         "08/10/2024"
        ],
        [
         "Indigenous production",
         "Indigenous production_Crude Oil & NGLs",
         "201401",
         11052.21,
         "ET_3.1_SEP_24.xlsx",
         "08/10/2024"
        ],
        [
         "Indigenous production",
         "Indigenous production_Crude Oil & NGLs",
         "201402",
         10278.43,
         "ET_3.1_SEP_24.xlsx",
         "08/10/2024"
        ],
        [
         "Indigenous production",
         "Indigenous production_Crude Oil & NGLs",
         "201403",
         8194.56,
         "ET_3.1_SEP_24.xlsx",
         "08/10/2024"
        ],
        [
         "Indigenous production",
         "Indigenous production_Crude Oil & NGLs",
         "201404",
         10402.730000000001,
         "ET_3.1_SEP_24.xlsx",
         "08/10/2024"
        ],
        [
         "Indigenous production",
         "Indigenous production_Crude Oil & NGLs",
         "201501",
         10739.7,
         "ET_3.1_SEP_24.xlsx",
         "08/10/2024"
        ],
        [
         "Indigenous production",
         "Indigenous production_Crude Oil & NGLs",
         "201502",
         12052.67,
         "ET_3.1_SEP_24.xlsx",
         "08/10/2024"
        ],
        [
         "Indigenous production",
         "Indigenous production_Crude Oil & NGLs",
         "201503",
         10402.869999999999,
         "ET_3.1_SEP_24.xlsx",
         "08/10/2024"
        ],
        [
         "Indigenous production",
         "Indigenous production_Crude Oil & NGLs",
         "201504",
         12092.48,
         "ET_3.1_SEP_24.xlsx",
         "08/10/2024"
        ],
        [
         "Indigenous production",
         "Indigenous production_Crude Oil & NGLs",
         "201601",
         12599.61,
         "ET_3.1_SEP_24.xlsx",
         "08/10/2024"
        ],
        [
         "Indigenous production",
         "Indigenous production_Crude Oil & NGLs",
         "201602",
         12104.81,
         "ET_3.1_SEP_24.xlsx",
         "08/10/2024"
        ],
        [
         "Indigenous production",
         "Indigenous production_Crude Oil & NGLs",
         "201603",
         11276.66,
         "ET_3.1_SEP_24.xlsx",
         "08/10/2024"
        ],
        [
         "Indigenous production",
         "Indigenous production_Crude Oil & NGLs",
         "201604",
         11463.51,
         "ET_3.1_SEP_24.xlsx",
         "08/10/2024"
        ],
        [
         "Indigenous production",
         "Indigenous production_Crude Oil & NGLs",
         "201701",
         12011.12,
         "ET_3.1_SEP_24.xlsx",
         "08/10/2024"
        ],
        [
         "Indigenous production",
         "Indigenous production_Crude Oil & NGLs",
         "201702",
         11858.16,
         "ET_3.1_SEP_24.xlsx",
         "08/10/2024"
        ],
        [
         "Indigenous production",
         "Indigenous production_Crude Oil & NGLs",
         "201703",
         11224.0,
         "ET_3.1_SEP_24.xlsx",
         "08/10/2024"
        ],
        [
         "Indigenous production",
         "Indigenous production_Crude Oil & NGLs",
         "201704",
         11537.06,
         "ET_3.1_SEP_24.xlsx",
         "08/10/2024"
        ],
        [
         "Indigenous production",
         "Indigenous production_Crude Oil & NGLs",
         "201801",
         12751.22,
         "ET_3.1_SEP_24.xlsx",
         "08/10/2024"
        ],
        [
         "Indigenous production",
         "Indigenous production_Crude Oil & NGLs",
         "201802",
         13400.189999999999,
         "ET_3.1_SEP_24.xlsx",
         "08/10/2024"
        ],
        [
         "Indigenous production",
         "Indigenous production_Crude Oil & NGLs",
         "201803",
         11551.710000000001,
         "ET_3.1_SEP_24.xlsx",
         "08/10/2024"
        ],
        [
         "Indigenous production",
         "Indigenous production_Crude Oil & NGLs",
         "201804",
         13484.42,
         "ET_3.1_SEP_24.xlsx",
         "08/10/2024"
        ],
        [
         "Indigenous production",
         "Indigenous production_Crude Oil & NGLs",
         "201901",
         13777.03,
         "ET_3.1_SEP_24.xlsx",
         "08/10/2024"
        ],
        [
         "Indigenous production",
         "Indigenous production_Crude Oil & NGLs",
         "201902",
         13088.460000000001,
         "ET_3.1_SEP_24.xlsx",
         "08/10/2024"
        ],
        [
         "Indigenous production",
         "Indigenous production_Crude Oil & NGLs",
         "201903",
         12461.740000000002,
         "ET_3.1_SEP_24.xlsx",
         "08/10/2024"
        ],
        [
         "Indigenous production",
         "Indigenous production_Crude Oil & NGLs",
         "201904",
         13161.140000000001,
         "ET_3.1_SEP_24.xlsx",
         "08/10/2024"
        ],
        [
         "Indigenous production",
         "Indigenous production_Crude Oil & NGLs",
         "202001",
         13122.93,
         "ET_3.1_SEP_24.xlsx",
         "08/10/2024"
        ],
        [
         "Indigenous production",
         "Indigenous production_Crude Oil & NGLs",
         "202002",
         12948.54,
         "ET_3.1_SEP_24.xlsx",
         "08/10/2024"
        ],
        [
         "Indigenous production",
         "Indigenous production_Crude Oil & NGLs",
         "202003",
         11023.679999999998,
         "ET_3.1_SEP_24.xlsx",
         "08/10/2024"
        ],
        [
         "Indigenous production",
         "Indigenous production_Crude Oil & NGLs",
         "202004",
         11890.1,
         "ET_3.1_SEP_24.xlsx",
         "08/10/2024"
        ],
        [
         "Indigenous production",
         "Indigenous production_Crude Oil & NGLs",
         "202101",
         11612.85,
         "ET_3.1_SEP_24.xlsx",
         "08/10/2024"
        ],
        [
         "Indigenous production",
         "Indigenous production_Crude Oil & NGLs",
         "202102",
         8808.33,
         "ET_3.1_SEP_24.xlsx",
         "08/10/2024"
        ],
        [
         "Indigenous production",
         "Indigenous production_Crude Oil & NGLs",
         "202103",
         10200.609999999999,
         "ET_3.1_SEP_24.xlsx",
         "08/10/2024"
        ],
        [
         "Indigenous production",
         "Indigenous production_Crude Oil & NGLs",
         "202104",
         10241.93,
         "ET_3.1_SEP_24.xlsx",
         "08/10/2024"
        ],
        [
         "Indigenous production",
         "Indigenous production_Crude Oil & NGLs",
         "202201",
         10361.630000000001,
         "ET_3.1_SEP_24.xlsx",
         "08/10/2024"
        ],
        [
         "Indigenous production",
         "Indigenous production_Crude Oil & NGLs",
         "202202",
         9610.11,
         "ET_3.1_SEP_24.xlsx",
         "08/10/2024"
        ],
        [
         "Indigenous production",
         "Indigenous production_Crude Oil & NGLs",
         "202203",
         8549.3,
         "ET_3.1_SEP_24.xlsx",
         "08/10/2024"
        ],
        [
         "Indigenous production",
         "Indigenous production_Crude Oil & NGLs",
         "202204",
         9231.16,
         "ET_3.1_SEP_24.xlsx",
         "08/10/2024"
        ],
        [
         "Indigenous production",
         "Indigenous production_Crude Oil & NGLs",
         "202301",
         9117.78,
         "ET_3.1_SEP_24.xlsx",
         "08/10/2024"
        ],
        [
         "Indigenous production",
         "Indigenous production_Crude Oil & NGLs",
         "202302",
         8407.460000000001,
         "ET_3.1_SEP_24.xlsx",
         "08/10/2024"
        ],
        [
         "Indigenous production",
         "Indigenous production_Crude Oil & NGLs",
         "202303",
         7721.33,
         "ET_3.1_SEP_24.xlsx",
         "08/10/2024"
        ],
        [
         "Indigenous production",
         "Indigenous production_Crude Oil & NGLs",
         "202304",
         8199.27,
         "ET_3.1_SEP_24.xlsx",
         "08/10/2024"
        ],
        [
         "Indigenous production",
         "Indigenous production_Crude Oil & NGLs",
         "202401",
         7944.58,
         "ET_3.1_SEP_24.xlsx",
         "08/10/2024"
        ],
        [
         "Indigenous production",
         "Indigenous production_Crude Oil & NGLs",
         "202402",
         7631.91,
         "ET_3.1_SEP_24.xlsx",
         "08/10/2024"
        ]
       ],
       "datasetInfos": [],
       "dbfsResultPath": null,
       "isJsonSchema": true,
       "metadata": {},
       "overflow": false,
       "plotOptions": {
        "customPlotOptions": {},
        "displayType": "table",
        "pivotAggregation": null,
        "pivotColumns": null,
        "xColumns": null,
        "yColumns": null
       },
       "removedWidgets": [],
       "schema": [
        {
         "metadata": "{}",
         "name": "Category",
         "type": "\"string\""
        },
        {
         "metadata": "{}",
         "name": "Sub_Category",
         "type": "\"string\""
        },
        {
         "metadata": "{}",
         "name": "Quarter",
         "type": "\"string\""
        },
        {
         "metadata": "{}",
         "name": "Quantity",
         "type": "\"double\""
        },
        {
         "metadata": "{}",
         "name": "FileName",
         "type": "\"string\""
        },
        {
         "metadata": "{}",
         "name": "ProcessedDate",
         "type": "\"string\""
        }
       ],
       "type": "table"
      }
     },
     "output_type": "display_data"
    }
   ],
   "source": [
    "# Apply the rename function\n",
    "logging.info(\"Applying the rename_columns function.\")\n",
    "df_renamed = rename_columns(final_df)\n",
    "\n",
    "# List of quarterly columns (assuming they are all numeric, e.g., '199901', '199902')\n",
    "logging.info(\"Extracting quarterly columns.\")\n",
    "quarter_columns = [col for col in df_renamed.columns if col.isdigit()]\n",
    "\n",
    "# Create an expression to correctly stack the quarterly columns\n",
    "logging.info(\"Creating expression to stack quarterly columns.\")\n",
    "stack_expr = \", \".join([f\"'{c}', `{c}`\" for c in quarter_columns])\n",
    "\n",
    "# Unpivot the DataFrame from wide to long format\n",
    "logging.info(\"Unpivoting the DataFrame from wide to long format.\")\n",
    "df_unpivot = df_renamed.select(\"Category\", \"Sub_Category\", expr(f\"stack({len(quarter_columns)}, {stack_expr}) as (Quarter, Quantity)\"))\n",
    "\n",
    "# Add FileName and ProcessedDate columns\n",
    "logging.info(\"Adding FileName and ProcessedDate columns to the final DataFrame.\")\n",
    "finalDF = df_unpivot.withColumn(\"FileName\", lit(file_name))\\\n",
    "                    .withColumn(\"ProcessedDate\", lit(datetime.now().strftime('%d/%m/%Y')))\n",
    "\n",
    "# Display final DataFrame information\n",
    "logging.info(f\"Final DataFrame row count: {finalDF.count()}\")\n",
    "finalDF.display()"
   ]
  },
  {
   "cell_type": "code",
   "execution_count": 0,
   "metadata": {
    "application/vnd.databricks.v1+cell": {
     "cellMetadata": {
      "byteLimit": 2048000,
      "rowLimit": 10000
     },
     "inputWidgets": {},
     "nuid": "458b06ef-254d-41f6-9597-f164bbd92f58",
     "showTitle": false,
     "title": ""
    }
   },
   "outputs": [
    {
     "output_type": "stream",
     "name": "stderr",
     "output_type": "stream",
     "text": [
      "2024-10-08 20:04:22,944 - INFO - Coalescing DataFrame to 1 partition to ensure a single CSV file is created.\n2024-10-08 20:04:26,018 - INFO - Listing files in the temporary directory: /tmp/transformed_energy_data\n2024-10-08 20:04:26,318 - INFO - Finding the correct CSV part file in the temporary directory.\n2024-10-08 20:04:26,322 - INFO - Found part CSV file: dbfs:/tmp/transformed_energy_data/part-00000-tid-252513618229217641-74746822-ce9a-4bce-b3a8-42d2deaeef43-102-1-c000.csv\n2024-10-08 20:04:26,326 - INFO - Moving the file from dbfs:/tmp/transformed_energy_data/part-00000-tid-252513618229217641-74746822-ce9a-4bce-b3a8-42d2deaeef43-102-1-c000.csv to /FileStore/tables/final_data_petroineous/TransformedEnergyData.csv.\n2024-10-08 20:04:26,957 - INFO - DataFrame saved as CSV to: /FileStore/tables/final_data_petroineous/TransformedEnergyData.csv\n"
     ]
    }
   ],
   "source": [
    "# Specify the exact CSV file path and this can be configured in file\n",
    "csv_save_path = \"/FileStore/tables/final_data_petroineous/TransformedEnergyData.csv\"\n",
    "\n",
    "# Coalesce to 1 partition to ensure a single CSV file is created\n",
    "logging.info(\"Coalescing DataFrame to 1 partition to ensure a single CSV file is created.\")\n",
    "spark_df.coalesce(1).write.mode('overwrite').option(\"header\", \"true\").csv(\"/tmp/transformed_energy_data\")\n",
    "\n",
    "# List files in the temporary directory\n",
    "logging.info(\"Listing files in the temporary directory: /tmp/transformed_energy_data\")\n",
    "files = dbutils.fs.ls(\"/tmp/transformed_energy_data\")\n",
    "\n",
    "# Find the CSV file part (since Spark creates part files in the directory)\n",
    "logging.info(\"Finding the correct CSV part file in the temporary directory.\")\n",
    "part_file_path = None\n",
    "for f in files:\n",
    "    if f.name.endswith(\".csv\"):\n",
    "        part_file_path = f.path\n",
    "        logging.info(f\"Found part CSV file: {part_file_path}\")\n",
    "        break\n",
    "\n",
    "# Check if the CSV part file was found\n",
    "if part_file_path:\n",
    "    # Move and rename the part file to the final destination\n",
    "    logging.info(f\"Moving the file from {part_file_path} to {csv_save_path}.\")\n",
    "    dbutils.fs.mv(part_file_path, csv_save_path)\n",
    "    logging.info(f\"DataFrame saved as CSV to: {csv_save_path}\")\n",
    "else:\n",
    "    logging.error(\"No CSV part file found in the temporary directory.\")\n"
   ]
  }
 ],
 "metadata": {
  "application/vnd.databricks.v1+notebook": {
   "dashboards": [],
   "environmentMetadata": null,
   "language": "python",
   "notebookMetadata": {
    "pythonIndentUnit": 2
   },
   "notebookName": "EnergyTrendAnalysis",
   "widgets": {}
  }
 },
 "nbformat": 4,
 "nbformat_minor": 0
}
